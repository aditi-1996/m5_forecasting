{
 "cells": [
  {
   "cell_type": "code",
   "execution_count": 1,
   "id": "14782bfc",
   "metadata": {
    "_cell_guid": "b1076dfc-b9ad-4769-8c92-a6c4dae69d19",
    "_uuid": "8f2839f25d086af736a60e9eeb907d3b93b6e0e5",
    "execution": {
     "iopub.execute_input": "2022-12-08T06:14:25.232514Z",
     "iopub.status.busy": "2022-12-08T06:14:25.231784Z",
     "iopub.status.idle": "2022-12-08T06:14:25.241658Z",
     "shell.execute_reply": "2022-12-08T06:14:25.240614Z"
    },
    "papermill": {
     "duration": 0.041347,
     "end_time": "2022-12-08T06:14:25.244308",
     "exception": false,
     "start_time": "2022-12-08T06:14:25.202961",
     "status": "completed"
    },
    "tags": []
   },
   "outputs": [],
   "source": [
    "import os\n",
    "import pandas as pd\n",
    "import numpy as np"
   ]
  },
  {
   "cell_type": "code",
   "execution_count": 2,
   "id": "5182214f",
   "metadata": {
    "execution": {
     "iopub.execute_input": "2022-12-08T06:14:25.297457Z",
     "iopub.status.busy": "2022-12-08T06:14:25.297097Z",
     "iopub.status.idle": "2022-12-08T06:14:31.559519Z",
     "shell.execute_reply": "2022-12-08T06:14:31.557857Z"
    },
    "papermill": {
     "duration": 6.293003,
     "end_time": "2022-12-08T06:14:31.562416",
     "exception": false,
     "start_time": "2022-12-08T06:14:25.269413",
     "status": "completed"
    },
    "tags": []
   },
   "outputs": [],
   "source": [
    "import tensorflow as tf\n",
    "import matplotlib.pyplot as plt\n",
    "%matplotlib inline"
   ]
  },
  {
   "cell_type": "code",
   "execution_count": 3,
   "id": "b950d15d",
   "metadata": {
    "execution": {
     "iopub.execute_input": "2022-12-08T06:14:31.617620Z",
     "iopub.status.busy": "2022-12-08T06:14:31.617012Z",
     "iopub.status.idle": "2022-12-08T06:14:32.354173Z",
     "shell.execute_reply": "2022-12-08T06:14:32.352452Z"
    },
    "papermill": {
     "duration": 0.767266,
     "end_time": "2022-12-08T06:14:32.356842",
     "exception": false,
     "start_time": "2022-12-08T06:14:31.589576",
     "status": "completed"
    },
    "tags": []
   },
   "outputs": [],
   "source": [
    "import seaborn as sns\n",
    "sns.set_theme()"
   ]
  },
  {
   "cell_type": "code",
   "execution_count": 4,
   "id": "11d5e95a",
   "metadata": {
    "execution": {
     "iopub.execute_input": "2022-12-08T06:14:32.409582Z",
     "iopub.status.busy": "2022-12-08T06:14:32.409174Z",
     "iopub.status.idle": "2022-12-08T06:14:32.415466Z",
     "shell.execute_reply": "2022-12-08T06:14:32.413942Z"
    },
    "papermill": {
     "duration": 0.036344,
     "end_time": "2022-12-08T06:14:32.417874",
     "exception": false,
     "start_time": "2022-12-08T06:14:32.381530",
     "status": "completed"
    },
    "tags": []
   },
   "outputs": [],
   "source": [
    "plt.rcParams[\"figure.figsize\"] = (15,9)"
   ]
  },
  {
   "cell_type": "code",
   "execution_count": 5,
   "id": "0f4f560d",
   "metadata": {
    "execution": {
     "iopub.execute_input": "2022-12-08T06:14:32.469344Z",
     "iopub.status.busy": "2022-12-08T06:14:32.468946Z",
     "iopub.status.idle": "2022-12-08T06:14:32.475272Z",
     "shell.execute_reply": "2022-12-08T06:14:32.473715Z"
    },
    "papermill": {
     "duration": 0.035339,
     "end_time": "2022-12-08T06:14:32.478232",
     "exception": false,
     "start_time": "2022-12-08T06:14:32.442893",
     "status": "completed"
    },
    "tags": []
   },
   "outputs": [],
   "source": [
    "CALENDAR_PATH = os.path.abspath('../input/m5-forecasting-accuracy/calendar.csv')\n",
    "SELL_PRICE_PATH = os.path.abspath('../input/m5-forecasting-accuracy/sell_prices.csv')\n",
    "SALES_TV_PATH = os.path.abspath('../input/m5-forecasting-accuracy/sales_train_validation.csv')"
   ]
  },
  {
   "cell_type": "code",
   "execution_count": 6,
   "id": "30613758",
   "metadata": {
    "execution": {
     "iopub.execute_input": "2022-12-08T06:14:32.529979Z",
     "iopub.status.busy": "2022-12-08T06:14:32.529524Z",
     "iopub.status.idle": "2022-12-08T06:14:32.576466Z",
     "shell.execute_reply": "2022-12-08T06:14:32.575391Z"
    },
    "papermill": {
     "duration": 0.075906,
     "end_time": "2022-12-08T06:14:32.578852",
     "exception": false,
     "start_time": "2022-12-08T06:14:32.502946",
     "status": "completed"
    },
    "tags": []
   },
   "outputs": [
    {
     "data": {
      "text/html": [
       "<div>\n",
       "<style scoped>\n",
       "    .dataframe tbody tr th:only-of-type {\n",
       "        vertical-align: middle;\n",
       "    }\n",
       "\n",
       "    .dataframe tbody tr th {\n",
       "        vertical-align: top;\n",
       "    }\n",
       "\n",
       "    .dataframe thead th {\n",
       "        text-align: right;\n",
       "    }\n",
       "</style>\n",
       "<table border=\"1\" class=\"dataframe\">\n",
       "  <thead>\n",
       "    <tr style=\"text-align: right;\">\n",
       "      <th></th>\n",
       "      <th>date</th>\n",
       "      <th>wm_yr_wk</th>\n",
       "      <th>weekday</th>\n",
       "      <th>wday</th>\n",
       "      <th>month</th>\n",
       "      <th>year</th>\n",
       "      <th>d</th>\n",
       "      <th>event_name_1</th>\n",
       "      <th>event_type_1</th>\n",
       "      <th>event_name_2</th>\n",
       "      <th>event_type_2</th>\n",
       "      <th>snap_CA</th>\n",
       "      <th>snap_TX</th>\n",
       "      <th>snap_WI</th>\n",
       "    </tr>\n",
       "  </thead>\n",
       "  <tbody>\n",
       "    <tr>\n",
       "      <th>0</th>\n",
       "      <td>2011-01-29</td>\n",
       "      <td>11101</td>\n",
       "      <td>Saturday</td>\n",
       "      <td>1</td>\n",
       "      <td>1</td>\n",
       "      <td>2011</td>\n",
       "      <td>d_1</td>\n",
       "      <td>NaN</td>\n",
       "      <td>NaN</td>\n",
       "      <td>NaN</td>\n",
       "      <td>NaN</td>\n",
       "      <td>0</td>\n",
       "      <td>0</td>\n",
       "      <td>0</td>\n",
       "    </tr>\n",
       "    <tr>\n",
       "      <th>1</th>\n",
       "      <td>2011-01-30</td>\n",
       "      <td>11101</td>\n",
       "      <td>Sunday</td>\n",
       "      <td>2</td>\n",
       "      <td>1</td>\n",
       "      <td>2011</td>\n",
       "      <td>d_2</td>\n",
       "      <td>NaN</td>\n",
       "      <td>NaN</td>\n",
       "      <td>NaN</td>\n",
       "      <td>NaN</td>\n",
       "      <td>0</td>\n",
       "      <td>0</td>\n",
       "      <td>0</td>\n",
       "    </tr>\n",
       "    <tr>\n",
       "      <th>2</th>\n",
       "      <td>2011-01-31</td>\n",
       "      <td>11101</td>\n",
       "      <td>Monday</td>\n",
       "      <td>3</td>\n",
       "      <td>1</td>\n",
       "      <td>2011</td>\n",
       "      <td>d_3</td>\n",
       "      <td>NaN</td>\n",
       "      <td>NaN</td>\n",
       "      <td>NaN</td>\n",
       "      <td>NaN</td>\n",
       "      <td>0</td>\n",
       "      <td>0</td>\n",
       "      <td>0</td>\n",
       "    </tr>\n",
       "    <tr>\n",
       "      <th>3</th>\n",
       "      <td>2011-02-01</td>\n",
       "      <td>11101</td>\n",
       "      <td>Tuesday</td>\n",
       "      <td>4</td>\n",
       "      <td>2</td>\n",
       "      <td>2011</td>\n",
       "      <td>d_4</td>\n",
       "      <td>NaN</td>\n",
       "      <td>NaN</td>\n",
       "      <td>NaN</td>\n",
       "      <td>NaN</td>\n",
       "      <td>1</td>\n",
       "      <td>1</td>\n",
       "      <td>0</td>\n",
       "    </tr>\n",
       "    <tr>\n",
       "      <th>4</th>\n",
       "      <td>2011-02-02</td>\n",
       "      <td>11101</td>\n",
       "      <td>Wednesday</td>\n",
       "      <td>5</td>\n",
       "      <td>2</td>\n",
       "      <td>2011</td>\n",
       "      <td>d_5</td>\n",
       "      <td>NaN</td>\n",
       "      <td>NaN</td>\n",
       "      <td>NaN</td>\n",
       "      <td>NaN</td>\n",
       "      <td>1</td>\n",
       "      <td>0</td>\n",
       "      <td>1</td>\n",
       "    </tr>\n",
       "  </tbody>\n",
       "</table>\n",
       "</div>"
      ],
      "text/plain": [
       "         date  wm_yr_wk    weekday  wday  month  year    d event_name_1  \\\n",
       "0  2011-01-29     11101   Saturday     1      1  2011  d_1          NaN   \n",
       "1  2011-01-30     11101     Sunday     2      1  2011  d_2          NaN   \n",
       "2  2011-01-31     11101     Monday     3      1  2011  d_3          NaN   \n",
       "3  2011-02-01     11101    Tuesday     4      2  2011  d_4          NaN   \n",
       "4  2011-02-02     11101  Wednesday     5      2  2011  d_5          NaN   \n",
       "\n",
       "  event_type_1 event_name_2 event_type_2  snap_CA  snap_TX  snap_WI  \n",
       "0          NaN          NaN          NaN        0        0        0  \n",
       "1          NaN          NaN          NaN        0        0        0  \n",
       "2          NaN          NaN          NaN        0        0        0  \n",
       "3          NaN          NaN          NaN        1        1        0  \n",
       "4          NaN          NaN          NaN        1        0        1  "
      ]
     },
     "execution_count": 6,
     "metadata": {},
     "output_type": "execute_result"
    }
   ],
   "source": [
    "df_calendar = pd.read_csv(CALENDAR_PATH)\n",
    "df_calendar.head()"
   ]
  },
  {
   "cell_type": "code",
   "execution_count": 7,
   "id": "b322ab21",
   "metadata": {
    "execution": {
     "iopub.execute_input": "2022-12-08T06:14:32.632948Z",
     "iopub.status.busy": "2022-12-08T06:14:32.631866Z",
     "iopub.status.idle": "2022-12-08T06:14:37.093870Z",
     "shell.execute_reply": "2022-12-08T06:14:37.092953Z"
    },
    "papermill": {
     "duration": 4.492634,
     "end_time": "2022-12-08T06:14:37.097079",
     "exception": false,
     "start_time": "2022-12-08T06:14:32.604445",
     "status": "completed"
    },
    "tags": []
   },
   "outputs": [
    {
     "data": {
      "text/html": [
       "<div>\n",
       "<style scoped>\n",
       "    .dataframe tbody tr th:only-of-type {\n",
       "        vertical-align: middle;\n",
       "    }\n",
       "\n",
       "    .dataframe tbody tr th {\n",
       "        vertical-align: top;\n",
       "    }\n",
       "\n",
       "    .dataframe thead th {\n",
       "        text-align: right;\n",
       "    }\n",
       "</style>\n",
       "<table border=\"1\" class=\"dataframe\">\n",
       "  <thead>\n",
       "    <tr style=\"text-align: right;\">\n",
       "      <th></th>\n",
       "      <th>store_id</th>\n",
       "      <th>item_id</th>\n",
       "      <th>wm_yr_wk</th>\n",
       "      <th>sell_price</th>\n",
       "    </tr>\n",
       "  </thead>\n",
       "  <tbody>\n",
       "    <tr>\n",
       "      <th>0</th>\n",
       "      <td>CA_1</td>\n",
       "      <td>HOBBIES_1_001</td>\n",
       "      <td>11325</td>\n",
       "      <td>9.58</td>\n",
       "    </tr>\n",
       "    <tr>\n",
       "      <th>1</th>\n",
       "      <td>CA_1</td>\n",
       "      <td>HOBBIES_1_001</td>\n",
       "      <td>11326</td>\n",
       "      <td>9.58</td>\n",
       "    </tr>\n",
       "    <tr>\n",
       "      <th>2</th>\n",
       "      <td>CA_1</td>\n",
       "      <td>HOBBIES_1_001</td>\n",
       "      <td>11327</td>\n",
       "      <td>8.26</td>\n",
       "    </tr>\n",
       "    <tr>\n",
       "      <th>3</th>\n",
       "      <td>CA_1</td>\n",
       "      <td>HOBBIES_1_001</td>\n",
       "      <td>11328</td>\n",
       "      <td>8.26</td>\n",
       "    </tr>\n",
       "    <tr>\n",
       "      <th>4</th>\n",
       "      <td>CA_1</td>\n",
       "      <td>HOBBIES_1_001</td>\n",
       "      <td>11329</td>\n",
       "      <td>8.26</td>\n",
       "    </tr>\n",
       "  </tbody>\n",
       "</table>\n",
       "</div>"
      ],
      "text/plain": [
       "  store_id        item_id  wm_yr_wk  sell_price\n",
       "0     CA_1  HOBBIES_1_001     11325        9.58\n",
       "1     CA_1  HOBBIES_1_001     11326        9.58\n",
       "2     CA_1  HOBBIES_1_001     11327        8.26\n",
       "3     CA_1  HOBBIES_1_001     11328        8.26\n",
       "4     CA_1  HOBBIES_1_001     11329        8.26"
      ]
     },
     "execution_count": 7,
     "metadata": {},
     "output_type": "execute_result"
    }
   ],
   "source": [
    "df_sell_price = pd.read_csv(SELL_PRICE_PATH)\n",
    "df_sell_price.head()"
   ]
  },
  {
   "cell_type": "code",
   "execution_count": 8,
   "id": "49d0c53d",
   "metadata": {
    "execution": {
     "iopub.execute_input": "2022-12-08T06:14:37.149045Z",
     "iopub.status.busy": "2022-12-08T06:14:37.148630Z",
     "iopub.status.idle": "2022-12-08T06:14:42.125193Z",
     "shell.execute_reply": "2022-12-08T06:14:42.123874Z"
    },
    "papermill": {
     "duration": 5.006111,
     "end_time": "2022-12-08T06:14:42.128272",
     "exception": false,
     "start_time": "2022-12-08T06:14:37.122161",
     "status": "completed"
    },
    "tags": []
   },
   "outputs": [
    {
     "data": {
      "text/html": [
       "<div>\n",
       "<style scoped>\n",
       "    .dataframe tbody tr th:only-of-type {\n",
       "        vertical-align: middle;\n",
       "    }\n",
       "\n",
       "    .dataframe tbody tr th {\n",
       "        vertical-align: top;\n",
       "    }\n",
       "\n",
       "    .dataframe thead th {\n",
       "        text-align: right;\n",
       "    }\n",
       "</style>\n",
       "<table border=\"1\" class=\"dataframe\">\n",
       "  <thead>\n",
       "    <tr style=\"text-align: right;\">\n",
       "      <th></th>\n",
       "      <th>id</th>\n",
       "      <th>item_id</th>\n",
       "      <th>dept_id</th>\n",
       "      <th>cat_id</th>\n",
       "      <th>store_id</th>\n",
       "      <th>state_id</th>\n",
       "      <th>d_1</th>\n",
       "      <th>d_2</th>\n",
       "      <th>d_3</th>\n",
       "      <th>d_4</th>\n",
       "      <th>...</th>\n",
       "      <th>d_1904</th>\n",
       "      <th>d_1905</th>\n",
       "      <th>d_1906</th>\n",
       "      <th>d_1907</th>\n",
       "      <th>d_1908</th>\n",
       "      <th>d_1909</th>\n",
       "      <th>d_1910</th>\n",
       "      <th>d_1911</th>\n",
       "      <th>d_1912</th>\n",
       "      <th>d_1913</th>\n",
       "    </tr>\n",
       "  </thead>\n",
       "  <tbody>\n",
       "    <tr>\n",
       "      <th>0</th>\n",
       "      <td>HOBBIES_1_001_CA_1_validation</td>\n",
       "      <td>HOBBIES_1_001</td>\n",
       "      <td>HOBBIES_1</td>\n",
       "      <td>HOBBIES</td>\n",
       "      <td>CA_1</td>\n",
       "      <td>CA</td>\n",
       "      <td>0</td>\n",
       "      <td>0</td>\n",
       "      <td>0</td>\n",
       "      <td>0</td>\n",
       "      <td>...</td>\n",
       "      <td>1</td>\n",
       "      <td>3</td>\n",
       "      <td>0</td>\n",
       "      <td>1</td>\n",
       "      <td>1</td>\n",
       "      <td>1</td>\n",
       "      <td>3</td>\n",
       "      <td>0</td>\n",
       "      <td>1</td>\n",
       "      <td>1</td>\n",
       "    </tr>\n",
       "    <tr>\n",
       "      <th>1</th>\n",
       "      <td>HOBBIES_1_002_CA_1_validation</td>\n",
       "      <td>HOBBIES_1_002</td>\n",
       "      <td>HOBBIES_1</td>\n",
       "      <td>HOBBIES</td>\n",
       "      <td>CA_1</td>\n",
       "      <td>CA</td>\n",
       "      <td>0</td>\n",
       "      <td>0</td>\n",
       "      <td>0</td>\n",
       "      <td>0</td>\n",
       "      <td>...</td>\n",
       "      <td>0</td>\n",
       "      <td>0</td>\n",
       "      <td>0</td>\n",
       "      <td>0</td>\n",
       "      <td>0</td>\n",
       "      <td>1</td>\n",
       "      <td>0</td>\n",
       "      <td>0</td>\n",
       "      <td>0</td>\n",
       "      <td>0</td>\n",
       "    </tr>\n",
       "    <tr>\n",
       "      <th>2</th>\n",
       "      <td>HOBBIES_1_003_CA_1_validation</td>\n",
       "      <td>HOBBIES_1_003</td>\n",
       "      <td>HOBBIES_1</td>\n",
       "      <td>HOBBIES</td>\n",
       "      <td>CA_1</td>\n",
       "      <td>CA</td>\n",
       "      <td>0</td>\n",
       "      <td>0</td>\n",
       "      <td>0</td>\n",
       "      <td>0</td>\n",
       "      <td>...</td>\n",
       "      <td>2</td>\n",
       "      <td>1</td>\n",
       "      <td>2</td>\n",
       "      <td>1</td>\n",
       "      <td>1</td>\n",
       "      <td>1</td>\n",
       "      <td>0</td>\n",
       "      <td>1</td>\n",
       "      <td>1</td>\n",
       "      <td>1</td>\n",
       "    </tr>\n",
       "    <tr>\n",
       "      <th>3</th>\n",
       "      <td>HOBBIES_1_004_CA_1_validation</td>\n",
       "      <td>HOBBIES_1_004</td>\n",
       "      <td>HOBBIES_1</td>\n",
       "      <td>HOBBIES</td>\n",
       "      <td>CA_1</td>\n",
       "      <td>CA</td>\n",
       "      <td>0</td>\n",
       "      <td>0</td>\n",
       "      <td>0</td>\n",
       "      <td>0</td>\n",
       "      <td>...</td>\n",
       "      <td>1</td>\n",
       "      <td>0</td>\n",
       "      <td>5</td>\n",
       "      <td>4</td>\n",
       "      <td>1</td>\n",
       "      <td>0</td>\n",
       "      <td>1</td>\n",
       "      <td>3</td>\n",
       "      <td>7</td>\n",
       "      <td>2</td>\n",
       "    </tr>\n",
       "    <tr>\n",
       "      <th>4</th>\n",
       "      <td>HOBBIES_1_005_CA_1_validation</td>\n",
       "      <td>HOBBIES_1_005</td>\n",
       "      <td>HOBBIES_1</td>\n",
       "      <td>HOBBIES</td>\n",
       "      <td>CA_1</td>\n",
       "      <td>CA</td>\n",
       "      <td>0</td>\n",
       "      <td>0</td>\n",
       "      <td>0</td>\n",
       "      <td>0</td>\n",
       "      <td>...</td>\n",
       "      <td>2</td>\n",
       "      <td>1</td>\n",
       "      <td>1</td>\n",
       "      <td>0</td>\n",
       "      <td>1</td>\n",
       "      <td>1</td>\n",
       "      <td>2</td>\n",
       "      <td>2</td>\n",
       "      <td>2</td>\n",
       "      <td>4</td>\n",
       "    </tr>\n",
       "  </tbody>\n",
       "</table>\n",
       "<p>5 rows × 1919 columns</p>\n",
       "</div>"
      ],
      "text/plain": [
       "                              id        item_id    dept_id   cat_id store_id  \\\n",
       "0  HOBBIES_1_001_CA_1_validation  HOBBIES_1_001  HOBBIES_1  HOBBIES     CA_1   \n",
       "1  HOBBIES_1_002_CA_1_validation  HOBBIES_1_002  HOBBIES_1  HOBBIES     CA_1   \n",
       "2  HOBBIES_1_003_CA_1_validation  HOBBIES_1_003  HOBBIES_1  HOBBIES     CA_1   \n",
       "3  HOBBIES_1_004_CA_1_validation  HOBBIES_1_004  HOBBIES_1  HOBBIES     CA_1   \n",
       "4  HOBBIES_1_005_CA_1_validation  HOBBIES_1_005  HOBBIES_1  HOBBIES     CA_1   \n",
       "\n",
       "  state_id  d_1  d_2  d_3  d_4  ...  d_1904  d_1905  d_1906  d_1907  d_1908  \\\n",
       "0       CA    0    0    0    0  ...       1       3       0       1       1   \n",
       "1       CA    0    0    0    0  ...       0       0       0       0       0   \n",
       "2       CA    0    0    0    0  ...       2       1       2       1       1   \n",
       "3       CA    0    0    0    0  ...       1       0       5       4       1   \n",
       "4       CA    0    0    0    0  ...       2       1       1       0       1   \n",
       "\n",
       "   d_1909  d_1910  d_1911  d_1912  d_1913  \n",
       "0       1       3       0       1       1  \n",
       "1       1       0       0       0       0  \n",
       "2       1       0       1       1       1  \n",
       "3       0       1       3       7       2  \n",
       "4       1       2       2       2       4  \n",
       "\n",
       "[5 rows x 1919 columns]"
      ]
     },
     "execution_count": 8,
     "metadata": {},
     "output_type": "execute_result"
    }
   ],
   "source": [
    "df_sales_tv = pd.read_csv(SALES_TV_PATH)\n",
    "df_sales_tv.head()"
   ]
  },
  {
   "cell_type": "code",
   "execution_count": 9,
   "id": "5ef9170f",
   "metadata": {
    "execution": {
     "iopub.execute_input": "2022-12-08T06:14:42.184490Z",
     "iopub.status.busy": "2022-12-08T06:14:42.184127Z",
     "iopub.status.idle": "2022-12-08T06:14:42.192165Z",
     "shell.execute_reply": "2022-12-08T06:14:42.190596Z"
    },
    "papermill": {
     "duration": 0.039126,
     "end_time": "2022-12-08T06:14:42.194825",
     "exception": false,
     "start_time": "2022-12-08T06:14:42.155699",
     "status": "completed"
    },
    "tags": []
   },
   "outputs": [
    {
     "data": {
      "text/plain": [
       "(1969, 14)"
      ]
     },
     "execution_count": 9,
     "metadata": {},
     "output_type": "execute_result"
    }
   ],
   "source": [
    "df_calendar.shape"
   ]
  },
  {
   "cell_type": "code",
   "execution_count": 10,
   "id": "f0ccbdd1",
   "metadata": {
    "execution": {
     "iopub.execute_input": "2022-12-08T06:14:42.253242Z",
     "iopub.status.busy": "2022-12-08T06:14:42.252786Z",
     "iopub.status.idle": "2022-12-08T06:14:42.262050Z",
     "shell.execute_reply": "2022-12-08T06:14:42.260096Z"
    },
    "papermill": {
     "duration": 0.04068,
     "end_time": "2022-12-08T06:14:42.264573",
     "exception": false,
     "start_time": "2022-12-08T06:14:42.223893",
     "status": "completed"
    },
    "tags": []
   },
   "outputs": [
    {
     "data": {
      "text/plain": [
       "(6841121, 4)"
      ]
     },
     "execution_count": 10,
     "metadata": {},
     "output_type": "execute_result"
    }
   ],
   "source": [
    "df_sell_price.shape"
   ]
  },
  {
   "cell_type": "code",
   "execution_count": 11,
   "id": "66152c31",
   "metadata": {
    "execution": {
     "iopub.execute_input": "2022-12-08T06:14:42.324327Z",
     "iopub.status.busy": "2022-12-08T06:14:42.323943Z",
     "iopub.status.idle": "2022-12-08T06:14:42.332416Z",
     "shell.execute_reply": "2022-12-08T06:14:42.330946Z"
    },
    "papermill": {
     "duration": 0.043062,
     "end_time": "2022-12-08T06:14:42.335927",
     "exception": false,
     "start_time": "2022-12-08T06:14:42.292865",
     "status": "completed"
    },
    "tags": []
   },
   "outputs": [
    {
     "data": {
      "text/plain": [
       "(30490, 1919)"
      ]
     },
     "execution_count": 11,
     "metadata": {},
     "output_type": "execute_result"
    }
   ],
   "source": [
    "df_sales_tv.shape"
   ]
  },
  {
   "cell_type": "code",
   "execution_count": 12,
   "id": "6441b0a9",
   "metadata": {
    "execution": {
     "iopub.execute_input": "2022-12-08T06:14:42.397111Z",
     "iopub.status.busy": "2022-12-08T06:14:42.396693Z",
     "iopub.status.idle": "2022-12-08T06:14:44.902161Z",
     "shell.execute_reply": "2022-12-08T06:14:44.900096Z"
    },
    "papermill": {
     "duration": 2.5394,
     "end_time": "2022-12-08T06:14:44.905439",
     "exception": false,
     "start_time": "2022-12-08T06:14:42.366039",
     "status": "completed"
    },
    "tags": []
   },
   "outputs": [
    {
     "data": {
      "text/html": [
       "<div>\n",
       "<style scoped>\n",
       "    .dataframe tbody tr th:only-of-type {\n",
       "        vertical-align: middle;\n",
       "    }\n",
       "\n",
       "    .dataframe tbody tr th {\n",
       "        vertical-align: top;\n",
       "    }\n",
       "\n",
       "    .dataframe thead th {\n",
       "        text-align: right;\n",
       "    }\n",
       "</style>\n",
       "<table border=\"1\" class=\"dataframe\">\n",
       "  <thead>\n",
       "    <tr style=\"text-align: right;\">\n",
       "      <th></th>\n",
       "      <th>store_id</th>\n",
       "      <th>item_id</th>\n",
       "      <th>wm_yr_wk</th>\n",
       "      <th>sell_price</th>\n",
       "      <th>state</th>\n",
       "    </tr>\n",
       "  </thead>\n",
       "  <tbody>\n",
       "    <tr>\n",
       "      <th>0</th>\n",
       "      <td>CA_1</td>\n",
       "      <td>HOBBIES_1_001</td>\n",
       "      <td>11325</td>\n",
       "      <td>9.58</td>\n",
       "      <td>CA</td>\n",
       "    </tr>\n",
       "    <tr>\n",
       "      <th>1</th>\n",
       "      <td>CA_1</td>\n",
       "      <td>HOBBIES_1_001</td>\n",
       "      <td>11326</td>\n",
       "      <td>9.58</td>\n",
       "      <td>CA</td>\n",
       "    </tr>\n",
       "    <tr>\n",
       "      <th>2</th>\n",
       "      <td>CA_1</td>\n",
       "      <td>HOBBIES_1_001</td>\n",
       "      <td>11327</td>\n",
       "      <td>8.26</td>\n",
       "      <td>CA</td>\n",
       "    </tr>\n",
       "    <tr>\n",
       "      <th>3</th>\n",
       "      <td>CA_1</td>\n",
       "      <td>HOBBIES_1_001</td>\n",
       "      <td>11328</td>\n",
       "      <td>8.26</td>\n",
       "      <td>CA</td>\n",
       "    </tr>\n",
       "    <tr>\n",
       "      <th>4</th>\n",
       "      <td>CA_1</td>\n",
       "      <td>HOBBIES_1_001</td>\n",
       "      <td>11329</td>\n",
       "      <td>8.26</td>\n",
       "      <td>CA</td>\n",
       "    </tr>\n",
       "  </tbody>\n",
       "</table>\n",
       "</div>"
      ],
      "text/plain": [
       "  store_id        item_id  wm_yr_wk  sell_price state\n",
       "0     CA_1  HOBBIES_1_001     11325        9.58    CA\n",
       "1     CA_1  HOBBIES_1_001     11326        9.58    CA\n",
       "2     CA_1  HOBBIES_1_001     11327        8.26    CA\n",
       "3     CA_1  HOBBIES_1_001     11328        8.26    CA\n",
       "4     CA_1  HOBBIES_1_001     11329        8.26    CA"
      ]
     },
     "execution_count": 12,
     "metadata": {},
     "output_type": "execute_result"
    }
   ],
   "source": [
    "df_sell_price['state'] = df_sell_price['store_id'].apply(lambda x: x.split('_')[0])\n",
    "df_sell_price.head()"
   ]
  },
  {
   "cell_type": "code",
   "execution_count": 13,
   "id": "7c3a510c",
   "metadata": {
    "execution": {
     "iopub.execute_input": "2022-12-08T06:14:44.961895Z",
     "iopub.status.busy": "2022-12-08T06:14:44.961484Z",
     "iopub.status.idle": "2022-12-08T06:14:44.967287Z",
     "shell.execute_reply": "2022-12-08T06:14:44.965522Z"
    },
    "papermill": {
     "duration": 0.036894,
     "end_time": "2022-12-08T06:14:44.970336",
     "exception": false,
     "start_time": "2022-12-08T06:14:44.933442",
     "status": "completed"
    },
    "tags": []
   },
   "outputs": [],
   "source": [
    "# drop store_id and item_id"
   ]
  },
  {
   "cell_type": "code",
   "execution_count": 14,
   "id": "dc22d91a",
   "metadata": {
    "execution": {
     "iopub.execute_input": "2022-12-08T06:14:45.025617Z",
     "iopub.status.busy": "2022-12-08T06:14:45.025278Z",
     "iopub.status.idle": "2022-12-08T06:14:45.687770Z",
     "shell.execute_reply": "2022-12-08T06:14:45.686370Z"
    },
    "papermill": {
     "duration": 0.694013,
     "end_time": "2022-12-08T06:14:45.691328",
     "exception": false,
     "start_time": "2022-12-08T06:14:44.997315",
     "status": "completed"
    },
    "tags": []
   },
   "outputs": [],
   "source": [
    "df_sell_price.drop(['store_id', 'item_id'], axis = 1, inplace = True)"
   ]
  },
  {
   "cell_type": "code",
   "execution_count": 15,
   "id": "599b59dc",
   "metadata": {
    "execution": {
     "iopub.execute_input": "2022-12-08T06:14:45.749323Z",
     "iopub.status.busy": "2022-12-08T06:14:45.747790Z",
     "iopub.status.idle": "2022-12-08T06:14:46.646038Z",
     "shell.execute_reply": "2022-12-08T06:14:46.644091Z"
    },
    "papermill": {
     "duration": 0.929629,
     "end_time": "2022-12-08T06:14:46.649044",
     "exception": false,
     "start_time": "2022-12-08T06:14:45.719415",
     "status": "completed"
    },
    "tags": []
   },
   "outputs": [],
   "source": [
    "df_sell_price = df_sell_price.groupby(['state', 'wm_yr_wk']).agg( sales_price_min = ('sell_price', min),\n",
    "        sales_price_max = ('sell_price', max),\n",
    "        sales_price_mean = ('sell_price', np.mean)).reset_index()"
   ]
  },
  {
   "cell_type": "code",
   "execution_count": 16,
   "id": "7d4ae654",
   "metadata": {
    "execution": {
     "iopub.execute_input": "2022-12-08T06:14:46.705460Z",
     "iopub.status.busy": "2022-12-08T06:14:46.705068Z",
     "iopub.status.idle": "2022-12-08T06:14:46.717926Z",
     "shell.execute_reply": "2022-12-08T06:14:46.716446Z"
    },
    "papermill": {
     "duration": 0.043153,
     "end_time": "2022-12-08T06:14:46.720065",
     "exception": false,
     "start_time": "2022-12-08T06:14:46.676912",
     "status": "completed"
    },
    "tags": []
   },
   "outputs": [
    {
     "data": {
      "text/html": [
       "<div>\n",
       "<style scoped>\n",
       "    .dataframe tbody tr th:only-of-type {\n",
       "        vertical-align: middle;\n",
       "    }\n",
       "\n",
       "    .dataframe tbody tr th {\n",
       "        vertical-align: top;\n",
       "    }\n",
       "\n",
       "    .dataframe thead th {\n",
       "        text-align: right;\n",
       "    }\n",
       "</style>\n",
       "<table border=\"1\" class=\"dataframe\">\n",
       "  <thead>\n",
       "    <tr style=\"text-align: right;\">\n",
       "      <th></th>\n",
       "      <th>state</th>\n",
       "      <th>wm_yr_wk</th>\n",
       "      <th>sales_price_min</th>\n",
       "      <th>sales_price_max</th>\n",
       "      <th>sales_price_mean</th>\n",
       "    </tr>\n",
       "  </thead>\n",
       "  <tbody>\n",
       "    <tr>\n",
       "      <th>0</th>\n",
       "      <td>CA</td>\n",
       "      <td>11101</td>\n",
       "      <td>0.2</td>\n",
       "      <td>22.0</td>\n",
       "      <td>4.108908</td>\n",
       "    </tr>\n",
       "    <tr>\n",
       "      <th>1</th>\n",
       "      <td>CA</td>\n",
       "      <td>11102</td>\n",
       "      <td>0.2</td>\n",
       "      <td>22.0</td>\n",
       "      <td>4.177565</td>\n",
       "    </tr>\n",
       "    <tr>\n",
       "      <th>2</th>\n",
       "      <td>CA</td>\n",
       "      <td>11103</td>\n",
       "      <td>0.2</td>\n",
       "      <td>22.0</td>\n",
       "      <td>4.196517</td>\n",
       "    </tr>\n",
       "    <tr>\n",
       "      <th>3</th>\n",
       "      <td>CA</td>\n",
       "      <td>11104</td>\n",
       "      <td>0.2</td>\n",
       "      <td>22.0</td>\n",
       "      <td>4.204878</td>\n",
       "    </tr>\n",
       "    <tr>\n",
       "      <th>4</th>\n",
       "      <td>CA</td>\n",
       "      <td>11105</td>\n",
       "      <td>0.2</td>\n",
       "      <td>22.0</td>\n",
       "      <td>4.205234</td>\n",
       "    </tr>\n",
       "  </tbody>\n",
       "</table>\n",
       "</div>"
      ],
      "text/plain": [
       "  state  wm_yr_wk  sales_price_min  sales_price_max  sales_price_mean\n",
       "0    CA     11101              0.2             22.0          4.108908\n",
       "1    CA     11102              0.2             22.0          4.177565\n",
       "2    CA     11103              0.2             22.0          4.196517\n",
       "3    CA     11104              0.2             22.0          4.204878\n",
       "4    CA     11105              0.2             22.0          4.205234"
      ]
     },
     "execution_count": 16,
     "metadata": {},
     "output_type": "execute_result"
    }
   ],
   "source": [
    "df_sell_price.head()"
   ]
  },
  {
   "cell_type": "code",
   "execution_count": 17,
   "id": "67c2422b",
   "metadata": {
    "execution": {
     "iopub.execute_input": "2022-12-08T06:14:46.779437Z",
     "iopub.status.busy": "2022-12-08T06:14:46.779043Z",
     "iopub.status.idle": "2022-12-08T06:14:46.787072Z",
     "shell.execute_reply": "2022-12-08T06:14:46.785363Z"
    },
    "papermill": {
     "duration": 0.040482,
     "end_time": "2022-12-08T06:14:46.789829",
     "exception": false,
     "start_time": "2022-12-08T06:14:46.749347",
     "status": "completed"
    },
    "tags": []
   },
   "outputs": [
    {
     "data": {
      "text/plain": [
       "(846, 5)"
      ]
     },
     "execution_count": 17,
     "metadata": {},
     "output_type": "execute_result"
    }
   ],
   "source": [
    "df_sell_price.shape"
   ]
  },
  {
   "cell_type": "markdown",
   "id": "abcf82dc",
   "metadata": {
    "papermill": {
     "duration": 0.027341,
     "end_time": "2022-12-08T06:14:46.845575",
     "exception": false,
     "start_time": "2022-12-08T06:14:46.818234",
     "status": "completed"
    },
    "tags": []
   },
   "source": [
    "### Drop `event_name_2`, `event_type_2` and `wday` from `df_calendar`"
   ]
  },
  {
   "cell_type": "code",
   "execution_count": 18,
   "id": "97d4e4b1",
   "metadata": {
    "execution": {
     "iopub.execute_input": "2022-12-08T06:14:46.901514Z",
     "iopub.status.busy": "2022-12-08T06:14:46.901102Z",
     "iopub.status.idle": "2022-12-08T06:14:46.907674Z",
     "shell.execute_reply": "2022-12-08T06:14:46.906570Z"
    },
    "papermill": {
     "duration": 0.037607,
     "end_time": "2022-12-08T06:14:46.910372",
     "exception": false,
     "start_time": "2022-12-08T06:14:46.872765",
     "status": "completed"
    },
    "tags": []
   },
   "outputs": [],
   "source": [
    "df_calendar.drop(['event_name_1', 'event_name_2', 'event_type_2', 'wday', 'month', 'year'], axis=1, inplace=True)"
   ]
  },
  {
   "cell_type": "code",
   "execution_count": 19,
   "id": "f5c779b6",
   "metadata": {
    "execution": {
     "iopub.execute_input": "2022-12-08T06:14:46.966459Z",
     "iopub.status.busy": "2022-12-08T06:14:46.966056Z",
     "iopub.status.idle": "2022-12-08T06:14:46.980456Z",
     "shell.execute_reply": "2022-12-08T06:14:46.978987Z"
    },
    "papermill": {
     "duration": 0.046443,
     "end_time": "2022-12-08T06:14:46.983907",
     "exception": false,
     "start_time": "2022-12-08T06:14:46.937464",
     "status": "completed"
    },
    "tags": []
   },
   "outputs": [
    {
     "data": {
      "text/html": [
       "<div>\n",
       "<style scoped>\n",
       "    .dataframe tbody tr th:only-of-type {\n",
       "        vertical-align: middle;\n",
       "    }\n",
       "\n",
       "    .dataframe tbody tr th {\n",
       "        vertical-align: top;\n",
       "    }\n",
       "\n",
       "    .dataframe thead th {\n",
       "        text-align: right;\n",
       "    }\n",
       "</style>\n",
       "<table border=\"1\" class=\"dataframe\">\n",
       "  <thead>\n",
       "    <tr style=\"text-align: right;\">\n",
       "      <th></th>\n",
       "      <th>date</th>\n",
       "      <th>wm_yr_wk</th>\n",
       "      <th>weekday</th>\n",
       "      <th>d</th>\n",
       "      <th>event_type_1</th>\n",
       "      <th>snap_CA</th>\n",
       "      <th>snap_TX</th>\n",
       "      <th>snap_WI</th>\n",
       "    </tr>\n",
       "  </thead>\n",
       "  <tbody>\n",
       "    <tr>\n",
       "      <th>0</th>\n",
       "      <td>2011-01-29</td>\n",
       "      <td>11101</td>\n",
       "      <td>Saturday</td>\n",
       "      <td>d_1</td>\n",
       "      <td>NaN</td>\n",
       "      <td>0</td>\n",
       "      <td>0</td>\n",
       "      <td>0</td>\n",
       "    </tr>\n",
       "    <tr>\n",
       "      <th>1</th>\n",
       "      <td>2011-01-30</td>\n",
       "      <td>11101</td>\n",
       "      <td>Sunday</td>\n",
       "      <td>d_2</td>\n",
       "      <td>NaN</td>\n",
       "      <td>0</td>\n",
       "      <td>0</td>\n",
       "      <td>0</td>\n",
       "    </tr>\n",
       "    <tr>\n",
       "      <th>2</th>\n",
       "      <td>2011-01-31</td>\n",
       "      <td>11101</td>\n",
       "      <td>Monday</td>\n",
       "      <td>d_3</td>\n",
       "      <td>NaN</td>\n",
       "      <td>0</td>\n",
       "      <td>0</td>\n",
       "      <td>0</td>\n",
       "    </tr>\n",
       "    <tr>\n",
       "      <th>3</th>\n",
       "      <td>2011-02-01</td>\n",
       "      <td>11101</td>\n",
       "      <td>Tuesday</td>\n",
       "      <td>d_4</td>\n",
       "      <td>NaN</td>\n",
       "      <td>1</td>\n",
       "      <td>1</td>\n",
       "      <td>0</td>\n",
       "    </tr>\n",
       "    <tr>\n",
       "      <th>4</th>\n",
       "      <td>2011-02-02</td>\n",
       "      <td>11101</td>\n",
       "      <td>Wednesday</td>\n",
       "      <td>d_5</td>\n",
       "      <td>NaN</td>\n",
       "      <td>1</td>\n",
       "      <td>0</td>\n",
       "      <td>1</td>\n",
       "    </tr>\n",
       "  </tbody>\n",
       "</table>\n",
       "</div>"
      ],
      "text/plain": [
       "         date  wm_yr_wk    weekday    d event_type_1  snap_CA  snap_TX  \\\n",
       "0  2011-01-29     11101   Saturday  d_1          NaN        0        0   \n",
       "1  2011-01-30     11101     Sunday  d_2          NaN        0        0   \n",
       "2  2011-01-31     11101     Monday  d_3          NaN        0        0   \n",
       "3  2011-02-01     11101    Tuesday  d_4          NaN        1        1   \n",
       "4  2011-02-02     11101  Wednesday  d_5          NaN        1        0   \n",
       "\n",
       "   snap_WI  \n",
       "0        0  \n",
       "1        0  \n",
       "2        0  \n",
       "3        0  \n",
       "4        1  "
      ]
     },
     "execution_count": 19,
     "metadata": {},
     "output_type": "execute_result"
    }
   ],
   "source": [
    "df_calendar.head()"
   ]
  },
  {
   "cell_type": "code",
   "execution_count": 20,
   "id": "f6a4c398",
   "metadata": {
    "execution": {
     "iopub.execute_input": "2022-12-08T06:14:47.039209Z",
     "iopub.status.busy": "2022-12-08T06:14:47.038813Z",
     "iopub.status.idle": "2022-12-08T06:14:47.049592Z",
     "shell.execute_reply": "2022-12-08T06:14:47.048439Z"
    },
    "papermill": {
     "duration": 0.04096,
     "end_time": "2022-12-08T06:14:47.051797",
     "exception": false,
     "start_time": "2022-12-08T06:14:47.010837",
     "status": "completed"
    },
    "tags": []
   },
   "outputs": [
    {
     "data": {
      "text/plain": [
       "date               0\n",
       "wm_yr_wk           0\n",
       "weekday            0\n",
       "d                  0\n",
       "event_type_1    1807\n",
       "snap_CA            0\n",
       "snap_TX            0\n",
       "snap_WI            0\n",
       "dtype: int64"
      ]
     },
     "execution_count": 20,
     "metadata": {},
     "output_type": "execute_result"
    }
   ],
   "source": [
    "df_calendar.isna().sum()"
   ]
  },
  {
   "cell_type": "code",
   "execution_count": 21,
   "id": "e2fd7690",
   "metadata": {
    "execution": {
     "iopub.execute_input": "2022-12-08T06:14:47.108970Z",
     "iopub.status.busy": "2022-12-08T06:14:47.108543Z",
     "iopub.status.idle": "2022-12-08T06:14:47.115947Z",
     "shell.execute_reply": "2022-12-08T06:14:47.114415Z"
    },
    "papermill": {
     "duration": 0.039313,
     "end_time": "2022-12-08T06:14:47.118877",
     "exception": false,
     "start_time": "2022-12-08T06:14:47.079564",
     "status": "completed"
    },
    "tags": []
   },
   "outputs": [],
   "source": [
    "df_calendar.event_type_1.fillna('Daily', inplace=True)"
   ]
  },
  {
   "cell_type": "markdown",
   "id": "26ac68b5",
   "metadata": {
    "papermill": {
     "duration": 0.026615,
     "end_time": "2022-12-08T06:14:47.172835",
     "exception": false,
     "start_time": "2022-12-08T06:14:47.146220",
     "status": "completed"
    },
    "tags": []
   },
   "source": [
    "# Downcast to save memory.\n",
    "\n",
    "https://www.kaggle.com/code/anshuls235/time-series-forecasting-eda-fe-modelling"
   ]
  },
  {
   "cell_type": "code",
   "execution_count": 22,
   "id": "e4d9e19a",
   "metadata": {
    "execution": {
     "iopub.execute_input": "2022-12-08T06:14:47.229249Z",
     "iopub.status.busy": "2022-12-08T06:14:47.228440Z",
     "iopub.status.idle": "2022-12-08T06:14:47.242313Z",
     "shell.execute_reply": "2022-12-08T06:14:47.241554Z"
    },
    "papermill": {
     "duration": 0.04506,
     "end_time": "2022-12-08T06:14:47.244957",
     "exception": false,
     "start_time": "2022-12-08T06:14:47.199897",
     "status": "completed"
    },
    "tags": []
   },
   "outputs": [],
   "source": [
    "def downcast(df):\n",
    "    cols = df.dtypes.index.tolist()\n",
    "    types = df.dtypes.values.tolist()\n",
    "    for i,t in enumerate(types):\n",
    "        if 'int' in str(t):\n",
    "            if df[cols[i]].min() > np.iinfo(np.int8).min and df[cols[i]].max() < np.iinfo(np.int8).max:\n",
    "                df[cols[i]] = df[cols[i]].astype(np.int8)\n",
    "            elif df[cols[i]].min() > np.iinfo(np.int16).min and df[cols[i]].max() < np.iinfo(np.int16).max:\n",
    "                df[cols[i]] = df[cols[i]].astype(np.int16)\n",
    "            elif df[cols[i]].min() > np.iinfo(np.int32).min and df[cols[i]].max() < np.iinfo(np.int32).max:\n",
    "                df[cols[i]] = df[cols[i]].astype(np.int32)\n",
    "            else:\n",
    "                df[cols[i]] = df[cols[i]].astype(np.int64)\n",
    "        elif 'float' in str(t):\n",
    "            if df[cols[i]].min() > np.finfo(np.float16).min and df[cols[i]].max() < np.finfo(np.float16).max:\n",
    "                df[cols[i]] = df[cols[i]].astype(np.float16)\n",
    "            elif df[cols[i]].min() > np.finfo(np.float32).min and df[cols[i]].max() < np.finfo(np.float32).max:\n",
    "                df[cols[i]] = df[cols[i]].astype(np.float32)\n",
    "            else:\n",
    "                df[cols[i]] = df[cols[i]].astype(np.float64)\n",
    "        elif t == object:\n",
    "            if cols[i] == 'date':\n",
    "                df[cols[i]] = pd.to_datetime(df[cols[i]], format='%Y-%m-%d')\n",
    "            else:\n",
    "                df[cols[i]] = df[cols[i]].astype('category')\n",
    "    return df "
   ]
  },
  {
   "cell_type": "code",
   "execution_count": 23,
   "id": "021153c6",
   "metadata": {
    "execution": {
     "iopub.execute_input": "2022-12-08T06:14:47.303240Z",
     "iopub.status.busy": "2022-12-08T06:14:47.301809Z",
     "iopub.status.idle": "2022-12-08T06:15:59.469519Z",
     "shell.execute_reply": "2022-12-08T06:15:59.468015Z"
    },
    "papermill": {
     "duration": 72.199645,
     "end_time": "2022-12-08T06:15:59.472744",
     "exception": false,
     "start_time": "2022-12-08T06:14:47.273099",
     "status": "completed"
    },
    "tags": []
   },
   "outputs": [],
   "source": [
    "df_calendar = downcast(df_calendar)\n",
    "df_sell_price = downcast(df_sell_price)\n",
    "df_sales_tv = downcast(df_sales_tv)"
   ]
  },
  {
   "cell_type": "code",
   "execution_count": 24,
   "id": "75a7c4e5",
   "metadata": {
    "execution": {
     "iopub.execute_input": "2022-12-08T06:15:59.533120Z",
     "iopub.status.busy": "2022-12-08T06:15:59.532694Z",
     "iopub.status.idle": "2022-12-08T06:15:59.548475Z",
     "shell.execute_reply": "2022-12-08T06:15:59.547228Z"
    },
    "papermill": {
     "duration": 0.047508,
     "end_time": "2022-12-08T06:15:59.550853",
     "exception": false,
     "start_time": "2022-12-08T06:15:59.503345",
     "status": "completed"
    },
    "tags": []
   },
   "outputs": [
    {
     "data": {
      "text/html": [
       "<div>\n",
       "<style scoped>\n",
       "    .dataframe tbody tr th:only-of-type {\n",
       "        vertical-align: middle;\n",
       "    }\n",
       "\n",
       "    .dataframe tbody tr th {\n",
       "        vertical-align: top;\n",
       "    }\n",
       "\n",
       "    .dataframe thead th {\n",
       "        text-align: right;\n",
       "    }\n",
       "</style>\n",
       "<table border=\"1\" class=\"dataframe\">\n",
       "  <thead>\n",
       "    <tr style=\"text-align: right;\">\n",
       "      <th></th>\n",
       "      <th>date</th>\n",
       "      <th>wm_yr_wk</th>\n",
       "      <th>weekday</th>\n",
       "      <th>d</th>\n",
       "      <th>event_type_1</th>\n",
       "      <th>snap_CA</th>\n",
       "      <th>snap_TX</th>\n",
       "      <th>snap_WI</th>\n",
       "    </tr>\n",
       "  </thead>\n",
       "  <tbody>\n",
       "    <tr>\n",
       "      <th>0</th>\n",
       "      <td>2011-01-29</td>\n",
       "      <td>11101</td>\n",
       "      <td>Saturday</td>\n",
       "      <td>d_1</td>\n",
       "      <td>Daily</td>\n",
       "      <td>0</td>\n",
       "      <td>0</td>\n",
       "      <td>0</td>\n",
       "    </tr>\n",
       "    <tr>\n",
       "      <th>1</th>\n",
       "      <td>2011-01-30</td>\n",
       "      <td>11101</td>\n",
       "      <td>Sunday</td>\n",
       "      <td>d_2</td>\n",
       "      <td>Daily</td>\n",
       "      <td>0</td>\n",
       "      <td>0</td>\n",
       "      <td>0</td>\n",
       "    </tr>\n",
       "    <tr>\n",
       "      <th>2</th>\n",
       "      <td>2011-01-31</td>\n",
       "      <td>11101</td>\n",
       "      <td>Monday</td>\n",
       "      <td>d_3</td>\n",
       "      <td>Daily</td>\n",
       "      <td>0</td>\n",
       "      <td>0</td>\n",
       "      <td>0</td>\n",
       "    </tr>\n",
       "    <tr>\n",
       "      <th>3</th>\n",
       "      <td>2011-02-01</td>\n",
       "      <td>11101</td>\n",
       "      <td>Tuesday</td>\n",
       "      <td>d_4</td>\n",
       "      <td>Daily</td>\n",
       "      <td>1</td>\n",
       "      <td>1</td>\n",
       "      <td>0</td>\n",
       "    </tr>\n",
       "    <tr>\n",
       "      <th>4</th>\n",
       "      <td>2011-02-02</td>\n",
       "      <td>11101</td>\n",
       "      <td>Wednesday</td>\n",
       "      <td>d_5</td>\n",
       "      <td>Daily</td>\n",
       "      <td>1</td>\n",
       "      <td>0</td>\n",
       "      <td>1</td>\n",
       "    </tr>\n",
       "  </tbody>\n",
       "</table>\n",
       "</div>"
      ],
      "text/plain": [
       "        date  wm_yr_wk    weekday    d event_type_1  snap_CA  snap_TX  snap_WI\n",
       "0 2011-01-29     11101   Saturday  d_1        Daily        0        0        0\n",
       "1 2011-01-30     11101     Sunday  d_2        Daily        0        0        0\n",
       "2 2011-01-31     11101     Monday  d_3        Daily        0        0        0\n",
       "3 2011-02-01     11101    Tuesday  d_4        Daily        1        1        0\n",
       "4 2011-02-02     11101  Wednesday  d_5        Daily        1        0        1"
      ]
     },
     "execution_count": 24,
     "metadata": {},
     "output_type": "execute_result"
    }
   ],
   "source": [
    "df_calendar.head()"
   ]
  },
  {
   "cell_type": "code",
   "execution_count": 25,
   "id": "43c921e6",
   "metadata": {
    "execution": {
     "iopub.execute_input": "2022-12-08T06:15:59.607987Z",
     "iopub.status.busy": "2022-12-08T06:15:59.607585Z",
     "iopub.status.idle": "2022-12-08T06:15:59.616470Z",
     "shell.execute_reply": "2022-12-08T06:15:59.614654Z"
    },
    "papermill": {
     "duration": 0.04065,
     "end_time": "2022-12-08T06:15:59.619364",
     "exception": false,
     "start_time": "2022-12-08T06:15:59.578714",
     "status": "completed"
    },
    "tags": []
   },
   "outputs": [
    {
     "data": {
      "text/plain": [
       "(1969, 8)"
      ]
     },
     "execution_count": 25,
     "metadata": {},
     "output_type": "execute_result"
    }
   ],
   "source": [
    "df_calendar.shape"
   ]
  },
  {
   "cell_type": "markdown",
   "id": "26fbf507",
   "metadata": {
    "papermill": {
     "duration": 0.02664,
     "end_time": "2022-12-08T06:15:59.673556",
     "exception": false,
     "start_time": "2022-12-08T06:15:59.646916",
     "status": "completed"
    },
    "tags": []
   },
   "source": [
    "## Merge `df_calendar` with `df_sell_price` on `wm_yr_wk`"
   ]
  },
  {
   "cell_type": "code",
   "execution_count": 26,
   "id": "2abc5dba",
   "metadata": {
    "execution": {
     "iopub.execute_input": "2022-12-08T06:15:59.730445Z",
     "iopub.status.busy": "2022-12-08T06:15:59.730079Z",
     "iopub.status.idle": "2022-12-08T06:15:59.761070Z",
     "shell.execute_reply": "2022-12-08T06:15:59.759476Z"
    },
    "papermill": {
     "duration": 0.062397,
     "end_time": "2022-12-08T06:15:59.763454",
     "exception": false,
     "start_time": "2022-12-08T06:15:59.701057",
     "status": "completed"
    },
    "tags": []
   },
   "outputs": [
    {
     "data": {
      "text/html": [
       "<div>\n",
       "<style scoped>\n",
       "    .dataframe tbody tr th:only-of-type {\n",
       "        vertical-align: middle;\n",
       "    }\n",
       "\n",
       "    .dataframe tbody tr th {\n",
       "        vertical-align: top;\n",
       "    }\n",
       "\n",
       "    .dataframe thead th {\n",
       "        text-align: right;\n",
       "    }\n",
       "</style>\n",
       "<table border=\"1\" class=\"dataframe\">\n",
       "  <thead>\n",
       "    <tr style=\"text-align: right;\">\n",
       "      <th></th>\n",
       "      <th>date</th>\n",
       "      <th>wm_yr_wk</th>\n",
       "      <th>weekday</th>\n",
       "      <th>d</th>\n",
       "      <th>event_type_1</th>\n",
       "      <th>snap_CA</th>\n",
       "      <th>snap_TX</th>\n",
       "      <th>snap_WI</th>\n",
       "      <th>state</th>\n",
       "      <th>sales_price_min</th>\n",
       "      <th>sales_price_max</th>\n",
       "      <th>sales_price_mean</th>\n",
       "    </tr>\n",
       "  </thead>\n",
       "  <tbody>\n",
       "    <tr>\n",
       "      <th>0</th>\n",
       "      <td>2011-01-29</td>\n",
       "      <td>11101</td>\n",
       "      <td>Saturday</td>\n",
       "      <td>d_1</td>\n",
       "      <td>Daily</td>\n",
       "      <td>0</td>\n",
       "      <td>0</td>\n",
       "      <td>0</td>\n",
       "      <td>CA</td>\n",
       "      <td>0.199951</td>\n",
       "      <td>22.0</td>\n",
       "      <td>4.109375</td>\n",
       "    </tr>\n",
       "    <tr>\n",
       "      <th>1</th>\n",
       "      <td>2011-01-29</td>\n",
       "      <td>11101</td>\n",
       "      <td>Saturday</td>\n",
       "      <td>d_1</td>\n",
       "      <td>Daily</td>\n",
       "      <td>0</td>\n",
       "      <td>0</td>\n",
       "      <td>0</td>\n",
       "      <td>TX</td>\n",
       "      <td>0.199951</td>\n",
       "      <td>22.0</td>\n",
       "      <td>3.990234</td>\n",
       "    </tr>\n",
       "    <tr>\n",
       "      <th>2</th>\n",
       "      <td>2011-01-29</td>\n",
       "      <td>11101</td>\n",
       "      <td>Saturday</td>\n",
       "      <td>d_1</td>\n",
       "      <td>Daily</td>\n",
       "      <td>0</td>\n",
       "      <td>0</td>\n",
       "      <td>0</td>\n",
       "      <td>WI</td>\n",
       "      <td>0.199951</td>\n",
       "      <td>22.0</td>\n",
       "      <td>4.109375</td>\n",
       "    </tr>\n",
       "    <tr>\n",
       "      <th>3</th>\n",
       "      <td>2011-01-30</td>\n",
       "      <td>11101</td>\n",
       "      <td>Sunday</td>\n",
       "      <td>d_2</td>\n",
       "      <td>Daily</td>\n",
       "      <td>0</td>\n",
       "      <td>0</td>\n",
       "      <td>0</td>\n",
       "      <td>CA</td>\n",
       "      <td>0.199951</td>\n",
       "      <td>22.0</td>\n",
       "      <td>4.109375</td>\n",
       "    </tr>\n",
       "    <tr>\n",
       "      <th>4</th>\n",
       "      <td>2011-01-30</td>\n",
       "      <td>11101</td>\n",
       "      <td>Sunday</td>\n",
       "      <td>d_2</td>\n",
       "      <td>Daily</td>\n",
       "      <td>0</td>\n",
       "      <td>0</td>\n",
       "      <td>0</td>\n",
       "      <td>TX</td>\n",
       "      <td>0.199951</td>\n",
       "      <td>22.0</td>\n",
       "      <td>3.990234</td>\n",
       "    </tr>\n",
       "  </tbody>\n",
       "</table>\n",
       "</div>"
      ],
      "text/plain": [
       "        date  wm_yr_wk   weekday    d event_type_1  snap_CA  snap_TX  snap_WI  \\\n",
       "0 2011-01-29     11101  Saturday  d_1        Daily        0        0        0   \n",
       "1 2011-01-29     11101  Saturday  d_1        Daily        0        0        0   \n",
       "2 2011-01-29     11101  Saturday  d_1        Daily        0        0        0   \n",
       "3 2011-01-30     11101    Sunday  d_2        Daily        0        0        0   \n",
       "4 2011-01-30     11101    Sunday  d_2        Daily        0        0        0   \n",
       "\n",
       "  state  sales_price_min  sales_price_max  sales_price_mean  \n",
       "0    CA         0.199951             22.0          4.109375  \n",
       "1    TX         0.199951             22.0          3.990234  \n",
       "2    WI         0.199951             22.0          4.109375  \n",
       "3    CA         0.199951             22.0          4.109375  \n",
       "4    TX         0.199951             22.0          3.990234  "
      ]
     },
     "execution_count": 26,
     "metadata": {},
     "output_type": "execute_result"
    }
   ],
   "source": [
    "df_calendar = df_calendar.merge(df_sell_price, how='left', on=['wm_yr_wk'])\n",
    "df_calendar.head()"
   ]
  },
  {
   "cell_type": "code",
   "execution_count": 27,
   "id": "5548b6b7",
   "metadata": {
    "execution": {
     "iopub.execute_input": "2022-12-08T06:15:59.818357Z",
     "iopub.status.busy": "2022-12-08T06:15:59.817997Z",
     "iopub.status.idle": "2022-12-08T06:15:59.833151Z",
     "shell.execute_reply": "2022-12-08T06:15:59.831477Z"
    },
    "papermill": {
     "duration": 0.045404,
     "end_time": "2022-12-08T06:15:59.835561",
     "exception": false,
     "start_time": "2022-12-08T06:15:59.790157",
     "status": "completed"
    },
    "tags": []
   },
   "outputs": [
    {
     "data": {
      "text/plain": [
       "0"
      ]
     },
     "execution_count": 27,
     "metadata": {},
     "output_type": "execute_result"
    }
   ],
   "source": [
    "df_calendar.duplicated().sum()"
   ]
  },
  {
   "cell_type": "code",
   "execution_count": 28,
   "id": "1600fbba",
   "metadata": {
    "execution": {
     "iopub.execute_input": "2022-12-08T06:15:59.893600Z",
     "iopub.status.busy": "2022-12-08T06:15:59.893196Z",
     "iopub.status.idle": "2022-12-08T06:15:59.900084Z",
     "shell.execute_reply": "2022-12-08T06:15:59.898856Z"
    },
    "papermill": {
     "duration": 0.037836,
     "end_time": "2022-12-08T06:15:59.901998",
     "exception": false,
     "start_time": "2022-12-08T06:15:59.864162",
     "status": "completed"
    },
    "tags": []
   },
   "outputs": [],
   "source": [
    "df_calendar.drop(['wm_yr_wk'], axis = 1, inplace = True)"
   ]
  },
  {
   "cell_type": "code",
   "execution_count": 29,
   "id": "51123b36",
   "metadata": {
    "execution": {
     "iopub.execute_input": "2022-12-08T06:15:59.960496Z",
     "iopub.status.busy": "2022-12-08T06:15:59.960149Z",
     "iopub.status.idle": "2022-12-08T06:15:59.977719Z",
     "shell.execute_reply": "2022-12-08T06:15:59.975996Z"
    },
    "papermill": {
     "duration": 0.048856,
     "end_time": "2022-12-08T06:15:59.980003",
     "exception": false,
     "start_time": "2022-12-08T06:15:59.931147",
     "status": "completed"
    },
    "tags": []
   },
   "outputs": [
    {
     "data": {
      "text/html": [
       "<div>\n",
       "<style scoped>\n",
       "    .dataframe tbody tr th:only-of-type {\n",
       "        vertical-align: middle;\n",
       "    }\n",
       "\n",
       "    .dataframe tbody tr th {\n",
       "        vertical-align: top;\n",
       "    }\n",
       "\n",
       "    .dataframe thead th {\n",
       "        text-align: right;\n",
       "    }\n",
       "</style>\n",
       "<table border=\"1\" class=\"dataframe\">\n",
       "  <thead>\n",
       "    <tr style=\"text-align: right;\">\n",
       "      <th></th>\n",
       "      <th>date</th>\n",
       "      <th>weekday</th>\n",
       "      <th>event_type_1</th>\n",
       "      <th>snap_CA</th>\n",
       "      <th>snap_TX</th>\n",
       "      <th>snap_WI</th>\n",
       "      <th>state</th>\n",
       "      <th>sales_price_min</th>\n",
       "      <th>sales_price_max</th>\n",
       "      <th>sales_price_mean</th>\n",
       "    </tr>\n",
       "    <tr>\n",
       "      <th>d</th>\n",
       "      <th></th>\n",
       "      <th></th>\n",
       "      <th></th>\n",
       "      <th></th>\n",
       "      <th></th>\n",
       "      <th></th>\n",
       "      <th></th>\n",
       "      <th></th>\n",
       "      <th></th>\n",
       "      <th></th>\n",
       "    </tr>\n",
       "  </thead>\n",
       "  <tbody>\n",
       "    <tr>\n",
       "      <th>d_1</th>\n",
       "      <td>2011-01-29</td>\n",
       "      <td>Saturday</td>\n",
       "      <td>Daily</td>\n",
       "      <td>0</td>\n",
       "      <td>0</td>\n",
       "      <td>0</td>\n",
       "      <td>CA</td>\n",
       "      <td>0.199951</td>\n",
       "      <td>22.0</td>\n",
       "      <td>4.109375</td>\n",
       "    </tr>\n",
       "    <tr>\n",
       "      <th>d_1</th>\n",
       "      <td>2011-01-29</td>\n",
       "      <td>Saturday</td>\n",
       "      <td>Daily</td>\n",
       "      <td>0</td>\n",
       "      <td>0</td>\n",
       "      <td>0</td>\n",
       "      <td>TX</td>\n",
       "      <td>0.199951</td>\n",
       "      <td>22.0</td>\n",
       "      <td>3.990234</td>\n",
       "    </tr>\n",
       "    <tr>\n",
       "      <th>d_1</th>\n",
       "      <td>2011-01-29</td>\n",
       "      <td>Saturday</td>\n",
       "      <td>Daily</td>\n",
       "      <td>0</td>\n",
       "      <td>0</td>\n",
       "      <td>0</td>\n",
       "      <td>WI</td>\n",
       "      <td>0.199951</td>\n",
       "      <td>22.0</td>\n",
       "      <td>4.109375</td>\n",
       "    </tr>\n",
       "    <tr>\n",
       "      <th>d_2</th>\n",
       "      <td>2011-01-30</td>\n",
       "      <td>Sunday</td>\n",
       "      <td>Daily</td>\n",
       "      <td>0</td>\n",
       "      <td>0</td>\n",
       "      <td>0</td>\n",
       "      <td>CA</td>\n",
       "      <td>0.199951</td>\n",
       "      <td>22.0</td>\n",
       "      <td>4.109375</td>\n",
       "    </tr>\n",
       "    <tr>\n",
       "      <th>d_2</th>\n",
       "      <td>2011-01-30</td>\n",
       "      <td>Sunday</td>\n",
       "      <td>Daily</td>\n",
       "      <td>0</td>\n",
       "      <td>0</td>\n",
       "      <td>0</td>\n",
       "      <td>TX</td>\n",
       "      <td>0.199951</td>\n",
       "      <td>22.0</td>\n",
       "      <td>3.990234</td>\n",
       "    </tr>\n",
       "  </tbody>\n",
       "</table>\n",
       "</div>"
      ],
      "text/plain": [
       "          date   weekday event_type_1  snap_CA  snap_TX  snap_WI state  \\\n",
       "d                                                                        \n",
       "d_1 2011-01-29  Saturday        Daily        0        0        0    CA   \n",
       "d_1 2011-01-29  Saturday        Daily        0        0        0    TX   \n",
       "d_1 2011-01-29  Saturday        Daily        0        0        0    WI   \n",
       "d_2 2011-01-30    Sunday        Daily        0        0        0    CA   \n",
       "d_2 2011-01-30    Sunday        Daily        0        0        0    TX   \n",
       "\n",
       "     sales_price_min  sales_price_max  sales_price_mean  \n",
       "d                                                        \n",
       "d_1         0.199951             22.0          4.109375  \n",
       "d_1         0.199951             22.0          3.990234  \n",
       "d_1         0.199951             22.0          4.109375  \n",
       "d_2         0.199951             22.0          4.109375  \n",
       "d_2         0.199951             22.0          3.990234  "
      ]
     },
     "execution_count": 29,
     "metadata": {},
     "output_type": "execute_result"
    }
   ],
   "source": [
    "df_calendar.set_index('d', inplace=True)\n",
    "df_calendar.head()"
   ]
  },
  {
   "cell_type": "code",
   "execution_count": 30,
   "id": "ee56e527",
   "metadata": {
    "execution": {
     "iopub.execute_input": "2022-12-08T06:16:00.040047Z",
     "iopub.status.busy": "2022-12-08T06:16:00.039634Z",
     "iopub.status.idle": "2022-12-08T06:16:00.046130Z",
     "shell.execute_reply": "2022-12-08T06:16:00.044889Z"
    },
    "papermill": {
     "duration": 0.038721,
     "end_time": "2022-12-08T06:16:00.048537",
     "exception": false,
     "start_time": "2022-12-08T06:16:00.009816",
     "status": "completed"
    },
    "tags": []
   },
   "outputs": [
    {
     "data": {
      "text/plain": [
       "(5907, 10)"
      ]
     },
     "execution_count": 30,
     "metadata": {},
     "output_type": "execute_result"
    }
   ],
   "source": [
    "df_calendar.shape"
   ]
  },
  {
   "cell_type": "code",
   "execution_count": 31,
   "id": "30c3d507",
   "metadata": {
    "execution": {
     "iopub.execute_input": "2022-12-08T06:16:00.108267Z",
     "iopub.status.busy": "2022-12-08T06:16:00.107924Z",
     "iopub.status.idle": "2022-12-08T06:16:00.415852Z",
     "shell.execute_reply": "2022-12-08T06:16:00.413489Z"
    },
    "papermill": {
     "duration": 0.340675,
     "end_time": "2022-12-08T06:16:00.418974",
     "exception": false,
     "start_time": "2022-12-08T06:16:00.078299",
     "status": "completed"
    },
    "tags": []
   },
   "outputs": [
    {
     "data": {
      "text/html": [
       "<div>\n",
       "<style scoped>\n",
       "    .dataframe tbody tr th:only-of-type {\n",
       "        vertical-align: middle;\n",
       "    }\n",
       "\n",
       "    .dataframe tbody tr th {\n",
       "        vertical-align: top;\n",
       "    }\n",
       "\n",
       "    .dataframe thead th {\n",
       "        text-align: right;\n",
       "    }\n",
       "</style>\n",
       "<table border=\"1\" class=\"dataframe\">\n",
       "  <thead>\n",
       "    <tr style=\"text-align: right;\">\n",
       "      <th></th>\n",
       "      <th>state_id</th>\n",
       "      <th>d_1</th>\n",
       "      <th>d_2</th>\n",
       "      <th>d_3</th>\n",
       "      <th>d_4</th>\n",
       "      <th>d_5</th>\n",
       "      <th>d_6</th>\n",
       "      <th>d_7</th>\n",
       "      <th>d_8</th>\n",
       "      <th>d_9</th>\n",
       "      <th>...</th>\n",
       "      <th>d_1904</th>\n",
       "      <th>d_1905</th>\n",
       "      <th>d_1906</th>\n",
       "      <th>d_1907</th>\n",
       "      <th>d_1908</th>\n",
       "      <th>d_1909</th>\n",
       "      <th>d_1910</th>\n",
       "      <th>d_1911</th>\n",
       "      <th>d_1912</th>\n",
       "      <th>d_1913</th>\n",
       "    </tr>\n",
       "  </thead>\n",
       "  <tbody>\n",
       "    <tr>\n",
       "      <th>0</th>\n",
       "      <td>CA</td>\n",
       "      <td>0</td>\n",
       "      <td>0</td>\n",
       "      <td>0</td>\n",
       "      <td>0</td>\n",
       "      <td>0</td>\n",
       "      <td>0</td>\n",
       "      <td>0</td>\n",
       "      <td>0</td>\n",
       "      <td>0</td>\n",
       "      <td>...</td>\n",
       "      <td>1</td>\n",
       "      <td>3</td>\n",
       "      <td>0</td>\n",
       "      <td>1</td>\n",
       "      <td>1</td>\n",
       "      <td>1</td>\n",
       "      <td>3</td>\n",
       "      <td>0</td>\n",
       "      <td>1</td>\n",
       "      <td>1</td>\n",
       "    </tr>\n",
       "    <tr>\n",
       "      <th>1</th>\n",
       "      <td>CA</td>\n",
       "      <td>0</td>\n",
       "      <td>0</td>\n",
       "      <td>0</td>\n",
       "      <td>0</td>\n",
       "      <td>0</td>\n",
       "      <td>0</td>\n",
       "      <td>0</td>\n",
       "      <td>0</td>\n",
       "      <td>0</td>\n",
       "      <td>...</td>\n",
       "      <td>0</td>\n",
       "      <td>0</td>\n",
       "      <td>0</td>\n",
       "      <td>0</td>\n",
       "      <td>0</td>\n",
       "      <td>1</td>\n",
       "      <td>0</td>\n",
       "      <td>0</td>\n",
       "      <td>0</td>\n",
       "      <td>0</td>\n",
       "    </tr>\n",
       "    <tr>\n",
       "      <th>2</th>\n",
       "      <td>CA</td>\n",
       "      <td>0</td>\n",
       "      <td>0</td>\n",
       "      <td>0</td>\n",
       "      <td>0</td>\n",
       "      <td>0</td>\n",
       "      <td>0</td>\n",
       "      <td>0</td>\n",
       "      <td>0</td>\n",
       "      <td>0</td>\n",
       "      <td>...</td>\n",
       "      <td>2</td>\n",
       "      <td>1</td>\n",
       "      <td>2</td>\n",
       "      <td>1</td>\n",
       "      <td>1</td>\n",
       "      <td>1</td>\n",
       "      <td>0</td>\n",
       "      <td>1</td>\n",
       "      <td>1</td>\n",
       "      <td>1</td>\n",
       "    </tr>\n",
       "    <tr>\n",
       "      <th>3</th>\n",
       "      <td>CA</td>\n",
       "      <td>0</td>\n",
       "      <td>0</td>\n",
       "      <td>0</td>\n",
       "      <td>0</td>\n",
       "      <td>0</td>\n",
       "      <td>0</td>\n",
       "      <td>0</td>\n",
       "      <td>0</td>\n",
       "      <td>0</td>\n",
       "      <td>...</td>\n",
       "      <td>1</td>\n",
       "      <td>0</td>\n",
       "      <td>5</td>\n",
       "      <td>4</td>\n",
       "      <td>1</td>\n",
       "      <td>0</td>\n",
       "      <td>1</td>\n",
       "      <td>3</td>\n",
       "      <td>7</td>\n",
       "      <td>2</td>\n",
       "    </tr>\n",
       "    <tr>\n",
       "      <th>4</th>\n",
       "      <td>CA</td>\n",
       "      <td>0</td>\n",
       "      <td>0</td>\n",
       "      <td>0</td>\n",
       "      <td>0</td>\n",
       "      <td>0</td>\n",
       "      <td>0</td>\n",
       "      <td>0</td>\n",
       "      <td>0</td>\n",
       "      <td>0</td>\n",
       "      <td>...</td>\n",
       "      <td>2</td>\n",
       "      <td>1</td>\n",
       "      <td>1</td>\n",
       "      <td>0</td>\n",
       "      <td>1</td>\n",
       "      <td>1</td>\n",
       "      <td>2</td>\n",
       "      <td>2</td>\n",
       "      <td>2</td>\n",
       "      <td>4</td>\n",
       "    </tr>\n",
       "  </tbody>\n",
       "</table>\n",
       "<p>5 rows × 1914 columns</p>\n",
       "</div>"
      ],
      "text/plain": [
       "  state_id  d_1  d_2  d_3  d_4  d_5  d_6  d_7  d_8  d_9  ...  d_1904  d_1905  \\\n",
       "0       CA    0    0    0    0    0    0    0    0    0  ...       1       3   \n",
       "1       CA    0    0    0    0    0    0    0    0    0  ...       0       0   \n",
       "2       CA    0    0    0    0    0    0    0    0    0  ...       2       1   \n",
       "3       CA    0    0    0    0    0    0    0    0    0  ...       1       0   \n",
       "4       CA    0    0    0    0    0    0    0    0    0  ...       2       1   \n",
       "\n",
       "   d_1906  d_1907  d_1908  d_1909  d_1910  d_1911  d_1912  d_1913  \n",
       "0       0       1       1       1       3       0       1       1  \n",
       "1       0       0       0       1       0       0       0       0  \n",
       "2       2       1       1       1       0       1       1       1  \n",
       "3       5       4       1       0       1       3       7       2  \n",
       "4       1       0       1       1       2       2       2       4  \n",
       "\n",
       "[5 rows x 1914 columns]"
      ]
     },
     "execution_count": 31,
     "metadata": {},
     "output_type": "execute_result"
    }
   ],
   "source": [
    "# Drop `id, item_id, dept_id, cat_id, store_id` from `df_sales_tv`\n",
    "df_states = df_sales_tv.drop(['id', 'item_id', 'dept_id', 'cat_id', 'store_id'], axis = 1)\n",
    "df_states.head()"
   ]
  },
  {
   "cell_type": "code",
   "execution_count": 32,
   "id": "1ff23aa0",
   "metadata": {
    "execution": {
     "iopub.execute_input": "2022-12-08T06:16:00.481891Z",
     "iopub.status.busy": "2022-12-08T06:16:00.481469Z",
     "iopub.status.idle": "2022-12-08T06:16:00.853136Z",
     "shell.execute_reply": "2022-12-08T06:16:00.851789Z"
    },
    "papermill": {
     "duration": 0.404911,
     "end_time": "2022-12-08T06:16:00.855818",
     "exception": false,
     "start_time": "2022-12-08T06:16:00.450907",
     "status": "completed"
    },
    "tags": []
   },
   "outputs": [
    {
     "data": {
      "text/html": [
       "<div>\n",
       "<style scoped>\n",
       "    .dataframe tbody tr th:only-of-type {\n",
       "        vertical-align: middle;\n",
       "    }\n",
       "\n",
       "    .dataframe tbody tr th {\n",
       "        vertical-align: top;\n",
       "    }\n",
       "\n",
       "    .dataframe thead th {\n",
       "        text-align: right;\n",
       "    }\n",
       "</style>\n",
       "<table border=\"1\" class=\"dataframe\">\n",
       "  <thead>\n",
       "    <tr style=\"text-align: right;\">\n",
       "      <th></th>\n",
       "      <th>d_1</th>\n",
       "      <th>d_2</th>\n",
       "      <th>d_3</th>\n",
       "      <th>d_4</th>\n",
       "      <th>d_5</th>\n",
       "      <th>d_6</th>\n",
       "      <th>d_7</th>\n",
       "      <th>d_8</th>\n",
       "      <th>d_9</th>\n",
       "      <th>d_10</th>\n",
       "      <th>...</th>\n",
       "      <th>d_1904</th>\n",
       "      <th>d_1905</th>\n",
       "      <th>d_1906</th>\n",
       "      <th>d_1907</th>\n",
       "      <th>d_1908</th>\n",
       "      <th>d_1909</th>\n",
       "      <th>d_1910</th>\n",
       "      <th>d_1911</th>\n",
       "      <th>d_1912</th>\n",
       "      <th>d_1913</th>\n",
       "    </tr>\n",
       "    <tr>\n",
       "      <th>state_id</th>\n",
       "      <th></th>\n",
       "      <th></th>\n",
       "      <th></th>\n",
       "      <th></th>\n",
       "      <th></th>\n",
       "      <th></th>\n",
       "      <th></th>\n",
       "      <th></th>\n",
       "      <th></th>\n",
       "      <th></th>\n",
       "      <th></th>\n",
       "      <th></th>\n",
       "      <th></th>\n",
       "      <th></th>\n",
       "      <th></th>\n",
       "      <th></th>\n",
       "      <th></th>\n",
       "      <th></th>\n",
       "      <th></th>\n",
       "      <th></th>\n",
       "      <th></th>\n",
       "    </tr>\n",
       "  </thead>\n",
       "  <tbody>\n",
       "    <tr>\n",
       "      <th>CA</th>\n",
       "      <td>14195</td>\n",
       "      <td>13805</td>\n",
       "      <td>10108</td>\n",
       "      <td>11047</td>\n",
       "      <td>9925</td>\n",
       "      <td>11322</td>\n",
       "      <td>12251</td>\n",
       "      <td>16610</td>\n",
       "      <td>14696</td>\n",
       "      <td>11822</td>\n",
       "      <td>...</td>\n",
       "      <td>16255</td>\n",
       "      <td>20564</td>\n",
       "      <td>23032</td>\n",
       "      <td>17052.0</td>\n",
       "      <td>15784.0</td>\n",
       "      <td>15148.0</td>\n",
       "      <td>14488.0</td>\n",
       "      <td>17095</td>\n",
       "      <td>21834</td>\n",
       "      <td>23187</td>\n",
       "    </tr>\n",
       "    <tr>\n",
       "      <th>TX</th>\n",
       "      <td>9438</td>\n",
       "      <td>9630</td>\n",
       "      <td>6778</td>\n",
       "      <td>7381</td>\n",
       "      <td>5912</td>\n",
       "      <td>9006</td>\n",
       "      <td>6226</td>\n",
       "      <td>9440</td>\n",
       "      <td>9376</td>\n",
       "      <td>7319</td>\n",
       "      <td>...</td>\n",
       "      <td>10800</td>\n",
       "      <td>12460</td>\n",
       "      <td>13709</td>\n",
       "      <td>9868.0</td>\n",
       "      <td>10922.0</td>\n",
       "      <td>9600.0</td>\n",
       "      <td>9602.0</td>\n",
       "      <td>10615</td>\n",
       "      <td>12266</td>\n",
       "      <td>12282</td>\n",
       "    </tr>\n",
       "    <tr>\n",
       "      <th>WI</th>\n",
       "      <td>8998</td>\n",
       "      <td>8314</td>\n",
       "      <td>6897</td>\n",
       "      <td>6984</td>\n",
       "      <td>3309</td>\n",
       "      <td>8883</td>\n",
       "      <td>9533</td>\n",
       "      <td>11882</td>\n",
       "      <td>8664</td>\n",
       "      <td>6431</td>\n",
       "      <td>...</td>\n",
       "      <td>14734</td>\n",
       "      <td>15338</td>\n",
       "      <td>14899</td>\n",
       "      <td>11139.0</td>\n",
       "      <td>10864.0</td>\n",
       "      <td>10595.0</td>\n",
       "      <td>10943.0</td>\n",
       "      <td>12807</td>\n",
       "      <td>14862</td>\n",
       "      <td>14326</td>\n",
       "    </tr>\n",
       "  </tbody>\n",
       "</table>\n",
       "<p>3 rows × 1913 columns</p>\n",
       "</div>"
      ],
      "text/plain": [
       "            d_1    d_2    d_3    d_4   d_5    d_6    d_7    d_8    d_9   d_10  \\\n",
       "state_id                                                                        \n",
       "CA        14195  13805  10108  11047  9925  11322  12251  16610  14696  11822   \n",
       "TX         9438   9630   6778   7381  5912   9006   6226   9440   9376   7319   \n",
       "WI         8998   8314   6897   6984  3309   8883   9533  11882   8664   6431   \n",
       "\n",
       "          ...  d_1904  d_1905  d_1906   d_1907   d_1908   d_1909   d_1910  \\\n",
       "state_id  ...                                                               \n",
       "CA        ...   16255   20564   23032  17052.0  15784.0  15148.0  14488.0   \n",
       "TX        ...   10800   12460   13709   9868.0  10922.0   9600.0   9602.0   \n",
       "WI        ...   14734   15338   14899  11139.0  10864.0  10595.0  10943.0   \n",
       "\n",
       "          d_1911  d_1912  d_1913  \n",
       "state_id                          \n",
       "CA         17095   21834   23187  \n",
       "TX         10615   12266   12282  \n",
       "WI         12807   14862   14326  \n",
       "\n",
       "[3 rows x 1913 columns]"
      ]
     },
     "execution_count": 32,
     "metadata": {},
     "output_type": "execute_result"
    }
   ],
   "source": [
    "df_states = df_states.groupby('state_id').sum()\n",
    "df_states.head()"
   ]
  },
  {
   "cell_type": "code",
   "execution_count": 33,
   "id": "fc5f3719",
   "metadata": {
    "execution": {
     "iopub.execute_input": "2022-12-08T06:16:00.915585Z",
     "iopub.status.busy": "2022-12-08T06:16:00.915226Z",
     "iopub.status.idle": "2022-12-08T06:16:00.934171Z",
     "shell.execute_reply": "2022-12-08T06:16:00.932609Z"
    },
    "papermill": {
     "duration": 0.05136,
     "end_time": "2022-12-08T06:16:00.936527",
     "exception": false,
     "start_time": "2022-12-08T06:16:00.885167",
     "status": "completed"
    },
    "tags": []
   },
   "outputs": [
    {
     "data": {
      "text/html": [
       "<div>\n",
       "<style scoped>\n",
       "    .dataframe tbody tr th:only-of-type {\n",
       "        vertical-align: middle;\n",
       "    }\n",
       "\n",
       "    .dataframe tbody tr th {\n",
       "        vertical-align: top;\n",
       "    }\n",
       "\n",
       "    .dataframe thead th {\n",
       "        text-align: right;\n",
       "    }\n",
       "</style>\n",
       "<table border=\"1\" class=\"dataframe\">\n",
       "  <thead>\n",
       "    <tr style=\"text-align: right;\">\n",
       "      <th>state_id</th>\n",
       "      <th>CA</th>\n",
       "      <th>TX</th>\n",
       "      <th>WI</th>\n",
       "    </tr>\n",
       "  </thead>\n",
       "  <tbody>\n",
       "    <tr>\n",
       "      <th>d_1</th>\n",
       "      <td>14195.0</td>\n",
       "      <td>9438.0</td>\n",
       "      <td>8998.0</td>\n",
       "    </tr>\n",
       "    <tr>\n",
       "      <th>d_2</th>\n",
       "      <td>13805.0</td>\n",
       "      <td>9630.0</td>\n",
       "      <td>8314.0</td>\n",
       "    </tr>\n",
       "    <tr>\n",
       "      <th>d_3</th>\n",
       "      <td>10108.0</td>\n",
       "      <td>6778.0</td>\n",
       "      <td>6897.0</td>\n",
       "    </tr>\n",
       "    <tr>\n",
       "      <th>d_4</th>\n",
       "      <td>11047.0</td>\n",
       "      <td>7381.0</td>\n",
       "      <td>6984.0</td>\n",
       "    </tr>\n",
       "    <tr>\n",
       "      <th>d_5</th>\n",
       "      <td>9925.0</td>\n",
       "      <td>5912.0</td>\n",
       "      <td>3309.0</td>\n",
       "    </tr>\n",
       "    <tr>\n",
       "      <th>...</th>\n",
       "      <td>...</td>\n",
       "      <td>...</td>\n",
       "      <td>...</td>\n",
       "    </tr>\n",
       "    <tr>\n",
       "      <th>d_1909</th>\n",
       "      <td>15148.0</td>\n",
       "      <td>9600.0</td>\n",
       "      <td>10595.0</td>\n",
       "    </tr>\n",
       "    <tr>\n",
       "      <th>d_1910</th>\n",
       "      <td>14488.0</td>\n",
       "      <td>9602.0</td>\n",
       "      <td>10943.0</td>\n",
       "    </tr>\n",
       "    <tr>\n",
       "      <th>d_1911</th>\n",
       "      <td>17095.0</td>\n",
       "      <td>10615.0</td>\n",
       "      <td>12807.0</td>\n",
       "    </tr>\n",
       "    <tr>\n",
       "      <th>d_1912</th>\n",
       "      <td>21834.0</td>\n",
       "      <td>12266.0</td>\n",
       "      <td>14862.0</td>\n",
       "    </tr>\n",
       "    <tr>\n",
       "      <th>d_1913</th>\n",
       "      <td>23187.0</td>\n",
       "      <td>12282.0</td>\n",
       "      <td>14326.0</td>\n",
       "    </tr>\n",
       "  </tbody>\n",
       "</table>\n",
       "<p>1913 rows × 3 columns</p>\n",
       "</div>"
      ],
      "text/plain": [
       "state_id       CA       TX       WI\n",
       "d_1       14195.0   9438.0   8998.0\n",
       "d_2       13805.0   9630.0   8314.0\n",
       "d_3       10108.0   6778.0   6897.0\n",
       "d_4       11047.0   7381.0   6984.0\n",
       "d_5        9925.0   5912.0   3309.0\n",
       "...           ...      ...      ...\n",
       "d_1909    15148.0   9600.0  10595.0\n",
       "d_1910    14488.0   9602.0  10943.0\n",
       "d_1911    17095.0  10615.0  12807.0\n",
       "d_1912    21834.0  12266.0  14862.0\n",
       "d_1913    23187.0  12282.0  14326.0\n",
       "\n",
       "[1913 rows x 3 columns]"
      ]
     },
     "execution_count": 33,
     "metadata": {},
     "output_type": "execute_result"
    }
   ],
   "source": [
    "df_states.T"
   ]
  },
  {
   "cell_type": "markdown",
   "id": "969fd734",
   "metadata": {
    "papermill": {
     "duration": 0.029689,
     "end_time": "2022-12-08T06:16:00.995272",
     "exception": false,
     "start_time": "2022-12-08T06:16:00.965583",
     "status": "completed"
    },
    "tags": []
   },
   "source": [
    "## Merge DF states with Calendar"
   ]
  },
  {
   "cell_type": "code",
   "execution_count": 34,
   "id": "2aed0f68",
   "metadata": {
    "execution": {
     "iopub.execute_input": "2022-12-08T06:16:01.055104Z",
     "iopub.status.busy": "2022-12-08T06:16:01.054690Z",
     "iopub.status.idle": "2022-12-08T06:16:01.060594Z",
     "shell.execute_reply": "2022-12-08T06:16:01.059515Z"
    },
    "papermill": {
     "duration": 0.038194,
     "end_time": "2022-12-08T06:16:01.062942",
     "exception": false,
     "start_time": "2022-12-08T06:16:01.024748",
     "status": "completed"
    },
    "tags": []
   },
   "outputs": [],
   "source": [
    "def merge_df():\n",
    "    states = df_states.T\n",
    "    sales_df = pd.merge(states, df_calendar, left_index = True, right_index = True)\n",
    "    sales_df = sales_df.reset_index()\n",
    "    sales_df['date'] = pd.to_datetime(sales_df['date'])\n",
    "    sales_df.set_index('date', inplace = True)\n",
    "    sales_df.drop(['index'], axis=1, inplace=True)\n",
    "    return sales_df"
   ]
  },
  {
   "cell_type": "code",
   "execution_count": 35,
   "id": "09231bdd",
   "metadata": {
    "execution": {
     "iopub.execute_input": "2022-12-08T06:16:01.123606Z",
     "iopub.status.busy": "2022-12-08T06:16:01.123179Z",
     "iopub.status.idle": "2022-12-08T06:16:01.163985Z",
     "shell.execute_reply": "2022-12-08T06:16:01.162168Z"
    },
    "papermill": {
     "duration": 0.074603,
     "end_time": "2022-12-08T06:16:01.166616",
     "exception": false,
     "start_time": "2022-12-08T06:16:01.092013",
     "status": "completed"
    },
    "tags": []
   },
   "outputs": [
    {
     "data": {
      "text/html": [
       "<div>\n",
       "<style scoped>\n",
       "    .dataframe tbody tr th:only-of-type {\n",
       "        vertical-align: middle;\n",
       "    }\n",
       "\n",
       "    .dataframe tbody tr th {\n",
       "        vertical-align: top;\n",
       "    }\n",
       "\n",
       "    .dataframe thead th {\n",
       "        text-align: right;\n",
       "    }\n",
       "</style>\n",
       "<table border=\"1\" class=\"dataframe\">\n",
       "  <thead>\n",
       "    <tr style=\"text-align: right;\">\n",
       "      <th></th>\n",
       "      <th>CA</th>\n",
       "      <th>TX</th>\n",
       "      <th>WI</th>\n",
       "      <th>weekday</th>\n",
       "      <th>event_type_1</th>\n",
       "      <th>snap_CA</th>\n",
       "      <th>snap_TX</th>\n",
       "      <th>snap_WI</th>\n",
       "      <th>state</th>\n",
       "      <th>sales_price_min</th>\n",
       "      <th>sales_price_max</th>\n",
       "      <th>sales_price_mean</th>\n",
       "    </tr>\n",
       "    <tr>\n",
       "      <th>date</th>\n",
       "      <th></th>\n",
       "      <th></th>\n",
       "      <th></th>\n",
       "      <th></th>\n",
       "      <th></th>\n",
       "      <th></th>\n",
       "      <th></th>\n",
       "      <th></th>\n",
       "      <th></th>\n",
       "      <th></th>\n",
       "      <th></th>\n",
       "      <th></th>\n",
       "    </tr>\n",
       "  </thead>\n",
       "  <tbody>\n",
       "    <tr>\n",
       "      <th>2011-01-29</th>\n",
       "      <td>14195.0</td>\n",
       "      <td>9438.0</td>\n",
       "      <td>8998.0</td>\n",
       "      <td>Saturday</td>\n",
       "      <td>Daily</td>\n",
       "      <td>0</td>\n",
       "      <td>0</td>\n",
       "      <td>0</td>\n",
       "      <td>CA</td>\n",
       "      <td>0.199951</td>\n",
       "      <td>22.0</td>\n",
       "      <td>4.109375</td>\n",
       "    </tr>\n",
       "    <tr>\n",
       "      <th>2011-01-29</th>\n",
       "      <td>14195.0</td>\n",
       "      <td>9438.0</td>\n",
       "      <td>8998.0</td>\n",
       "      <td>Saturday</td>\n",
       "      <td>Daily</td>\n",
       "      <td>0</td>\n",
       "      <td>0</td>\n",
       "      <td>0</td>\n",
       "      <td>TX</td>\n",
       "      <td>0.199951</td>\n",
       "      <td>22.0</td>\n",
       "      <td>3.990234</td>\n",
       "    </tr>\n",
       "    <tr>\n",
       "      <th>2011-01-29</th>\n",
       "      <td>14195.0</td>\n",
       "      <td>9438.0</td>\n",
       "      <td>8998.0</td>\n",
       "      <td>Saturday</td>\n",
       "      <td>Daily</td>\n",
       "      <td>0</td>\n",
       "      <td>0</td>\n",
       "      <td>0</td>\n",
       "      <td>WI</td>\n",
       "      <td>0.199951</td>\n",
       "      <td>22.0</td>\n",
       "      <td>4.109375</td>\n",
       "    </tr>\n",
       "    <tr>\n",
       "      <th>2011-02-07</th>\n",
       "      <td>11822.0</td>\n",
       "      <td>7319.0</td>\n",
       "      <td>6431.0</td>\n",
       "      <td>Monday</td>\n",
       "      <td>Daily</td>\n",
       "      <td>1</td>\n",
       "      <td>1</td>\n",
       "      <td>0</td>\n",
       "      <td>CA</td>\n",
       "      <td>0.199951</td>\n",
       "      <td>22.0</td>\n",
       "      <td>4.175781</td>\n",
       "    </tr>\n",
       "    <tr>\n",
       "      <th>2011-02-07</th>\n",
       "      <td>11822.0</td>\n",
       "      <td>7319.0</td>\n",
       "      <td>6431.0</td>\n",
       "      <td>Monday</td>\n",
       "      <td>Daily</td>\n",
       "      <td>1</td>\n",
       "      <td>1</td>\n",
       "      <td>0</td>\n",
       "      <td>TX</td>\n",
       "      <td>0.199951</td>\n",
       "      <td>28.0</td>\n",
       "      <td>4.074219</td>\n",
       "    </tr>\n",
       "  </tbody>\n",
       "</table>\n",
       "</div>"
      ],
      "text/plain": [
       "                 CA      TX      WI   weekday event_type_1  snap_CA  snap_TX  \\\n",
       "date                                                                           \n",
       "2011-01-29  14195.0  9438.0  8998.0  Saturday        Daily        0        0   \n",
       "2011-01-29  14195.0  9438.0  8998.0  Saturday        Daily        0        0   \n",
       "2011-01-29  14195.0  9438.0  8998.0  Saturday        Daily        0        0   \n",
       "2011-02-07  11822.0  7319.0  6431.0    Monday        Daily        1        1   \n",
       "2011-02-07  11822.0  7319.0  6431.0    Monday        Daily        1        1   \n",
       "\n",
       "            snap_WI state  sales_price_min  sales_price_max  sales_price_mean  \n",
       "date                                                                           \n",
       "2011-01-29        0    CA         0.199951             22.0          4.109375  \n",
       "2011-01-29        0    TX         0.199951             22.0          3.990234  \n",
       "2011-01-29        0    WI         0.199951             22.0          4.109375  \n",
       "2011-02-07        0    CA         0.199951             22.0          4.175781  \n",
       "2011-02-07        0    TX         0.199951             28.0          4.074219  "
      ]
     },
     "execution_count": 35,
     "metadata": {},
     "output_type": "execute_result"
    }
   ],
   "source": [
    "sales_df = merge_df()\n",
    "sales_df.head()"
   ]
  },
  {
   "cell_type": "code",
   "execution_count": 36,
   "id": "b75df5b2",
   "metadata": {
    "execution": {
     "iopub.execute_input": "2022-12-08T06:16:01.225571Z",
     "iopub.status.busy": "2022-12-08T06:16:01.225217Z",
     "iopub.status.idle": "2022-12-08T06:16:01.232803Z",
     "shell.execute_reply": "2022-12-08T06:16:01.231347Z"
    },
    "papermill": {
     "duration": 0.040102,
     "end_time": "2022-12-08T06:16:01.235262",
     "exception": false,
     "start_time": "2022-12-08T06:16:01.195160",
     "status": "completed"
    },
    "tags": []
   },
   "outputs": [
    {
     "data": {
      "text/plain": [
       "(5739, 12)"
      ]
     },
     "execution_count": 36,
     "metadata": {},
     "output_type": "execute_result"
    }
   ],
   "source": [
    "sales_df.shape"
   ]
  },
  {
   "cell_type": "markdown",
   "id": "3695cdb6",
   "metadata": {
    "papermill": {
     "duration": 0.030092,
     "end_time": "2022-12-08T06:16:01.295025",
     "exception": false,
     "start_time": "2022-12-08T06:16:01.264933",
     "status": "completed"
    },
    "tags": []
   },
   "source": [
    "## Feature Engineering"
   ]
  },
  {
   "cell_type": "code",
   "execution_count": 37,
   "id": "1ac98e94",
   "metadata": {
    "execution": {
     "iopub.execute_input": "2022-12-08T06:16:01.360928Z",
     "iopub.status.busy": "2022-12-08T06:16:01.360463Z",
     "iopub.status.idle": "2022-12-08T06:16:01.394074Z",
     "shell.execute_reply": "2022-12-08T06:16:01.392508Z"
    },
    "papermill": {
     "duration": 0.070635,
     "end_time": "2022-12-08T06:16:01.396780",
     "exception": false,
     "start_time": "2022-12-08T06:16:01.326145",
     "status": "completed"
    },
    "tags": []
   },
   "outputs": [
    {
     "data": {
      "text/html": [
       "<div>\n",
       "<style scoped>\n",
       "    .dataframe tbody tr th:only-of-type {\n",
       "        vertical-align: middle;\n",
       "    }\n",
       "\n",
       "    .dataframe tbody tr th {\n",
       "        vertical-align: top;\n",
       "    }\n",
       "\n",
       "    .dataframe thead th {\n",
       "        text-align: right;\n",
       "    }\n",
       "</style>\n",
       "<table border=\"1\" class=\"dataframe\">\n",
       "  <thead>\n",
       "    <tr style=\"text-align: right;\">\n",
       "      <th></th>\n",
       "      <th>CA</th>\n",
       "      <th>TX</th>\n",
       "      <th>WI</th>\n",
       "      <th>snap_CA</th>\n",
       "      <th>snap_TX</th>\n",
       "      <th>snap_WI</th>\n",
       "      <th>sales_price_min</th>\n",
       "      <th>sales_price_max</th>\n",
       "      <th>sales_price_mean</th>\n",
       "      <th>weekday_Friday</th>\n",
       "      <th>...</th>\n",
       "      <th>weekday_Tuesday</th>\n",
       "      <th>weekday_Wednesday</th>\n",
       "      <th>event_type_1_Cultural</th>\n",
       "      <th>event_type_1_Daily</th>\n",
       "      <th>event_type_1_National</th>\n",
       "      <th>event_type_1_Religious</th>\n",
       "      <th>event_type_1_Sporting</th>\n",
       "      <th>state_CA</th>\n",
       "      <th>state_TX</th>\n",
       "      <th>state_WI</th>\n",
       "    </tr>\n",
       "    <tr>\n",
       "      <th>date</th>\n",
       "      <th></th>\n",
       "      <th></th>\n",
       "      <th></th>\n",
       "      <th></th>\n",
       "      <th></th>\n",
       "      <th></th>\n",
       "      <th></th>\n",
       "      <th></th>\n",
       "      <th></th>\n",
       "      <th></th>\n",
       "      <th></th>\n",
       "      <th></th>\n",
       "      <th></th>\n",
       "      <th></th>\n",
       "      <th></th>\n",
       "      <th></th>\n",
       "      <th></th>\n",
       "      <th></th>\n",
       "      <th></th>\n",
       "      <th></th>\n",
       "      <th></th>\n",
       "    </tr>\n",
       "  </thead>\n",
       "  <tbody>\n",
       "    <tr>\n",
       "      <th>2011-01-29</th>\n",
       "      <td>14195.0</td>\n",
       "      <td>9438.0</td>\n",
       "      <td>8998.0</td>\n",
       "      <td>0</td>\n",
       "      <td>0</td>\n",
       "      <td>0</td>\n",
       "      <td>0.199951</td>\n",
       "      <td>22.0</td>\n",
       "      <td>4.109375</td>\n",
       "      <td>0</td>\n",
       "      <td>...</td>\n",
       "      <td>0</td>\n",
       "      <td>0</td>\n",
       "      <td>0</td>\n",
       "      <td>1</td>\n",
       "      <td>0</td>\n",
       "      <td>0</td>\n",
       "      <td>0</td>\n",
       "      <td>1</td>\n",
       "      <td>0</td>\n",
       "      <td>0</td>\n",
       "    </tr>\n",
       "    <tr>\n",
       "      <th>2011-01-29</th>\n",
       "      <td>14195.0</td>\n",
       "      <td>9438.0</td>\n",
       "      <td>8998.0</td>\n",
       "      <td>0</td>\n",
       "      <td>0</td>\n",
       "      <td>0</td>\n",
       "      <td>0.199951</td>\n",
       "      <td>22.0</td>\n",
       "      <td>3.990234</td>\n",
       "      <td>0</td>\n",
       "      <td>...</td>\n",
       "      <td>0</td>\n",
       "      <td>0</td>\n",
       "      <td>0</td>\n",
       "      <td>1</td>\n",
       "      <td>0</td>\n",
       "      <td>0</td>\n",
       "      <td>0</td>\n",
       "      <td>0</td>\n",
       "      <td>1</td>\n",
       "      <td>0</td>\n",
       "    </tr>\n",
       "    <tr>\n",
       "      <th>2011-01-29</th>\n",
       "      <td>14195.0</td>\n",
       "      <td>9438.0</td>\n",
       "      <td>8998.0</td>\n",
       "      <td>0</td>\n",
       "      <td>0</td>\n",
       "      <td>0</td>\n",
       "      <td>0.199951</td>\n",
       "      <td>22.0</td>\n",
       "      <td>4.109375</td>\n",
       "      <td>0</td>\n",
       "      <td>...</td>\n",
       "      <td>0</td>\n",
       "      <td>0</td>\n",
       "      <td>0</td>\n",
       "      <td>1</td>\n",
       "      <td>0</td>\n",
       "      <td>0</td>\n",
       "      <td>0</td>\n",
       "      <td>0</td>\n",
       "      <td>0</td>\n",
       "      <td>1</td>\n",
       "    </tr>\n",
       "    <tr>\n",
       "      <th>2011-02-07</th>\n",
       "      <td>11822.0</td>\n",
       "      <td>7319.0</td>\n",
       "      <td>6431.0</td>\n",
       "      <td>1</td>\n",
       "      <td>1</td>\n",
       "      <td>0</td>\n",
       "      <td>0.199951</td>\n",
       "      <td>22.0</td>\n",
       "      <td>4.175781</td>\n",
       "      <td>0</td>\n",
       "      <td>...</td>\n",
       "      <td>0</td>\n",
       "      <td>0</td>\n",
       "      <td>0</td>\n",
       "      <td>1</td>\n",
       "      <td>0</td>\n",
       "      <td>0</td>\n",
       "      <td>0</td>\n",
       "      <td>1</td>\n",
       "      <td>0</td>\n",
       "      <td>0</td>\n",
       "    </tr>\n",
       "    <tr>\n",
       "      <th>2011-02-07</th>\n",
       "      <td>11822.0</td>\n",
       "      <td>7319.0</td>\n",
       "      <td>6431.0</td>\n",
       "      <td>1</td>\n",
       "      <td>1</td>\n",
       "      <td>0</td>\n",
       "      <td>0.199951</td>\n",
       "      <td>28.0</td>\n",
       "      <td>4.074219</td>\n",
       "      <td>0</td>\n",
       "      <td>...</td>\n",
       "      <td>0</td>\n",
       "      <td>0</td>\n",
       "      <td>0</td>\n",
       "      <td>1</td>\n",
       "      <td>0</td>\n",
       "      <td>0</td>\n",
       "      <td>0</td>\n",
       "      <td>0</td>\n",
       "      <td>1</td>\n",
       "      <td>0</td>\n",
       "    </tr>\n",
       "  </tbody>\n",
       "</table>\n",
       "<p>5 rows × 24 columns</p>\n",
       "</div>"
      ],
      "text/plain": [
       "                 CA      TX      WI  snap_CA  snap_TX  snap_WI  \\\n",
       "date                                                             \n",
       "2011-01-29  14195.0  9438.0  8998.0        0        0        0   \n",
       "2011-01-29  14195.0  9438.0  8998.0        0        0        0   \n",
       "2011-01-29  14195.0  9438.0  8998.0        0        0        0   \n",
       "2011-02-07  11822.0  7319.0  6431.0        1        1        0   \n",
       "2011-02-07  11822.0  7319.0  6431.0        1        1        0   \n",
       "\n",
       "            sales_price_min  sales_price_max  sales_price_mean  \\\n",
       "date                                                             \n",
       "2011-01-29         0.199951             22.0          4.109375   \n",
       "2011-01-29         0.199951             22.0          3.990234   \n",
       "2011-01-29         0.199951             22.0          4.109375   \n",
       "2011-02-07         0.199951             22.0          4.175781   \n",
       "2011-02-07         0.199951             28.0          4.074219   \n",
       "\n",
       "            weekday_Friday  ...  weekday_Tuesday  weekday_Wednesday  \\\n",
       "date                        ...                                       \n",
       "2011-01-29               0  ...                0                  0   \n",
       "2011-01-29               0  ...                0                  0   \n",
       "2011-01-29               0  ...                0                  0   \n",
       "2011-02-07               0  ...                0                  0   \n",
       "2011-02-07               0  ...                0                  0   \n",
       "\n",
       "            event_type_1_Cultural  event_type_1_Daily  event_type_1_National  \\\n",
       "date                                                                           \n",
       "2011-01-29                      0                   1                      0   \n",
       "2011-01-29                      0                   1                      0   \n",
       "2011-01-29                      0                   1                      0   \n",
       "2011-02-07                      0                   1                      0   \n",
       "2011-02-07                      0                   1                      0   \n",
       "\n",
       "            event_type_1_Religious  event_type_1_Sporting  state_CA  state_TX  \\\n",
       "date                                                                            \n",
       "2011-01-29                       0                      0         1         0   \n",
       "2011-01-29                       0                      0         0         1   \n",
       "2011-01-29                       0                      0         0         0   \n",
       "2011-02-07                       0                      0         1         0   \n",
       "2011-02-07                       0                      0         0         1   \n",
       "\n",
       "            state_WI  \n",
       "date                  \n",
       "2011-01-29         0  \n",
       "2011-01-29         0  \n",
       "2011-01-29         1  \n",
       "2011-02-07         0  \n",
       "2011-02-07         0  \n",
       "\n",
       "[5 rows x 24 columns]"
      ]
     },
     "execution_count": 37,
     "metadata": {},
     "output_type": "execute_result"
    }
   ],
   "source": [
    "sales_df = pd.get_dummies(sales_df, columns=['weekday', 'event_type_1', 'state'])\n",
    "sales_df.head()"
   ]
  },
  {
   "cell_type": "code",
   "execution_count": 38,
   "id": "11ae1da9",
   "metadata": {
    "execution": {
     "iopub.execute_input": "2022-12-08T06:16:01.458802Z",
     "iopub.status.busy": "2022-12-08T06:16:01.458355Z",
     "iopub.status.idle": "2022-12-08T06:16:01.481272Z",
     "shell.execute_reply": "2022-12-08T06:16:01.479542Z"
    },
    "papermill": {
     "duration": 0.056924,
     "end_time": "2022-12-08T06:16:01.484017",
     "exception": false,
     "start_time": "2022-12-08T06:16:01.427093",
     "status": "completed"
    },
    "tags": []
   },
   "outputs": [],
   "source": [
    "sales_df = downcast(sales_df)"
   ]
  },
  {
   "cell_type": "code",
   "execution_count": 39,
   "id": "475f882f",
   "metadata": {
    "execution": {
     "iopub.execute_input": "2022-12-08T06:16:01.543952Z",
     "iopub.status.busy": "2022-12-08T06:16:01.543560Z",
     "iopub.status.idle": "2022-12-08T06:16:01.551232Z",
     "shell.execute_reply": "2022-12-08T06:16:01.549548Z"
    },
    "papermill": {
     "duration": 0.040592,
     "end_time": "2022-12-08T06:16:01.553848",
     "exception": false,
     "start_time": "2022-12-08T06:16:01.513256",
     "status": "completed"
    },
    "tags": []
   },
   "outputs": [
    {
     "data": {
      "text/plain": [
       "(5739, 24)"
      ]
     },
     "execution_count": 39,
     "metadata": {},
     "output_type": "execute_result"
    }
   ],
   "source": [
    "sales_df.shape"
   ]
  },
  {
   "cell_type": "code",
   "execution_count": 40,
   "id": "c261c8b1",
   "metadata": {
    "execution": {
     "iopub.execute_input": "2022-12-08T06:16:01.618826Z",
     "iopub.status.busy": "2022-12-08T06:16:01.618319Z",
     "iopub.status.idle": "2022-12-08T06:16:01.628424Z",
     "shell.execute_reply": "2022-12-08T06:16:01.627057Z"
    },
    "papermill": {
     "duration": 0.045478,
     "end_time": "2022-12-08T06:16:01.631008",
     "exception": false,
     "start_time": "2022-12-08T06:16:01.585530",
     "status": "completed"
    },
    "tags": []
   },
   "outputs": [
    {
     "data": {
      "text/plain": [
       "Timestamp('2011-01-29 00:00:00')"
      ]
     },
     "execution_count": 40,
     "metadata": {},
     "output_type": "execute_result"
    }
   ],
   "source": [
    "sales_df.index.min()"
   ]
  },
  {
   "cell_type": "code",
   "execution_count": 41,
   "id": "f6ac6cdd",
   "metadata": {
    "execution": {
     "iopub.execute_input": "2022-12-08T06:16:01.695706Z",
     "iopub.status.busy": "2022-12-08T06:16:01.695240Z",
     "iopub.status.idle": "2022-12-08T06:16:01.703530Z",
     "shell.execute_reply": "2022-12-08T06:16:01.702612Z"
    },
    "papermill": {
     "duration": 0.041795,
     "end_time": "2022-12-08T06:16:01.705557",
     "exception": false,
     "start_time": "2022-12-08T06:16:01.663762",
     "status": "completed"
    },
    "tags": []
   },
   "outputs": [
    {
     "data": {
      "text/plain": [
       "Timestamp('2016-04-24 00:00:00')"
      ]
     },
     "execution_count": 41,
     "metadata": {},
     "output_type": "execute_result"
    }
   ],
   "source": [
    "sales_df.index.max()"
   ]
  },
  {
   "cell_type": "code",
   "execution_count": 42,
   "id": "3af2c464",
   "metadata": {
    "execution": {
     "iopub.execute_input": "2022-12-08T06:16:01.768838Z",
     "iopub.status.busy": "2022-12-08T06:16:01.768463Z",
     "iopub.status.idle": "2022-12-08T06:16:01.784825Z",
     "shell.execute_reply": "2022-12-08T06:16:01.783025Z"
    },
    "papermill": {
     "duration": 0.051756,
     "end_time": "2022-12-08T06:16:01.788021",
     "exception": false,
     "start_time": "2022-12-08T06:16:01.736265",
     "status": "completed"
    },
    "tags": []
   },
   "outputs": [
    {
     "data": {
      "text/plain": [
       "0"
      ]
     },
     "execution_count": 42,
     "metadata": {},
     "output_type": "execute_result"
    }
   ],
   "source": [
    "sales_df.duplicated().sum()"
   ]
  },
  {
   "cell_type": "code",
   "execution_count": 43,
   "id": "1cfe0528",
   "metadata": {
    "execution": {
     "iopub.execute_input": "2022-12-08T06:16:01.852659Z",
     "iopub.status.busy": "2022-12-08T06:16:01.852284Z",
     "iopub.status.idle": "2022-12-08T06:16:01.861069Z",
     "shell.execute_reply": "2022-12-08T06:16:01.859428Z"
    },
    "papermill": {
     "duration": 0.043482,
     "end_time": "2022-12-08T06:16:01.863857",
     "exception": false,
     "start_time": "2022-12-08T06:16:01.820375",
     "status": "completed"
    },
    "tags": []
   },
   "outputs": [],
   "source": [
    "sales_df.sort_index(inplace = True)"
   ]
  },
  {
   "cell_type": "markdown",
   "id": "4dc0cbf1",
   "metadata": {
    "papermill": {
     "duration": 0.028513,
     "end_time": "2022-12-08T06:16:01.922230",
     "exception": false,
     "start_time": "2022-12-08T06:16:01.893717",
     "status": "completed"
    },
    "tags": []
   },
   "source": [
    "### Keep 2016 onwards for test set."
   ]
  },
  {
   "cell_type": "code",
   "execution_count": 44,
   "id": "7ea205bd",
   "metadata": {
    "execution": {
     "iopub.execute_input": "2022-12-08T06:16:01.983994Z",
     "iopub.status.busy": "2022-12-08T06:16:01.983014Z",
     "iopub.status.idle": "2022-12-08T06:16:01.990842Z",
     "shell.execute_reply": "2022-12-08T06:16:01.989715Z"
    },
    "papermill": {
     "duration": 0.041473,
     "end_time": "2022-12-08T06:16:01.993467",
     "exception": false,
     "start_time": "2022-12-08T06:16:01.951994",
     "status": "completed"
    },
    "tags": []
   },
   "outputs": [],
   "source": [
    "sales_df_test = sales_df[pd.to_datetime('2016-01-01'):]"
   ]
  },
  {
   "cell_type": "code",
   "execution_count": 45,
   "id": "31028501",
   "metadata": {
    "execution": {
     "iopub.execute_input": "2022-12-08T06:16:02.058361Z",
     "iopub.status.busy": "2022-12-08T06:16:02.057565Z",
     "iopub.status.idle": "2022-12-08T06:16:02.081213Z",
     "shell.execute_reply": "2022-12-08T06:16:02.080460Z"
    },
    "papermill": {
     "duration": 0.058445,
     "end_time": "2022-12-08T06:16:02.083198",
     "exception": false,
     "start_time": "2022-12-08T06:16:02.024753",
     "status": "completed"
    },
    "tags": []
   },
   "outputs": [
    {
     "data": {
      "text/html": [
       "<div>\n",
       "<style scoped>\n",
       "    .dataframe tbody tr th:only-of-type {\n",
       "        vertical-align: middle;\n",
       "    }\n",
       "\n",
       "    .dataframe tbody tr th {\n",
       "        vertical-align: top;\n",
       "    }\n",
       "\n",
       "    .dataframe thead th {\n",
       "        text-align: right;\n",
       "    }\n",
       "</style>\n",
       "<table border=\"1\" class=\"dataframe\">\n",
       "  <thead>\n",
       "    <tr style=\"text-align: right;\">\n",
       "      <th></th>\n",
       "      <th>CA</th>\n",
       "      <th>TX</th>\n",
       "      <th>WI</th>\n",
       "      <th>snap_CA</th>\n",
       "      <th>snap_TX</th>\n",
       "      <th>snap_WI</th>\n",
       "      <th>sales_price_min</th>\n",
       "      <th>sales_price_max</th>\n",
       "      <th>sales_price_mean</th>\n",
       "      <th>weekday_Friday</th>\n",
       "      <th>...</th>\n",
       "      <th>weekday_Tuesday</th>\n",
       "      <th>weekday_Wednesday</th>\n",
       "      <th>event_type_1_Cultural</th>\n",
       "      <th>event_type_1_Daily</th>\n",
       "      <th>event_type_1_National</th>\n",
       "      <th>event_type_1_Religious</th>\n",
       "      <th>event_type_1_Sporting</th>\n",
       "      <th>state_CA</th>\n",
       "      <th>state_TX</th>\n",
       "      <th>state_WI</th>\n",
       "    </tr>\n",
       "    <tr>\n",
       "      <th>date</th>\n",
       "      <th></th>\n",
       "      <th></th>\n",
       "      <th></th>\n",
       "      <th></th>\n",
       "      <th></th>\n",
       "      <th></th>\n",
       "      <th></th>\n",
       "      <th></th>\n",
       "      <th></th>\n",
       "      <th></th>\n",
       "      <th></th>\n",
       "      <th></th>\n",
       "      <th></th>\n",
       "      <th></th>\n",
       "      <th></th>\n",
       "      <th></th>\n",
       "      <th></th>\n",
       "      <th></th>\n",
       "      <th></th>\n",
       "      <th></th>\n",
       "      <th></th>\n",
       "    </tr>\n",
       "  </thead>\n",
       "  <tbody>\n",
       "    <tr>\n",
       "      <th>2016-01-01</th>\n",
       "      <td>13360.0</td>\n",
       "      <td>8848.0</td>\n",
       "      <td>10440.0</td>\n",
       "      <td>1</td>\n",
       "      <td>1</td>\n",
       "      <td>0</td>\n",
       "      <td>0.199951</td>\n",
       "      <td>29.96875</td>\n",
       "      <td>4.503906</td>\n",
       "      <td>1</td>\n",
       "      <td>...</td>\n",
       "      <td>0</td>\n",
       "      <td>0</td>\n",
       "      <td>0</td>\n",
       "      <td>0</td>\n",
       "      <td>1</td>\n",
       "      <td>0</td>\n",
       "      <td>0</td>\n",
       "      <td>0</td>\n",
       "      <td>0</td>\n",
       "      <td>1</td>\n",
       "    </tr>\n",
       "    <tr>\n",
       "      <th>2016-01-01</th>\n",
       "      <td>13360.0</td>\n",
       "      <td>8848.0</td>\n",
       "      <td>10440.0</td>\n",
       "      <td>1</td>\n",
       "      <td>1</td>\n",
       "      <td>0</td>\n",
       "      <td>0.199951</td>\n",
       "      <td>29.96875</td>\n",
       "      <td>4.488281</td>\n",
       "      <td>1</td>\n",
       "      <td>...</td>\n",
       "      <td>0</td>\n",
       "      <td>0</td>\n",
       "      <td>0</td>\n",
       "      <td>0</td>\n",
       "      <td>1</td>\n",
       "      <td>0</td>\n",
       "      <td>0</td>\n",
       "      <td>1</td>\n",
       "      <td>0</td>\n",
       "      <td>0</td>\n",
       "    </tr>\n",
       "    <tr>\n",
       "      <th>2016-01-01</th>\n",
       "      <td>13360.0</td>\n",
       "      <td>8848.0</td>\n",
       "      <td>10440.0</td>\n",
       "      <td>1</td>\n",
       "      <td>1</td>\n",
       "      <td>0</td>\n",
       "      <td>0.199951</td>\n",
       "      <td>29.96875</td>\n",
       "      <td>4.460938</td>\n",
       "      <td>1</td>\n",
       "      <td>...</td>\n",
       "      <td>0</td>\n",
       "      <td>0</td>\n",
       "      <td>0</td>\n",
       "      <td>0</td>\n",
       "      <td>1</td>\n",
       "      <td>0</td>\n",
       "      <td>0</td>\n",
       "      <td>0</td>\n",
       "      <td>1</td>\n",
       "      <td>0</td>\n",
       "    </tr>\n",
       "    <tr>\n",
       "      <th>2016-01-02</th>\n",
       "      <td>19056.0</td>\n",
       "      <td>10408.0</td>\n",
       "      <td>15272.0</td>\n",
       "      <td>1</td>\n",
       "      <td>0</td>\n",
       "      <td>1</td>\n",
       "      <td>0.199951</td>\n",
       "      <td>29.96875</td>\n",
       "      <td>4.460938</td>\n",
       "      <td>0</td>\n",
       "      <td>...</td>\n",
       "      <td>0</td>\n",
       "      <td>0</td>\n",
       "      <td>0</td>\n",
       "      <td>1</td>\n",
       "      <td>0</td>\n",
       "      <td>0</td>\n",
       "      <td>0</td>\n",
       "      <td>0</td>\n",
       "      <td>1</td>\n",
       "      <td>0</td>\n",
       "    </tr>\n",
       "    <tr>\n",
       "      <th>2016-01-02</th>\n",
       "      <td>19056.0</td>\n",
       "      <td>10408.0</td>\n",
       "      <td>15272.0</td>\n",
       "      <td>1</td>\n",
       "      <td>0</td>\n",
       "      <td>1</td>\n",
       "      <td>0.199951</td>\n",
       "      <td>29.96875</td>\n",
       "      <td>4.503906</td>\n",
       "      <td>0</td>\n",
       "      <td>...</td>\n",
       "      <td>0</td>\n",
       "      <td>0</td>\n",
       "      <td>0</td>\n",
       "      <td>1</td>\n",
       "      <td>0</td>\n",
       "      <td>0</td>\n",
       "      <td>0</td>\n",
       "      <td>0</td>\n",
       "      <td>0</td>\n",
       "      <td>1</td>\n",
       "    </tr>\n",
       "  </tbody>\n",
       "</table>\n",
       "<p>5 rows × 24 columns</p>\n",
       "</div>"
      ],
      "text/plain": [
       "                 CA       TX       WI  snap_CA  snap_TX  snap_WI  \\\n",
       "date                                                               \n",
       "2016-01-01  13360.0   8848.0  10440.0        1        1        0   \n",
       "2016-01-01  13360.0   8848.0  10440.0        1        1        0   \n",
       "2016-01-01  13360.0   8848.0  10440.0        1        1        0   \n",
       "2016-01-02  19056.0  10408.0  15272.0        1        0        1   \n",
       "2016-01-02  19056.0  10408.0  15272.0        1        0        1   \n",
       "\n",
       "            sales_price_min  sales_price_max  sales_price_mean  \\\n",
       "date                                                             \n",
       "2016-01-01         0.199951         29.96875          4.503906   \n",
       "2016-01-01         0.199951         29.96875          4.488281   \n",
       "2016-01-01         0.199951         29.96875          4.460938   \n",
       "2016-01-02         0.199951         29.96875          4.460938   \n",
       "2016-01-02         0.199951         29.96875          4.503906   \n",
       "\n",
       "            weekday_Friday  ...  weekday_Tuesday  weekday_Wednesday  \\\n",
       "date                        ...                                       \n",
       "2016-01-01               1  ...                0                  0   \n",
       "2016-01-01               1  ...                0                  0   \n",
       "2016-01-01               1  ...                0                  0   \n",
       "2016-01-02               0  ...                0                  0   \n",
       "2016-01-02               0  ...                0                  0   \n",
       "\n",
       "            event_type_1_Cultural  event_type_1_Daily  event_type_1_National  \\\n",
       "date                                                                           \n",
       "2016-01-01                      0                   0                      1   \n",
       "2016-01-01                      0                   0                      1   \n",
       "2016-01-01                      0                   0                      1   \n",
       "2016-01-02                      0                   1                      0   \n",
       "2016-01-02                      0                   1                      0   \n",
       "\n",
       "            event_type_1_Religious  event_type_1_Sporting  state_CA  state_TX  \\\n",
       "date                                                                            \n",
       "2016-01-01                       0                      0         0         0   \n",
       "2016-01-01                       0                      0         1         0   \n",
       "2016-01-01                       0                      0         0         1   \n",
       "2016-01-02                       0                      0         0         1   \n",
       "2016-01-02                       0                      0         0         0   \n",
       "\n",
       "            state_WI  \n",
       "date                  \n",
       "2016-01-01         1  \n",
       "2016-01-01         0  \n",
       "2016-01-01         0  \n",
       "2016-01-02         0  \n",
       "2016-01-02         1  \n",
       "\n",
       "[5 rows x 24 columns]"
      ]
     },
     "execution_count": 45,
     "metadata": {},
     "output_type": "execute_result"
    }
   ],
   "source": [
    "sales_df_test.head()"
   ]
  },
  {
   "cell_type": "code",
   "execution_count": 46,
   "id": "61b7349d",
   "metadata": {
    "execution": {
     "iopub.execute_input": "2022-12-08T06:16:02.146227Z",
     "iopub.status.busy": "2022-12-08T06:16:02.145844Z",
     "iopub.status.idle": "2022-12-08T06:16:02.172302Z",
     "shell.execute_reply": "2022-12-08T06:16:02.171015Z"
    },
    "papermill": {
     "duration": 0.060562,
     "end_time": "2022-12-08T06:16:02.174541",
     "exception": false,
     "start_time": "2022-12-08T06:16:02.113979",
     "status": "completed"
    },
    "tags": []
   },
   "outputs": [
    {
     "data": {
      "text/html": [
       "<div>\n",
       "<style scoped>\n",
       "    .dataframe tbody tr th:only-of-type {\n",
       "        vertical-align: middle;\n",
       "    }\n",
       "\n",
       "    .dataframe tbody tr th {\n",
       "        vertical-align: top;\n",
       "    }\n",
       "\n",
       "    .dataframe thead th {\n",
       "        text-align: right;\n",
       "    }\n",
       "</style>\n",
       "<table border=\"1\" class=\"dataframe\">\n",
       "  <thead>\n",
       "    <tr style=\"text-align: right;\">\n",
       "      <th></th>\n",
       "      <th>CA</th>\n",
       "      <th>TX</th>\n",
       "      <th>WI</th>\n",
       "      <th>snap_CA</th>\n",
       "      <th>snap_TX</th>\n",
       "      <th>snap_WI</th>\n",
       "      <th>sales_price_min</th>\n",
       "      <th>sales_price_max</th>\n",
       "      <th>sales_price_mean</th>\n",
       "      <th>weekday_Friday</th>\n",
       "      <th>...</th>\n",
       "      <th>weekday_Tuesday</th>\n",
       "      <th>weekday_Wednesday</th>\n",
       "      <th>event_type_1_Cultural</th>\n",
       "      <th>event_type_1_Daily</th>\n",
       "      <th>event_type_1_National</th>\n",
       "      <th>event_type_1_Religious</th>\n",
       "      <th>event_type_1_Sporting</th>\n",
       "      <th>state_CA</th>\n",
       "      <th>state_TX</th>\n",
       "      <th>state_WI</th>\n",
       "    </tr>\n",
       "    <tr>\n",
       "      <th>date</th>\n",
       "      <th></th>\n",
       "      <th></th>\n",
       "      <th></th>\n",
       "      <th></th>\n",
       "      <th></th>\n",
       "      <th></th>\n",
       "      <th></th>\n",
       "      <th></th>\n",
       "      <th></th>\n",
       "      <th></th>\n",
       "      <th></th>\n",
       "      <th></th>\n",
       "      <th></th>\n",
       "      <th></th>\n",
       "      <th></th>\n",
       "      <th></th>\n",
       "      <th></th>\n",
       "      <th></th>\n",
       "      <th></th>\n",
       "      <th></th>\n",
       "      <th></th>\n",
       "    </tr>\n",
       "  </thead>\n",
       "  <tbody>\n",
       "    <tr>\n",
       "      <th>2015-12-30</th>\n",
       "      <td>14776.0</td>\n",
       "      <td>8736.0</td>\n",
       "      <td>10608.0</td>\n",
       "      <td>0</td>\n",
       "      <td>0</td>\n",
       "      <td>0</td>\n",
       "      <td>0.199951</td>\n",
       "      <td>29.96875</td>\n",
       "      <td>4.460938</td>\n",
       "      <td>0</td>\n",
       "      <td>...</td>\n",
       "      <td>0</td>\n",
       "      <td>1</td>\n",
       "      <td>0</td>\n",
       "      <td>1</td>\n",
       "      <td>0</td>\n",
       "      <td>0</td>\n",
       "      <td>0</td>\n",
       "      <td>0</td>\n",
       "      <td>1</td>\n",
       "      <td>0</td>\n",
       "    </tr>\n",
       "    <tr>\n",
       "      <th>2015-12-30</th>\n",
       "      <td>14776.0</td>\n",
       "      <td>8736.0</td>\n",
       "      <td>10608.0</td>\n",
       "      <td>0</td>\n",
       "      <td>0</td>\n",
       "      <td>0</td>\n",
       "      <td>0.199951</td>\n",
       "      <td>29.96875</td>\n",
       "      <td>4.503906</td>\n",
       "      <td>0</td>\n",
       "      <td>...</td>\n",
       "      <td>0</td>\n",
       "      <td>1</td>\n",
       "      <td>0</td>\n",
       "      <td>1</td>\n",
       "      <td>0</td>\n",
       "      <td>0</td>\n",
       "      <td>0</td>\n",
       "      <td>0</td>\n",
       "      <td>0</td>\n",
       "      <td>1</td>\n",
       "    </tr>\n",
       "    <tr>\n",
       "      <th>2015-12-31</th>\n",
       "      <td>16248.0</td>\n",
       "      <td>11160.0</td>\n",
       "      <td>15648.0</td>\n",
       "      <td>0</td>\n",
       "      <td>0</td>\n",
       "      <td>0</td>\n",
       "      <td>0.199951</td>\n",
       "      <td>29.96875</td>\n",
       "      <td>4.488281</td>\n",
       "      <td>0</td>\n",
       "      <td>...</td>\n",
       "      <td>0</td>\n",
       "      <td>0</td>\n",
       "      <td>0</td>\n",
       "      <td>1</td>\n",
       "      <td>0</td>\n",
       "      <td>0</td>\n",
       "      <td>0</td>\n",
       "      <td>1</td>\n",
       "      <td>0</td>\n",
       "      <td>0</td>\n",
       "    </tr>\n",
       "    <tr>\n",
       "      <th>2015-12-31</th>\n",
       "      <td>16248.0</td>\n",
       "      <td>11160.0</td>\n",
       "      <td>15648.0</td>\n",
       "      <td>0</td>\n",
       "      <td>0</td>\n",
       "      <td>0</td>\n",
       "      <td>0.199951</td>\n",
       "      <td>29.96875</td>\n",
       "      <td>4.460938</td>\n",
       "      <td>0</td>\n",
       "      <td>...</td>\n",
       "      <td>0</td>\n",
       "      <td>0</td>\n",
       "      <td>0</td>\n",
       "      <td>1</td>\n",
       "      <td>0</td>\n",
       "      <td>0</td>\n",
       "      <td>0</td>\n",
       "      <td>0</td>\n",
       "      <td>1</td>\n",
       "      <td>0</td>\n",
       "    </tr>\n",
       "    <tr>\n",
       "      <th>2015-12-31</th>\n",
       "      <td>16248.0</td>\n",
       "      <td>11160.0</td>\n",
       "      <td>15648.0</td>\n",
       "      <td>0</td>\n",
       "      <td>0</td>\n",
       "      <td>0</td>\n",
       "      <td>0.199951</td>\n",
       "      <td>29.96875</td>\n",
       "      <td>4.503906</td>\n",
       "      <td>0</td>\n",
       "      <td>...</td>\n",
       "      <td>0</td>\n",
       "      <td>0</td>\n",
       "      <td>0</td>\n",
       "      <td>1</td>\n",
       "      <td>0</td>\n",
       "      <td>0</td>\n",
       "      <td>0</td>\n",
       "      <td>0</td>\n",
       "      <td>0</td>\n",
       "      <td>1</td>\n",
       "    </tr>\n",
       "  </tbody>\n",
       "</table>\n",
       "<p>5 rows × 24 columns</p>\n",
       "</div>"
      ],
      "text/plain": [
       "                 CA       TX       WI  snap_CA  snap_TX  snap_WI  \\\n",
       "date                                                               \n",
       "2015-12-30  14776.0   8736.0  10608.0        0        0        0   \n",
       "2015-12-30  14776.0   8736.0  10608.0        0        0        0   \n",
       "2015-12-31  16248.0  11160.0  15648.0        0        0        0   \n",
       "2015-12-31  16248.0  11160.0  15648.0        0        0        0   \n",
       "2015-12-31  16248.0  11160.0  15648.0        0        0        0   \n",
       "\n",
       "            sales_price_min  sales_price_max  sales_price_mean  \\\n",
       "date                                                             \n",
       "2015-12-30         0.199951         29.96875          4.460938   \n",
       "2015-12-30         0.199951         29.96875          4.503906   \n",
       "2015-12-31         0.199951         29.96875          4.488281   \n",
       "2015-12-31         0.199951         29.96875          4.460938   \n",
       "2015-12-31         0.199951         29.96875          4.503906   \n",
       "\n",
       "            weekday_Friday  ...  weekday_Tuesday  weekday_Wednesday  \\\n",
       "date                        ...                                       \n",
       "2015-12-30               0  ...                0                  1   \n",
       "2015-12-30               0  ...                0                  1   \n",
       "2015-12-31               0  ...                0                  0   \n",
       "2015-12-31               0  ...                0                  0   \n",
       "2015-12-31               0  ...                0                  0   \n",
       "\n",
       "            event_type_1_Cultural  event_type_1_Daily  event_type_1_National  \\\n",
       "date                                                                           \n",
       "2015-12-30                      0                   1                      0   \n",
       "2015-12-30                      0                   1                      0   \n",
       "2015-12-31                      0                   1                      0   \n",
       "2015-12-31                      0                   1                      0   \n",
       "2015-12-31                      0                   1                      0   \n",
       "\n",
       "            event_type_1_Religious  event_type_1_Sporting  state_CA  state_TX  \\\n",
       "date                                                                            \n",
       "2015-12-30                       0                      0         0         1   \n",
       "2015-12-30                       0                      0         0         0   \n",
       "2015-12-31                       0                      0         1         0   \n",
       "2015-12-31                       0                      0         0         1   \n",
       "2015-12-31                       0                      0         0         0   \n",
       "\n",
       "            state_WI  \n",
       "date                  \n",
       "2015-12-30         0  \n",
       "2015-12-30         1  \n",
       "2015-12-31         0  \n",
       "2015-12-31         0  \n",
       "2015-12-31         1  \n",
       "\n",
       "[5 rows x 24 columns]"
      ]
     },
     "execution_count": 46,
     "metadata": {},
     "output_type": "execute_result"
    }
   ],
   "source": [
    "sales_df_train = sales_df[:pd.to_datetime('2015-12-31')]\n",
    "sales_df_train.tail()"
   ]
  },
  {
   "cell_type": "code",
   "execution_count": 47,
   "id": "34756bff",
   "metadata": {
    "execution": {
     "iopub.execute_input": "2022-12-08T06:16:02.238279Z",
     "iopub.status.busy": "2022-12-08T06:16:02.237921Z",
     "iopub.status.idle": "2022-12-08T06:16:02.246789Z",
     "shell.execute_reply": "2022-12-08T06:16:02.244962Z"
    },
    "papermill": {
     "duration": 0.043267,
     "end_time": "2022-12-08T06:16:02.249484",
     "exception": false,
     "start_time": "2022-12-08T06:16:02.206217",
     "status": "completed"
    },
    "tags": []
   },
   "outputs": [
    {
     "data": {
      "text/plain": [
       "(5394, 24)"
      ]
     },
     "execution_count": 47,
     "metadata": {},
     "output_type": "execute_result"
    }
   ],
   "source": [
    "sales_df_train.shape"
   ]
  },
  {
   "cell_type": "code",
   "execution_count": 48,
   "id": "47aa4db8",
   "metadata": {
    "execution": {
     "iopub.execute_input": "2022-12-08T06:16:02.316134Z",
     "iopub.status.busy": "2022-12-08T06:16:02.315748Z",
     "iopub.status.idle": "2022-12-08T06:16:02.321496Z",
     "shell.execute_reply": "2022-12-08T06:16:02.320548Z"
    },
    "papermill": {
     "duration": 0.042269,
     "end_time": "2022-12-08T06:16:02.323666",
     "exception": false,
     "start_time": "2022-12-08T06:16:02.281397",
     "status": "completed"
    },
    "tags": []
   },
   "outputs": [
    {
     "data": {
      "text/plain": [
       "(345, 24)"
      ]
     },
     "execution_count": 48,
     "metadata": {},
     "output_type": "execute_result"
    }
   ],
   "source": [
    "sales_df_test.shape"
   ]
  },
  {
   "cell_type": "markdown",
   "id": "d6bf4825",
   "metadata": {
    "papermill": {
     "duration": 0.031972,
     "end_time": "2022-12-08T06:16:02.388209",
     "exception": false,
     "start_time": "2022-12-08T06:16:02.356237",
     "status": "completed"
    },
    "tags": []
   },
   "source": [
    "## Create Lagged Feature"
   ]
  },
  {
   "cell_type": "code",
   "execution_count": null,
   "id": "db97a8d7",
   "metadata": {
    "execution": {
     "iopub.execute_input": "2022-12-08T06:16:02.454630Z",
     "iopub.status.busy": "2022-12-08T06:16:02.454134Z",
     "iopub.status.idle": "2022-12-08T06:16:02.513881Z",
     "shell.execute_reply": "2022-12-08T06:16:02.512230Z"
    },
    "papermill": {
     "duration": 0.096084,
     "end_time": "2022-12-08T06:16:02.516529",
     "exception": false,
     "start_time": "2022-12-08T06:16:02.420445",
     "status": "completed"
    },
    "tags": []
   },
   "outputs": [],
   "source": [
    "for i in range(1, 29):\n",
    "    sales_df_train[f'CA_lagged_{i}'] = sales_df_train['CA'].shift(-1*i)\n",
    "    sales_df_train[f'TX_lagged_{i}'] = sales_df_train['TX'].shift(-1*i)\n",
    "    sales_df_train[f'WI_lagged_{i}'] = sales_df_train['WI'].shift(-1*i)"
   ]
  },
  {
   "cell_type": "markdown",
   "id": "7906bcaa",
   "metadata": {
    "papermill": {
     "duration": 0.035105,
     "end_time": "2022-12-08T06:16:02.583971",
     "exception": false,
     "start_time": "2022-12-08T06:16:02.548866",
     "status": "completed"
    },
    "tags": []
   },
   "source": [
    "### "
   ]
  },
  {
   "cell_type": "code",
   "execution_count": null,
   "id": "9fa7e2c7",
   "metadata": {
    "execution": {
     "iopub.execute_input": "2022-12-08T06:16:02.650412Z",
     "iopub.status.busy": "2022-12-08T06:16:02.650012Z",
     "iopub.status.idle": "2022-12-08T06:16:02.713078Z",
     "shell.execute_reply": "2022-12-08T06:16:02.711095Z"
    },
    "papermill": {
     "duration": 0.10029,
     "end_time": "2022-12-08T06:16:02.715346",
     "exception": false,
     "start_time": "2022-12-08T06:16:02.615056",
     "status": "completed"
    },
    "tags": []
   },
   "outputs": [],
   "source": [
    "for i in range(1, 29):\n",
    "    sales_df_test[f'CA_lagged_{i}'] = sales_df_test['CA'].shift(-1*i)\n",
    "    sales_df_test[f'TX_lagged_{i}'] = sales_df_test['TX'].shift(-1*i)\n",
    "    sales_df_test[f'WI_lagged_{i}'] = sales_df_test['WI'].shift(-1*i)"
   ]
  },
  {
   "cell_type": "code",
   "execution_count": 51,
   "id": "27b92e40",
   "metadata": {
    "execution": {
     "iopub.execute_input": "2022-12-08T06:16:02.778364Z",
     "iopub.status.busy": "2022-12-08T06:16:02.777954Z",
     "iopub.status.idle": "2022-12-08T06:16:02.784218Z",
     "shell.execute_reply": "2022-12-08T06:16:02.782966Z"
    },
    "papermill": {
     "duration": 0.041014,
     "end_time": "2022-12-08T06:16:02.786755",
     "exception": false,
     "start_time": "2022-12-08T06:16:02.745741",
     "status": "completed"
    },
    "tags": []
   },
   "outputs": [
    {
     "data": {
      "text/plain": [
       "(5394, 108)"
      ]
     },
     "execution_count": 51,
     "metadata": {},
     "output_type": "execute_result"
    }
   ],
   "source": [
    "sales_df_train.shape"
   ]
  },
  {
   "cell_type": "code",
   "execution_count": 52,
   "id": "42555c55",
   "metadata": {
    "execution": {
     "iopub.execute_input": "2022-12-08T06:16:02.849986Z",
     "iopub.status.busy": "2022-12-08T06:16:02.849583Z",
     "iopub.status.idle": "2022-12-08T06:16:02.856106Z",
     "shell.execute_reply": "2022-12-08T06:16:02.855161Z"
    },
    "papermill": {
     "duration": 0.041092,
     "end_time": "2022-12-08T06:16:02.858613",
     "exception": false,
     "start_time": "2022-12-08T06:16:02.817521",
     "status": "completed"
    },
    "tags": []
   },
   "outputs": [
    {
     "data": {
      "text/plain": [
       "(345, 108)"
      ]
     },
     "execution_count": 52,
     "metadata": {},
     "output_type": "execute_result"
    }
   ],
   "source": [
    "sales_df_test.shape"
   ]
  },
  {
   "cell_type": "code",
   "execution_count": 53,
   "id": "3d8308b7",
   "metadata": {
    "execution": {
     "iopub.execute_input": "2022-12-08T06:16:02.922785Z",
     "iopub.status.busy": "2022-12-08T06:16:02.922349Z",
     "iopub.status.idle": "2022-12-08T06:16:02.944338Z",
     "shell.execute_reply": "2022-12-08T06:16:02.943300Z"
    },
    "papermill": {
     "duration": 0.057471,
     "end_time": "2022-12-08T06:16:02.946896",
     "exception": false,
     "start_time": "2022-12-08T06:16:02.889425",
     "status": "completed"
    },
    "tags": []
   },
   "outputs": [
    {
     "data": {
      "text/plain": [
       "CA               0\n",
       "TX               0\n",
       "WI               0\n",
       "snap_CA          0\n",
       "snap_TX          0\n",
       "                ..\n",
       "TX_lagged_27    27\n",
       "WI_lagged_27    27\n",
       "CA_lagged_28    28\n",
       "TX_lagged_28    28\n",
       "WI_lagged_28    28\n",
       "Length: 108, dtype: int64"
      ]
     },
     "execution_count": 53,
     "metadata": {},
     "output_type": "execute_result"
    }
   ],
   "source": [
    "sales_df_train.isna().sum()"
   ]
  },
  {
   "cell_type": "markdown",
   "id": "6aa4785d",
   "metadata": {
    "papermill": {
     "duration": 0.030448,
     "end_time": "2022-12-08T06:16:03.008468",
     "exception": false,
     "start_time": "2022-12-08T06:16:02.978020",
     "status": "completed"
    },
    "tags": []
   },
   "source": [
    "## Drop NaN because of Lagging"
   ]
  },
  {
   "cell_type": "code",
   "execution_count": null,
   "id": "920d54bd",
   "metadata": {
    "execution": {
     "iopub.execute_input": "2022-12-08T06:16:03.071841Z",
     "iopub.status.busy": "2022-12-08T06:16:03.071410Z",
     "iopub.status.idle": "2022-12-08T06:16:03.096286Z",
     "shell.execute_reply": "2022-12-08T06:16:03.094964Z"
    },
    "papermill": {
     "duration": 0.059847,
     "end_time": "2022-12-08T06:16:03.099019",
     "exception": false,
     "start_time": "2022-12-08T06:16:03.039172",
     "status": "completed"
    },
    "tags": []
   },
   "outputs": [],
   "source": [
    "sales_df_train.dropna(inplace = True)"
   ]
  },
  {
   "cell_type": "code",
   "execution_count": 55,
   "id": "ac4fa2b1",
   "metadata": {
    "execution": {
     "iopub.execute_input": "2022-12-08T06:16:03.162845Z",
     "iopub.status.busy": "2022-12-08T06:16:03.162345Z",
     "iopub.status.idle": "2022-12-08T06:16:03.178489Z",
     "shell.execute_reply": "2022-12-08T06:16:03.177704Z"
    },
    "papermill": {
     "duration": 0.050636,
     "end_time": "2022-12-08T06:16:03.180906",
     "exception": false,
     "start_time": "2022-12-08T06:16:03.130270",
     "status": "completed"
    },
    "tags": []
   },
   "outputs": [],
   "source": [
    "sales_df_test.dropna(inplace = True)"
   ]
  },
  {
   "cell_type": "code",
   "execution_count": 56,
   "id": "f9f76aa4",
   "metadata": {
    "execution": {
     "iopub.execute_input": "2022-12-08T06:16:03.246226Z",
     "iopub.status.busy": "2022-12-08T06:16:03.245792Z",
     "iopub.status.idle": "2022-12-08T06:16:03.253461Z",
     "shell.execute_reply": "2022-12-08T06:16:03.251963Z"
    },
    "papermill": {
     "duration": 0.043648,
     "end_time": "2022-12-08T06:16:03.255723",
     "exception": false,
     "start_time": "2022-12-08T06:16:03.212075",
     "status": "completed"
    },
    "tags": []
   },
   "outputs": [
    {
     "data": {
      "text/plain": [
       "(5366, 108)"
      ]
     },
     "execution_count": 56,
     "metadata": {},
     "output_type": "execute_result"
    }
   ],
   "source": [
    "sales_df_train.shape"
   ]
  },
  {
   "cell_type": "code",
   "execution_count": 57,
   "id": "0373ad70",
   "metadata": {
    "execution": {
     "iopub.execute_input": "2022-12-08T06:16:03.323014Z",
     "iopub.status.busy": "2022-12-08T06:16:03.322517Z",
     "iopub.status.idle": "2022-12-08T06:16:03.329395Z",
     "shell.execute_reply": "2022-12-08T06:16:03.327998Z"
    },
    "papermill": {
     "duration": 0.043136,
     "end_time": "2022-12-08T06:16:03.331418",
     "exception": false,
     "start_time": "2022-12-08T06:16:03.288282",
     "status": "completed"
    },
    "tags": []
   },
   "outputs": [
    {
     "data": {
      "text/plain": [
       "(317, 108)"
      ]
     },
     "execution_count": 57,
     "metadata": {},
     "output_type": "execute_result"
    }
   ],
   "source": [
    "sales_df_test.shape"
   ]
  },
  {
   "cell_type": "markdown",
   "id": "110fafb9",
   "metadata": {
    "papermill": {
     "duration": 0.031998,
     "end_time": "2022-12-08T06:16:03.394871",
     "exception": false,
     "start_time": "2022-12-08T06:16:03.362873",
     "status": "completed"
    },
    "tags": []
   },
   "source": [
    "## Scale Numerical Columns"
   ]
  },
  {
   "cell_type": "code",
   "execution_count": 58,
   "id": "dda01526",
   "metadata": {
    "execution": {
     "iopub.execute_input": "2022-12-08T06:16:03.463623Z",
     "iopub.status.busy": "2022-12-08T06:16:03.463252Z",
     "iopub.status.idle": "2022-12-08T06:16:03.475339Z",
     "shell.execute_reply": "2022-12-08T06:16:03.473910Z"
    },
    "papermill": {
     "duration": 0.05055,
     "end_time": "2022-12-08T06:16:03.478245",
     "exception": false,
     "start_time": "2022-12-08T06:16:03.427695",
     "status": "completed"
    },
    "tags": []
   },
   "outputs": [
    {
     "data": {
      "text/plain": [
       "['sales_price_min',\n",
       " 'sales_price_max',\n",
       " 'sales_price_mean',\n",
       " 'CA',\n",
       " 'TX',\n",
       " 'WI',\n",
       " 'CA_lagged_1',\n",
       " 'TX_lagged_1',\n",
       " 'WI_lagged_1',\n",
       " 'CA_lagged_2',\n",
       " 'TX_lagged_2',\n",
       " 'WI_lagged_2',\n",
       " 'CA_lagged_3',\n",
       " 'TX_lagged_3',\n",
       " 'WI_lagged_3',\n",
       " 'CA_lagged_4',\n",
       " 'TX_lagged_4',\n",
       " 'WI_lagged_4',\n",
       " 'CA_lagged_5',\n",
       " 'TX_lagged_5',\n",
       " 'WI_lagged_5',\n",
       " 'CA_lagged_6',\n",
       " 'TX_lagged_6',\n",
       " 'WI_lagged_6',\n",
       " 'CA_lagged_7',\n",
       " 'TX_lagged_7',\n",
       " 'WI_lagged_7',\n",
       " 'CA_lagged_8',\n",
       " 'TX_lagged_8',\n",
       " 'WI_lagged_8',\n",
       " 'CA_lagged_9',\n",
       " 'TX_lagged_9',\n",
       " 'WI_lagged_9',\n",
       " 'CA_lagged_10',\n",
       " 'TX_lagged_10',\n",
       " 'WI_lagged_10',\n",
       " 'CA_lagged_11',\n",
       " 'TX_lagged_11',\n",
       " 'WI_lagged_11',\n",
       " 'CA_lagged_12',\n",
       " 'TX_lagged_12',\n",
       " 'WI_lagged_12',\n",
       " 'CA_lagged_13',\n",
       " 'TX_lagged_13',\n",
       " 'WI_lagged_13',\n",
       " 'CA_lagged_14',\n",
       " 'TX_lagged_14',\n",
       " 'WI_lagged_14',\n",
       " 'CA_lagged_15',\n",
       " 'TX_lagged_15',\n",
       " 'WI_lagged_15',\n",
       " 'CA_lagged_16',\n",
       " 'TX_lagged_16',\n",
       " 'WI_lagged_16',\n",
       " 'CA_lagged_17',\n",
       " 'TX_lagged_17',\n",
       " 'WI_lagged_17',\n",
       " 'CA_lagged_18',\n",
       " 'TX_lagged_18',\n",
       " 'WI_lagged_18',\n",
       " 'CA_lagged_19',\n",
       " 'TX_lagged_19',\n",
       " 'WI_lagged_19',\n",
       " 'CA_lagged_20',\n",
       " 'TX_lagged_20',\n",
       " 'WI_lagged_20',\n",
       " 'CA_lagged_21',\n",
       " 'TX_lagged_21',\n",
       " 'WI_lagged_21',\n",
       " 'CA_lagged_22',\n",
       " 'TX_lagged_22',\n",
       " 'WI_lagged_22',\n",
       " 'CA_lagged_23',\n",
       " 'TX_lagged_23',\n",
       " 'WI_lagged_23',\n",
       " 'CA_lagged_24',\n",
       " 'TX_lagged_24',\n",
       " 'WI_lagged_24',\n",
       " 'CA_lagged_25',\n",
       " 'TX_lagged_25',\n",
       " 'WI_lagged_25',\n",
       " 'CA_lagged_26',\n",
       " 'TX_lagged_26',\n",
       " 'WI_lagged_26',\n",
       " 'CA_lagged_27',\n",
       " 'TX_lagged_27',\n",
       " 'WI_lagged_27']"
      ]
     },
     "execution_count": 58,
     "metadata": {},
     "output_type": "execute_result"
    }
   ],
   "source": [
    "cols_to_scale = ['sales_price_min', 'sales_price_max', 'sales_price_mean']\n",
    "\n",
    "# Add lagged columns except for 28\n",
    "\n",
    "lagged_columns = []\n",
    "lagged_columns.append('CA')\n",
    "lagged_columns.append('TX')\n",
    "lagged_columns.append('WI')\n",
    "for i in range(1, 28):\n",
    "    lagged_columns.append(f'CA_lagged_{i}')\n",
    "    lagged_columns.append(f'TX_lagged_{i}')\n",
    "    lagged_columns.append(f'WI_lagged_{i}')\n",
    "    \n",
    "cols_to_scale = cols_to_scale + lagged_columns\n",
    "cols_to_scale"
   ]
  },
  {
   "cell_type": "code",
   "execution_count": 59,
   "id": "50b35170",
   "metadata": {
    "execution": {
     "iopub.execute_input": "2022-12-08T06:16:03.543473Z",
     "iopub.status.busy": "2022-12-08T06:16:03.543081Z",
     "iopub.status.idle": "2022-12-08T06:16:03.717074Z",
     "shell.execute_reply": "2022-12-08T06:16:03.715691Z"
    },
    "papermill": {
     "duration": 0.20979,
     "end_time": "2022-12-08T06:16:03.719837",
     "exception": false,
     "start_time": "2022-12-08T06:16:03.510047",
     "status": "completed"
    },
    "tags": []
   },
   "outputs": [],
   "source": [
    "from sklearn.preprocessing import MinMaxScaler"
   ]
  },
  {
   "cell_type": "code",
   "execution_count": 60,
   "id": "fe09a313",
   "metadata": {
    "execution": {
     "iopub.execute_input": "2022-12-08T06:16:03.785065Z",
     "iopub.status.busy": "2022-12-08T06:16:03.784717Z",
     "iopub.status.idle": "2022-12-08T06:16:03.790013Z",
     "shell.execute_reply": "2022-12-08T06:16:03.788667Z"
    },
    "papermill": {
     "duration": 0.040338,
     "end_time": "2022-12-08T06:16:03.792306",
     "exception": false,
     "start_time": "2022-12-08T06:16:03.751968",
     "status": "completed"
    },
    "tags": []
   },
   "outputs": [],
   "source": [
    "scaler_instance = MinMaxScaler()"
   ]
  },
  {
   "cell_type": "code",
   "execution_count": null,
   "id": "8560e623",
   "metadata": {
    "execution": {
     "iopub.execute_input": "2022-12-08T06:16:03.856357Z",
     "iopub.status.busy": "2022-12-08T06:16:03.855941Z",
     "iopub.status.idle": "2022-12-08T06:16:03.923474Z",
     "shell.execute_reply": "2022-12-08T06:16:03.922187Z"
    },
    "papermill": {
     "duration": 0.102748,
     "end_time": "2022-12-08T06:16:03.925979",
     "exception": false,
     "start_time": "2022-12-08T06:16:03.823231",
     "status": "completed"
    },
    "tags": []
   },
   "outputs": [],
   "source": [
    "sales_df_train[cols_to_scale] = scaler_instance.fit_transform(sales_df_train[cols_to_scale])\n",
    "sales_df_train.head()"
   ]
  },
  {
   "cell_type": "code",
   "execution_count": 62,
   "id": "40d4b5da",
   "metadata": {
    "execution": {
     "iopub.execute_input": "2022-12-08T06:16:03.992248Z",
     "iopub.status.busy": "2022-12-08T06:16:03.991849Z",
     "iopub.status.idle": "2022-12-08T06:16:04.029846Z",
     "shell.execute_reply": "2022-12-08T06:16:04.028201Z"
    },
    "papermill": {
     "duration": 0.074501,
     "end_time": "2022-12-08T06:16:04.032511",
     "exception": false,
     "start_time": "2022-12-08T06:16:03.958010",
     "status": "completed"
    },
    "tags": []
   },
   "outputs": [
    {
     "name": "stderr",
     "output_type": "stream",
     "text": [
      "/opt/conda/lib/python3.7/site-packages/pandas/core/frame.py:3678: SettingWithCopyWarning: \n",
      "A value is trying to be set on a copy of a slice from a DataFrame.\n",
      "Try using .loc[row_indexer,col_indexer] = value instead\n",
      "\n",
      "See the caveats in the documentation: https://pandas.pydata.org/pandas-docs/stable/user_guide/indexing.html#returning-a-view-versus-a-copy\n",
      "  self[col] = igetitem(value, i)\n"
     ]
    },
    {
     "data": {
      "text/html": [
       "<div>\n",
       "<style scoped>\n",
       "    .dataframe tbody tr th:only-of-type {\n",
       "        vertical-align: middle;\n",
       "    }\n",
       "\n",
       "    .dataframe tbody tr th {\n",
       "        vertical-align: top;\n",
       "    }\n",
       "\n",
       "    .dataframe thead th {\n",
       "        text-align: right;\n",
       "    }\n",
       "</style>\n",
       "<table border=\"1\" class=\"dataframe\">\n",
       "  <thead>\n",
       "    <tr style=\"text-align: right;\">\n",
       "      <th></th>\n",
       "      <th>CA</th>\n",
       "      <th>TX</th>\n",
       "      <th>WI</th>\n",
       "      <th>snap_CA</th>\n",
       "      <th>snap_TX</th>\n",
       "      <th>snap_WI</th>\n",
       "      <th>sales_price_min</th>\n",
       "      <th>sales_price_max</th>\n",
       "      <th>sales_price_mean</th>\n",
       "      <th>weekday_Friday</th>\n",
       "      <th>...</th>\n",
       "      <th>WI_lagged_25</th>\n",
       "      <th>CA_lagged_26</th>\n",
       "      <th>TX_lagged_26</th>\n",
       "      <th>WI_lagged_26</th>\n",
       "      <th>CA_lagged_27</th>\n",
       "      <th>TX_lagged_27</th>\n",
       "      <th>WI_lagged_27</th>\n",
       "      <th>CA_lagged_28</th>\n",
       "      <th>TX_lagged_28</th>\n",
       "      <th>WI_lagged_28</th>\n",
       "    </tr>\n",
       "    <tr>\n",
       "      <th>date</th>\n",
       "      <th></th>\n",
       "      <th></th>\n",
       "      <th></th>\n",
       "      <th></th>\n",
       "      <th></th>\n",
       "      <th></th>\n",
       "      <th></th>\n",
       "      <th></th>\n",
       "      <th></th>\n",
       "      <th></th>\n",
       "      <th></th>\n",
       "      <th></th>\n",
       "      <th></th>\n",
       "      <th></th>\n",
       "      <th></th>\n",
       "      <th></th>\n",
       "      <th></th>\n",
       "      <th></th>\n",
       "      <th></th>\n",
       "      <th></th>\n",
       "      <th></th>\n",
       "    </tr>\n",
       "  </thead>\n",
       "  <tbody>\n",
       "    <tr>\n",
       "      <th>2016-01-01</th>\n",
       "      <td>0.030273</td>\n",
       "      <td>0.136719</td>\n",
       "      <td>0.179688</td>\n",
       "      <td>1</td>\n",
       "      <td>1</td>\n",
       "      <td>0</td>\n",
       "      <td>0.833496</td>\n",
       "      <td>0.0</td>\n",
       "      <td>1.000</td>\n",
       "      <td>1</td>\n",
       "      <td>...</td>\n",
       "      <td>0.745605</td>\n",
       "      <td>0.812500</td>\n",
       "      <td>0.768555</td>\n",
       "      <td>0.745605</td>\n",
       "      <td>0.753906</td>\n",
       "      <td>0.687500</td>\n",
       "      <td>0.364746</td>\n",
       "      <td>22208.0</td>\n",
       "      <td>12632.0</td>\n",
       "      <td>12520.0</td>\n",
       "    </tr>\n",
       "    <tr>\n",
       "      <th>2016-01-01</th>\n",
       "      <td>0.030273</td>\n",
       "      <td>0.136719</td>\n",
       "      <td>0.179688</td>\n",
       "      <td>1</td>\n",
       "      <td>1</td>\n",
       "      <td>0</td>\n",
       "      <td>0.833496</td>\n",
       "      <td>0.0</td>\n",
       "      <td>0.625</td>\n",
       "      <td>1</td>\n",
       "      <td>...</td>\n",
       "      <td>0.745605</td>\n",
       "      <td>0.753906</td>\n",
       "      <td>0.687500</td>\n",
       "      <td>0.364746</td>\n",
       "      <td>0.753906</td>\n",
       "      <td>0.687500</td>\n",
       "      <td>0.364746</td>\n",
       "      <td>22208.0</td>\n",
       "      <td>12632.0</td>\n",
       "      <td>12520.0</td>\n",
       "    </tr>\n",
       "    <tr>\n",
       "      <th>2016-01-01</th>\n",
       "      <td>0.030273</td>\n",
       "      <td>0.136719</td>\n",
       "      <td>0.179688</td>\n",
       "      <td>1</td>\n",
       "      <td>1</td>\n",
       "      <td>0</td>\n",
       "      <td>0.833496</td>\n",
       "      <td>0.0</td>\n",
       "      <td>0.000</td>\n",
       "      <td>1</td>\n",
       "      <td>...</td>\n",
       "      <td>0.364746</td>\n",
       "      <td>0.753906</td>\n",
       "      <td>0.687500</td>\n",
       "      <td>0.364746</td>\n",
       "      <td>0.753906</td>\n",
       "      <td>0.687500</td>\n",
       "      <td>0.364746</td>\n",
       "      <td>16208.0</td>\n",
       "      <td>10528.0</td>\n",
       "      <td>11256.0</td>\n",
       "    </tr>\n",
       "    <tr>\n",
       "      <th>2016-01-02</th>\n",
       "      <td>0.496094</td>\n",
       "      <td>0.368164</td>\n",
       "      <td>0.609863</td>\n",
       "      <td>1</td>\n",
       "      <td>0</td>\n",
       "      <td>1</td>\n",
       "      <td>0.833496</td>\n",
       "      <td>0.0</td>\n",
       "      <td>0.000</td>\n",
       "      <td>0</td>\n",
       "      <td>...</td>\n",
       "      <td>0.364746</td>\n",
       "      <td>0.753906</td>\n",
       "      <td>0.687500</td>\n",
       "      <td>0.364746</td>\n",
       "      <td>0.262695</td>\n",
       "      <td>0.364258</td>\n",
       "      <td>0.252441</td>\n",
       "      <td>16208.0</td>\n",
       "      <td>10528.0</td>\n",
       "      <td>11256.0</td>\n",
       "    </tr>\n",
       "    <tr>\n",
       "      <th>2016-01-02</th>\n",
       "      <td>0.496094</td>\n",
       "      <td>0.368164</td>\n",
       "      <td>0.609863</td>\n",
       "      <td>1</td>\n",
       "      <td>0</td>\n",
       "      <td>1</td>\n",
       "      <td>0.833496</td>\n",
       "      <td>0.0</td>\n",
       "      <td>1.000</td>\n",
       "      <td>0</td>\n",
       "      <td>...</td>\n",
       "      <td>0.364746</td>\n",
       "      <td>0.262695</td>\n",
       "      <td>0.364258</td>\n",
       "      <td>0.252441</td>\n",
       "      <td>0.262695</td>\n",
       "      <td>0.364258</td>\n",
       "      <td>0.252441</td>\n",
       "      <td>16208.0</td>\n",
       "      <td>10528.0</td>\n",
       "      <td>11256.0</td>\n",
       "    </tr>\n",
       "  </tbody>\n",
       "</table>\n",
       "<p>5 rows × 108 columns</p>\n",
       "</div>"
      ],
      "text/plain": [
       "                  CA        TX        WI  snap_CA  snap_TX  snap_WI  \\\n",
       "date                                                                  \n",
       "2016-01-01  0.030273  0.136719  0.179688        1        1        0   \n",
       "2016-01-01  0.030273  0.136719  0.179688        1        1        0   \n",
       "2016-01-01  0.030273  0.136719  0.179688        1        1        0   \n",
       "2016-01-02  0.496094  0.368164  0.609863        1        0        1   \n",
       "2016-01-02  0.496094  0.368164  0.609863        1        0        1   \n",
       "\n",
       "            sales_price_min  sales_price_max  sales_price_mean  \\\n",
       "date                                                             \n",
       "2016-01-01         0.833496              0.0             1.000   \n",
       "2016-01-01         0.833496              0.0             0.625   \n",
       "2016-01-01         0.833496              0.0             0.000   \n",
       "2016-01-02         0.833496              0.0             0.000   \n",
       "2016-01-02         0.833496              0.0             1.000   \n",
       "\n",
       "            weekday_Friday  ...  WI_lagged_25  CA_lagged_26  TX_lagged_26  \\\n",
       "date                        ...                                             \n",
       "2016-01-01               1  ...      0.745605      0.812500      0.768555   \n",
       "2016-01-01               1  ...      0.745605      0.753906      0.687500   \n",
       "2016-01-01               1  ...      0.364746      0.753906      0.687500   \n",
       "2016-01-02               0  ...      0.364746      0.753906      0.687500   \n",
       "2016-01-02               0  ...      0.364746      0.262695      0.364258   \n",
       "\n",
       "            WI_lagged_26  CA_lagged_27  TX_lagged_27  WI_lagged_27  \\\n",
       "date                                                                 \n",
       "2016-01-01      0.745605      0.753906      0.687500      0.364746   \n",
       "2016-01-01      0.364746      0.753906      0.687500      0.364746   \n",
       "2016-01-01      0.364746      0.753906      0.687500      0.364746   \n",
       "2016-01-02      0.364746      0.262695      0.364258      0.252441   \n",
       "2016-01-02      0.252441      0.262695      0.364258      0.252441   \n",
       "\n",
       "            CA_lagged_28  TX_lagged_28  WI_lagged_28  \n",
       "date                                                  \n",
       "2016-01-01       22208.0       12632.0       12520.0  \n",
       "2016-01-01       22208.0       12632.0       12520.0  \n",
       "2016-01-01       16208.0       10528.0       11256.0  \n",
       "2016-01-02       16208.0       10528.0       11256.0  \n",
       "2016-01-02       16208.0       10528.0       11256.0  \n",
       "\n",
       "[5 rows x 108 columns]"
      ]
     },
     "execution_count": 62,
     "metadata": {},
     "output_type": "execute_result"
    }
   ],
   "source": [
    "sales_df_test[cols_to_scale] = scaler_instance.fit_transform(sales_df_test[cols_to_scale])\n",
    "sales_df_test.head()"
   ]
  },
  {
   "cell_type": "code",
   "execution_count": 63,
   "id": "c3d29525",
   "metadata": {
    "execution": {
     "iopub.execute_input": "2022-12-08T06:16:04.097613Z",
     "iopub.status.busy": "2022-12-08T06:16:04.097209Z",
     "iopub.status.idle": "2022-12-08T06:16:04.104444Z",
     "shell.execute_reply": "2022-12-08T06:16:04.103099Z"
    },
    "papermill": {
     "duration": 0.042455,
     "end_time": "2022-12-08T06:16:04.107216",
     "exception": false,
     "start_time": "2022-12-08T06:16:04.064761",
     "status": "completed"
    },
    "tags": []
   },
   "outputs": [
    {
     "data": {
      "text/plain": [
       "array(['2011-01-29T00:00:00.000000000', '2011-01-29T00:00:00.000000000',\n",
       "       '2011-01-29T00:00:00.000000000', ...,\n",
       "       '2015-12-21T00:00:00.000000000', '2015-12-22T00:00:00.000000000',\n",
       "       '2015-12-22T00:00:00.000000000'], dtype='datetime64[ns]')"
      ]
     },
     "execution_count": 63,
     "metadata": {},
     "output_type": "execute_result"
    }
   ],
   "source": [
    "sales_df_train_dates = sales_df_train.index.values\n",
    "sales_df_train_dates"
   ]
  },
  {
   "cell_type": "code",
   "execution_count": 64,
   "id": "c832dfcb",
   "metadata": {
    "execution": {
     "iopub.execute_input": "2022-12-08T06:16:04.173341Z",
     "iopub.status.busy": "2022-12-08T06:16:04.172982Z",
     "iopub.status.idle": "2022-12-08T06:16:04.183959Z",
     "shell.execute_reply": "2022-12-08T06:16:04.182580Z"
    },
    "papermill": {
     "duration": 0.047788,
     "end_time": "2022-12-08T06:16:04.187225",
     "exception": false,
     "start_time": "2022-12-08T06:16:04.139437",
     "status": "completed"
    },
    "tags": []
   },
   "outputs": [
    {
     "data": {
      "text/plain": [
       "array(['2016-01-01T00:00:00.000000000', '2016-01-01T00:00:00.000000000',\n",
       "       '2016-01-01T00:00:00.000000000', '2016-01-02T00:00:00.000000000',\n",
       "       '2016-01-02T00:00:00.000000000', '2016-01-02T00:00:00.000000000',\n",
       "       '2016-01-03T00:00:00.000000000', '2016-01-03T00:00:00.000000000',\n",
       "       '2016-01-03T00:00:00.000000000', '2016-01-04T00:00:00.000000000',\n",
       "       '2016-01-04T00:00:00.000000000', '2016-01-04T00:00:00.000000000',\n",
       "       '2016-01-05T00:00:00.000000000', '2016-01-05T00:00:00.000000000',\n",
       "       '2016-01-05T00:00:00.000000000', '2016-01-06T00:00:00.000000000',\n",
       "       '2016-01-06T00:00:00.000000000', '2016-01-06T00:00:00.000000000',\n",
       "       '2016-01-07T00:00:00.000000000', '2016-01-07T00:00:00.000000000',\n",
       "       '2016-01-07T00:00:00.000000000', '2016-01-08T00:00:00.000000000',\n",
       "       '2016-01-08T00:00:00.000000000', '2016-01-08T00:00:00.000000000',\n",
       "       '2016-01-09T00:00:00.000000000', '2016-01-09T00:00:00.000000000',\n",
       "       '2016-01-09T00:00:00.000000000', '2016-01-10T00:00:00.000000000',\n",
       "       '2016-01-10T00:00:00.000000000', '2016-01-10T00:00:00.000000000',\n",
       "       '2016-01-11T00:00:00.000000000', '2016-01-11T00:00:00.000000000',\n",
       "       '2016-01-11T00:00:00.000000000', '2016-01-12T00:00:00.000000000',\n",
       "       '2016-01-12T00:00:00.000000000', '2016-01-12T00:00:00.000000000',\n",
       "       '2016-01-13T00:00:00.000000000', '2016-01-13T00:00:00.000000000',\n",
       "       '2016-01-13T00:00:00.000000000', '2016-01-14T00:00:00.000000000',\n",
       "       '2016-01-14T00:00:00.000000000', '2016-01-14T00:00:00.000000000',\n",
       "       '2016-01-15T00:00:00.000000000', '2016-01-15T00:00:00.000000000',\n",
       "       '2016-01-15T00:00:00.000000000', '2016-01-16T00:00:00.000000000',\n",
       "       '2016-01-16T00:00:00.000000000', '2016-01-16T00:00:00.000000000',\n",
       "       '2016-01-17T00:00:00.000000000', '2016-01-17T00:00:00.000000000',\n",
       "       '2016-01-17T00:00:00.000000000', '2016-01-18T00:00:00.000000000',\n",
       "       '2016-01-18T00:00:00.000000000', '2016-01-18T00:00:00.000000000',\n",
       "       '2016-01-19T00:00:00.000000000', '2016-01-19T00:00:00.000000000',\n",
       "       '2016-01-19T00:00:00.000000000', '2016-01-20T00:00:00.000000000',\n",
       "       '2016-01-20T00:00:00.000000000', '2016-01-20T00:00:00.000000000',\n",
       "       '2016-01-21T00:00:00.000000000', '2016-01-21T00:00:00.000000000',\n",
       "       '2016-01-21T00:00:00.000000000', '2016-01-22T00:00:00.000000000',\n",
       "       '2016-01-22T00:00:00.000000000', '2016-01-22T00:00:00.000000000',\n",
       "       '2016-01-23T00:00:00.000000000', '2016-01-23T00:00:00.000000000',\n",
       "       '2016-01-23T00:00:00.000000000', '2016-01-24T00:00:00.000000000',\n",
       "       '2016-01-24T00:00:00.000000000', '2016-01-24T00:00:00.000000000',\n",
       "       '2016-01-25T00:00:00.000000000', '2016-01-25T00:00:00.000000000',\n",
       "       '2016-01-25T00:00:00.000000000', '2016-01-26T00:00:00.000000000',\n",
       "       '2016-01-26T00:00:00.000000000', '2016-01-26T00:00:00.000000000',\n",
       "       '2016-01-27T00:00:00.000000000', '2016-01-27T00:00:00.000000000',\n",
       "       '2016-01-27T00:00:00.000000000', '2016-01-28T00:00:00.000000000',\n",
       "       '2016-01-28T00:00:00.000000000', '2016-01-28T00:00:00.000000000',\n",
       "       '2016-01-29T00:00:00.000000000', '2016-01-29T00:00:00.000000000',\n",
       "       '2016-01-29T00:00:00.000000000', '2016-01-30T00:00:00.000000000',\n",
       "       '2016-01-30T00:00:00.000000000', '2016-01-30T00:00:00.000000000',\n",
       "       '2016-01-31T00:00:00.000000000', '2016-01-31T00:00:00.000000000',\n",
       "       '2016-01-31T00:00:00.000000000', '2016-02-01T00:00:00.000000000',\n",
       "       '2016-02-01T00:00:00.000000000', '2016-02-01T00:00:00.000000000',\n",
       "       '2016-02-02T00:00:00.000000000', '2016-02-02T00:00:00.000000000',\n",
       "       '2016-02-02T00:00:00.000000000', '2016-02-03T00:00:00.000000000',\n",
       "       '2016-02-03T00:00:00.000000000', '2016-02-03T00:00:00.000000000',\n",
       "       '2016-02-04T00:00:00.000000000', '2016-02-04T00:00:00.000000000',\n",
       "       '2016-02-04T00:00:00.000000000', '2016-02-05T00:00:00.000000000',\n",
       "       '2016-02-05T00:00:00.000000000', '2016-02-05T00:00:00.000000000',\n",
       "       '2016-02-06T00:00:00.000000000', '2016-02-06T00:00:00.000000000',\n",
       "       '2016-02-06T00:00:00.000000000', '2016-02-07T00:00:00.000000000',\n",
       "       '2016-02-07T00:00:00.000000000', '2016-02-07T00:00:00.000000000',\n",
       "       '2016-02-08T00:00:00.000000000', '2016-02-08T00:00:00.000000000',\n",
       "       '2016-02-08T00:00:00.000000000', '2016-02-09T00:00:00.000000000',\n",
       "       '2016-02-09T00:00:00.000000000', '2016-02-09T00:00:00.000000000',\n",
       "       '2016-02-10T00:00:00.000000000', '2016-02-10T00:00:00.000000000',\n",
       "       '2016-02-10T00:00:00.000000000', '2016-02-11T00:00:00.000000000',\n",
       "       '2016-02-11T00:00:00.000000000', '2016-02-11T00:00:00.000000000',\n",
       "       '2016-02-12T00:00:00.000000000', '2016-02-12T00:00:00.000000000',\n",
       "       '2016-02-12T00:00:00.000000000', '2016-02-13T00:00:00.000000000',\n",
       "       '2016-02-13T00:00:00.000000000', '2016-02-13T00:00:00.000000000',\n",
       "       '2016-02-14T00:00:00.000000000', '2016-02-14T00:00:00.000000000',\n",
       "       '2016-02-14T00:00:00.000000000', '2016-02-15T00:00:00.000000000',\n",
       "       '2016-02-15T00:00:00.000000000', '2016-02-15T00:00:00.000000000',\n",
       "       '2016-02-16T00:00:00.000000000', '2016-02-16T00:00:00.000000000',\n",
       "       '2016-02-16T00:00:00.000000000', '2016-02-17T00:00:00.000000000',\n",
       "       '2016-02-17T00:00:00.000000000', '2016-02-17T00:00:00.000000000',\n",
       "       '2016-02-18T00:00:00.000000000', '2016-02-18T00:00:00.000000000',\n",
       "       '2016-02-18T00:00:00.000000000', '2016-02-19T00:00:00.000000000',\n",
       "       '2016-02-19T00:00:00.000000000', '2016-02-19T00:00:00.000000000',\n",
       "       '2016-02-20T00:00:00.000000000', '2016-02-20T00:00:00.000000000',\n",
       "       '2016-02-20T00:00:00.000000000', '2016-02-21T00:00:00.000000000',\n",
       "       '2016-02-21T00:00:00.000000000', '2016-02-21T00:00:00.000000000',\n",
       "       '2016-02-22T00:00:00.000000000', '2016-02-22T00:00:00.000000000',\n",
       "       '2016-02-22T00:00:00.000000000', '2016-02-23T00:00:00.000000000',\n",
       "       '2016-02-23T00:00:00.000000000', '2016-02-23T00:00:00.000000000',\n",
       "       '2016-02-24T00:00:00.000000000', '2016-02-24T00:00:00.000000000',\n",
       "       '2016-02-24T00:00:00.000000000', '2016-02-25T00:00:00.000000000',\n",
       "       '2016-02-25T00:00:00.000000000', '2016-02-25T00:00:00.000000000',\n",
       "       '2016-02-26T00:00:00.000000000', '2016-02-26T00:00:00.000000000',\n",
       "       '2016-02-26T00:00:00.000000000', '2016-02-27T00:00:00.000000000',\n",
       "       '2016-02-27T00:00:00.000000000', '2016-02-27T00:00:00.000000000',\n",
       "       '2016-02-28T00:00:00.000000000', '2016-02-28T00:00:00.000000000',\n",
       "       '2016-02-28T00:00:00.000000000', '2016-02-29T00:00:00.000000000',\n",
       "       '2016-02-29T00:00:00.000000000', '2016-02-29T00:00:00.000000000',\n",
       "       '2016-03-01T00:00:00.000000000', '2016-03-01T00:00:00.000000000',\n",
       "       '2016-03-01T00:00:00.000000000', '2016-03-02T00:00:00.000000000',\n",
       "       '2016-03-02T00:00:00.000000000', '2016-03-02T00:00:00.000000000',\n",
       "       '2016-03-03T00:00:00.000000000', '2016-03-03T00:00:00.000000000',\n",
       "       '2016-03-03T00:00:00.000000000', '2016-03-04T00:00:00.000000000',\n",
       "       '2016-03-04T00:00:00.000000000', '2016-03-04T00:00:00.000000000',\n",
       "       '2016-03-05T00:00:00.000000000', '2016-03-05T00:00:00.000000000',\n",
       "       '2016-03-05T00:00:00.000000000', '2016-03-06T00:00:00.000000000',\n",
       "       '2016-03-06T00:00:00.000000000', '2016-03-06T00:00:00.000000000',\n",
       "       '2016-03-07T00:00:00.000000000', '2016-03-07T00:00:00.000000000',\n",
       "       '2016-03-07T00:00:00.000000000', '2016-03-08T00:00:00.000000000',\n",
       "       '2016-03-08T00:00:00.000000000', '2016-03-08T00:00:00.000000000',\n",
       "       '2016-03-09T00:00:00.000000000', '2016-03-09T00:00:00.000000000',\n",
       "       '2016-03-09T00:00:00.000000000', '2016-03-10T00:00:00.000000000',\n",
       "       '2016-03-10T00:00:00.000000000', '2016-03-10T00:00:00.000000000',\n",
       "       '2016-03-11T00:00:00.000000000', '2016-03-11T00:00:00.000000000',\n",
       "       '2016-03-11T00:00:00.000000000', '2016-03-12T00:00:00.000000000',\n",
       "       '2016-03-12T00:00:00.000000000', '2016-03-12T00:00:00.000000000',\n",
       "       '2016-03-13T00:00:00.000000000', '2016-03-13T00:00:00.000000000',\n",
       "       '2016-03-13T00:00:00.000000000', '2016-03-14T00:00:00.000000000',\n",
       "       '2016-03-14T00:00:00.000000000', '2016-03-14T00:00:00.000000000',\n",
       "       '2016-03-15T00:00:00.000000000', '2016-03-15T00:00:00.000000000',\n",
       "       '2016-03-15T00:00:00.000000000', '2016-03-16T00:00:00.000000000',\n",
       "       '2016-03-16T00:00:00.000000000', '2016-03-16T00:00:00.000000000',\n",
       "       '2016-03-17T00:00:00.000000000', '2016-03-17T00:00:00.000000000',\n",
       "       '2016-03-17T00:00:00.000000000', '2016-03-18T00:00:00.000000000',\n",
       "       '2016-03-18T00:00:00.000000000', '2016-03-18T00:00:00.000000000',\n",
       "       '2016-03-19T00:00:00.000000000', '2016-03-19T00:00:00.000000000',\n",
       "       '2016-03-19T00:00:00.000000000', '2016-03-20T00:00:00.000000000',\n",
       "       '2016-03-20T00:00:00.000000000', '2016-03-20T00:00:00.000000000',\n",
       "       '2016-03-21T00:00:00.000000000', '2016-03-21T00:00:00.000000000',\n",
       "       '2016-03-21T00:00:00.000000000', '2016-03-22T00:00:00.000000000',\n",
       "       '2016-03-22T00:00:00.000000000', '2016-03-22T00:00:00.000000000',\n",
       "       '2016-03-23T00:00:00.000000000', '2016-03-23T00:00:00.000000000',\n",
       "       '2016-03-23T00:00:00.000000000', '2016-03-24T00:00:00.000000000',\n",
       "       '2016-03-24T00:00:00.000000000', '2016-03-24T00:00:00.000000000',\n",
       "       '2016-03-25T00:00:00.000000000', '2016-03-25T00:00:00.000000000',\n",
       "       '2016-03-25T00:00:00.000000000', '2016-03-26T00:00:00.000000000',\n",
       "       '2016-03-26T00:00:00.000000000', '2016-03-26T00:00:00.000000000',\n",
       "       '2016-03-27T00:00:00.000000000', '2016-03-27T00:00:00.000000000',\n",
       "       '2016-03-27T00:00:00.000000000', '2016-03-28T00:00:00.000000000',\n",
       "       '2016-03-28T00:00:00.000000000', '2016-03-28T00:00:00.000000000',\n",
       "       '2016-03-29T00:00:00.000000000', '2016-03-29T00:00:00.000000000',\n",
       "       '2016-03-29T00:00:00.000000000', '2016-03-30T00:00:00.000000000',\n",
       "       '2016-03-30T00:00:00.000000000', '2016-03-30T00:00:00.000000000',\n",
       "       '2016-03-31T00:00:00.000000000', '2016-03-31T00:00:00.000000000',\n",
       "       '2016-03-31T00:00:00.000000000', '2016-04-01T00:00:00.000000000',\n",
       "       '2016-04-01T00:00:00.000000000', '2016-04-01T00:00:00.000000000',\n",
       "       '2016-04-02T00:00:00.000000000', '2016-04-02T00:00:00.000000000',\n",
       "       '2016-04-02T00:00:00.000000000', '2016-04-03T00:00:00.000000000',\n",
       "       '2016-04-03T00:00:00.000000000', '2016-04-03T00:00:00.000000000',\n",
       "       '2016-04-04T00:00:00.000000000', '2016-04-04T00:00:00.000000000',\n",
       "       '2016-04-04T00:00:00.000000000', '2016-04-05T00:00:00.000000000',\n",
       "       '2016-04-05T00:00:00.000000000', '2016-04-05T00:00:00.000000000',\n",
       "       '2016-04-06T00:00:00.000000000', '2016-04-06T00:00:00.000000000',\n",
       "       '2016-04-06T00:00:00.000000000', '2016-04-07T00:00:00.000000000',\n",
       "       '2016-04-07T00:00:00.000000000', '2016-04-07T00:00:00.000000000',\n",
       "       '2016-04-08T00:00:00.000000000', '2016-04-08T00:00:00.000000000',\n",
       "       '2016-04-08T00:00:00.000000000', '2016-04-09T00:00:00.000000000',\n",
       "       '2016-04-09T00:00:00.000000000', '2016-04-09T00:00:00.000000000',\n",
       "       '2016-04-10T00:00:00.000000000', '2016-04-10T00:00:00.000000000',\n",
       "       '2016-04-10T00:00:00.000000000', '2016-04-11T00:00:00.000000000',\n",
       "       '2016-04-11T00:00:00.000000000', '2016-04-11T00:00:00.000000000',\n",
       "       '2016-04-12T00:00:00.000000000', '2016-04-12T00:00:00.000000000',\n",
       "       '2016-04-12T00:00:00.000000000', '2016-04-13T00:00:00.000000000',\n",
       "       '2016-04-13T00:00:00.000000000', '2016-04-13T00:00:00.000000000',\n",
       "       '2016-04-14T00:00:00.000000000', '2016-04-14T00:00:00.000000000',\n",
       "       '2016-04-14T00:00:00.000000000', '2016-04-15T00:00:00.000000000',\n",
       "       '2016-04-15T00:00:00.000000000'], dtype='datetime64[ns]')"
      ]
     },
     "execution_count": 64,
     "metadata": {},
     "output_type": "execute_result"
    }
   ],
   "source": [
    "sales_df_test_dates = sales_df_test.index.values\n",
    "sales_df_test_dates"
   ]
  },
  {
   "cell_type": "markdown",
   "id": "954e919f",
   "metadata": {
    "papermill": {
     "duration": 0.032466,
     "end_time": "2022-12-08T06:16:04.251543",
     "exception": false,
     "start_time": "2022-12-08T06:16:04.219077",
     "status": "completed"
    },
    "tags": []
   },
   "source": [
    "## Drop Date Index"
   ]
  },
  {
   "cell_type": "code",
   "execution_count": 65,
   "id": "7ad83980",
   "metadata": {
    "execution": {
     "iopub.execute_input": "2022-12-08T06:16:04.318879Z",
     "iopub.status.busy": "2022-12-08T06:16:04.318524Z",
     "iopub.status.idle": "2022-12-08T06:16:04.343598Z",
     "shell.execute_reply": "2022-12-08T06:16:04.342583Z"
    },
    "papermill": {
     "duration": 0.060843,
     "end_time": "2022-12-08T06:16:04.345468",
     "exception": false,
     "start_time": "2022-12-08T06:16:04.284625",
     "status": "completed"
    },
    "tags": []
   },
   "outputs": [
    {
     "data": {
      "text/html": [
       "<div>\n",
       "<style scoped>\n",
       "    .dataframe tbody tr th:only-of-type {\n",
       "        vertical-align: middle;\n",
       "    }\n",
       "\n",
       "    .dataframe tbody tr th {\n",
       "        vertical-align: top;\n",
       "    }\n",
       "\n",
       "    .dataframe thead th {\n",
       "        text-align: right;\n",
       "    }\n",
       "</style>\n",
       "<table border=\"1\" class=\"dataframe\">\n",
       "  <thead>\n",
       "    <tr style=\"text-align: right;\">\n",
       "      <th></th>\n",
       "      <th>date</th>\n",
       "      <th>CA</th>\n",
       "      <th>TX</th>\n",
       "      <th>WI</th>\n",
       "      <th>snap_CA</th>\n",
       "      <th>snap_TX</th>\n",
       "      <th>snap_WI</th>\n",
       "      <th>sales_price_min</th>\n",
       "      <th>sales_price_max</th>\n",
       "      <th>sales_price_mean</th>\n",
       "      <th>...</th>\n",
       "      <th>WI_lagged_25</th>\n",
       "      <th>CA_lagged_26</th>\n",
       "      <th>TX_lagged_26</th>\n",
       "      <th>WI_lagged_26</th>\n",
       "      <th>CA_lagged_27</th>\n",
       "      <th>TX_lagged_27</th>\n",
       "      <th>WI_lagged_27</th>\n",
       "      <th>CA_lagged_28</th>\n",
       "      <th>TX_lagged_28</th>\n",
       "      <th>WI_lagged_28</th>\n",
       "    </tr>\n",
       "  </thead>\n",
       "  <tbody>\n",
       "    <tr>\n",
       "      <th>0</th>\n",
       "      <td>2011-01-29</td>\n",
       "      <td>0.573730</td>\n",
       "      <td>0.503418</td>\n",
       "      <td>0.50000</td>\n",
       "      <td>0</td>\n",
       "      <td>0</td>\n",
       "      <td>0</td>\n",
       "      <td>1.0</td>\n",
       "      <td>0.0</td>\n",
       "      <td>0.230469</td>\n",
       "      <td>...</td>\n",
       "      <td>0.481201</td>\n",
       "      <td>0.593750</td>\n",
       "      <td>0.500000</td>\n",
       "      <td>0.481201</td>\n",
       "      <td>0.477539</td>\n",
       "      <td>0.390381</td>\n",
       "      <td>0.357422</td>\n",
       "      <td>11824.0</td>\n",
       "      <td>7320.0</td>\n",
       "      <td>6432.0</td>\n",
       "    </tr>\n",
       "    <tr>\n",
       "      <th>1</th>\n",
       "      <td>2011-01-29</td>\n",
       "      <td>0.573730</td>\n",
       "      <td>0.503418</td>\n",
       "      <td>0.50000</td>\n",
       "      <td>0</td>\n",
       "      <td>0</td>\n",
       "      <td>0</td>\n",
       "      <td>1.0</td>\n",
       "      <td>0.0</td>\n",
       "      <td>0.000000</td>\n",
       "      <td>...</td>\n",
       "      <td>0.481201</td>\n",
       "      <td>0.477539</td>\n",
       "      <td>0.390381</td>\n",
       "      <td>0.357422</td>\n",
       "      <td>0.477539</td>\n",
       "      <td>0.390381</td>\n",
       "      <td>0.357422</td>\n",
       "      <td>11824.0</td>\n",
       "      <td>7320.0</td>\n",
       "      <td>6432.0</td>\n",
       "    </tr>\n",
       "    <tr>\n",
       "      <th>2</th>\n",
       "      <td>2011-01-29</td>\n",
       "      <td>0.573730</td>\n",
       "      <td>0.503418</td>\n",
       "      <td>0.50000</td>\n",
       "      <td>0</td>\n",
       "      <td>0</td>\n",
       "      <td>0</td>\n",
       "      <td>1.0</td>\n",
       "      <td>0.0</td>\n",
       "      <td>0.230469</td>\n",
       "      <td>...</td>\n",
       "      <td>0.357422</td>\n",
       "      <td>0.477539</td>\n",
       "      <td>0.390381</td>\n",
       "      <td>0.357422</td>\n",
       "      <td>0.477539</td>\n",
       "      <td>0.390381</td>\n",
       "      <td>0.357422</td>\n",
       "      <td>10936.0</td>\n",
       "      <td>6224.0</td>\n",
       "      <td>5912.0</td>\n",
       "    </tr>\n",
       "    <tr>\n",
       "      <th>3</th>\n",
       "      <td>2011-01-30</td>\n",
       "      <td>0.558105</td>\n",
       "      <td>0.513672</td>\n",
       "      <td>0.46167</td>\n",
       "      <td>0</td>\n",
       "      <td>0</td>\n",
       "      <td>0</td>\n",
       "      <td>1.0</td>\n",
       "      <td>0.0</td>\n",
       "      <td>0.230469</td>\n",
       "      <td>...</td>\n",
       "      <td>0.357422</td>\n",
       "      <td>0.477539</td>\n",
       "      <td>0.390381</td>\n",
       "      <td>0.357422</td>\n",
       "      <td>0.441650</td>\n",
       "      <td>0.332031</td>\n",
       "      <td>0.328369</td>\n",
       "      <td>10936.0</td>\n",
       "      <td>6224.0</td>\n",
       "      <td>5912.0</td>\n",
       "    </tr>\n",
       "    <tr>\n",
       "      <th>4</th>\n",
       "      <td>2011-01-30</td>\n",
       "      <td>0.558105</td>\n",
       "      <td>0.513672</td>\n",
       "      <td>0.46167</td>\n",
       "      <td>0</td>\n",
       "      <td>0</td>\n",
       "      <td>0</td>\n",
       "      <td>1.0</td>\n",
       "      <td>0.0</td>\n",
       "      <td>0.000000</td>\n",
       "      <td>...</td>\n",
       "      <td>0.357422</td>\n",
       "      <td>0.441650</td>\n",
       "      <td>0.332031</td>\n",
       "      <td>0.328369</td>\n",
       "      <td>0.441650</td>\n",
       "      <td>0.332031</td>\n",
       "      <td>0.328369</td>\n",
       "      <td>10936.0</td>\n",
       "      <td>6224.0</td>\n",
       "      <td>5912.0</td>\n",
       "    </tr>\n",
       "  </tbody>\n",
       "</table>\n",
       "<p>5 rows × 109 columns</p>\n",
       "</div>"
      ],
      "text/plain": [
       "        date        CA        TX       WI  snap_CA  snap_TX  snap_WI  \\\n",
       "0 2011-01-29  0.573730  0.503418  0.50000        0        0        0   \n",
       "1 2011-01-29  0.573730  0.503418  0.50000        0        0        0   \n",
       "2 2011-01-29  0.573730  0.503418  0.50000        0        0        0   \n",
       "3 2011-01-30  0.558105  0.513672  0.46167        0        0        0   \n",
       "4 2011-01-30  0.558105  0.513672  0.46167        0        0        0   \n",
       "\n",
       "   sales_price_min  sales_price_max  sales_price_mean  ...  WI_lagged_25  \\\n",
       "0              1.0              0.0          0.230469  ...      0.481201   \n",
       "1              1.0              0.0          0.000000  ...      0.481201   \n",
       "2              1.0              0.0          0.230469  ...      0.357422   \n",
       "3              1.0              0.0          0.230469  ...      0.357422   \n",
       "4              1.0              0.0          0.000000  ...      0.357422   \n",
       "\n",
       "   CA_lagged_26  TX_lagged_26  WI_lagged_26  CA_lagged_27  TX_lagged_27  \\\n",
       "0      0.593750      0.500000      0.481201      0.477539      0.390381   \n",
       "1      0.477539      0.390381      0.357422      0.477539      0.390381   \n",
       "2      0.477539      0.390381      0.357422      0.477539      0.390381   \n",
       "3      0.477539      0.390381      0.357422      0.441650      0.332031   \n",
       "4      0.441650      0.332031      0.328369      0.441650      0.332031   \n",
       "\n",
       "   WI_lagged_27  CA_lagged_28  TX_lagged_28  WI_lagged_28  \n",
       "0      0.357422       11824.0        7320.0        6432.0  \n",
       "1      0.357422       11824.0        7320.0        6432.0  \n",
       "2      0.357422       10936.0        6224.0        5912.0  \n",
       "3      0.328369       10936.0        6224.0        5912.0  \n",
       "4      0.328369       10936.0        6224.0        5912.0  \n",
       "\n",
       "[5 rows x 109 columns]"
      ]
     },
     "execution_count": 65,
     "metadata": {},
     "output_type": "execute_result"
    }
   ],
   "source": [
    "sales_df_train.reset_index(inplace = True)\n",
    "sales_df_train.head()"
   ]
  },
  {
   "cell_type": "code",
   "execution_count": 66,
   "id": "fc65c816",
   "metadata": {
    "execution": {
     "iopub.execute_input": "2022-12-08T06:16:04.411765Z",
     "iopub.status.busy": "2022-12-08T06:16:04.411332Z",
     "iopub.status.idle": "2022-12-08T06:16:04.438932Z",
     "shell.execute_reply": "2022-12-08T06:16:04.437913Z"
    },
    "papermill": {
     "duration": 0.06355,
     "end_time": "2022-12-08T06:16:04.441329",
     "exception": false,
     "start_time": "2022-12-08T06:16:04.377779",
     "status": "completed"
    },
    "tags": []
   },
   "outputs": [
    {
     "name": "stderr",
     "output_type": "stream",
     "text": [
      "/opt/conda/lib/python3.7/site-packages/pandas/core/frame.py:4913: SettingWithCopyWarning: \n",
      "A value is trying to be set on a copy of a slice from a DataFrame\n",
      "\n",
      "See the caveats in the documentation: https://pandas.pydata.org/pandas-docs/stable/user_guide/indexing.html#returning-a-view-versus-a-copy\n",
      "  errors=errors,\n"
     ]
    },
    {
     "data": {
      "text/html": [
       "<div>\n",
       "<style scoped>\n",
       "    .dataframe tbody tr th:only-of-type {\n",
       "        vertical-align: middle;\n",
       "    }\n",
       "\n",
       "    .dataframe tbody tr th {\n",
       "        vertical-align: top;\n",
       "    }\n",
       "\n",
       "    .dataframe thead th {\n",
       "        text-align: right;\n",
       "    }\n",
       "</style>\n",
       "<table border=\"1\" class=\"dataframe\">\n",
       "  <thead>\n",
       "    <tr style=\"text-align: right;\">\n",
       "      <th></th>\n",
       "      <th>CA</th>\n",
       "      <th>TX</th>\n",
       "      <th>WI</th>\n",
       "      <th>snap_CA</th>\n",
       "      <th>snap_TX</th>\n",
       "      <th>snap_WI</th>\n",
       "      <th>sales_price_min</th>\n",
       "      <th>sales_price_max</th>\n",
       "      <th>sales_price_mean</th>\n",
       "      <th>weekday_Friday</th>\n",
       "      <th>...</th>\n",
       "      <th>WI_lagged_25</th>\n",
       "      <th>CA_lagged_26</th>\n",
       "      <th>TX_lagged_26</th>\n",
       "      <th>WI_lagged_26</th>\n",
       "      <th>CA_lagged_27</th>\n",
       "      <th>TX_lagged_27</th>\n",
       "      <th>WI_lagged_27</th>\n",
       "      <th>CA_lagged_28</th>\n",
       "      <th>TX_lagged_28</th>\n",
       "      <th>WI_lagged_28</th>\n",
       "    </tr>\n",
       "  </thead>\n",
       "  <tbody>\n",
       "    <tr>\n",
       "      <th>0</th>\n",
       "      <td>0.573730</td>\n",
       "      <td>0.503418</td>\n",
       "      <td>0.50000</td>\n",
       "      <td>0</td>\n",
       "      <td>0</td>\n",
       "      <td>0</td>\n",
       "      <td>1.0</td>\n",
       "      <td>0.0</td>\n",
       "      <td>0.230469</td>\n",
       "      <td>0</td>\n",
       "      <td>...</td>\n",
       "      <td>0.481201</td>\n",
       "      <td>0.593750</td>\n",
       "      <td>0.500000</td>\n",
       "      <td>0.481201</td>\n",
       "      <td>0.477539</td>\n",
       "      <td>0.390381</td>\n",
       "      <td>0.357422</td>\n",
       "      <td>11824.0</td>\n",
       "      <td>7320.0</td>\n",
       "      <td>6432.0</td>\n",
       "    </tr>\n",
       "    <tr>\n",
       "      <th>1</th>\n",
       "      <td>0.573730</td>\n",
       "      <td>0.503418</td>\n",
       "      <td>0.50000</td>\n",
       "      <td>0</td>\n",
       "      <td>0</td>\n",
       "      <td>0</td>\n",
       "      <td>1.0</td>\n",
       "      <td>0.0</td>\n",
       "      <td>0.000000</td>\n",
       "      <td>0</td>\n",
       "      <td>...</td>\n",
       "      <td>0.481201</td>\n",
       "      <td>0.477539</td>\n",
       "      <td>0.390381</td>\n",
       "      <td>0.357422</td>\n",
       "      <td>0.477539</td>\n",
       "      <td>0.390381</td>\n",
       "      <td>0.357422</td>\n",
       "      <td>11824.0</td>\n",
       "      <td>7320.0</td>\n",
       "      <td>6432.0</td>\n",
       "    </tr>\n",
       "    <tr>\n",
       "      <th>2</th>\n",
       "      <td>0.573730</td>\n",
       "      <td>0.503418</td>\n",
       "      <td>0.50000</td>\n",
       "      <td>0</td>\n",
       "      <td>0</td>\n",
       "      <td>0</td>\n",
       "      <td>1.0</td>\n",
       "      <td>0.0</td>\n",
       "      <td>0.230469</td>\n",
       "      <td>0</td>\n",
       "      <td>...</td>\n",
       "      <td>0.357422</td>\n",
       "      <td>0.477539</td>\n",
       "      <td>0.390381</td>\n",
       "      <td>0.357422</td>\n",
       "      <td>0.477539</td>\n",
       "      <td>0.390381</td>\n",
       "      <td>0.357422</td>\n",
       "      <td>10936.0</td>\n",
       "      <td>6224.0</td>\n",
       "      <td>5912.0</td>\n",
       "    </tr>\n",
       "    <tr>\n",
       "      <th>3</th>\n",
       "      <td>0.558105</td>\n",
       "      <td>0.513672</td>\n",
       "      <td>0.46167</td>\n",
       "      <td>0</td>\n",
       "      <td>0</td>\n",
       "      <td>0</td>\n",
       "      <td>1.0</td>\n",
       "      <td>0.0</td>\n",
       "      <td>0.230469</td>\n",
       "      <td>0</td>\n",
       "      <td>...</td>\n",
       "      <td>0.357422</td>\n",
       "      <td>0.477539</td>\n",
       "      <td>0.390381</td>\n",
       "      <td>0.357422</td>\n",
       "      <td>0.441650</td>\n",
       "      <td>0.332031</td>\n",
       "      <td>0.328369</td>\n",
       "      <td>10936.0</td>\n",
       "      <td>6224.0</td>\n",
       "      <td>5912.0</td>\n",
       "    </tr>\n",
       "    <tr>\n",
       "      <th>4</th>\n",
       "      <td>0.558105</td>\n",
       "      <td>0.513672</td>\n",
       "      <td>0.46167</td>\n",
       "      <td>0</td>\n",
       "      <td>0</td>\n",
       "      <td>0</td>\n",
       "      <td>1.0</td>\n",
       "      <td>0.0</td>\n",
       "      <td>0.000000</td>\n",
       "      <td>0</td>\n",
       "      <td>...</td>\n",
       "      <td>0.357422</td>\n",
       "      <td>0.441650</td>\n",
       "      <td>0.332031</td>\n",
       "      <td>0.328369</td>\n",
       "      <td>0.441650</td>\n",
       "      <td>0.332031</td>\n",
       "      <td>0.328369</td>\n",
       "      <td>10936.0</td>\n",
       "      <td>6224.0</td>\n",
       "      <td>5912.0</td>\n",
       "    </tr>\n",
       "  </tbody>\n",
       "</table>\n",
       "<p>5 rows × 108 columns</p>\n",
       "</div>"
      ],
      "text/plain": [
       "         CA        TX       WI  snap_CA  snap_TX  snap_WI  sales_price_min  \\\n",
       "0  0.573730  0.503418  0.50000        0        0        0              1.0   \n",
       "1  0.573730  0.503418  0.50000        0        0        0              1.0   \n",
       "2  0.573730  0.503418  0.50000        0        0        0              1.0   \n",
       "3  0.558105  0.513672  0.46167        0        0        0              1.0   \n",
       "4  0.558105  0.513672  0.46167        0        0        0              1.0   \n",
       "\n",
       "   sales_price_max  sales_price_mean  weekday_Friday  ...  WI_lagged_25  \\\n",
       "0              0.0          0.230469               0  ...      0.481201   \n",
       "1              0.0          0.000000               0  ...      0.481201   \n",
       "2              0.0          0.230469               0  ...      0.357422   \n",
       "3              0.0          0.230469               0  ...      0.357422   \n",
       "4              0.0          0.000000               0  ...      0.357422   \n",
       "\n",
       "   CA_lagged_26  TX_lagged_26  WI_lagged_26  CA_lagged_27  TX_lagged_27  \\\n",
       "0      0.593750      0.500000      0.481201      0.477539      0.390381   \n",
       "1      0.477539      0.390381      0.357422      0.477539      0.390381   \n",
       "2      0.477539      0.390381      0.357422      0.477539      0.390381   \n",
       "3      0.477539      0.390381      0.357422      0.441650      0.332031   \n",
       "4      0.441650      0.332031      0.328369      0.441650      0.332031   \n",
       "\n",
       "   WI_lagged_27  CA_lagged_28  TX_lagged_28  WI_lagged_28  \n",
       "0      0.357422       11824.0        7320.0        6432.0  \n",
       "1      0.357422       11824.0        7320.0        6432.0  \n",
       "2      0.357422       10936.0        6224.0        5912.0  \n",
       "3      0.328369       10936.0        6224.0        5912.0  \n",
       "4      0.328369       10936.0        6224.0        5912.0  \n",
       "\n",
       "[5 rows x 108 columns]"
      ]
     },
     "execution_count": 66,
     "metadata": {},
     "output_type": "execute_result"
    }
   ],
   "source": [
    "sales_df_train.drop(['date'], axis = 1, inplace = True)\n",
    "sales_df_train.head()"
   ]
  },
  {
   "cell_type": "code",
   "execution_count": 67,
   "id": "6230ab81",
   "metadata": {
    "execution": {
     "iopub.execute_input": "2022-12-08T06:16:04.565401Z",
     "iopub.status.busy": "2022-12-08T06:16:04.565033Z",
     "iopub.status.idle": "2022-12-08T06:16:04.589622Z",
     "shell.execute_reply": "2022-12-08T06:16:04.588707Z"
    },
    "papermill": {
     "duration": 0.118392,
     "end_time": "2022-12-08T06:16:04.592319",
     "exception": false,
     "start_time": "2022-12-08T06:16:04.473927",
     "status": "completed"
    },
    "tags": []
   },
   "outputs": [
    {
     "data": {
      "text/html": [
       "<div>\n",
       "<style scoped>\n",
       "    .dataframe tbody tr th:only-of-type {\n",
       "        vertical-align: middle;\n",
       "    }\n",
       "\n",
       "    .dataframe tbody tr th {\n",
       "        vertical-align: top;\n",
       "    }\n",
       "\n",
       "    .dataframe thead th {\n",
       "        text-align: right;\n",
       "    }\n",
       "</style>\n",
       "<table border=\"1\" class=\"dataframe\">\n",
       "  <thead>\n",
       "    <tr style=\"text-align: right;\">\n",
       "      <th></th>\n",
       "      <th>CA</th>\n",
       "      <th>TX</th>\n",
       "      <th>WI</th>\n",
       "      <th>snap_CA</th>\n",
       "      <th>snap_TX</th>\n",
       "      <th>snap_WI</th>\n",
       "      <th>sales_price_min</th>\n",
       "      <th>sales_price_max</th>\n",
       "      <th>sales_price_mean</th>\n",
       "      <th>weekday_Friday</th>\n",
       "      <th>...</th>\n",
       "      <th>WI_lagged_25</th>\n",
       "      <th>CA_lagged_26</th>\n",
       "      <th>TX_lagged_26</th>\n",
       "      <th>WI_lagged_26</th>\n",
       "      <th>CA_lagged_27</th>\n",
       "      <th>TX_lagged_27</th>\n",
       "      <th>WI_lagged_27</th>\n",
       "      <th>CA_lagged_28</th>\n",
       "      <th>TX_lagged_28</th>\n",
       "      <th>WI_lagged_28</th>\n",
       "    </tr>\n",
       "  </thead>\n",
       "  <tbody>\n",
       "    <tr>\n",
       "      <th>0</th>\n",
       "      <td>0.030273</td>\n",
       "      <td>0.136719</td>\n",
       "      <td>0.179688</td>\n",
       "      <td>1</td>\n",
       "      <td>1</td>\n",
       "      <td>0</td>\n",
       "      <td>0.833496</td>\n",
       "      <td>0.0</td>\n",
       "      <td>1.000</td>\n",
       "      <td>1</td>\n",
       "      <td>...</td>\n",
       "      <td>0.745605</td>\n",
       "      <td>0.812500</td>\n",
       "      <td>0.768555</td>\n",
       "      <td>0.745605</td>\n",
       "      <td>0.753906</td>\n",
       "      <td>0.687500</td>\n",
       "      <td>0.364746</td>\n",
       "      <td>22208.0</td>\n",
       "      <td>12632.0</td>\n",
       "      <td>12520.0</td>\n",
       "    </tr>\n",
       "    <tr>\n",
       "      <th>1</th>\n",
       "      <td>0.030273</td>\n",
       "      <td>0.136719</td>\n",
       "      <td>0.179688</td>\n",
       "      <td>1</td>\n",
       "      <td>1</td>\n",
       "      <td>0</td>\n",
       "      <td>0.833496</td>\n",
       "      <td>0.0</td>\n",
       "      <td>0.625</td>\n",
       "      <td>1</td>\n",
       "      <td>...</td>\n",
       "      <td>0.745605</td>\n",
       "      <td>0.753906</td>\n",
       "      <td>0.687500</td>\n",
       "      <td>0.364746</td>\n",
       "      <td>0.753906</td>\n",
       "      <td>0.687500</td>\n",
       "      <td>0.364746</td>\n",
       "      <td>22208.0</td>\n",
       "      <td>12632.0</td>\n",
       "      <td>12520.0</td>\n",
       "    </tr>\n",
       "    <tr>\n",
       "      <th>2</th>\n",
       "      <td>0.030273</td>\n",
       "      <td>0.136719</td>\n",
       "      <td>0.179688</td>\n",
       "      <td>1</td>\n",
       "      <td>1</td>\n",
       "      <td>0</td>\n",
       "      <td>0.833496</td>\n",
       "      <td>0.0</td>\n",
       "      <td>0.000</td>\n",
       "      <td>1</td>\n",
       "      <td>...</td>\n",
       "      <td>0.364746</td>\n",
       "      <td>0.753906</td>\n",
       "      <td>0.687500</td>\n",
       "      <td>0.364746</td>\n",
       "      <td>0.753906</td>\n",
       "      <td>0.687500</td>\n",
       "      <td>0.364746</td>\n",
       "      <td>16208.0</td>\n",
       "      <td>10528.0</td>\n",
       "      <td>11256.0</td>\n",
       "    </tr>\n",
       "    <tr>\n",
       "      <th>3</th>\n",
       "      <td>0.496094</td>\n",
       "      <td>0.368164</td>\n",
       "      <td>0.609863</td>\n",
       "      <td>1</td>\n",
       "      <td>0</td>\n",
       "      <td>1</td>\n",
       "      <td>0.833496</td>\n",
       "      <td>0.0</td>\n",
       "      <td>0.000</td>\n",
       "      <td>0</td>\n",
       "      <td>...</td>\n",
       "      <td>0.364746</td>\n",
       "      <td>0.753906</td>\n",
       "      <td>0.687500</td>\n",
       "      <td>0.364746</td>\n",
       "      <td>0.262695</td>\n",
       "      <td>0.364258</td>\n",
       "      <td>0.252441</td>\n",
       "      <td>16208.0</td>\n",
       "      <td>10528.0</td>\n",
       "      <td>11256.0</td>\n",
       "    </tr>\n",
       "    <tr>\n",
       "      <th>4</th>\n",
       "      <td>0.496094</td>\n",
       "      <td>0.368164</td>\n",
       "      <td>0.609863</td>\n",
       "      <td>1</td>\n",
       "      <td>0</td>\n",
       "      <td>1</td>\n",
       "      <td>0.833496</td>\n",
       "      <td>0.0</td>\n",
       "      <td>1.000</td>\n",
       "      <td>0</td>\n",
       "      <td>...</td>\n",
       "      <td>0.364746</td>\n",
       "      <td>0.262695</td>\n",
       "      <td>0.364258</td>\n",
       "      <td>0.252441</td>\n",
       "      <td>0.262695</td>\n",
       "      <td>0.364258</td>\n",
       "      <td>0.252441</td>\n",
       "      <td>16208.0</td>\n",
       "      <td>10528.0</td>\n",
       "      <td>11256.0</td>\n",
       "    </tr>\n",
       "  </tbody>\n",
       "</table>\n",
       "<p>5 rows × 108 columns</p>\n",
       "</div>"
      ],
      "text/plain": [
       "         CA        TX        WI  snap_CA  snap_TX  snap_WI  sales_price_min  \\\n",
       "0  0.030273  0.136719  0.179688        1        1        0         0.833496   \n",
       "1  0.030273  0.136719  0.179688        1        1        0         0.833496   \n",
       "2  0.030273  0.136719  0.179688        1        1        0         0.833496   \n",
       "3  0.496094  0.368164  0.609863        1        0        1         0.833496   \n",
       "4  0.496094  0.368164  0.609863        1        0        1         0.833496   \n",
       "\n",
       "   sales_price_max  sales_price_mean  weekday_Friday  ...  WI_lagged_25  \\\n",
       "0              0.0             1.000               1  ...      0.745605   \n",
       "1              0.0             0.625               1  ...      0.745605   \n",
       "2              0.0             0.000               1  ...      0.364746   \n",
       "3              0.0             0.000               0  ...      0.364746   \n",
       "4              0.0             1.000               0  ...      0.364746   \n",
       "\n",
       "   CA_lagged_26  TX_lagged_26  WI_lagged_26  CA_lagged_27  TX_lagged_27  \\\n",
       "0      0.812500      0.768555      0.745605      0.753906      0.687500   \n",
       "1      0.753906      0.687500      0.364746      0.753906      0.687500   \n",
       "2      0.753906      0.687500      0.364746      0.753906      0.687500   \n",
       "3      0.753906      0.687500      0.364746      0.262695      0.364258   \n",
       "4      0.262695      0.364258      0.252441      0.262695      0.364258   \n",
       "\n",
       "   WI_lagged_27  CA_lagged_28  TX_lagged_28  WI_lagged_28  \n",
       "0      0.364746       22208.0       12632.0       12520.0  \n",
       "1      0.364746       22208.0       12632.0       12520.0  \n",
       "2      0.364746       16208.0       10528.0       11256.0  \n",
       "3      0.252441       16208.0       10528.0       11256.0  \n",
       "4      0.252441       16208.0       10528.0       11256.0  \n",
       "\n",
       "[5 rows x 108 columns]"
      ]
     },
     "execution_count": 67,
     "metadata": {},
     "output_type": "execute_result"
    }
   ],
   "source": [
    "sales_df_test.reset_index(inplace = True, drop = True)\n",
    "sales_df_test.head()"
   ]
  },
  {
   "cell_type": "code",
   "execution_count": 68,
   "id": "fee52cbf",
   "metadata": {
    "execution": {
     "iopub.execute_input": "2022-12-08T06:16:04.659843Z",
     "iopub.status.busy": "2022-12-08T06:16:04.659447Z",
     "iopub.status.idle": "2022-12-08T06:16:04.666332Z",
     "shell.execute_reply": "2022-12-08T06:16:04.665538Z"
    },
    "papermill": {
     "duration": 0.044561,
     "end_time": "2022-12-08T06:16:04.668975",
     "exception": false,
     "start_time": "2022-12-08T06:16:04.624414",
     "status": "completed"
    },
    "tags": []
   },
   "outputs": [],
   "source": [
    "train_y = sales_df_train[['CA_lagged_28', 'TX_lagged_28', 'WI_lagged_28']].values\n",
    "test_y = sales_df_test[['CA_lagged_28', 'TX_lagged_28', 'WI_lagged_28']].values"
   ]
  },
  {
   "cell_type": "code",
   "execution_count": 69,
   "id": "deb35c84",
   "metadata": {
    "execution": {
     "iopub.execute_input": "2022-12-08T06:16:04.736869Z",
     "iopub.status.busy": "2022-12-08T06:16:04.736449Z",
     "iopub.status.idle": "2022-12-08T06:16:04.744463Z",
     "shell.execute_reply": "2022-12-08T06:16:04.743114Z"
    },
    "papermill": {
     "duration": 0.043511,
     "end_time": "2022-12-08T06:16:04.746570",
     "exception": false,
     "start_time": "2022-12-08T06:16:04.703059",
     "status": "completed"
    },
    "tags": []
   },
   "outputs": [
    {
     "data": {
      "text/plain": [
       "array([[11824.,  7320.,  6432.],\n",
       "       [11824.,  7320.,  6432.],\n",
       "       [10936.,  6224.,  5912.],\n",
       "       ...,\n",
       "       [16248., 11160., 15648.],\n",
       "       [16248., 11160., 15648.],\n",
       "       [16248., 11160., 15648.]], dtype=float16)"
      ]
     },
     "execution_count": 69,
     "metadata": {},
     "output_type": "execute_result"
    }
   ],
   "source": [
    "train_y"
   ]
  },
  {
   "cell_type": "code",
   "execution_count": 70,
   "id": "26cab7bd",
   "metadata": {
    "execution": {
     "iopub.execute_input": "2022-12-08T06:16:04.814169Z",
     "iopub.status.busy": "2022-12-08T06:16:04.813802Z",
     "iopub.status.idle": "2022-12-08T06:16:04.819251Z",
     "shell.execute_reply": "2022-12-08T06:16:04.818557Z"
    },
    "papermill": {
     "duration": 0.042517,
     "end_time": "2022-12-08T06:16:04.821783",
     "exception": false,
     "start_time": "2022-12-08T06:16:04.779266",
     "status": "completed"
    },
    "tags": []
   },
   "outputs": [
    {
     "data": {
      "text/plain": [
       "(5366, 3)"
      ]
     },
     "execution_count": 70,
     "metadata": {},
     "output_type": "execute_result"
    }
   ],
   "source": [
    "train_y.shape"
   ]
  },
  {
   "cell_type": "code",
   "execution_count": 71,
   "id": "0a3b7e26",
   "metadata": {
    "execution": {
     "iopub.execute_input": "2022-12-08T06:16:04.890551Z",
     "iopub.status.busy": "2022-12-08T06:16:04.890098Z",
     "iopub.status.idle": "2022-12-08T06:16:04.906935Z",
     "shell.execute_reply": "2022-12-08T06:16:04.905612Z"
    },
    "papermill": {
     "duration": 0.05437,
     "end_time": "2022-12-08T06:16:04.909419",
     "exception": false,
     "start_time": "2022-12-08T06:16:04.855049",
     "status": "completed"
    },
    "tags": []
   },
   "outputs": [
    {
     "data": {
      "text/plain": [
       "array([[22208., 12632., 12520.],\n",
       "       [22208., 12632., 12520.],\n",
       "       [16208., 10528., 11256.],\n",
       "       [16208., 10528., 11256.],\n",
       "       [16208., 10528., 11256.],\n",
       "       [14056., 10192., 10872.],\n",
       "       [14056., 10192., 10872.],\n",
       "       [14056., 10192., 10872.],\n",
       "       [13000.,  9536.,  9688.],\n",
       "       [13000.,  9536.,  9688.],\n",
       "       [13000.,  9536.,  9688.],\n",
       "       [13368.,  9312., 13176.],\n",
       "       [13368.,  9312., 13176.],\n",
       "       [13368.,  9312., 13176.],\n",
       "       [15800., 10856., 15136.],\n",
       "       [15800., 10856., 15136.],\n",
       "       [15800., 10856., 15136.],\n",
       "       [21376., 12768., 17008.],\n",
       "       [21376., 12768., 17008.],\n",
       "       [21376., 12768., 17008.],\n",
       "       [20848., 13104., 11576.],\n",
       "       [20848., 13104., 11576.],\n",
       "       [20848., 13104., 11576.],\n",
       "       [18000., 10688.,  9648.],\n",
       "       [18000., 10688.,  9648.],\n",
       "       [18000., 10688.,  9648.],\n",
       "       [13384.,  9008.,  9592.],\n",
       "       [13384.,  9008.,  9592.],\n",
       "       [13384.,  9008.,  9592.],\n",
       "       [14240.,  8768.,  9672.],\n",
       "       [14240.,  8768.,  9672.],\n",
       "       [14240.,  8768.,  9672.],\n",
       "       [13936.,  8656.,  9184.],\n",
       "       [13936.,  8656.,  9184.],\n",
       "       [13936.,  8656.,  9184.],\n",
       "       [15104., 10128., 11072.],\n",
       "       [15104., 10128., 11072.],\n",
       "       [15104., 10128., 11072.],\n",
       "       [22848., 11840., 14248.],\n",
       "       [22848., 11840., 14248.],\n",
       "       [22848., 11840., 14248.],\n",
       "       [21840., 12720., 13264.],\n",
       "       [21840., 12720., 13264.],\n",
       "       [21840., 12720., 13264.],\n",
       "       [15840.,  9648.,  8904.],\n",
       "       [15840.,  9648.,  8904.],\n",
       "       [15840.,  9648.,  8904.],\n",
       "       [13872.,  8160.,  8416.],\n",
       "       [13872.,  8160.,  8416.],\n",
       "       [13872.,  8160.,  8416.],\n",
       "       [13768.,  8512.,  9072.],\n",
       "       [13768.,  8512.,  9072.],\n",
       "       [13768.,  8512.,  9072.],\n",
       "       [13800.,  8896.,  9776.],\n",
       "       [13800.,  8896.,  9776.],\n",
       "       [13800.,  8896.,  9776.],\n",
       "       [15904.,  9744., 11992.],\n",
       "       [15904.,  9744., 11992.],\n",
       "       [15904.,  9744., 11992.],\n",
       "       [21392., 11936., 15776.],\n",
       "       [21392., 11936., 15776.],\n",
       "       [21392., 11936., 15776.],\n",
       "       [23504., 13016., 14312.],\n",
       "       [23504., 13016., 14312.],\n",
       "       [23504., 13016., 14312.],\n",
       "       [16624., 11696., 13392.],\n",
       "       [16624., 11696., 13392.],\n",
       "       [16624., 11696., 13392.],\n",
       "       [15144.,  8944., 10840.],\n",
       "       [15144.,  8944., 10840.],\n",
       "       [15144.,  8944., 10840.],\n",
       "       [15376., 10896., 13072.],\n",
       "       [15376., 10896., 13072.],\n",
       "       [15376., 10896., 13072.],\n",
       "       [15456.,  9312., 10656.],\n",
       "       [15456.,  9312., 10656.],\n",
       "       [15456.,  9312., 10656.],\n",
       "       [16912., 10352., 12936.],\n",
       "       [16912., 10352., 12936.],\n",
       "       [16912., 10352., 12936.],\n",
       "       [23216., 13608., 18224.],\n",
       "       [23216., 13608., 18224.],\n",
       "       [23216., 13608., 18224.],\n",
       "       [18656., 14152., 14080.],\n",
       "       [18656., 14152., 14080.],\n",
       "       [18656., 14152., 14080.],\n",
       "       [15568., 10264., 10976.],\n",
       "       [15568., 10264., 10976.],\n",
       "       [15568., 10264., 10976.],\n",
       "       [15576., 10544., 12400.],\n",
       "       [15576., 10544., 12400.],\n",
       "       [15576., 10544., 12400.],\n",
       "       [16328., 10832., 12192.],\n",
       "       [16328., 10832., 12192.],\n",
       "       [16328., 10832., 12192.],\n",
       "       [16960., 12672., 14952.],\n",
       "       [16960., 12672., 14952.],\n",
       "       [16960., 12672., 14952.],\n",
       "       [16864., 11840., 15528.],\n",
       "       [16864., 11840., 15528.],\n",
       "       [16864., 11840., 15528.],\n",
       "       [21856., 14360., 17504.],\n",
       "       [21856., 14360., 17504.],\n",
       "       [21856., 14360., 17504.],\n",
       "       [19232., 13392., 15704.],\n",
       "       [19232., 13392., 15704.],\n",
       "       [19232., 13392., 15704.],\n",
       "       [19232., 12112., 14808.],\n",
       "       [19232., 12112., 14808.],\n",
       "       [19232., 12112., 14808.],\n",
       "       [15248., 10344., 12112.],\n",
       "       [15248., 10344., 12112.],\n",
       "       [15248., 10344., 12112.],\n",
       "       [14552.,  9904., 12088.],\n",
       "       [14552.,  9904., 12088.],\n",
       "       [14552.,  9904., 12088.],\n",
       "       [15304., 10104., 11024.],\n",
       "       [15304., 10104., 11024.],\n",
       "       [15304., 10104., 11024.],\n",
       "       [17120., 10824., 12448.],\n",
       "       [17120., 10824., 12448.],\n",
       "       [17120., 10824., 12448.],\n",
       "       [21344., 13280., 16224.],\n",
       "       [21344., 13280., 16224.],\n",
       "       [21344., 13280., 16224.],\n",
       "       [22544., 14664., 14880.],\n",
       "       [22544., 14664., 14880.],\n",
       "       [22544., 14664., 14880.],\n",
       "       [16272., 10416., 10640.],\n",
       "       [16272., 10416., 10640.],\n",
       "       [16272., 10416., 10640.],\n",
       "       [14616.,  9456.,  9904.],\n",
       "       [14616.,  9456.,  9904.],\n",
       "       [14616.,  9456.,  9904.],\n",
       "       [13944.,  9840., 10280.],\n",
       "       [13944.,  9840., 10280.],\n",
       "       [13944.,  9840., 10280.],\n",
       "       [14520.,  9488., 10608.],\n",
       "       [14520.,  9488., 10608.],\n",
       "       [14520.,  9488., 10608.],\n",
       "       [16344.,  9896., 11408.],\n",
       "       [16344.,  9896., 11408.],\n",
       "       [16344.,  9896., 11408.],\n",
       "       [21552., 11576., 14768.],\n",
       "       [21552., 11576., 14768.],\n",
       "       [21552., 11576., 14768.],\n",
       "       [23152., 13376., 14384.],\n",
       "       [23152., 13376., 14384.],\n",
       "       [23152., 13376., 14384.],\n",
       "       [16232.,  9960., 11064.],\n",
       "       [16232.,  9960., 11064.],\n",
       "       [16232.,  9960., 11064.],\n",
       "       [16296., 10840.,  9400.],\n",
       "       [16296., 10840.,  9400.],\n",
       "       [16296., 10840.,  9400.],\n",
       "       [15416.,  9904., 13144.],\n",
       "       [15416.,  9904., 13144.],\n",
       "       [15416.,  9904., 13144.],\n",
       "       [15624., 11392., 14440.],\n",
       "       [15624., 11392., 14440.],\n",
       "       [15624., 11392., 14440.],\n",
       "       [16096., 10160., 13072.],\n",
       "       [16096., 10160., 13072.],\n",
       "       [16096., 10160., 13072.],\n",
       "       [22016., 12496., 17808.],\n",
       "       [22016., 12496., 17808.],\n",
       "       [22016., 12496., 17808.],\n",
       "       [25216., 14152., 17840.],\n",
       "       [25216., 14152., 17840.],\n",
       "       [25216., 14152., 17840.],\n",
       "       [17152., 11600., 11808.],\n",
       "       [17152., 11600., 11808.],\n",
       "       [17152., 11600., 11808.],\n",
       "       [16080.,  9784., 11856.],\n",
       "       [16080.,  9784., 11856.],\n",
       "       [16080.,  9784., 11856.],\n",
       "       [15544.,  9088., 12400.],\n",
       "       [15544.,  9088., 12400.],\n",
       "       [15544.,  9088., 12400.],\n",
       "       [15832., 10648., 11784.],\n",
       "       [15832., 10648., 11784.],\n",
       "       [15832., 10648., 11784.],\n",
       "       [16272., 11064., 13544.],\n",
       "       [16272., 11064., 13544.],\n",
       "       [16272., 11064., 13544.],\n",
       "       [22512., 13112., 17088.],\n",
       "       [22512., 13112., 17088.],\n",
       "       [22512., 13112., 17088.],\n",
       "       [21936., 13464., 16016.],\n",
       "       [21936., 13464., 16016.],\n",
       "       [21936., 13464., 16016.],\n",
       "       [16864., 11880., 13296.],\n",
       "       [16864., 11880., 13296.],\n",
       "       [16864., 11880., 13296.],\n",
       "       [15048., 11656., 13408.],\n",
       "       [15048., 11656., 13408.],\n",
       "       [15048., 11656., 13408.],\n",
       "       [14808., 10480., 11320.],\n",
       "       [14808., 10480., 11320.],\n",
       "       [14808., 10480., 11320.],\n",
       "       [14192., 10168., 10640.],\n",
       "       [14192., 10168., 10640.],\n",
       "       [14192., 10168., 10640.],\n",
       "       [16672., 10752., 12232.],\n",
       "       [16672., 10752., 12232.],\n",
       "       [16672., 10752., 12232.],\n",
       "       [18896., 12208., 15072.],\n",
       "       [18896., 12208., 15072.],\n",
       "       [18896., 12208., 15072.],\n",
       "       [19424., 13424., 14976.],\n",
       "       [19424., 13424., 14976.],\n",
       "       [19424., 13424., 14976.],\n",
       "       [16544.,  9976., 10848.],\n",
       "       [16544.,  9976., 10848.],\n",
       "       [16544.,  9976., 10848.],\n",
       "       [15584.,  9824., 10064.],\n",
       "       [15584.,  9824., 10064.],\n",
       "       [15584.,  9824., 10064.],\n",
       "       [15144., 10344.,  9304.],\n",
       "       [15144., 10344.,  9304.],\n",
       "       [15144., 10344.,  9304.],\n",
       "       [15232.,  9304.,  9472.],\n",
       "       [15232.,  9304.,  9472.],\n",
       "       [15232.,  9304.,  9472.],\n",
       "       [18688., 12232., 14680.],\n",
       "       [18688., 12232., 14680.],\n",
       "       [18688., 12232., 14680.],\n",
       "       [23792., 13592., 16480.],\n",
       "       [23792., 13592., 16480.],\n",
       "       [23792., 13592., 16480.],\n",
       "       [21296., 13336., 11728.],\n",
       "       [21296., 13336., 11728.],\n",
       "       [21296., 13336., 11728.],\n",
       "       [15480., 10304., 10256.],\n",
       "       [15480., 10304., 10256.],\n",
       "       [15480., 10304., 10256.],\n",
       "       [15320.,  8320., 10216.],\n",
       "       [15320.,  8320., 10216.],\n",
       "       [15320.,  8320., 10216.],\n",
       "       [14352.,  8832.,  9176.],\n",
       "       [14352.,  8832.,  9176.],\n",
       "       [14352.,  8832.,  9176.],\n",
       "       [15600.,  9304.,  9776.],\n",
       "       [15600.,  9304.,  9776.],\n",
       "       [15600.,  9304.,  9776.],\n",
       "       [18928., 11856., 14760.],\n",
       "       [18928., 11856., 14760.],\n",
       "       [18928., 11856., 14760.],\n",
       "       [22176., 13096., 17408.],\n",
       "       [22176., 13096., 17408.],\n",
       "       [22176., 13096., 17408.],\n",
       "       [24576., 14048., 17792.],\n",
       "       [24576., 14048., 17792.],\n",
       "       [24576., 14048., 17792.],\n",
       "       [18192., 10496., 11728.],\n",
       "       [18192., 10496., 11728.],\n",
       "       [18192., 10496., 11728.],\n",
       "       [16400., 10464., 12824.],\n",
       "       [16400., 10464., 12824.],\n",
       "       [16400., 10464., 12824.],\n",
       "       [15808., 10336., 12992.],\n",
       "       [15808., 10336., 12992.],\n",
       "       [15808., 10336., 12992.],\n",
       "       [15456., 10600., 12056.],\n",
       "       [15456., 10600., 12056.],\n",
       "       [15456., 10600., 12056.],\n",
       "       [17712., 10768., 14736.],\n",
       "       [17712., 10768., 14736.],\n",
       "       [17712., 10768., 14736.],\n",
       "       [23312., 13360., 19664.],\n",
       "       [23312., 13360., 19664.],\n",
       "       [23312., 13360., 19664.],\n",
       "       [24064., 13816., 15976.],\n",
       "       [24064., 13816., 15976.],\n",
       "       [24064., 13816., 15976.],\n",
       "       [17488., 11176., 13760.],\n",
       "       [17488., 11176., 13760.],\n",
       "       [17488., 11176., 13760.],\n",
       "       [15192., 10416., 13456.],\n",
       "       [15192., 10416., 13456.],\n",
       "       [15192., 10416., 13456.],\n",
       "       [14616.,  9696., 10888.],\n",
       "       [14616.,  9696., 10888.],\n",
       "       [14616.,  9696., 10888.],\n",
       "       [15072., 10288., 12168.],\n",
       "       [15072., 10288., 12168.],\n",
       "       [15072., 10288., 12168.],\n",
       "       [16256., 10800., 14736.],\n",
       "       [16256., 10800., 14736.],\n",
       "       [16256., 10800., 14736.],\n",
       "       [20560., 12464., 15336.],\n",
       "       [20560., 12464., 15336.],\n",
       "       [20560., 12464., 15336.],\n",
       "       [23040., 13712., 14896.],\n",
       "       [23040., 13712., 14896.],\n",
       "       [23040., 13712., 14896.],\n",
       "       [17056.,  9872., 11136.],\n",
       "       [17056.,  9872., 11136.],\n",
       "       [17056.,  9872., 11136.],\n",
       "       [15784., 10920., 10864.],\n",
       "       [15784., 10920., 10864.],\n",
       "       [15784., 10920., 10864.],\n",
       "       [15152.,  9600., 10592.],\n",
       "       [15152.,  9600., 10592.],\n",
       "       [15152.,  9600., 10592.],\n",
       "       [14488.,  9600., 10944.],\n",
       "       [14488.,  9600., 10944.],\n",
       "       [14488.,  9600., 10944.],\n",
       "       [17088., 10616., 12808.],\n",
       "       [17088., 10616., 12808.],\n",
       "       [17088., 10616., 12808.],\n",
       "       [21840., 12264., 14864.],\n",
       "       [21840., 12264., 14864.],\n",
       "       [21840., 12264., 14864.],\n",
       "       [23184., 12280., 14328.],\n",
       "       [23184., 12280., 14328.],\n",
       "       [23184., 12280., 14328.]], dtype=float16)"
      ]
     },
     "execution_count": 71,
     "metadata": {},
     "output_type": "execute_result"
    }
   ],
   "source": [
    "test_y"
   ]
  },
  {
   "cell_type": "code",
   "execution_count": 72,
   "id": "6cd12763",
   "metadata": {
    "execution": {
     "iopub.execute_input": "2022-12-08T06:16:04.979137Z",
     "iopub.status.busy": "2022-12-08T06:16:04.978814Z",
     "iopub.status.idle": "2022-12-08T06:16:04.985402Z",
     "shell.execute_reply": "2022-12-08T06:16:04.984449Z"
    },
    "papermill": {
     "duration": 0.044175,
     "end_time": "2022-12-08T06:16:04.987384",
     "exception": false,
     "start_time": "2022-12-08T06:16:04.943209",
     "status": "completed"
    },
    "tags": []
   },
   "outputs": [
    {
     "data": {
      "text/plain": [
       "(317, 3)"
      ]
     },
     "execution_count": 72,
     "metadata": {},
     "output_type": "execute_result"
    }
   ],
   "source": [
    "test_y.shape"
   ]
  },
  {
   "cell_type": "code",
   "execution_count": 73,
   "id": "9ddcc455",
   "metadata": {
    "execution": {
     "iopub.execute_input": "2022-12-08T06:16:05.057935Z",
     "iopub.status.busy": "2022-12-08T06:16:05.057505Z",
     "iopub.status.idle": "2022-12-08T06:16:05.065921Z",
     "shell.execute_reply": "2022-12-08T06:16:05.064863Z"
    },
    "papermill": {
     "duration": 0.045671,
     "end_time": "2022-12-08T06:16:05.068053",
     "exception": false,
     "start_time": "2022-12-08T06:16:05.022382",
     "status": "completed"
    },
    "tags": []
   },
   "outputs": [],
   "source": [
    "train_x = sales_df_train.drop(['CA_lagged_28', 'TX_lagged_28', 'WI_lagged_28'], axis = 1)\n",
    "test_x = sales_df_test.drop(['CA_lagged_28', 'TX_lagged_28', 'WI_lagged_28'], axis = 1)"
   ]
  },
  {
   "cell_type": "code",
   "execution_count": 74,
   "id": "f4121f66",
   "metadata": {
    "execution": {
     "iopub.execute_input": "2022-12-08T06:16:05.137348Z",
     "iopub.status.busy": "2022-12-08T06:16:05.137015Z",
     "iopub.status.idle": "2022-12-08T06:16:05.145131Z",
     "shell.execute_reply": "2022-12-08T06:16:05.143814Z"
    },
    "papermill": {
     "duration": 0.045039,
     "end_time": "2022-12-08T06:16:05.147136",
     "exception": false,
     "start_time": "2022-12-08T06:16:05.102097",
     "status": "completed"
    },
    "tags": []
   },
   "outputs": [
    {
     "data": {
      "text/plain": [
       "(5366, 105)"
      ]
     },
     "execution_count": 74,
     "metadata": {},
     "output_type": "execute_result"
    }
   ],
   "source": [
    "train_x.shape"
   ]
  },
  {
   "cell_type": "code",
   "execution_count": 75,
   "id": "d66450a8",
   "metadata": {
    "execution": {
     "iopub.execute_input": "2022-12-08T06:16:05.216537Z",
     "iopub.status.busy": "2022-12-08T06:16:05.216196Z",
     "iopub.status.idle": "2022-12-08T06:16:05.223406Z",
     "shell.execute_reply": "2022-12-08T06:16:05.221952Z"
    },
    "papermill": {
     "duration": 0.044937,
     "end_time": "2022-12-08T06:16:05.225851",
     "exception": false,
     "start_time": "2022-12-08T06:16:05.180914",
     "status": "completed"
    },
    "tags": []
   },
   "outputs": [
    {
     "data": {
      "text/plain": [
       "(317, 105)"
      ]
     },
     "execution_count": 75,
     "metadata": {},
     "output_type": "execute_result"
    }
   ],
   "source": [
    "test_x.shape"
   ]
  },
  {
   "cell_type": "markdown",
   "id": "2af47452",
   "metadata": {
    "papermill": {
     "duration": 0.033138,
     "end_time": "2022-12-08T06:16:05.292893",
     "exception": false,
     "start_time": "2022-12-08T06:16:05.259755",
     "status": "completed"
    },
    "tags": []
   },
   "source": [
    "# LSTM Modelling"
   ]
  },
  {
   "cell_type": "markdown",
   "id": "a4c6cfe6",
   "metadata": {
    "papermill": {
     "duration": 0.033803,
     "end_time": "2022-12-08T06:16:05.360707",
     "exception": false,
     "start_time": "2022-12-08T06:16:05.326904",
     "status": "completed"
    },
    "tags": []
   },
   "source": [
    "## Make Data for LSTM Model"
   ]
  },
  {
   "cell_type": "code",
   "execution_count": 76,
   "id": "7c20514c",
   "metadata": {
    "execution": {
     "iopub.execute_input": "2022-12-08T06:16:05.435103Z",
     "iopub.status.busy": "2022-12-08T06:16:05.434658Z",
     "iopub.status.idle": "2022-12-08T06:16:05.439105Z",
     "shell.execute_reply": "2022-12-08T06:16:05.438185Z"
    },
    "papermill": {
     "duration": 0.045674,
     "end_time": "2022-12-08T06:16:05.442047",
     "exception": false,
     "start_time": "2022-12-08T06:16:05.396373",
     "status": "completed"
    },
    "tags": []
   },
   "outputs": [],
   "source": [
    "train_X = []\n",
    "train_Y = []\n",
    "test_X = []\n",
    "test_Y = []"
   ]
  },
  {
   "cell_type": "markdown",
   "id": "ce0078c9",
   "metadata": {
    "papermill": {
     "duration": 0.035356,
     "end_time": "2022-12-08T06:16:05.513290",
     "exception": false,
     "start_time": "2022-12-08T06:16:05.477934",
     "status": "completed"
    },
    "tags": []
   },
   "source": [
    "We are modifying problem here. Given the past 28 days, predict the next 1 day."
   ]
  },
  {
   "cell_type": "code",
   "execution_count": 77,
   "id": "f7a8d87b",
   "metadata": {
    "execution": {
     "iopub.execute_input": "2022-12-08T06:16:05.584278Z",
     "iopub.status.busy": "2022-12-08T06:16:05.583932Z",
     "iopub.status.idle": "2022-12-08T06:16:05.587905Z",
     "shell.execute_reply": "2022-12-08T06:16:05.587064Z"
    },
    "papermill": {
     "duration": 0.041553,
     "end_time": "2022-12-08T06:16:05.589748",
     "exception": false,
     "start_time": "2022-12-08T06:16:05.548195",
     "status": "completed"
    },
    "tags": []
   },
   "outputs": [],
   "source": [
    "n_future = 28\n",
    "n_past = 28"
   ]
  },
  {
   "cell_type": "code",
   "execution_count": 78,
   "id": "6befafab",
   "metadata": {
    "execution": {
     "iopub.execute_input": "2022-12-08T06:16:05.660087Z",
     "iopub.status.busy": "2022-12-08T06:16:05.659175Z",
     "iopub.status.idle": "2022-12-08T06:16:05.665046Z",
     "shell.execute_reply": "2022-12-08T06:16:05.664363Z"
    },
    "papermill": {
     "duration": 0.042876,
     "end_time": "2022-12-08T06:16:05.666808",
     "exception": false,
     "start_time": "2022-12-08T06:16:05.623932",
     "status": "completed"
    },
    "tags": []
   },
   "outputs": [
    {
     "data": {
      "text/plain": [
       "(5366, 105)"
      ]
     },
     "execution_count": 78,
     "metadata": {},
     "output_type": "execute_result"
    }
   ],
   "source": [
    "train_x.shape"
   ]
  },
  {
   "cell_type": "code",
   "execution_count": 79,
   "id": "418f2ae9",
   "metadata": {
    "execution": {
     "iopub.execute_input": "2022-12-08T06:16:05.737972Z",
     "iopub.status.busy": "2022-12-08T06:16:05.737053Z",
     "iopub.status.idle": "2022-12-08T06:16:05.742825Z",
     "shell.execute_reply": "2022-12-08T06:16:05.742142Z"
    },
    "papermill": {
     "duration": 0.04381,
     "end_time": "2022-12-08T06:16:05.744538",
     "exception": false,
     "start_time": "2022-12-08T06:16:05.700728",
     "status": "completed"
    },
    "tags": []
   },
   "outputs": [
    {
     "data": {
      "text/plain": [
       "(5366, 3)"
      ]
     },
     "execution_count": 79,
     "metadata": {},
     "output_type": "execute_result"
    }
   ],
   "source": [
    "train_y.shape"
   ]
  },
  {
   "cell_type": "code",
   "execution_count": 80,
   "id": "99dc4345",
   "metadata": {
    "execution": {
     "iopub.execute_input": "2022-12-08T06:16:05.814320Z",
     "iopub.status.busy": "2022-12-08T06:16:05.813404Z",
     "iopub.status.idle": "2022-12-08T06:16:05.819300Z",
     "shell.execute_reply": "2022-12-08T06:16:05.818150Z"
    },
    "papermill": {
     "duration": 0.043614,
     "end_time": "2022-12-08T06:16:05.821794",
     "exception": false,
     "start_time": "2022-12-08T06:16:05.778180",
     "status": "completed"
    },
    "tags": []
   },
   "outputs": [],
   "source": [
    "train_x_processed = train_x.values\n",
    "test_x_processed = test_x.values"
   ]
  },
  {
   "cell_type": "code",
   "execution_count": 81,
   "id": "6899ceb7",
   "metadata": {
    "execution": {
     "iopub.execute_input": "2022-12-08T06:16:05.892327Z",
     "iopub.status.busy": "2022-12-08T06:16:05.891735Z",
     "iopub.status.idle": "2022-12-08T06:16:05.897956Z",
     "shell.execute_reply": "2022-12-08T06:16:05.896705Z"
    },
    "papermill": {
     "duration": 0.043906,
     "end_time": "2022-12-08T06:16:05.900288",
     "exception": false,
     "start_time": "2022-12-08T06:16:05.856382",
     "status": "completed"
    },
    "tags": []
   },
   "outputs": [
    {
     "data": {
      "text/plain": [
       "(5366, 105)"
      ]
     },
     "execution_count": 81,
     "metadata": {},
     "output_type": "execute_result"
    }
   ],
   "source": [
    "train_x_processed.shape"
   ]
  },
  {
   "cell_type": "code",
   "execution_count": 82,
   "id": "0a45d451",
   "metadata": {
    "execution": {
     "iopub.execute_input": "2022-12-08T06:16:05.969945Z",
     "iopub.status.busy": "2022-12-08T06:16:05.969382Z",
     "iopub.status.idle": "2022-12-08T06:16:05.974628Z",
     "shell.execute_reply": "2022-12-08T06:16:05.973974Z"
    },
    "papermill": {
     "duration": 0.041492,
     "end_time": "2022-12-08T06:16:05.976398",
     "exception": false,
     "start_time": "2022-12-08T06:16:05.934906",
     "status": "completed"
    },
    "tags": []
   },
   "outputs": [
    {
     "data": {
      "text/plain": [
       "(317, 105)"
      ]
     },
     "execution_count": 82,
     "metadata": {},
     "output_type": "execute_result"
    }
   ],
   "source": [
    "test_x_processed.shape"
   ]
  },
  {
   "cell_type": "code",
   "execution_count": 83,
   "id": "e6096d33",
   "metadata": {
    "execution": {
     "iopub.execute_input": "2022-12-08T06:16:06.046440Z",
     "iopub.status.busy": "2022-12-08T06:16:06.045944Z",
     "iopub.status.idle": "2022-12-08T06:16:06.057148Z",
     "shell.execute_reply": "2022-12-08T06:16:06.056097Z"
    },
    "papermill": {
     "duration": 0.049095,
     "end_time": "2022-12-08T06:16:06.059454",
     "exception": false,
     "start_time": "2022-12-08T06:16:06.010359",
     "status": "completed"
    },
    "tags": []
   },
   "outputs": [],
   "source": [
    "for i in range(n_past, len(train_x_processed) - n_future + 1):\n",
    "    train_X.append(train_x_processed[i - n_past:i, 0:train_x_processed.shape[1]])\n",
    "    train_Y.append(train_y[i + n_future - 1:i+n_future, ])"
   ]
  },
  {
   "cell_type": "code",
   "execution_count": 84,
   "id": "1958a753",
   "metadata": {
    "execution": {
     "iopub.execute_input": "2022-12-08T06:16:06.132124Z",
     "iopub.status.busy": "2022-12-08T06:16:06.131539Z",
     "iopub.status.idle": "2022-12-08T06:16:06.137888Z",
     "shell.execute_reply": "2022-12-08T06:16:06.136680Z"
    },
    "papermill": {
     "duration": 0.045978,
     "end_time": "2022-12-08T06:16:06.140018",
     "exception": false,
     "start_time": "2022-12-08T06:16:06.094040",
     "status": "completed"
    },
    "tags": []
   },
   "outputs": [],
   "source": [
    "for i in range(n_past, len(test_x_processed) - n_future + 1):\n",
    "    test_X.append(test_x_processed[i - n_past:i, 0:test_x_processed.shape[1]])\n",
    "    test_Y.append(test_y[i + n_future - 1:i+n_future, ])"
   ]
  },
  {
   "cell_type": "code",
   "execution_count": 85,
   "id": "49d2bfca",
   "metadata": {
    "execution": {
     "iopub.execute_input": "2022-12-08T06:16:06.210435Z",
     "iopub.status.busy": "2022-12-08T06:16:06.209494Z",
     "iopub.status.idle": "2022-12-08T06:16:06.215180Z",
     "shell.execute_reply": "2022-12-08T06:16:06.213781Z"
    },
    "papermill": {
     "duration": 0.044102,
     "end_time": "2022-12-08T06:16:06.218009",
     "exception": false,
     "start_time": "2022-12-08T06:16:06.173907",
     "status": "completed"
    },
    "tags": []
   },
   "outputs": [],
   "source": [
    "#train_Y"
   ]
  },
  {
   "cell_type": "code",
   "execution_count": 86,
   "id": "32171d83",
   "metadata": {
    "execution": {
     "iopub.execute_input": "2022-12-08T06:16:06.289778Z",
     "iopub.status.busy": "2022-12-08T06:16:06.289375Z",
     "iopub.status.idle": "2022-12-08T06:16:06.312292Z",
     "shell.execute_reply": "2022-12-08T06:16:06.311052Z"
    },
    "papermill": {
     "duration": 0.062037,
     "end_time": "2022-12-08T06:16:06.315229",
     "exception": false,
     "start_time": "2022-12-08T06:16:06.253192",
     "status": "completed"
    },
    "tags": []
   },
   "outputs": [],
   "source": [
    "train_X, train_Y = np.array(train_X), np.array(train_Y)\n",
    "test_X, test_Y = np.array(test_X), np.array(test_Y)"
   ]
  },
  {
   "cell_type": "code",
   "execution_count": 87,
   "id": "59a26b10",
   "metadata": {
    "execution": {
     "iopub.execute_input": "2022-12-08T06:16:06.386481Z",
     "iopub.status.busy": "2022-12-08T06:16:06.385588Z",
     "iopub.status.idle": "2022-12-08T06:16:06.392881Z",
     "shell.execute_reply": "2022-12-08T06:16:06.391503Z"
    },
    "papermill": {
     "duration": 0.045693,
     "end_time": "2022-12-08T06:16:06.395240",
     "exception": false,
     "start_time": "2022-12-08T06:16:06.349547",
     "status": "completed"
    },
    "tags": []
   },
   "outputs": [
    {
     "data": {
      "text/plain": [
       "(5311, 28, 105)"
      ]
     },
     "execution_count": 87,
     "metadata": {},
     "output_type": "execute_result"
    }
   ],
   "source": [
    "train_X.shape"
   ]
  },
  {
   "cell_type": "code",
   "execution_count": 88,
   "id": "ad691d74",
   "metadata": {
    "execution": {
     "iopub.execute_input": "2022-12-08T06:16:06.468700Z",
     "iopub.status.busy": "2022-12-08T06:16:06.468273Z",
     "iopub.status.idle": "2022-12-08T06:16:06.476378Z",
     "shell.execute_reply": "2022-12-08T06:16:06.475244Z"
    },
    "papermill": {
     "duration": 0.047203,
     "end_time": "2022-12-08T06:16:06.478397",
     "exception": false,
     "start_time": "2022-12-08T06:16:06.431194",
     "status": "completed"
    },
    "tags": []
   },
   "outputs": [
    {
     "data": {
      "text/plain": [
       "(5311, 1, 3)"
      ]
     },
     "execution_count": 88,
     "metadata": {},
     "output_type": "execute_result"
    }
   ],
   "source": [
    "train_Y.shape"
   ]
  },
  {
   "cell_type": "code",
   "execution_count": 89,
   "id": "930aa27d",
   "metadata": {
    "execution": {
     "iopub.execute_input": "2022-12-08T06:16:06.552626Z",
     "iopub.status.busy": "2022-12-08T06:16:06.552203Z",
     "iopub.status.idle": "2022-12-08T06:16:06.559409Z",
     "shell.execute_reply": "2022-12-08T06:16:06.558275Z"
    },
    "papermill": {
     "duration": 0.047377,
     "end_time": "2022-12-08T06:16:06.561989",
     "exception": false,
     "start_time": "2022-12-08T06:16:06.514612",
     "status": "completed"
    },
    "tags": []
   },
   "outputs": [
    {
     "data": {
      "text/plain": [
       "(262, 28, 105)"
      ]
     },
     "execution_count": 89,
     "metadata": {},
     "output_type": "execute_result"
    }
   ],
   "source": [
    "test_X.shape"
   ]
  },
  {
   "cell_type": "code",
   "execution_count": 90,
   "id": "8ec77691",
   "metadata": {
    "execution": {
     "iopub.execute_input": "2022-12-08T06:16:06.633436Z",
     "iopub.status.busy": "2022-12-08T06:16:06.633045Z",
     "iopub.status.idle": "2022-12-08T06:16:06.641211Z",
     "shell.execute_reply": "2022-12-08T06:16:06.639703Z"
    },
    "papermill": {
     "duration": 0.047039,
     "end_time": "2022-12-08T06:16:06.644075",
     "exception": false,
     "start_time": "2022-12-08T06:16:06.597036",
     "status": "completed"
    },
    "tags": []
   },
   "outputs": [
    {
     "data": {
      "text/plain": [
       "(262, 1, 3)"
      ]
     },
     "execution_count": 90,
     "metadata": {},
     "output_type": "execute_result"
    }
   ],
   "source": [
    "test_Y.shape"
   ]
  },
  {
   "cell_type": "markdown",
   "id": "0013701d",
   "metadata": {
    "papermill": {
     "duration": 0.03458,
     "end_time": "2022-12-08T06:16:06.714779",
     "exception": false,
     "start_time": "2022-12-08T06:16:06.680199",
     "status": "completed"
    },
    "tags": []
   },
   "source": [
    "# LSTM Modelling"
   ]
  },
  {
   "cell_type": "code",
   "execution_count": 91,
   "id": "46fb6e53",
   "metadata": {
    "execution": {
     "iopub.execute_input": "2022-12-08T06:16:06.787605Z",
     "iopub.status.busy": "2022-12-08T06:16:06.787189Z",
     "iopub.status.idle": "2022-12-08T06:16:07.811865Z",
     "shell.execute_reply": "2022-12-08T06:16:07.810204Z"
    },
    "papermill": {
     "duration": 1.064863,
     "end_time": "2022-12-08T06:16:07.814949",
     "exception": false,
     "start_time": "2022-12-08T06:16:06.750086",
     "status": "completed"
    },
    "tags": []
   },
   "outputs": [],
   "source": [
    "import tensorflow as tf\n",
    "from tensorflow.keras.layers import Dense, LSTM, RepeatVector, TimeDistributed , Dropout"
   ]
  },
  {
   "cell_type": "code",
   "execution_count": 92,
   "id": "02871b7e",
   "metadata": {
    "execution": {
     "iopub.execute_input": "2022-12-08T06:16:07.885886Z",
     "iopub.status.busy": "2022-12-08T06:16:07.885064Z",
     "iopub.status.idle": "2022-12-08T06:16:07.890278Z",
     "shell.execute_reply": "2022-12-08T06:16:07.889358Z"
    },
    "papermill": {
     "duration": 0.042381,
     "end_time": "2022-12-08T06:16:07.892150",
     "exception": false,
     "start_time": "2022-12-08T06:16:07.849769",
     "status": "completed"
    },
    "tags": []
   },
   "outputs": [],
   "source": [
    "from tensorflow.keras.models import Sequential"
   ]
  },
  {
   "cell_type": "code",
   "execution_count": 93,
   "id": "4aa21aab",
   "metadata": {
    "execution": {
     "iopub.execute_input": "2022-12-08T06:16:07.963834Z",
     "iopub.status.busy": "2022-12-08T06:16:07.963439Z",
     "iopub.status.idle": "2022-12-08T06:16:07.983756Z",
     "shell.execute_reply": "2022-12-08T06:16:07.982599Z"
    },
    "papermill": {
     "duration": 0.059121,
     "end_time": "2022-12-08T06:16:07.986093",
     "exception": false,
     "start_time": "2022-12-08T06:16:07.926972",
     "status": "completed"
    },
    "tags": []
   },
   "outputs": [],
   "source": [
    "tf.keras.backend.clear_session()"
   ]
  },
  {
   "cell_type": "code",
   "execution_count": 94,
   "id": "73efe22e",
   "metadata": {
    "execution": {
     "iopub.execute_input": "2022-12-08T06:16:08.058545Z",
     "iopub.status.busy": "2022-12-08T06:16:08.058116Z",
     "iopub.status.idle": "2022-12-08T06:16:08.583247Z",
     "shell.execute_reply": "2022-12-08T06:16:08.582297Z"
    },
    "papermill": {
     "duration": 0.565514,
     "end_time": "2022-12-08T06:16:08.586241",
     "exception": false,
     "start_time": "2022-12-08T06:16:08.020727",
     "status": "completed"
    },
    "tags": []
   },
   "outputs": [
    {
     "name": "stderr",
     "output_type": "stream",
     "text": [
      "2022-12-08 06:16:08.088174: I tensorflow/core/common_runtime/process_util.cc:146] Creating new thread pool with default inter op setting: 2. Tune using inter_op_parallelism_threads for best performance.\n"
     ]
    },
    {
     "name": "stdout",
     "output_type": "stream",
     "text": [
      "Model: \"sequential\"\n",
      "_________________________________________________________________\n",
      "Layer (type)                 Output Shape              Param #   \n",
      "=================================================================\n",
      "lstm (LSTM)                  (None, 28, 256)           370688    \n",
      "_________________________________________________________________\n",
      "lstm_1 (LSTM)                (None, 128)               197120    \n",
      "_________________________________________________________________\n",
      "repeat_vector (RepeatVector) (None, 1, 128)            0         \n",
      "_________________________________________________________________\n",
      "lstm_2 (LSTM)                (None, 1, 128)            131584    \n",
      "_________________________________________________________________\n",
      "lstm_3 (LSTM)                (None, 1, 256)            394240    \n",
      "_________________________________________________________________\n",
      "time_distributed (TimeDistri (None, 1, 256)            65792     \n",
      "_________________________________________________________________\n",
      "dropout (Dropout)            (None, 1, 256)            0         \n",
      "_________________________________________________________________\n",
      "time_distributed_1 (TimeDist (None, 1, 128)            32896     \n",
      "_________________________________________________________________\n",
      "dropout_1 (Dropout)          (None, 1, 128)            0         \n",
      "_________________________________________________________________\n",
      "time_distributed_2 (TimeDist (None, 1, 10)             1290      \n",
      "_________________________________________________________________\n",
      "dropout_2 (Dropout)          (None, 1, 10)             0         \n",
      "_________________________________________________________________\n",
      "time_distributed_3 (TimeDist (None, 1, 3)              33        \n",
      "=================================================================\n",
      "Total params: 1,193,643\n",
      "Trainable params: 1,193,643\n",
      "Non-trainable params: 0\n",
      "_________________________________________________________________\n"
     ]
    }
   ],
   "source": [
    "model = Sequential()\n",
    "model.add(LSTM(256, activation='relu', input_shape = (train_X.shape[1], train_X.shape[2]), return_sequences=True))\n",
    "model.add(LSTM(128, activation='relu'))\n",
    "model.add(RepeatVector(train_Y.shape[1]))\n",
    "model.add(LSTM(128, activation='relu', return_sequences=True))\n",
    "model.add(LSTM(256, activation='relu', return_sequences=True))\n",
    "model.add(TimeDistributed(Dense(256, activation='relu')))\n",
    "model.add(Dropout(0.2))\n",
    "model.add(TimeDistributed(Dense(128, activation='relu')))\n",
    "model.add(Dropout(0.2))\n",
    "model.add(TimeDistributed(Dense(10, activation='relu')))\n",
    "model.add(Dropout(0.2))\n",
    "model.add(TimeDistributed(Dense(3)))\n",
    "\n",
    "adam = tf.keras.optimizers.Adam(learning_rate=1e-3)\n",
    "model.compile(optimizer=adam, loss = ['mae'])\n",
    "model.summary()"
   ]
  },
  {
   "cell_type": "code",
   "execution_count": 95,
   "id": "32c4de1d",
   "metadata": {
    "execution": {
     "iopub.execute_input": "2022-12-08T06:16:08.659116Z",
     "iopub.status.busy": "2022-12-08T06:16:08.658499Z",
     "iopub.status.idle": "2022-12-08T06:16:08.663936Z",
     "shell.execute_reply": "2022-12-08T06:16:08.662553Z"
    },
    "papermill": {
     "duration": 0.044856,
     "end_time": "2022-12-08T06:16:08.666239",
     "exception": false,
     "start_time": "2022-12-08T06:16:08.621383",
     "status": "completed"
    },
    "tags": []
   },
   "outputs": [],
   "source": [
    "from tensorflow.keras.callbacks import ModelCheckpoint, EarlyStopping"
   ]
  },
  {
   "cell_type": "code",
   "execution_count": 96,
   "id": "32d2280e",
   "metadata": {
    "execution": {
     "iopub.execute_input": "2022-12-08T06:16:08.737995Z",
     "iopub.status.busy": "2022-12-08T06:16:08.737433Z",
     "iopub.status.idle": "2022-12-08T06:16:08.742219Z",
     "shell.execute_reply": "2022-12-08T06:16:08.741543Z"
    },
    "papermill": {
     "duration": 0.042997,
     "end_time": "2022-12-08T06:16:08.744088",
     "exception": false,
     "start_time": "2022-12-08T06:16:08.701091",
     "status": "completed"
    },
    "tags": []
   },
   "outputs": [],
   "source": [
    "checkpoint = ModelCheckpoint('M5_LSTM_CA_TX_WI_28_days.h5', monitor='val_loss', verbose=1, save_best_only=True, mode='min')\n",
    "early_stopping = EarlyStopping(monitor='val_loss', mode='min', patience = 30)"
   ]
  },
  {
   "cell_type": "code",
   "execution_count": 97,
   "id": "f27ee78b",
   "metadata": {
    "execution": {
     "iopub.execute_input": "2022-12-08T06:16:08.816701Z",
     "iopub.status.busy": "2022-12-08T06:16:08.816319Z",
     "iopub.status.idle": "2022-12-08T06:34:08.734995Z",
     "shell.execute_reply": "2022-12-08T06:34:08.733626Z"
    },
    "papermill": {
     "duration": 1079.957938,
     "end_time": "2022-12-08T06:34:08.738083",
     "exception": false,
     "start_time": "2022-12-08T06:16:08.780145",
     "status": "completed"
    },
    "tags": []
   },
   "outputs": [
    {
     "name": "stderr",
     "output_type": "stream",
     "text": [
      "2022-12-08 06:16:08.942965: I tensorflow/compiler/mlir/mlir_graph_optimization_pass.cc:185] None of the MLIR Optimization Passes are enabled (registered 2)\n"
     ]
    },
    {
     "name": "stdout",
     "output_type": "stream",
     "text": [
      "Epoch 1/100\n",
      "166/166 [==============================] - 22s 104ms/step - loss: 5038.8550 - val_loss: 8263.8398\n",
      "\n",
      "Epoch 00001: val_loss improved from inf to 8263.83984, saving model to M5_LSTM_CA_TX_WI_28_days.h5\n",
      "Epoch 2/100\n",
      "166/166 [==============================] - 16s 96ms/step - loss: 3469.9370 - val_loss: 7607.2080\n",
      "\n",
      "Epoch 00002: val_loss improved from 8263.83984 to 7607.20801, saving model to M5_LSTM_CA_TX_WI_28_days.h5\n",
      "Epoch 3/100\n",
      "166/166 [==============================] - 16s 98ms/step - loss: 3023.6670 - val_loss: 6832.1489\n",
      "\n",
      "Epoch 00003: val_loss improved from 7607.20801 to 6832.14893, saving model to M5_LSTM_CA_TX_WI_28_days.h5\n",
      "Epoch 4/100\n",
      "166/166 [==============================] - 16s 96ms/step - loss: 2601.3445 - val_loss: 5782.2603\n",
      "\n",
      "Epoch 00004: val_loss improved from 6832.14893 to 5782.26025, saving model to M5_LSTM_CA_TX_WI_28_days.h5\n",
      "Epoch 5/100\n",
      "166/166 [==============================] - 16s 97ms/step - loss: 2473.1338 - val_loss: 6692.7280\n",
      "\n",
      "Epoch 00005: val_loss did not improve from 5782.26025\n",
      "Epoch 6/100\n",
      "166/166 [==============================] - 16s 96ms/step - loss: 2438.8425 - val_loss: 6386.9180\n",
      "\n",
      "Epoch 00006: val_loss did not improve from 5782.26025\n",
      "Epoch 7/100\n",
      "166/166 [==============================] - 17s 100ms/step - loss: 2315.5989 - val_loss: 5795.4751\n",
      "\n",
      "Epoch 00007: val_loss did not improve from 5782.26025\n",
      "Epoch 8/100\n",
      "166/166 [==============================] - 18s 106ms/step - loss: 2304.8113 - val_loss: 5656.7046\n",
      "\n",
      "Epoch 00008: val_loss improved from 5782.26025 to 5656.70459, saving model to M5_LSTM_CA_TX_WI_28_days.h5\n",
      "Epoch 9/100\n",
      "166/166 [==============================] - 16s 98ms/step - loss: 2266.6006 - val_loss: 6271.3838\n",
      "\n",
      "Epoch 00009: val_loss did not improve from 5656.70459\n",
      "Epoch 10/100\n",
      "166/166 [==============================] - 16s 97ms/step - loss: 2261.1550 - val_loss: 5817.7500\n",
      "\n",
      "Epoch 00010: val_loss did not improve from 5656.70459\n",
      "Epoch 11/100\n",
      "166/166 [==============================] - 16s 96ms/step - loss: 2239.1521 - val_loss: 7216.0527\n",
      "\n",
      "Epoch 00011: val_loss did not improve from 5656.70459\n",
      "Epoch 12/100\n",
      "166/166 [==============================] - 16s 98ms/step - loss: 2287.9231 - val_loss: 5552.8257\n",
      "\n",
      "Epoch 00012: val_loss improved from 5656.70459 to 5552.82568, saving model to M5_LSTM_CA_TX_WI_28_days.h5\n",
      "Epoch 13/100\n",
      "166/166 [==============================] - 16s 95ms/step - loss: 2254.9109 - val_loss: 6238.7925\n",
      "\n",
      "Epoch 00013: val_loss did not improve from 5552.82568\n",
      "Epoch 14/100\n",
      "166/166 [==============================] - 17s 105ms/step - loss: 2170.7493 - val_loss: 5809.5547\n",
      "\n",
      "Epoch 00014: val_loss did not improve from 5552.82568\n",
      "Epoch 15/100\n",
      "166/166 [==============================] - 19s 113ms/step - loss: 2184.3440 - val_loss: 5630.6294\n",
      "\n",
      "Epoch 00015: val_loss did not improve from 5552.82568\n",
      "Epoch 16/100\n",
      "166/166 [==============================] - 18s 106ms/step - loss: 2223.6211 - val_loss: 6471.0161\n",
      "\n",
      "Epoch 00016: val_loss did not improve from 5552.82568\n",
      "Epoch 17/100\n",
      "166/166 [==============================] - 17s 103ms/step - loss: 2185.1311 - val_loss: 5533.7002\n",
      "\n",
      "Epoch 00017: val_loss improved from 5552.82568 to 5533.70020, saving model to M5_LSTM_CA_TX_WI_28_days.h5\n",
      "Epoch 18/100\n",
      "166/166 [==============================] - 16s 99ms/step - loss: 2153.6094 - val_loss: 6290.2075\n",
      "\n",
      "Epoch 00018: val_loss did not improve from 5533.70020\n",
      "Epoch 19/100\n",
      "166/166 [==============================] - 16s 94ms/step - loss: 2199.2551 - val_loss: 6387.9321\n",
      "\n",
      "Epoch 00019: val_loss did not improve from 5533.70020\n",
      "Epoch 20/100\n",
      "166/166 [==============================] - 18s 109ms/step - loss: 2139.3074 - val_loss: 5337.8115\n",
      "\n",
      "Epoch 00020: val_loss improved from 5533.70020 to 5337.81152, saving model to M5_LSTM_CA_TX_WI_28_days.h5\n",
      "Epoch 21/100\n",
      "166/166 [==============================] - 18s 106ms/step - loss: 2135.4707 - val_loss: 6295.2500\n",
      "\n",
      "Epoch 00021: val_loss did not improve from 5337.81152\n",
      "Epoch 22/100\n",
      "166/166 [==============================] - 17s 102ms/step - loss: 2165.3350 - val_loss: 5402.6055\n",
      "\n",
      "Epoch 00022: val_loss did not improve from 5337.81152\n",
      "Epoch 23/100\n",
      "166/166 [==============================] - 17s 102ms/step - loss: 2154.4231 - val_loss: 6443.7334\n",
      "\n",
      "Epoch 00023: val_loss did not improve from 5337.81152\n",
      "Epoch 24/100\n",
      "166/166 [==============================] - 18s 109ms/step - loss: 2182.6111 - val_loss: 6123.4019\n",
      "\n",
      "Epoch 00024: val_loss did not improve from 5337.81152\n",
      "Epoch 25/100\n",
      "166/166 [==============================] - 17s 100ms/step - loss: 2185.0566 - val_loss: 5888.5713\n",
      "\n",
      "Epoch 00025: val_loss did not improve from 5337.81152\n",
      "Epoch 26/100\n",
      "166/166 [==============================] - 17s 104ms/step - loss: 2159.9539 - val_loss: 6217.6235\n",
      "\n",
      "Epoch 00026: val_loss did not improve from 5337.81152\n",
      "Epoch 27/100\n",
      "166/166 [==============================] - 17s 105ms/step - loss: 2115.9724 - val_loss: 5970.8032\n",
      "\n",
      "Epoch 00027: val_loss did not improve from 5337.81152\n",
      "Epoch 28/100\n",
      "166/166 [==============================] - 18s 109ms/step - loss: 2138.1724 - val_loss: 5254.5264\n",
      "\n",
      "Epoch 00028: val_loss improved from 5337.81152 to 5254.52637, saving model to M5_LSTM_CA_TX_WI_28_days.h5\n",
      "Epoch 29/100\n",
      "166/166 [==============================] - 16s 99ms/step - loss: 2207.9717 - val_loss: 5969.6367\n",
      "\n",
      "Epoch 00029: val_loss did not improve from 5254.52637\n",
      "Epoch 30/100\n",
      "166/166 [==============================] - 17s 101ms/step - loss: 2149.9912 - val_loss: 5757.5381\n",
      "\n",
      "Epoch 00030: val_loss did not improve from 5254.52637\n",
      "Epoch 31/100\n",
      "166/166 [==============================] - 16s 99ms/step - loss: 2162.3523 - val_loss: 5644.8574\n",
      "\n",
      "Epoch 00031: val_loss did not improve from 5254.52637\n",
      "Epoch 32/100\n",
      "166/166 [==============================] - 18s 110ms/step - loss: 2187.6704 - val_loss: 6605.3511\n",
      "\n",
      "Epoch 00032: val_loss did not improve from 5254.52637\n",
      "Epoch 33/100\n",
      "166/166 [==============================] - 18s 111ms/step - loss: 2137.9387 - val_loss: 4284.0908\n",
      "\n",
      "Epoch 00033: val_loss improved from 5254.52637 to 4284.09082, saving model to M5_LSTM_CA_TX_WI_28_days.h5\n",
      "Epoch 34/100\n",
      "166/166 [==============================] - 18s 111ms/step - loss: 2118.9778 - val_loss: 6933.2563\n",
      "\n",
      "Epoch 00034: val_loss did not improve from 4284.09082\n",
      "Epoch 35/100\n",
      "166/166 [==============================] - 17s 105ms/step - loss: 2162.4736 - val_loss: 5330.5107\n",
      "\n",
      "Epoch 00035: val_loss did not improve from 4284.09082\n",
      "Epoch 36/100\n",
      "166/166 [==============================] - 24s 146ms/step - loss: 2119.4431 - val_loss: 6553.6665\n",
      "\n",
      "Epoch 00036: val_loss did not improve from 4284.09082\n",
      "Epoch 37/100\n",
      "166/166 [==============================] - 19s 117ms/step - loss: 9094.4736 - val_loss: 6250.9121\n",
      "\n",
      "Epoch 00037: val_loss did not improve from 4284.09082\n",
      "Epoch 38/100\n",
      "166/166 [==============================] - 18s 107ms/step - loss: 2891.4578 - val_loss: 5038.1143\n",
      "\n",
      "Epoch 00038: val_loss did not improve from 4284.09082\n",
      "Epoch 39/100\n",
      "166/166 [==============================] - 18s 108ms/step - loss: 2435.5576 - val_loss: 6236.9780\n",
      "\n",
      "Epoch 00039: val_loss did not improve from 4284.09082\n",
      "Epoch 40/100\n",
      "166/166 [==============================] - 17s 104ms/step - loss: 2262.1946 - val_loss: 4964.3022\n",
      "\n",
      "Epoch 00040: val_loss did not improve from 4284.09082\n",
      "Epoch 41/100\n",
      "166/166 [==============================] - 17s 100ms/step - loss: 2269.6416 - val_loss: 5685.6714\n",
      "\n",
      "Epoch 00041: val_loss did not improve from 4284.09082\n",
      "Epoch 42/100\n",
      "166/166 [==============================] - 19s 115ms/step - loss: 2263.6965 - val_loss: 5402.7319\n",
      "\n",
      "Epoch 00042: val_loss did not improve from 4284.09082\n",
      "Epoch 43/100\n",
      "166/166 [==============================] - 16s 99ms/step - loss: 2194.9517 - val_loss: 5478.2900\n",
      "\n",
      "Epoch 00043: val_loss did not improve from 4284.09082\n",
      "Epoch 44/100\n",
      "166/166 [==============================] - 18s 109ms/step - loss: 2156.5652 - val_loss: 5707.2637\n",
      "\n",
      "Epoch 00044: val_loss did not improve from 4284.09082\n",
      "Epoch 45/100\n",
      "166/166 [==============================] - 23s 141ms/step - loss: 2144.5325 - val_loss: 6058.3198\n",
      "\n",
      "Epoch 00045: val_loss did not improve from 4284.09082\n",
      "Epoch 46/100\n",
      "166/166 [==============================] - 16s 99ms/step - loss: 2124.7739 - val_loss: 5365.4775\n",
      "\n",
      "Epoch 00046: val_loss did not improve from 4284.09082\n",
      "Epoch 47/100\n",
      "166/166 [==============================] - 16s 98ms/step - loss: 2124.3931 - val_loss: 5930.4976\n",
      "\n",
      "Epoch 00047: val_loss did not improve from 4284.09082\n",
      "Epoch 48/100\n",
      "166/166 [==============================] - 17s 104ms/step - loss: 2147.0725 - val_loss: 4684.5605\n",
      "\n",
      "Epoch 00048: val_loss did not improve from 4284.09082\n",
      "Epoch 49/100\n",
      "166/166 [==============================] - 17s 104ms/step - loss: 2149.5547 - val_loss: 4668.1011\n",
      "\n",
      "Epoch 00049: val_loss did not improve from 4284.09082\n",
      "Epoch 50/100\n",
      "166/166 [==============================] - 16s 96ms/step - loss: 2085.8533 - val_loss: 5772.0742\n",
      "\n",
      "Epoch 00050: val_loss did not improve from 4284.09082\n",
      "Epoch 51/100\n",
      "166/166 [==============================] - 18s 106ms/step - loss: 2126.5312 - val_loss: 6265.7222\n",
      "\n",
      "Epoch 00051: val_loss did not improve from 4284.09082\n",
      "Epoch 52/100\n",
      "166/166 [==============================] - 17s 100ms/step - loss: 2097.1858 - val_loss: 5366.6196\n",
      "\n",
      "Epoch 00052: val_loss did not improve from 4284.09082\n",
      "Epoch 53/100\n",
      "166/166 [==============================] - 16s 96ms/step - loss: 2088.3958 - val_loss: 5155.4126\n",
      "\n",
      "Epoch 00053: val_loss did not improve from 4284.09082\n",
      "Epoch 54/100\n",
      "166/166 [==============================] - 15s 92ms/step - loss: 2077.0708 - val_loss: 5483.3711\n",
      "\n",
      "Epoch 00054: val_loss did not improve from 4284.09082\n",
      "Epoch 55/100\n",
      "166/166 [==============================] - 15s 92ms/step - loss: 2102.1155 - val_loss: 5481.4751\n",
      "\n",
      "Epoch 00055: val_loss did not improve from 4284.09082\n",
      "Epoch 56/100\n",
      "166/166 [==============================] - 15s 90ms/step - loss: 2085.1321 - val_loss: 5560.8213\n",
      "\n",
      "Epoch 00056: val_loss did not improve from 4284.09082\n",
      "Epoch 57/100\n",
      "166/166 [==============================] - 16s 95ms/step - loss: 2092.5757 - val_loss: 5532.5972\n",
      "\n",
      "Epoch 00057: val_loss did not improve from 4284.09082\n",
      "Epoch 58/100\n",
      "166/166 [==============================] - 17s 99ms/step - loss: 2103.8638 - val_loss: 5896.2197\n",
      "\n",
      "Epoch 00058: val_loss did not improve from 4284.09082\n",
      "Epoch 59/100\n",
      "166/166 [==============================] - 16s 95ms/step - loss: 2052.7468 - val_loss: 6298.1240\n",
      "\n",
      "Epoch 00059: val_loss did not improve from 4284.09082\n",
      "Epoch 60/100\n",
      "166/166 [==============================] - 16s 95ms/step - loss: 2125.8765 - val_loss: 5624.5005\n",
      "\n",
      "Epoch 00060: val_loss did not improve from 4284.09082\n",
      "Epoch 61/100\n",
      "166/166 [==============================] - 16s 99ms/step - loss: 2084.8132 - val_loss: 6374.6816\n",
      "\n",
      "Epoch 00061: val_loss did not improve from 4284.09082\n",
      "Epoch 62/100\n",
      "166/166 [==============================] - 15s 91ms/step - loss: 2090.3877 - val_loss: 5626.8633\n",
      "\n",
      "Epoch 00062: val_loss did not improve from 4284.09082\n",
      "Epoch 63/100\n",
      "166/166 [==============================] - 16s 96ms/step - loss: 2068.3921 - val_loss: 6275.1123\n",
      "\n",
      "Epoch 00063: val_loss did not improve from 4284.09082\n"
     ]
    }
   ],
   "source": [
    "history = model.fit(train_X, train_Y, epochs=100, batch_size=32, validation_data=(test_X, test_Y), verbose= 1, callbacks=[checkpoint, early_stopping])"
   ]
  },
  {
   "cell_type": "code",
   "execution_count": 98,
   "id": "9867274b",
   "metadata": {
    "execution": {
     "iopub.execute_input": "2022-12-08T06:34:10.033414Z",
     "iopub.status.busy": "2022-12-08T06:34:10.033022Z",
     "iopub.status.idle": "2022-12-08T06:34:10.307554Z",
     "shell.execute_reply": "2022-12-08T06:34:10.305859Z"
    },
    "papermill": {
     "duration": 0.885775,
     "end_time": "2022-12-08T06:34:10.310002",
     "exception": false,
     "start_time": "2022-12-08T06:34:09.424227",
     "status": "completed"
    },
    "tags": []
   },
   "outputs": [
    {
     "data": {
      "image/png": "[encoded data removed]",
      "text/plain": [
       "<Figure size 1080x648 with 1 Axes>"
      ]
     },
     "metadata": {},
     "output_type": "display_data"
    }
   ],
   "source": [
    "plt.plot(history.history['loss'], label='train')\n",
    "plt.plot(history.history['val_loss'], label='valid')\n",
    "plt.legend()\n",
    "plt.show()"
   ]
  },
  {
   "cell_type": "markdown",
   "id": "1ab8a792",
   "metadata": {
    "papermill": {
     "duration": 0.67825,
     "end_time": "2022-12-08T06:34:11.590517",
     "exception": false,
     "start_time": "2022-12-08T06:34:10.912267",
     "status": "completed"
    },
    "tags": []
   },
   "source": [
    "## Inference"
   ]
  },
  {
   "cell_type": "code",
   "execution_count": 99,
   "id": "b70aa9f1",
   "metadata": {
    "execution": {
     "iopub.execute_input": "2022-12-08T06:34:12.881437Z",
     "iopub.status.busy": "2022-12-08T06:34:12.881085Z",
     "iopub.status.idle": "2022-12-08T06:34:12.886538Z",
     "shell.execute_reply": "2022-12-08T06:34:12.884678Z"
    },
    "papermill": {
     "duration": 0.69492,
     "end_time": "2022-12-08T06:34:12.889452",
     "exception": false,
     "start_time": "2022-12-08T06:34:12.194532",
     "status": "completed"
    },
    "tags": []
   },
   "outputs": [],
   "source": [
    "from tensorflow.keras.models import load_model"
   ]
  },
  {
   "cell_type": "code",
   "execution_count": 100,
   "id": "092a3680",
   "metadata": {
    "execution": {
     "iopub.execute_input": "2022-12-08T06:34:14.175057Z",
     "iopub.status.busy": "2022-12-08T06:34:14.174670Z",
     "iopub.status.idle": "2022-12-08T06:34:14.584932Z",
     "shell.execute_reply": "2022-12-08T06:34:14.583608Z"
    },
    "papermill": {
     "duration": 1.089757,
     "end_time": "2022-12-08T06:34:14.587666",
     "exception": false,
     "start_time": "2022-12-08T06:34:13.497909",
     "status": "completed"
    },
    "tags": []
   },
   "outputs": [],
   "source": [
    "model = load_model('M5_LSTM_CA_TX_WI_28_days.h5')"
   ]
  },
  {
   "cell_type": "code",
   "execution_count": 101,
   "id": "2aa7b093",
   "metadata": {
    "execution": {
     "iopub.execute_input": "2022-12-08T06:34:15.823915Z",
     "iopub.status.busy": "2022-12-08T06:34:15.823278Z",
     "iopub.status.idle": "2022-12-08T06:34:16.775608Z",
     "shell.execute_reply": "2022-12-08T06:34:16.774702Z"
    },
    "papermill": {
     "duration": 1.574725,
     "end_time": "2022-12-08T06:34:16.777605",
     "exception": false,
     "start_time": "2022-12-08T06:34:15.202880",
     "status": "completed"
    },
    "tags": []
   },
   "outputs": [
    {
     "data": {
      "text/plain": [
       "array([[[ 8222.456 ,  5463.6187,  5150.7705]],\n",
       "\n",
       "       [[ 9115.472 ,  6056.897 ,  5710.107 ]],\n",
       "\n",
       "       [[10096.009 ,  6708.3213,  6324.263 ]],\n",
       "\n",
       "       [[11412.516 ,  7582.9478,  7148.851 ]],\n",
       "\n",
       "       [[12835.234 ,  8528.137 ,  8039.9653]],\n",
       "\n",
       "       [[13111.583 ,  8711.73  ,  8213.056 ]],\n",
       "\n",
       "       [[12907.028 ,  8575.833 ,  8084.933 ]],\n",
       "\n",
       "       [[12284.312 ,  8162.13  ,  7694.8975]],\n",
       "\n",
       "       [[12149.676 ,  8072.682 ,  7610.568 ]],\n",
       "\n",
       "       [[10770.176 ,  7156.2065,  6746.524 ]],\n",
       "\n",
       "       [[ 8913.612 ,  5922.7905,  5583.673 ]],\n",
       "\n",
       "       [[ 8940.156 ,  5940.4253,  5600.2993]],\n",
       "\n",
       "       [[ 8944.365 ,  5943.222 ,  5602.936 ]],\n",
       "\n",
       "       [[ 8998.888 ,  5979.444 ,  5637.085 ]],\n",
       "\n",
       "       [[ 9649.159 ,  6411.4546,  6044.3804]],\n",
       "\n",
       "       [[ 9532.415 ,  6333.895 ,  5971.2583]],\n",
       "\n",
       "       [[ 9384.493 ,  6235.6235,  5878.608 ]],\n",
       "\n",
       "       [[ 9325.972 ,  6196.7437,  5841.9526]],\n",
       "\n",
       "       [[ 9722.095 ,  6459.91  ,  6090.0635]],\n",
       "\n",
       "       [[ 9631.81  ,  6399.9287,  6033.5137]],\n",
       "\n",
       "       [[10014.644 ,  6654.266 ,  6273.3003]],\n",
       "\n",
       "       [[10745.721 ,  7139.9595,  6731.2065]],\n",
       "\n",
       "       [[12134.453 ,  8062.57  ,  7601.0337]],\n",
       "\n",
       "       [[12911.847 ,  8579.033 ,  8087.9507]],\n",
       "\n",
       "       [[13371.57  ,  8884.453 ,  8375.898 ]],\n",
       "\n",
       "       [[15140.595 , 10059.712 ,  9483.919 ]],\n",
       "\n",
       "       [[15602.552 , 10366.616 ,  9773.265 ]],\n",
       "\n",
       "       [[14461.774 ,  9608.734 ,  9058.742 ]],\n",
       "\n",
       "       [[13504.658 ,  8972.871 ,  8459.256 ]],\n",
       "\n",
       "       [[12690.267 ,  8431.826 ,  7949.165 ]],\n",
       "\n",
       "       [[12211.429 ,  8113.7085,  7649.2466]],\n",
       "\n",
       "       [[11075.833 ,  7359.271 ,  6937.971 ]],\n",
       "\n",
       "       [[ 9917.049 ,  6589.4277,  6212.1714]],\n",
       "\n",
       "       [[ 9323.4   ,  6195.035 ,  5840.3423]],\n",
       "\n",
       "       [[ 9339.563 ,  6205.774 ,  5850.466 ]],\n",
       "\n",
       "       [[ 9145.513 ,  6076.8555,  5728.9233]],\n",
       "\n",
       "       [[ 9122.34  ,  6061.46  ,  5714.4087]],\n",
       "\n",
       "       [[ 9503.283 ,  6314.5415,  5953.011 ]],\n",
       "\n",
       "       [[ 9645.775 ,  6409.2065,  6042.2603]],\n",
       "\n",
       "       [[10149.658 ,  6743.9634,  6357.8657]],\n",
       "\n",
       "       [[10375.232 ,  6893.8247,  6499.1533]],\n",
       "\n",
       "       [[10800.966 ,  7176.662 ,  6765.8096]],\n",
       "\n",
       "       [[11260.341 ,  7481.849 ,  7053.5366]],\n",
       "\n",
       "       [[12282.54  ,  8160.9517,  7693.7866]],\n",
       "\n",
       "       [[12999.8   ,  8637.467 ,  8143.0405]],\n",
       "\n",
       "       [[13279.929 ,  8823.571 ,  8318.498 ]],\n",
       "\n",
       "       [[14193.536 ,  9430.529 ,  8890.732 ]],\n",
       "\n",
       "       [[14861.476 ,  9874.277 ,  9309.093 ]],\n",
       "\n",
       "       [[14458.197 ,  9606.357 ,  9056.501 ]],\n",
       "\n",
       "       [[13505.062 ,  8973.139 ,  8459.509 ]],\n",
       "\n",
       "       [[13211.179 ,  8777.896 ,  8275.437 ]],\n",
       "\n",
       "       [[12057.113 ,  8011.189 ,  7552.5913]],\n",
       "\n",
       "       [[ 9499.608 ,  6312.1006,  5950.7095]],\n",
       "\n",
       "       [[ 8522.66  ,  5663.06  ,  5338.8013]],\n",
       "\n",
       "       [[ 7686.7563,  5107.724 ,  4815.237 ]],\n",
       "\n",
       "       [[ 7467.995 ,  4962.389 ,  4678.217 ]],\n",
       "\n",
       "       [[ 7352.619 ,  4885.739 ,  4605.9517]],\n",
       "\n",
       "       [[ 7785.0205,  5173.0063,  4876.784 ]],\n",
       "\n",
       "       [[ 8168.8506,  5428.0054,  5117.195 ]],\n",
       "\n",
       "       [[ 8461.471 ,  5622.4087,  5300.476 ]],\n",
       "\n",
       "       [[ 8892.923 ,  5909.0464,  5570.7144]],\n",
       "\n",
       "       [[ 9420.555 ,  6259.58  ,  5901.194 ]],\n",
       "\n",
       "       [[ 9717.123 ,  6456.607 ,  6086.9487]],\n",
       "\n",
       "       [[10378.069 ,  6895.709 ,  6500.93  ]],\n",
       "\n",
       "       [[11300.755 ,  7508.699 ,  7078.8506]],\n",
       "\n",
       "       [[11993.638 ,  7969.019 ,  7512.8345]],\n",
       "\n",
       "       [[12439.638 ,  8265.32  ,  7792.185 ]],\n",
       "\n",
       "       [[13923.335 ,  9251.021 ,  8721.493 ]],\n",
       "\n",
       "       [[14030.401 ,  9322.149 ,  8788.553 ]],\n",
       "\n",
       "       [[13282.255 ,  8825.115 ,  8319.955 ]],\n",
       "\n",
       "       [[12797.784 ,  8503.255 ,  8016.508 ]],\n",
       "\n",
       "       [[12623.986 ,  8387.793 ,  7907.6504]],\n",
       "\n",
       "       [[11343.825 ,  7537.313 ,  7105.8267]],\n",
       "\n",
       "       [[10339.212 ,  6869.894 ,  6476.5923]],\n",
       "\n",
       "       [[ 9364.352 ,  6222.2417,  5865.9917]],\n",
       "\n",
       "       [[ 8791.878 ,  5841.9155,  5507.4253]],\n",
       "\n",
       "       [[ 8415.575 ,  5591.918 ,  5271.7295]],\n",
       "\n",
       "       [[ 9016.98  ,  5991.4634,  5648.4175]],\n",
       "\n",
       "       [[ 9227.118 ,  6131.07  ,  5780.0356]],\n",
       "\n",
       "       [[ 9642.112 ,  6406.773 ,  6039.9663]],\n",
       "\n",
       "       [[10339.786 ,  6870.275 ,  6476.9517]],\n",
       "\n",
       "       [[10706.35  ,  7113.803 ,  6706.547 ]],\n",
       "\n",
       "       [[10955.444 ,  7279.29  ,  6862.567 ]],\n",
       "\n",
       "       [[11412.909 ,  7583.2095,  7149.098 ]],\n",
       "\n",
       "       [[11988.89  ,  7965.8647,  7509.8613]],\n",
       "\n",
       "       [[12783.938 ,  8494.058 ,  8007.8364]],\n",
       "\n",
       "       [[13692.979 ,  9097.982 ,  8577.211 ]],\n",
       "\n",
       "       [[14908.851 ,  9905.752 ,  9338.767 ]],\n",
       "\n",
       "       [[16560.533 , 11003.053 , 10373.291 ]],\n",
       "\n",
       "       [[16809.004 , 11168.125 , 10528.919 ]],\n",
       "\n",
       "       [[16277.141 , 10814.781 , 10195.79  ]],\n",
       "\n",
       "       [[15257.476 , 10137.362 ,  9557.127 ]],\n",
       "\n",
       "       [[14966.614 ,  9944.127 ,  9374.947 ]],\n",
       "\n",
       "       [[13935.579 ,  9259.155 ,  8729.163 ]],\n",
       "\n",
       "       [[11000.398 ,  7309.156 ,  6890.7236]],\n",
       "\n",
       "       [[10546.9795,  7007.9253,  6606.727 ]],\n",
       "\n",
       "       [[10472.269 ,  6958.291 ,  6559.931 ]],\n",
       "\n",
       "       [[10664.109 ,  7085.7407,  6680.0903]],\n",
       "\n",
       "       [[11093.582 ,  7371.063 ,  6949.089 ]],\n",
       "\n",
       "       [[10887.139 ,  7233.911 ,  6819.7837]],\n",
       "\n",
       "       [[10661.028 ,  7083.695 ,  6678.161 ]],\n",
       "\n",
       "       [[10747.091 ,  7140.87  ,  6732.066 ]],\n",
       "\n",
       "       [[11354.642 ,  7544.4985,  7112.603 ]],\n",
       "\n",
       "       [[11670.435 ,  7754.2974,  7310.398 ]],\n",
       "\n",
       "       [[12460.475 ,  8279.163 ,  7805.237 ]],\n",
       "\n",
       "       [[13479.31  ,  8956.029 ,  8443.38  ]],\n",
       "\n",
       "       [[14814.625 ,  9843.153 ,  9279.75  ]],\n",
       "\n",
       "       [[16034.143 , 10653.344 , 10043.589 ]],\n",
       "\n",
       "       [[16754.037 , 11131.607 , 10494.491 ]],\n",
       "\n",
       "       [[18024.83  , 11975.865 , 11290.447 ]],\n",
       "\n",
       "       [[18293.34  , 12154.251 , 11458.627 ]],\n",
       "\n",
       "       [[17414.43  , 11570.344 , 10908.127 ]],\n",
       "\n",
       "       [[16750.71  , 11129.398 , 10492.408 ]],\n",
       "\n",
       "       [[16343.061 , 10858.575 , 10237.078 ]],\n",
       "\n",
       "       [[15596.882 , 10362.848 ,  9769.712 ]],\n",
       "\n",
       "       [[14631.783 ,  9721.681 ,  9165.227 ]],\n",
       "\n",
       "       [[14103.653 ,  9370.815 ,  8834.436 ]],\n",
       "\n",
       "       [[14403.72  ,  9570.165 ,  9022.38  ]],\n",
       "\n",
       "       [[14024.737 ,  9318.388 ,  8785.007 ]],\n",
       "\n",
       "       [[14255.183 ,  9471.485 ,  8929.345 ]],\n",
       "\n",
       "       [[14047.346 ,  9333.407 ,  8799.167 ]],\n",
       "\n",
       "       [[14120.019 ,  9381.6875,  8844.686 ]],\n",
       "\n",
       "       [[14049.575 ,  9334.889 ,  8800.563 ]],\n",
       "\n",
       "       [[14235.278 ,  9458.262 ,  8916.879 ]],\n",
       "\n",
       "       [[14230.976 ,  9455.403 ,  8914.184 ]],\n",
       "\n",
       "       [[14332.987 ,  9523.175 ,  8978.077 ]],\n",
       "\n",
       "       [[14866.562 ,  9877.658 ,  9312.28  ]],\n",
       "\n",
       "       [[16222.739 , 10778.639 , 10161.716 ]],\n",
       "\n",
       "       [[16783.67  , 11151.295 , 10513.052 ]],\n",
       "\n",
       "       [[17527.006 , 11645.135 , 10978.639 ]],\n",
       "\n",
       "       [[18861.506 , 12531.714 , 11814.494 ]],\n",
       "\n",
       "       [[19894.354 , 13217.891 , 12461.416 ]],\n",
       "\n",
       "       [[20220.008 , 13434.239 , 12665.388 ]],\n",
       "\n",
       "       [[20400.922 , 13554.431 , 12778.703 ]],\n",
       "\n",
       "       [[19838.688 , 13180.908 , 12426.549 ]],\n",
       "\n",
       "       [[18274.49  , 12141.727 , 11446.82  ]],\n",
       "\n",
       "       [[15178.802 , 10085.095 ,  9507.85  ]],\n",
       "\n",
       "       [[13012.343 ,  8645.799 ,  8150.896 ]],\n",
       "\n",
       "       [[11964.14  ,  7949.4214,  7494.3584]],\n",
       "\n",
       "       [[11076.671 ,  7359.828 ,  6938.4966]],\n",
       "\n",
       "       [[11052.906 ,  7344.0396,  6923.6113]],\n",
       "\n",
       "       [[11070.615 ,  7355.805 ,  6934.703 ]],\n",
       "\n",
       "       [[11230.142 ,  7461.7876,  7034.622 ]],\n",
       "\n",
       "       [[11568.268 ,  7686.4224,  7246.406 ]],\n",
       "\n",
       "       [[11990.517 ,  7966.945 ,  7510.879 ]],\n",
       "\n",
       "       [[12115.066 ,  8049.69  ,  7588.89  ]],\n",
       "\n",
       "       [[12397.599 ,  8237.391 ,  7765.853 ]],\n",
       "\n",
       "       [[12837.042 ,  8529.337 ,  8041.097 ]],\n",
       "\n",
       "       [[13610.673 ,  9043.303 ,  8525.658 ]],\n",
       "\n",
       "       [[13897.127 ,  9233.608 ,  8705.077 ]],\n",
       "\n",
       "       [[14340.031 ,  9527.8545,  8982.489 ]],\n",
       "\n",
       "       [[15825.878 , 10514.982 ,  9913.143 ]],\n",
       "\n",
       "       [[16287.708 , 10821.801 , 10202.408 ]],\n",
       "\n",
       "       [[15732.583 , 10453.002 ,  9854.709 ]],\n",
       "\n",
       "       [[15030.683 ,  9986.691 ,  9415.075 ]],\n",
       "\n",
       "       [[14697.964 ,  9765.648 ,  9206.679 ]],\n",
       "\n",
       "       [[13473.726 ,  8952.32  ,  8439.882 ]],\n",
       "\n",
       "       [[11731.899 ,  7795.1323,  7348.896 ]],\n",
       "\n",
       "       [[10071.086 ,  6691.763 ,  6308.652 ]],\n",
       "\n",
       "       [[10027.136 ,  6662.565 ,  6281.1235]],\n",
       "\n",
       "       [[ 9519.083 ,  6325.0386,  5962.9077]],\n",
       "\n",
       "       [[10096.208 ,  6708.4536,  6324.387 ]],\n",
       "\n",
       "       [[10097.375 ,  6709.229 ,  6325.1187]],\n",
       "\n",
       "       [[10346.459 ,  6874.7085,  6481.1313]],\n",
       "\n",
       "       [[10921.93  ,  7257.025 ,  6841.5747]],\n",
       "\n",
       "       [[11210.866 ,  7448.9814,  7022.5493]],\n",
       "\n",
       "       [[11350.198 ,  7541.5474,  7109.8193]],\n",
       "\n",
       "       [[11733.577 ,  7796.246 ,  7349.947 ]],\n",
       "\n",
       "       [[12144.518 ,  8069.2563,  7607.3384]],\n",
       "\n",
       "       [[12660.56  ,  8412.09  ,  7930.558 ]],\n",
       "\n",
       "       [[13416.523 ,  8914.318 ,  8404.054 ]],\n",
       "\n",
       "       [[14394.457 ,  9564.012 ,  9016.578 ]],\n",
       "\n",
       "       [[16016.392 , 10641.551 , 10032.471 ]],\n",
       "\n",
       "       [[16384.582 , 10886.158 , 10263.084 ]],\n",
       "\n",
       "       [[16121.26  , 10711.221 , 10098.154 ]],\n",
       "\n",
       "       [[16120.206 , 10710.521 , 10097.494 ]],\n",
       "\n",
       "       [[15034.594 ,  9989.29  ,  9417.526 ]],\n",
       "\n",
       "       [[13481.356 ,  8957.391 ,  8444.661 ]],\n",
       "\n",
       "       [[12016.245 ,  7984.0386,  7526.9956]],\n",
       "\n",
       "       [[11422.521 ,  7589.595 ,  7155.1187]],\n",
       "\n",
       "       [[11475.089 ,  7624.5195,  7188.0444]],\n",
       "\n",
       "       [[10774.392 ,  7159.0073,  6749.1655]],\n",
       "\n",
       "       [[11104.231 ,  7378.138 ,  6955.759 ]],\n",
       "\n",
       "       [[10992.595 ,  7303.972 ,  6885.836 ]],\n",
       "\n",
       "       [[11243.378 ,  7470.58  ,  7042.9126]],\n",
       "\n",
       "       [[11675.778 ,  7757.847 ,  7313.7446]],\n",
       "\n",
       "       [[11931.003 ,  7927.4067,  7473.604 ]],\n",
       "\n",
       "       [[11776.194 ,  7824.559 ,  7376.64  ]],\n",
       "\n",
       "       [[12222.071 ,  8120.78  ,  7655.914 ]],\n",
       "\n",
       "       [[12773.491 ,  8487.117 ,  8001.2925]],\n",
       "\n",
       "       [[14048.134 ,  9333.932 ,  8799.66  ]],\n",
       "\n",
       "       [[14997.882 ,  9964.9   ,  9394.531 ]],\n",
       "\n",
       "       [[16189.12  , 10756.304 , 10140.658 ]],\n",
       "\n",
       "       [[18361.104 , 12199.27  , 11501.07  ]],\n",
       "\n",
       "       [[18937.76  , 12582.373 , 11862.258 ]],\n",
       "\n",
       "       [[18112.705 , 12034.244 , 11345.488 ]],\n",
       "\n",
       "       [[16956.57  , 11266.163 , 10621.348 ]],\n",
       "\n",
       "       [[16388.004 , 10888.434 , 10265.229 ]],\n",
       "\n",
       "       [[14408.671 ,  9573.455 ,  9025.481 ]],\n",
       "\n",
       "       [[12130.2705,  8059.7905,  7598.4136]],\n",
       "\n",
       "       [[11480.958 ,  7628.4175,  7191.72  ]],\n",
       "\n",
       "       [[11203.974 ,  7444.402 ,  7018.232 ]],\n",
       "\n",
       "       [[10982.021 ,  7296.9478,  6879.2134]],\n",
       "\n",
       "       [[11104.236 ,  7378.141 ,  6955.762 ]],\n",
       "\n",
       "       [[11565.8   ,  7684.7827,  7244.861 ]],\n",
       "\n",
       "       [[12093.069 ,  8035.0767,  7575.114 ]],\n",
       "\n",
       "       [[12269.342 ,  8152.184 ,  7685.521 ]],\n",
       "\n",
       "       [[12431.638 ,  8260.006 ,  7787.1743]],\n",
       "\n",
       "       [[12402.371 ,  8240.562 ,  7768.8433]],\n",
       "\n",
       "       [[12713.679 ,  8447.379 ,  7963.829 ]],\n",
       "\n",
       "       [[13246.589 ,  8801.421 ,  8297.616 ]],\n",
       "\n",
       "       [[14405.136 ,  9571.106 ,  9023.267 ]],\n",
       "\n",
       "       [[15388.599 , 10224.475 ,  9639.255 ]],\n",
       "\n",
       "       [[15992.172 , 10625.46  , 10017.301 ]],\n",
       "\n",
       "       [[17757.84  , 11798.489 , 11123.219 ]],\n",
       "\n",
       "       [[18169.76  , 12072.149 , 11381.223 ]],\n",
       "\n",
       "       [[17579.475 , 11679.99  , 11011.5   ]],\n",
       "\n",
       "       [[16875.207 , 11212.108 , 10570.386 ]],\n",
       "\n",
       "       [[16287.524 , 10821.68  , 10202.293 ]],\n",
       "\n",
       "       [[15156.991 , 10070.6045,  9494.188 ]],\n",
       "\n",
       "       [[13206.114 ,  8774.532 ,  8272.265 ]],\n",
       "\n",
       "       [[12105.677 ,  8043.452 ,  7583.01  ]],\n",
       "\n",
       "       [[11405.963 ,  7578.594 ,  7144.7466]],\n",
       "\n",
       "       [[10887.4   ,  7234.0854,  6819.9473]],\n",
       "\n",
       "       [[10765.265 ,  7152.944 ,  6743.4478]],\n",
       "\n",
       "       [[10540.033 ,  7003.31  ,  6602.3755]],\n",
       "\n",
       "       [[10695.52  ,  7106.6084,  6699.7637]],\n",
       "\n",
       "       [[10861.533 ,  7216.901 ,  6803.746 ]],\n",
       "\n",
       "       [[11150.353 ,  7408.779 ,  6984.647 ]],\n",
       "\n",
       "       [[11283.454 ,  7497.2056,  7068.014 ]],\n",
       "\n",
       "       [[11621.136 ,  7721.546 ,  7279.52  ]],\n",
       "\n",
       "       [[12246.445 ,  8136.972 ,  7671.179 ]],\n",
       "\n",
       "       [[13192.695 ,  8765.617 ,  8263.859 ]],\n",
       "\n",
       "       [[13870.6   ,  9215.985 ,  8688.463 ]],\n",
       "\n",
       "       [[14900.279 ,  9900.058 ,  9333.398 ]],\n",
       "\n",
       "       [[16088.383 , 10689.379 , 10077.5625]],\n",
       "\n",
       "       [[16854.193 , 11198.148 , 10557.225 ]],\n",
       "\n",
       "       [[16687.646 , 11087.5   , 10452.906 ]],\n",
       "\n",
       "       [[15498.329 , 10297.374 ,  9707.983 ]],\n",
       "\n",
       "       [[15362.29  , 10206.996 ,  9622.777 ]],\n",
       "\n",
       "       [[14219.045 ,  9447.477 ,  8906.71  ]],\n",
       "\n",
       "       [[11580.181 ,  7694.3364,  7253.8667]],\n",
       "\n",
       "       [[10961.056 ,  7283.0186,  6866.0815]],\n",
       "\n",
       "       [[10584.922 ,  7033.1323,  6630.4907]],\n",
       "\n",
       "       [[10172.749 ,  6759.3037,  6372.3286]],\n",
       "\n",
       "       [[10532.909 ,  6998.5767,  6597.9126]],\n",
       "\n",
       "       [[10510.999 ,  6984.022 ,  6584.19  ]],\n",
       "\n",
       "       [[10826.076 ,  7193.344 ,  6781.537 ]],\n",
       "\n",
       "       [[11144.782 ,  7405.0776,  6981.1567]],\n",
       "\n",
       "       [[11534.134 ,  7663.7446,  7225.026 ]],\n",
       "\n",
       "       [[12010.819 ,  7980.433 ,  7523.596 ]],\n",
       "\n",
       "       [[12621.3955,  8386.07  ,  7906.028 ]],\n",
       "\n",
       "       [[13344.243 ,  8866.298 ,  8358.78  ]],\n",
       "\n",
       "       [[14525.928 ,  9651.355 ,  9098.924 ]],\n",
       "\n",
       "       [[15204.946 , 10102.465 ,  9524.225 ]],\n",
       "\n",
       "       [[15310.277 , 10172.441 ,  9590.199 ]],\n",
       "\n",
       "       [[17047.357 , 11326.476 , 10678.21  ]],\n",
       "\n",
       "       [[17410.414 , 11567.676 , 10905.609 ]],\n",
       "\n",
       "       [[17104.555 , 11364.477 , 10714.036 ]],\n",
       "\n",
       "       [[16581.934 , 11017.271 , 10386.695 ]],\n",
       "\n",
       "       [[16226.202 , 10780.939 , 10163.884 ]],\n",
       "\n",
       "       [[14353.759 ,  9536.975 ,  8991.088 ]]], dtype=float32)"
      ]
     },
     "execution_count": 101,
     "metadata": {},
     "output_type": "execute_result"
    }
   ],
   "source": [
    "pred_y = model.predict(test_X)\n",
    "pred_y"
   ]
  },
  {
   "cell_type": "code",
   "execution_count": 102,
   "id": "a0947d85",
   "metadata": {
    "execution": {
     "iopub.execute_input": "2022-12-08T06:34:18.069809Z",
     "iopub.status.busy": "2022-12-08T06:34:18.069374Z",
     "iopub.status.idle": "2022-12-08T06:34:18.074612Z",
     "shell.execute_reply": "2022-12-08T06:34:18.074010Z"
    },
    "papermill": {
     "duration": 0.611688,
     "end_time": "2022-12-08T06:34:18.076582",
     "exception": false,
     "start_time": "2022-12-08T06:34:17.464894",
     "status": "completed"
    },
    "tags": []
   },
   "outputs": [
    {
     "data": {
      "text/plain": [
       "(262, 1, 3)"
      ]
     },
     "execution_count": 102,
     "metadata": {},
     "output_type": "execute_result"
    }
   ],
   "source": [
    "pred_y.shape"
   ]
  },
  {
   "cell_type": "code",
   "execution_count": 103,
   "id": "e2091a17",
   "metadata": {
    "execution": {
     "iopub.execute_input": "2022-12-08T06:34:19.377733Z",
     "iopub.status.busy": "2022-12-08T06:34:19.377091Z",
     "iopub.status.idle": "2022-12-08T06:34:19.381573Z",
     "shell.execute_reply": "2022-12-08T06:34:19.380278Z"
    },
    "papermill": {
     "duration": 0.61365,
     "end_time": "2022-12-08T06:34:19.384083",
     "exception": false,
     "start_time": "2022-12-08T06:34:18.770433",
     "status": "completed"
    },
    "tags": []
   },
   "outputs": [],
   "source": [
    "pred_y = pred_y.reshape(test_Y.shape)"
   ]
  },
  {
   "cell_type": "code",
   "execution_count": 104,
   "id": "44651770",
   "metadata": {
    "execution": {
     "iopub.execute_input": "2022-12-08T06:34:20.654719Z",
     "iopub.status.busy": "2022-12-08T06:34:20.654026Z",
     "iopub.status.idle": "2022-12-08T06:34:20.659887Z",
     "shell.execute_reply": "2022-12-08T06:34:20.658962Z"
    },
    "papermill": {
     "duration": 0.68252,
     "end_time": "2022-12-08T06:34:20.662494",
     "exception": false,
     "start_time": "2022-12-08T06:34:19.979974",
     "status": "completed"
    },
    "tags": []
   },
   "outputs": [
    {
     "data": {
      "text/plain": [
       "(262, 1, 3)"
      ]
     },
     "execution_count": 104,
     "metadata": {},
     "output_type": "execute_result"
    }
   ],
   "source": [
    "pred_y.shape"
   ]
  },
  {
   "cell_type": "code",
   "execution_count": 105,
   "id": "8fe1b22d",
   "metadata": {
    "execution": {
     "iopub.execute_input": "2022-12-08T06:34:21.956492Z",
     "iopub.status.busy": "2022-12-08T06:34:21.955886Z",
     "iopub.status.idle": "2022-12-08T06:34:22.007568Z",
     "shell.execute_reply": "2022-12-08T06:34:22.006533Z"
    },
    "papermill": {
     "duration": 0.740422,
     "end_time": "2022-12-08T06:34:22.010285",
     "exception": false,
     "start_time": "2022-12-08T06:34:21.269863",
     "status": "completed"
    },
    "tags": []
   },
   "outputs": [],
   "source": [
    "from sklearn.metrics import mean_absolute_error"
   ]
  },
  {
   "cell_type": "code",
   "execution_count": 106,
   "id": "8fd690dc",
   "metadata": {
    "execution": {
     "iopub.execute_input": "2022-12-08T06:34:23.247131Z",
     "iopub.status.busy": "2022-12-08T06:34:23.246723Z",
     "iopub.status.idle": "2022-12-08T06:34:23.253512Z",
     "shell.execute_reply": "2022-12-08T06:34:23.252690Z"
    },
    "papermill": {
     "duration": 0.622483,
     "end_time": "2022-12-08T06:34:23.255256",
     "exception": false,
     "start_time": "2022-12-08T06:34:22.632773",
     "status": "completed"
    },
    "tags": []
   },
   "outputs": [
    {
     "data": {
      "text/plain": [
       "4284.0903"
      ]
     },
     "execution_count": 106,
     "metadata": {},
     "output_type": "execute_result"
    }
   ],
   "source": [
    "mean_absolute_error(test_Y[:, 0], pred_y[:, 0])"
   ]
  },
  {
   "cell_type": "code",
   "execution_count": 107,
   "id": "e6d6a9a3",
   "metadata": {
    "execution": {
     "iopub.execute_input": "2022-12-08T06:34:24.547927Z",
     "iopub.status.busy": "2022-12-08T06:34:24.547548Z",
     "iopub.status.idle": "2022-12-08T06:34:24.555462Z",
     "shell.execute_reply": "2022-12-08T06:34:24.554708Z"
    },
    "papermill": {
     "duration": 0.628095,
     "end_time": "2022-12-08T06:34:24.557332",
     "exception": false,
     "start_time": "2022-12-08T06:34:23.929237",
     "status": "completed"
    },
    "tags": []
   },
   "outputs": [
    {
     "data": {
      "text/plain": [
       "array([13800., 15904., 15904., 15904., 21392., 21392., 21392., 23504.,\n",
       "       23504., 23504., 16624., 16624., 16624., 15144., 15144., 15144.,\n",
       "       15376., 15376., 15376., 15456., 15456., 15456., 16912., 16912.,\n",
       "       16912., 23216., 23216., 23216., 18656., 18656., 18656., 15568.,\n",
       "       15568., 15568., 15576., 15576., 15576., 16328., 16328., 16328.,\n",
       "       16960., 16960., 16960., 16864., 16864., 16864., 21856., 21856.,\n",
       "       21856., 19232., 19232., 19232., 19232., 19232., 19232., 15248.,\n",
       "       15248., 15248., 14552., 14552., 14552., 15304., 15304., 15304.,\n",
       "       17120., 17120., 17120., 21344., 21344., 21344., 22544., 22544.,\n",
       "       22544., 16272., 16272., 16272., 14616., 14616., 14616., 13944.,\n",
       "       13944., 13944., 14520., 14520., 14520., 16344., 16344., 16344.,\n",
       "       21552., 21552., 21552., 23152., 23152., 23152., 16232., 16232.,\n",
       "       16232., 16296., 16296., 16296., 15416., 15416., 15416., 15624.,\n",
       "       15624., 15624., 16096., 16096., 16096., 22016., 22016., 22016.,\n",
       "       25216., 25216., 25216., 17152., 17152., 17152., 16080., 16080.,\n",
       "       16080., 15544., 15544., 15544., 15832., 15832., 15832., 16272.,\n",
       "       16272., 16272., 22512., 22512., 22512., 21936., 21936., 21936.,\n",
       "       16864., 16864., 16864., 15048., 15048., 15048., 14808., 14808.,\n",
       "       14808., 14192., 14192., 14192., 16672., 16672., 16672., 18896.,\n",
       "       18896., 18896., 19424., 19424., 19424., 16544., 16544., 16544.,\n",
       "       15584., 15584., 15584., 15144., 15144., 15144., 15232., 15232.,\n",
       "       15232., 18688., 18688., 18688., 23792., 23792., 23792., 21296.,\n",
       "       21296., 21296., 15480., 15480., 15480., 15320., 15320., 15320.,\n",
       "       14352., 14352., 14352., 15600., 15600., 15600., 18928., 18928.,\n",
       "       18928., 22176., 22176., 22176., 24576., 24576., 24576., 18192.,\n",
       "       18192., 18192., 16400., 16400., 16400., 15808., 15808., 15808.,\n",
       "       15456., 15456., 15456., 17712., 17712., 17712., 23312., 23312.,\n",
       "       23312., 24064., 24064., 24064., 17488., 17488., 17488., 15192.,\n",
       "       15192., 15192., 14616., 14616., 14616., 15072., 15072., 15072.,\n",
       "       16256., 16256., 16256., 20560., 20560., 20560., 23040., 23040.,\n",
       "       23040., 17056., 17056., 17056., 15784., 15784., 15784., 15152.,\n",
       "       15152., 15152., 14488., 14488., 14488., 17088., 17088., 17088.,\n",
       "       21840., 21840., 21840., 23184., 23184., 23184.], dtype=float16)"
      ]
     },
     "execution_count": 107,
     "metadata": {},
     "output_type": "execute_result"
    }
   ],
   "source": [
    "test_Y[:, :, 0][:, 0]"
   ]
  },
  {
   "cell_type": "code",
   "execution_count": 108,
   "id": "0e6d83eb",
   "metadata": {
    "execution": {
     "iopub.execute_input": "2022-12-08T06:34:25.867794Z",
     "iopub.status.busy": "2022-12-08T06:34:25.866251Z",
     "iopub.status.idle": "2022-12-08T06:34:25.887297Z",
     "shell.execute_reply": "2022-12-08T06:34:25.886239Z"
    },
    "papermill": {
     "duration": 0.649884,
     "end_time": "2022-12-08T06:34:25.889420",
     "exception": false,
     "start_time": "2022-12-08T06:34:25.239536",
     "status": "completed"
    },
    "tags": []
   },
   "outputs": [
    {
     "data": {
      "text/html": [
       "<div>\n",
       "<style scoped>\n",
       "    .dataframe tbody tr th:only-of-type {\n",
       "        vertical-align: middle;\n",
       "    }\n",
       "\n",
       "    .dataframe tbody tr th {\n",
       "        vertical-align: top;\n",
       "    }\n",
       "\n",
       "    .dataframe thead th {\n",
       "        text-align: right;\n",
       "    }\n",
       "</style>\n",
       "<table border=\"1\" class=\"dataframe\">\n",
       "  <thead>\n",
       "    <tr style=\"text-align: right;\">\n",
       "      <th></th>\n",
       "      <th>true_sales_CA</th>\n",
       "      <th>true_sales_TX</th>\n",
       "      <th>true_sales_WI</th>\n",
       "      <th>predicted_sales_CA</th>\n",
       "      <th>predicted_sales_TX</th>\n",
       "      <th>predicted_sales_WI</th>\n",
       "    </tr>\n",
       "  </thead>\n",
       "  <tbody>\n",
       "    <tr>\n",
       "      <th>0</th>\n",
       "      <td>13800.0</td>\n",
       "      <td>8896.0</td>\n",
       "      <td>9776.0</td>\n",
       "      <td>8222.456055</td>\n",
       "      <td>5463.618652</td>\n",
       "      <td>5150.770508</td>\n",
       "    </tr>\n",
       "    <tr>\n",
       "      <th>1</th>\n",
       "      <td>15904.0</td>\n",
       "      <td>9744.0</td>\n",
       "      <td>11992.0</td>\n",
       "      <td>9115.471680</td>\n",
       "      <td>6056.896973</td>\n",
       "      <td>5710.106934</td>\n",
       "    </tr>\n",
       "    <tr>\n",
       "      <th>2</th>\n",
       "      <td>15904.0</td>\n",
       "      <td>9744.0</td>\n",
       "      <td>11992.0</td>\n",
       "      <td>10096.008789</td>\n",
       "      <td>6708.321289</td>\n",
       "      <td>6324.263184</td>\n",
       "    </tr>\n",
       "    <tr>\n",
       "      <th>3</th>\n",
       "      <td>15904.0</td>\n",
       "      <td>9744.0</td>\n",
       "      <td>11992.0</td>\n",
       "      <td>11412.515625</td>\n",
       "      <td>7582.947754</td>\n",
       "      <td>7148.851074</td>\n",
       "    </tr>\n",
       "    <tr>\n",
       "      <th>4</th>\n",
       "      <td>21392.0</td>\n",
       "      <td>11936.0</td>\n",
       "      <td>15776.0</td>\n",
       "      <td>12835.234375</td>\n",
       "      <td>8528.136719</td>\n",
       "      <td>8039.965332</td>\n",
       "    </tr>\n",
       "  </tbody>\n",
       "</table>\n",
       "</div>"
      ],
      "text/plain": [
       "   true_sales_CA  true_sales_TX  true_sales_WI  predicted_sales_CA  \\\n",
       "0        13800.0         8896.0         9776.0         8222.456055   \n",
       "1        15904.0         9744.0        11992.0         9115.471680   \n",
       "2        15904.0         9744.0        11992.0        10096.008789   \n",
       "3        15904.0         9744.0        11992.0        11412.515625   \n",
       "4        21392.0        11936.0        15776.0        12835.234375   \n",
       "\n",
       "   predicted_sales_TX  predicted_sales_WI  \n",
       "0         5463.618652         5150.770508  \n",
       "1         6056.896973         5710.106934  \n",
       "2         6708.321289         6324.263184  \n",
       "3         7582.947754         7148.851074  \n",
       "4         8528.136719         8039.965332  "
      ]
     },
     "execution_count": 108,
     "metadata": {},
     "output_type": "execute_result"
    }
   ],
   "source": [
    "df_sales_predicted = pd.DataFrame(list(zip(\n",
    "                                            list(test_Y[:, :, 0][:, 0]),\n",
    "                                            list(test_Y[:, :, 1][:, 0]),\n",
    "                                            list(test_Y[:, :, 2][:, 0]),\n",
    "                                            list(pred_y[:, :, 0][:, 0]),\n",
    "                                            list(pred_y[:, :, 1][:, 0]),\n",
    "                                            list(pred_y[:, :, 2][:, 0]))), \n",
    "                                  columns = ['true_sales_CA', 'true_sales_TX', 'true_sales_WI', 'predicted_sales_CA', 'predicted_sales_TX', 'predicted_sales_WI'])\n",
    "df_sales_predicted.head()"
   ]
  },
  {
   "cell_type": "code",
   "execution_count": 109,
   "id": "8d042f28",
   "metadata": {
    "execution": {
     "iopub.execute_input": "2022-12-08T06:34:27.229692Z",
     "iopub.status.busy": "2022-12-08T06:34:27.229005Z",
     "iopub.status.idle": "2022-12-08T06:34:27.237028Z",
     "shell.execute_reply": "2022-12-08T06:34:27.235975Z"
    },
    "papermill": {
     "duration": 0.701141,
     "end_time": "2022-12-08T06:34:27.239529",
     "exception": false,
     "start_time": "2022-12-08T06:34:26.538388",
     "status": "completed"
    },
    "tags": []
   },
   "outputs": [
    {
     "data": {
      "text/plain": [
       "(262, 6)"
      ]
     },
     "execution_count": 109,
     "metadata": {},
     "output_type": "execute_result"
    }
   ],
   "source": [
    "df_sales_predicted.shape"
   ]
  },
  {
   "cell_type": "code",
   "execution_count": 110,
   "id": "4af9db33",
   "metadata": {
    "execution": {
     "iopub.execute_input": "2022-12-08T06:34:28.575672Z",
     "iopub.status.busy": "2022-12-08T06:34:28.575105Z",
     "iopub.status.idle": "2022-12-08T06:34:28.581671Z",
     "shell.execute_reply": "2022-12-08T06:34:28.580174Z"
    },
    "papermill": {
     "duration": 0.700503,
     "end_time": "2022-12-08T06:34:28.584968",
     "exception": false,
     "start_time": "2022-12-08T06:34:27.884465",
     "status": "completed"
    },
    "tags": []
   },
   "outputs": [],
   "source": [
    "df_sales_predicted['date'] = sales_df_test_dates[55:]"
   ]
  },
  {
   "cell_type": "code",
   "execution_count": 111,
   "id": "55c37dae",
   "metadata": {
    "execution": {
     "iopub.execute_input": "2022-12-08T06:34:29.801781Z",
     "iopub.status.busy": "2022-12-08T06:34:29.801399Z",
     "iopub.status.idle": "2022-12-08T06:34:29.818367Z",
     "shell.execute_reply": "2022-12-08T06:34:29.816124Z"
    },
    "papermill": {
     "duration": 0.627045,
     "end_time": "2022-12-08T06:34:29.820941",
     "exception": false,
     "start_time": "2022-12-08T06:34:29.193896",
     "status": "completed"
    },
    "tags": []
   },
   "outputs": [
    {
     "data": {
      "text/html": [
       "<div>\n",
       "<style scoped>\n",
       "    .dataframe tbody tr th:only-of-type {\n",
       "        vertical-align: middle;\n",
       "    }\n",
       "\n",
       "    .dataframe tbody tr th {\n",
       "        vertical-align: top;\n",
       "    }\n",
       "\n",
       "    .dataframe thead th {\n",
       "        text-align: right;\n",
       "    }\n",
       "</style>\n",
       "<table border=\"1\" class=\"dataframe\">\n",
       "  <thead>\n",
       "    <tr style=\"text-align: right;\">\n",
       "      <th></th>\n",
       "      <th>true_sales_CA</th>\n",
       "      <th>true_sales_TX</th>\n",
       "      <th>true_sales_WI</th>\n",
       "      <th>predicted_sales_CA</th>\n",
       "      <th>predicted_sales_TX</th>\n",
       "      <th>predicted_sales_WI</th>\n",
       "    </tr>\n",
       "    <tr>\n",
       "      <th>date</th>\n",
       "      <th></th>\n",
       "      <th></th>\n",
       "      <th></th>\n",
       "      <th></th>\n",
       "      <th></th>\n",
       "      <th></th>\n",
       "    </tr>\n",
       "  </thead>\n",
       "  <tbody>\n",
       "    <tr>\n",
       "      <th>2016-01-19</th>\n",
       "      <td>13800.0</td>\n",
       "      <td>8896.0</td>\n",
       "      <td>9776.0</td>\n",
       "      <td>8222.456055</td>\n",
       "      <td>5463.618652</td>\n",
       "      <td>5150.770508</td>\n",
       "    </tr>\n",
       "    <tr>\n",
       "      <th>2016-01-19</th>\n",
       "      <td>15904.0</td>\n",
       "      <td>9744.0</td>\n",
       "      <td>11992.0</td>\n",
       "      <td>9115.471680</td>\n",
       "      <td>6056.896973</td>\n",
       "      <td>5710.106934</td>\n",
       "    </tr>\n",
       "    <tr>\n",
       "      <th>2016-01-20</th>\n",
       "      <td>15904.0</td>\n",
       "      <td>9744.0</td>\n",
       "      <td>11992.0</td>\n",
       "      <td>10096.008789</td>\n",
       "      <td>6708.321289</td>\n",
       "      <td>6324.263184</td>\n",
       "    </tr>\n",
       "    <tr>\n",
       "      <th>2016-01-20</th>\n",
       "      <td>15904.0</td>\n",
       "      <td>9744.0</td>\n",
       "      <td>11992.0</td>\n",
       "      <td>11412.515625</td>\n",
       "      <td>7582.947754</td>\n",
       "      <td>7148.851074</td>\n",
       "    </tr>\n",
       "    <tr>\n",
       "      <th>2016-01-20</th>\n",
       "      <td>21392.0</td>\n",
       "      <td>11936.0</td>\n",
       "      <td>15776.0</td>\n",
       "      <td>12835.234375</td>\n",
       "      <td>8528.136719</td>\n",
       "      <td>8039.965332</td>\n",
       "    </tr>\n",
       "  </tbody>\n",
       "</table>\n",
       "</div>"
      ],
      "text/plain": [
       "            true_sales_CA  true_sales_TX  true_sales_WI  predicted_sales_CA  \\\n",
       "date                                                                          \n",
       "2016-01-19        13800.0         8896.0         9776.0         8222.456055   \n",
       "2016-01-19        15904.0         9744.0        11992.0         9115.471680   \n",
       "2016-01-20        15904.0         9744.0        11992.0        10096.008789   \n",
       "2016-01-20        15904.0         9744.0        11992.0        11412.515625   \n",
       "2016-01-20        21392.0        11936.0        15776.0        12835.234375   \n",
       "\n",
       "            predicted_sales_TX  predicted_sales_WI  \n",
       "date                                                \n",
       "2016-01-19         5463.618652         5150.770508  \n",
       "2016-01-19         6056.896973         5710.106934  \n",
       "2016-01-20         6708.321289         6324.263184  \n",
       "2016-01-20         7582.947754         7148.851074  \n",
       "2016-01-20         8528.136719         8039.965332  "
      ]
     },
     "execution_count": 111,
     "metadata": {},
     "output_type": "execute_result"
    }
   ],
   "source": [
    "df_sales_predicted.set_index('date', inplace = True, drop = True)\n",
    "df_sales_predicted.head()"
   ]
  },
  {
   "cell_type": "code",
   "execution_count": 112,
   "id": "f1f01b5f",
   "metadata": {
    "execution": {
     "iopub.execute_input": "2022-12-08T06:34:31.114399Z",
     "iopub.status.busy": "2022-12-08T06:34:31.113958Z",
     "iopub.status.idle": "2022-12-08T06:34:31.539152Z",
     "shell.execute_reply": "2022-12-08T06:34:31.538410Z"
    },
    "papermill": {
     "duration": 1.033725,
     "end_time": "2022-12-08T06:34:31.541556",
     "exception": false,
     "start_time": "2022-12-08T06:34:30.507831",
     "status": "completed"
    },
    "tags": []
   },
   "outputs": [
    {
     "data": {
      "text/plain": [
       "Text(0.5, 1.0, 'California True vs Predicted Sales')"
      ]
     },
     "execution_count": 112,
     "metadata": {},
     "output_type": "execute_result"
    },
    {
     "data": {
      "image/png": "[encoded data removed]",
      "text/plain": [
       "<Figure size 1080x648 with 1 Axes>"
      ]
     },
     "metadata": {},
     "output_type": "display_data"
    }
   ],
   "source": [
    "df_sales_predicted[['true_sales_CA', 'predicted_sales_CA']].plot()\n",
    "plt.xlabel('Date')\n",
    "plt.ylabel('Unit Sold')\n",
    "plt.title('California True vs Predicted Sales')"
   ]
  },
  {
   "cell_type": "code",
   "execution_count": 113,
   "id": "fad28666",
   "metadata": {
    "execution": {
     "iopub.execute_input": "2022-12-08T06:34:32.849541Z",
     "iopub.status.busy": "2022-12-08T06:34:32.848828Z",
     "iopub.status.idle": "2022-12-08T06:34:33.255333Z",
     "shell.execute_reply": "2022-12-08T06:34:33.253867Z"
    },
    "papermill": {
     "duration": 1.029999,
     "end_time": "2022-12-08T06:34:33.257519",
     "exception": false,
     "start_time": "2022-12-08T06:34:32.227520",
     "status": "completed"
    },
    "tags": []
   },
   "outputs": [
    {
     "data": {
      "text/plain": [
       "Text(0.5, 1.0, 'Texas True vs Predicted Sales')"
      ]
     },
     "execution_count": 113,
     "metadata": {},
     "output_type": "execute_result"
    },
    {
     "data": {
      "image/png": "[encoded data removed]",
      "text/plain": [
       "<Figure size 1080x648 with 1 Axes>"
      ]
     },
     "metadata": {},
     "output_type": "display_data"
    }
   ],
   "source": [
    "df_sales_predicted[['true_sales_TX', 'predicted_sales_TX']].plot()\n",
    "plt.xlabel('Date')\n",
    "plt.ylabel('Unit Sold')\n",
    "plt.title('Texas True vs Predicted Sales')"
   ]
  },
  {
   "cell_type": "code",
   "execution_count": 114,
   "id": "844e826a",
   "metadata": {
    "execution": {
     "iopub.execute_input": "2022-12-08T06:34:34.559514Z",
     "iopub.status.busy": "2022-12-08T06:34:34.559179Z",
     "iopub.status.idle": "2022-12-08T06:34:34.968438Z",
     "shell.execute_reply": "2022-12-08T06:34:34.966784Z"
    },
    "papermill": {
     "duration": 1.100966,
     "end_time": "2022-12-08T06:34:34.971166",
     "exception": false,
     "start_time": "2022-12-08T06:34:33.870200",
     "status": "completed"
    },
    "tags": []
   },
   "outputs": [
    {
     "data": {
      "text/plain": [
       "Text(0.5, 1.0, 'Wisconsin True vs Predicted Sales')"
      ]
     },
     "execution_count": 114,
     "metadata": {},
     "output_type": "execute_result"
    },
    {
     "data": {
      "image/png": "[encoded data removed]",
      "text/plain": [
       "<Figure size 1080x648 with 1 Axes>"
      ]
     },
     "metadata": {},
     "output_type": "display_data"
    }
   ],
   "source": [
    "df_sales_predicted[['true_sales_WI', 'predicted_sales_WI']].plot()\n",
    "plt.xlabel('Date')\n",
    "plt.ylabel('Unit Sold')\n",
    "plt.title('Wisconsin True vs Predicted Sales')"
   ]
  },
  {
   "cell_type": "markdown",
   "id": "9c27a5aa",
   "metadata": {
    "papermill": {
     "duration": 0.687203,
     "end_time": "2022-12-08T06:34:36.293214",
     "exception": false,
     "start_time": "2022-12-08T06:34:35.606011",
     "status": "completed"
    },
    "tags": []
   },
   "source": [
    "## Saving Test Data Points, Scaler Instance for WIT analysis"
   ]
  },
  {
   "cell_type": "code",
   "execution_count": 115,
   "id": "0305647d",
   "metadata": {
    "execution": {
     "iopub.execute_input": "2022-12-08T06:34:37.534525Z",
     "iopub.status.busy": "2022-12-08T06:34:37.533577Z",
     "iopub.status.idle": "2022-12-08T06:34:37.537954Z",
     "shell.execute_reply": "2022-12-08T06:34:37.537198Z"
    },
    "papermill": {
     "duration": 0.626641,
     "end_time": "2022-12-08T06:34:37.540183",
     "exception": false,
     "start_time": "2022-12-08T06:34:36.913542",
     "status": "completed"
    },
    "tags": []
   },
   "outputs": [],
   "source": [
    "import joblib"
   ]
  },
  {
   "cell_type": "code",
   "execution_count": 116,
   "id": "668323b5",
   "metadata": {
    "execution": {
     "iopub.execute_input": "2022-12-08T06:34:38.863873Z",
     "iopub.status.busy": "2022-12-08T06:34:38.863322Z",
     "iopub.status.idle": "2022-12-08T06:34:38.870374Z",
     "shell.execute_reply": "2022-12-08T06:34:38.868948Z"
    },
    "papermill": {
     "duration": 0.63971,
     "end_time": "2022-12-08T06:34:38.873245",
     "exception": false,
     "start_time": "2022-12-08T06:34:38.233535",
     "status": "completed"
    },
    "tags": []
   },
   "outputs": [
    {
     "data": {
      "text/plain": [
       "['scaler_instance_mn_mx_28_days.bz']"
      ]
     },
     "execution_count": 116,
     "metadata": {},
     "output_type": "execute_result"
    }
   ],
   "source": [
    "# Dump scaler instance \n",
    "joblib.dump(scaler_instance, 'scaler_instance_mn_mx_28_days.bz')"
   ]
  },
  {
   "cell_type": "code",
   "execution_count": 117,
   "id": "8d24a240",
   "metadata": {
    "execution": {
     "iopub.execute_input": "2022-12-08T06:34:40.180630Z",
     "iopub.status.busy": "2022-12-08T06:34:40.179963Z",
     "iopub.status.idle": "2022-12-08T06:34:40.204157Z",
     "shell.execute_reply": "2022-12-08T06:34:40.203061Z"
    },
    "papermill": {
     "duration": 0.65228,
     "end_time": "2022-12-08T06:34:40.206867",
     "exception": false,
     "start_time": "2022-12-08T06:34:39.554587",
     "status": "completed"
    },
    "tags": []
   },
   "outputs": [],
   "source": [
    "test_x.to_csv('combined_test_data_points_28_days.csv', index = False)"
   ]
  },
  {
   "cell_type": "code",
   "execution_count": null,
   "id": "f16b8c89",
   "metadata": {
    "papermill": {
     "duration": 0.693349,
     "end_time": "2022-12-08T06:34:41.521508",
     "exception": false,
     "start_time": "2022-12-08T06:34:40.828159",
     "status": "completed"
    },
    "tags": []
   },
   "outputs": [],
   "source": []
  }
 ],
 "metadata": {
  "kernelspec": {
   "display_name": "Python 3",
   "language": "python",
   "name": "python3"
  },
  "language_info": {
   "codemirror_mode": {
    "name": "ipython",
    "version": 3
   },
   "file_extension": ".py",
   "mimetype": "text/x-python",
   "name": "python",
   "nbconvert_exporter": "python",
   "pygments_lexer": "ipython3",
   "version": "3.7.12"
  },
  "papermill": {
   "default_parameters": {},
   "duration": 1228.440137,
   "end_time": "2022-12-08T06:34:45.754599",
   "environment_variables": {},
   "exception": null,
   "input_path": "__notebook__.ipynb",
   "output_path": "__notebook__.ipynb",
   "parameters": {},
   "start_time": "2022-12-08T06:14:17.314462",
   "version": "2.3.4"
  }
 },
 "nbformat": 4,
 "nbformat_minor": 5
}
