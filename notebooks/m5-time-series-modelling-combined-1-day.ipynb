{
 "cells": [
  {
   "cell_type": "code",
   "execution_count": 1,
   "id": "30d48193",
   "metadata": {
    "_cell_guid": "b1076dfc-b9ad-4769-8c92-a6c4dae69d19",
    "_uuid": "8f2839f25d086af736a60e9eeb907d3b93b6e0e5",
    "execution": {
     "iopub.execute_input": "2022-12-08T05:32:24.597704Z",
     "iopub.status.busy": "2022-12-08T05:32:24.596711Z",
     "iopub.status.idle": "2022-12-08T05:32:24.609563Z",
     "shell.execute_reply": "2022-12-08T05:32:24.608365Z"
    },
    "papermill": {
     "duration": 0.050433,
     "end_time": "2022-12-08T05:32:24.612145",
     "exception": false,
     "start_time": "2022-12-08T05:32:24.561712",
     "status": "completed"
    },
    "tags": []
   },
   "outputs": [],
   "source": [
    "import os\n",
    "import pandas as pd\n",
    "import numpy as np"
   ]
  },
  {
   "cell_type": "code",
   "execution_count": 2,
   "id": "45cbf95f",
   "metadata": {
    "execution": {
     "iopub.execute_input": "2022-12-08T05:32:24.669466Z",
     "iopub.status.busy": "2022-12-08T05:32:24.668784Z",
     "iopub.status.idle": "2022-12-08T05:32:29.680816Z",
     "shell.execute_reply": "2022-12-08T05:32:29.679643Z"
    },
    "papermill": {
     "duration": 5.043945,
     "end_time": "2022-12-08T05:32:29.683605",
     "exception": false,
     "start_time": "2022-12-08T05:32:24.639660",
     "status": "completed"
    },
    "tags": []
   },
   "outputs": [],
   "source": [
    "import tensorflow as tf\n",
    "import matplotlib.pyplot as plt\n",
    "%matplotlib inline"
   ]
  },
  {
   "cell_type": "code",
   "execution_count": 3,
   "id": "990904aa",
   "metadata": {
    "execution": {
     "iopub.execute_input": "2022-12-08T05:32:29.743642Z",
     "iopub.status.busy": "2022-12-08T05:32:29.742695Z",
     "iopub.status.idle": "2022-12-08T05:32:30.362467Z",
     "shell.execute_reply": "2022-12-08T05:32:30.361178Z"
    },
    "papermill": {
     "duration": 0.652729,
     "end_time": "2022-12-08T05:32:30.365435",
     "exception": false,
     "start_time": "2022-12-08T05:32:29.712706",
     "status": "completed"
    },
    "tags": []
   },
   "outputs": [],
   "source": [
    "import seaborn as sns\n",
    "sns.set_theme()"
   ]
  },
  {
   "cell_type": "code",
   "execution_count": 4,
   "id": "7e7c8fb2",
   "metadata": {
    "execution": {
     "iopub.execute_input": "2022-12-08T05:32:30.423233Z",
     "iopub.status.busy": "2022-12-08T05:32:30.422801Z",
     "iopub.status.idle": "2022-12-08T05:32:30.428078Z",
     "shell.execute_reply": "2022-12-08T05:32:30.427030Z"
    },
    "papermill": {
     "duration": 0.037109,
     "end_time": "2022-12-08T05:32:30.430361",
     "exception": false,
     "start_time": "2022-12-08T05:32:30.393252",
     "status": "completed"
    },
    "tags": []
   },
   "outputs": [],
   "source": [
    "plt.rcParams[\"figure.figsize\"] = (15,9)"
   ]
  },
  {
   "cell_type": "code",
   "execution_count": 5,
   "id": "e28e963b",
   "metadata": {
    "execution": {
     "iopub.execute_input": "2022-12-08T05:32:30.486634Z",
     "iopub.status.busy": "2022-12-08T05:32:30.485891Z",
     "iopub.status.idle": "2022-12-08T05:32:30.491875Z",
     "shell.execute_reply": "2022-12-08T05:32:30.490734Z"
    },
    "papermill": {
     "duration": 0.036674,
     "end_time": "2022-12-08T05:32:30.494133",
     "exception": false,
     "start_time": "2022-12-08T05:32:30.457459",
     "status": "completed"
    },
    "tags": []
   },
   "outputs": [],
   "source": [
    "CALENDAR_PATH = os.path.abspath('../input/m5-forecasting-accuracy/calendar.csv')\n",
    "SELL_PRICE_PATH = os.path.abspath('../input/m5-forecasting-accuracy/sell_prices.csv')\n",
    "SALES_TV_PATH = os.path.abspath('../input/m5-forecasting-accuracy/sales_train_validation.csv')"
   ]
  },
  {
   "cell_type": "code",
   "execution_count": 6,
   "id": "4f8ad80c",
   "metadata": {
    "execution": {
     "iopub.execute_input": "2022-12-08T05:32:30.553766Z",
     "iopub.status.busy": "2022-12-08T05:32:30.553065Z",
     "iopub.status.idle": "2022-12-08T05:32:30.593270Z",
     "shell.execute_reply": "2022-12-08T05:32:30.592018Z"
    },
    "papermill": {
     "duration": 0.073484,
     "end_time": "2022-12-08T05:32:30.595925",
     "exception": false,
     "start_time": "2022-12-08T05:32:30.522441",
     "status": "completed"
    },
    "tags": []
   },
   "outputs": [
    {
     "data": {
      "text/html": [
       "<div>\n",
       "<style scoped>\n",
       "    .dataframe tbody tr th:only-of-type {\n",
       "        vertical-align: middle;\n",
       "    }\n",
       "\n",
       "    .dataframe tbody tr th {\n",
       "        vertical-align: top;\n",
       "    }\n",
       "\n",
       "    .dataframe thead th {\n",
       "        text-align: right;\n",
       "    }\n",
       "</style>\n",
       "<table border=\"1\" class=\"dataframe\">\n",
       "  <thead>\n",
       "    <tr style=\"text-align: right;\">\n",
       "      <th></th>\n",
       "      <th>date</th>\n",
       "      <th>wm_yr_wk</th>\n",
       "      <th>weekday</th>\n",
       "      <th>wday</th>\n",
       "      <th>month</th>\n",
       "      <th>year</th>\n",
       "      <th>d</th>\n",
       "      <th>event_name_1</th>\n",
       "      <th>event_type_1</th>\n",
       "      <th>event_name_2</th>\n",
       "      <th>event_type_2</th>\n",
       "      <th>snap_CA</th>\n",
       "      <th>snap_TX</th>\n",
       "      <th>snap_WI</th>\n",
       "    </tr>\n",
       "  </thead>\n",
       "  <tbody>\n",
       "    <tr>\n",
       "      <th>0</th>\n",
       "      <td>2011-01-29</td>\n",
       "      <td>11101</td>\n",
       "      <td>Saturday</td>\n",
       "      <td>1</td>\n",
       "      <td>1</td>\n",
       "      <td>2011</td>\n",
       "      <td>d_1</td>\n",
       "      <td>NaN</td>\n",
       "      <td>NaN</td>\n",
       "      <td>NaN</td>\n",
       "      <td>NaN</td>\n",
       "      <td>0</td>\n",
       "      <td>0</td>\n",
       "      <td>0</td>\n",
       "    </tr>\n",
       "    <tr>\n",
       "      <th>1</th>\n",
       "      <td>2011-01-30</td>\n",
       "      <td>11101</td>\n",
       "      <td>Sunday</td>\n",
       "      <td>2</td>\n",
       "      <td>1</td>\n",
       "      <td>2011</td>\n",
       "      <td>d_2</td>\n",
       "      <td>NaN</td>\n",
       "      <td>NaN</td>\n",
       "      <td>NaN</td>\n",
       "      <td>NaN</td>\n",
       "      <td>0</td>\n",
       "      <td>0</td>\n",
       "      <td>0</td>\n",
       "    </tr>\n",
       "    <tr>\n",
       "      <th>2</th>\n",
       "      <td>2011-01-31</td>\n",
       "      <td>11101</td>\n",
       "      <td>Monday</td>\n",
       "      <td>3</td>\n",
       "      <td>1</td>\n",
       "      <td>2011</td>\n",
       "      <td>d_3</td>\n",
       "      <td>NaN</td>\n",
       "      <td>NaN</td>\n",
       "      <td>NaN</td>\n",
       "      <td>NaN</td>\n",
       "      <td>0</td>\n",
       "      <td>0</td>\n",
       "      <td>0</td>\n",
       "    </tr>\n",
       "    <tr>\n",
       "      <th>3</th>\n",
       "      <td>2011-02-01</td>\n",
       "      <td>11101</td>\n",
       "      <td>Tuesday</td>\n",
       "      <td>4</td>\n",
       "      <td>2</td>\n",
       "      <td>2011</td>\n",
       "      <td>d_4</td>\n",
       "      <td>NaN</td>\n",
       "      <td>NaN</td>\n",
       "      <td>NaN</td>\n",
       "      <td>NaN</td>\n",
       "      <td>1</td>\n",
       "      <td>1</td>\n",
       "      <td>0</td>\n",
       "    </tr>\n",
       "    <tr>\n",
       "      <th>4</th>\n",
       "      <td>2011-02-02</td>\n",
       "      <td>11101</td>\n",
       "      <td>Wednesday</td>\n",
       "      <td>5</td>\n",
       "      <td>2</td>\n",
       "      <td>2011</td>\n",
       "      <td>d_5</td>\n",
       "      <td>NaN</td>\n",
       "      <td>NaN</td>\n",
       "      <td>NaN</td>\n",
       "      <td>NaN</td>\n",
       "      <td>1</td>\n",
       "      <td>0</td>\n",
       "      <td>1</td>\n",
       "    </tr>\n",
       "  </tbody>\n",
       "</table>\n",
       "</div>"
      ],
      "text/plain": [
       "         date  wm_yr_wk    weekday  wday  month  year    d event_name_1  \\\n",
       "0  2011-01-29     11101   Saturday     1      1  2011  d_1          NaN   \n",
       "1  2011-01-30     11101     Sunday     2      1  2011  d_2          NaN   \n",
       "2  2011-01-31     11101     Monday     3      1  2011  d_3          NaN   \n",
       "3  2011-02-01     11101    Tuesday     4      2  2011  d_4          NaN   \n",
       "4  2011-02-02     11101  Wednesday     5      2  2011  d_5          NaN   \n",
       "\n",
       "  event_type_1 event_name_2 event_type_2  snap_CA  snap_TX  snap_WI  \n",
       "0          NaN          NaN          NaN        0        0        0  \n",
       "1          NaN          NaN          NaN        0        0        0  \n",
       "2          NaN          NaN          NaN        0        0        0  \n",
       "3          NaN          NaN          NaN        1        1        0  \n",
       "4          NaN          NaN          NaN        1        0        1  "
      ]
     },
     "execution_count": 6,
     "metadata": {},
     "output_type": "execute_result"
    }
   ],
   "source": [
    "df_calendar = pd.read_csv(CALENDAR_PATH)\n",
    "df_calendar.head()"
   ]
  },
  {
   "cell_type": "code",
   "execution_count": 7,
   "id": "5a316e68",
   "metadata": {
    "execution": {
     "iopub.execute_input": "2022-12-08T05:32:30.656109Z",
     "iopub.status.busy": "2022-12-08T05:32:30.655695Z",
     "iopub.status.idle": "2022-12-08T05:32:35.511911Z",
     "shell.execute_reply": "2022-12-08T05:32:35.510816Z"
    },
    "papermill": {
     "duration": 4.889357,
     "end_time": "2022-12-08T05:32:35.514488",
     "exception": false,
     "start_time": "2022-12-08T05:32:30.625131",
     "status": "completed"
    },
    "tags": []
   },
   "outputs": [
    {
     "data": {
      "text/html": [
       "<div>\n",
       "<style scoped>\n",
       "    .dataframe tbody tr th:only-of-type {\n",
       "        vertical-align: middle;\n",
       "    }\n",
       "\n",
       "    .dataframe tbody tr th {\n",
       "        vertical-align: top;\n",
       "    }\n",
       "\n",
       "    .dataframe thead th {\n",
       "        text-align: right;\n",
       "    }\n",
       "</style>\n",
       "<table border=\"1\" class=\"dataframe\">\n",
       "  <thead>\n",
       "    <tr style=\"text-align: right;\">\n",
       "      <th></th>\n",
       "      <th>store_id</th>\n",
       "      <th>item_id</th>\n",
       "      <th>wm_yr_wk</th>\n",
       "      <th>sell_price</th>\n",
       "    </tr>\n",
       "  </thead>\n",
       "  <tbody>\n",
       "    <tr>\n",
       "      <th>0</th>\n",
       "      <td>CA_1</td>\n",
       "      <td>HOBBIES_1_001</td>\n",
       "      <td>11325</td>\n",
       "      <td>9.58</td>\n",
       "    </tr>\n",
       "    <tr>\n",
       "      <th>1</th>\n",
       "      <td>CA_1</td>\n",
       "      <td>HOBBIES_1_001</td>\n",
       "      <td>11326</td>\n",
       "      <td>9.58</td>\n",
       "    </tr>\n",
       "    <tr>\n",
       "      <th>2</th>\n",
       "      <td>CA_1</td>\n",
       "      <td>HOBBIES_1_001</td>\n",
       "      <td>11327</td>\n",
       "      <td>8.26</td>\n",
       "    </tr>\n",
       "    <tr>\n",
       "      <th>3</th>\n",
       "      <td>CA_1</td>\n",
       "      <td>HOBBIES_1_001</td>\n",
       "      <td>11328</td>\n",
       "      <td>8.26</td>\n",
       "    </tr>\n",
       "    <tr>\n",
       "      <th>4</th>\n",
       "      <td>CA_1</td>\n",
       "      <td>HOBBIES_1_001</td>\n",
       "      <td>11329</td>\n",
       "      <td>8.26</td>\n",
       "    </tr>\n",
       "  </tbody>\n",
       "</table>\n",
       "</div>"
      ],
      "text/plain": [
       "  store_id        item_id  wm_yr_wk  sell_price\n",
       "0     CA_1  HOBBIES_1_001     11325        9.58\n",
       "1     CA_1  HOBBIES_1_001     11326        9.58\n",
       "2     CA_1  HOBBIES_1_001     11327        8.26\n",
       "3     CA_1  HOBBIES_1_001     11328        8.26\n",
       "4     CA_1  HOBBIES_1_001     11329        8.26"
      ]
     },
     "execution_count": 7,
     "metadata": {},
     "output_type": "execute_result"
    }
   ],
   "source": [
    "df_sell_price = pd.read_csv(SELL_PRICE_PATH)\n",
    "df_sell_price.head()"
   ]
  },
  {
   "cell_type": "code",
   "execution_count": 8,
   "id": "abcf5dd0",
   "metadata": {
    "execution": {
     "iopub.execute_input": "2022-12-08T05:32:35.572120Z",
     "iopub.status.busy": "2022-12-08T05:32:35.571242Z",
     "iopub.status.idle": "2022-12-08T05:32:41.892341Z",
     "shell.execute_reply": "2022-12-08T05:32:41.891107Z"
    },
    "papermill": {
     "duration": 6.352756,
     "end_time": "2022-12-08T05:32:41.895010",
     "exception": false,
     "start_time": "2022-12-08T05:32:35.542254",
     "status": "completed"
    },
    "tags": []
   },
   "outputs": [
    {
     "data": {
      "text/html": [
       "<div>\n",
       "<style scoped>\n",
       "    .dataframe tbody tr th:only-of-type {\n",
       "        vertical-align: middle;\n",
       "    }\n",
       "\n",
       "    .dataframe tbody tr th {\n",
       "        vertical-align: top;\n",
       "    }\n",
       "\n",
       "    .dataframe thead th {\n",
       "        text-align: right;\n",
       "    }\n",
       "</style>\n",
       "<table border=\"1\" class=\"dataframe\">\n",
       "  <thead>\n",
       "    <tr style=\"text-align: right;\">\n",
       "      <th></th>\n",
       "      <th>id</th>\n",
       "      <th>item_id</th>\n",
       "      <th>dept_id</th>\n",
       "      <th>cat_id</th>\n",
       "      <th>store_id</th>\n",
       "      <th>state_id</th>\n",
       "      <th>d_1</th>\n",
       "      <th>d_2</th>\n",
       "      <th>d_3</th>\n",
       "      <th>d_4</th>\n",
       "      <th>...</th>\n",
       "      <th>d_1904</th>\n",
       "      <th>d_1905</th>\n",
       "      <th>d_1906</th>\n",
       "      <th>d_1907</th>\n",
       "      <th>d_1908</th>\n",
       "      <th>d_1909</th>\n",
       "      <th>d_1910</th>\n",
       "      <th>d_1911</th>\n",
       "      <th>d_1912</th>\n",
       "      <th>d_1913</th>\n",
       "    </tr>\n",
       "  </thead>\n",
       "  <tbody>\n",
       "    <tr>\n",
       "      <th>0</th>\n",
       "      <td>HOBBIES_1_001_CA_1_validation</td>\n",
       "      <td>HOBBIES_1_001</td>\n",
       "      <td>HOBBIES_1</td>\n",
       "      <td>HOBBIES</td>\n",
       "      <td>CA_1</td>\n",
       "      <td>CA</td>\n",
       "      <td>0</td>\n",
       "      <td>0</td>\n",
       "      <td>0</td>\n",
       "      <td>0</td>\n",
       "      <td>...</td>\n",
       "      <td>1</td>\n",
       "      <td>3</td>\n",
       "      <td>0</td>\n",
       "      <td>1</td>\n",
       "      <td>1</td>\n",
       "      <td>1</td>\n",
       "      <td>3</td>\n",
       "      <td>0</td>\n",
       "      <td>1</td>\n",
       "      <td>1</td>\n",
       "    </tr>\n",
       "    <tr>\n",
       "      <th>1</th>\n",
       "      <td>HOBBIES_1_002_CA_1_validation</td>\n",
       "      <td>HOBBIES_1_002</td>\n",
       "      <td>HOBBIES_1</td>\n",
       "      <td>HOBBIES</td>\n",
       "      <td>CA_1</td>\n",
       "      <td>CA</td>\n",
       "      <td>0</td>\n",
       "      <td>0</td>\n",
       "      <td>0</td>\n",
       "      <td>0</td>\n",
       "      <td>...</td>\n",
       "      <td>0</td>\n",
       "      <td>0</td>\n",
       "      <td>0</td>\n",
       "      <td>0</td>\n",
       "      <td>0</td>\n",
       "      <td>1</td>\n",
       "      <td>0</td>\n",
       "      <td>0</td>\n",
       "      <td>0</td>\n",
       "      <td>0</td>\n",
       "    </tr>\n",
       "    <tr>\n",
       "      <th>2</th>\n",
       "      <td>HOBBIES_1_003_CA_1_validation</td>\n",
       "      <td>HOBBIES_1_003</td>\n",
       "      <td>HOBBIES_1</td>\n",
       "      <td>HOBBIES</td>\n",
       "      <td>CA_1</td>\n",
       "      <td>CA</td>\n",
       "      <td>0</td>\n",
       "      <td>0</td>\n",
       "      <td>0</td>\n",
       "      <td>0</td>\n",
       "      <td>...</td>\n",
       "      <td>2</td>\n",
       "      <td>1</td>\n",
       "      <td>2</td>\n",
       "      <td>1</td>\n",
       "      <td>1</td>\n",
       "      <td>1</td>\n",
       "      <td>0</td>\n",
       "      <td>1</td>\n",
       "      <td>1</td>\n",
       "      <td>1</td>\n",
       "    </tr>\n",
       "    <tr>\n",
       "      <th>3</th>\n",
       "      <td>HOBBIES_1_004_CA_1_validation</td>\n",
       "      <td>HOBBIES_1_004</td>\n",
       "      <td>HOBBIES_1</td>\n",
       "      <td>HOBBIES</td>\n",
       "      <td>CA_1</td>\n",
       "      <td>CA</td>\n",
       "      <td>0</td>\n",
       "      <td>0</td>\n",
       "      <td>0</td>\n",
       "      <td>0</td>\n",
       "      <td>...</td>\n",
       "      <td>1</td>\n",
       "      <td>0</td>\n",
       "      <td>5</td>\n",
       "      <td>4</td>\n",
       "      <td>1</td>\n",
       "      <td>0</td>\n",
       "      <td>1</td>\n",
       "      <td>3</td>\n",
       "      <td>7</td>\n",
       "      <td>2</td>\n",
       "    </tr>\n",
       "    <tr>\n",
       "      <th>4</th>\n",
       "      <td>HOBBIES_1_005_CA_1_validation</td>\n",
       "      <td>HOBBIES_1_005</td>\n",
       "      <td>HOBBIES_1</td>\n",
       "      <td>HOBBIES</td>\n",
       "      <td>CA_1</td>\n",
       "      <td>CA</td>\n",
       "      <td>0</td>\n",
       "      <td>0</td>\n",
       "      <td>0</td>\n",
       "      <td>0</td>\n",
       "      <td>...</td>\n",
       "      <td>2</td>\n",
       "      <td>1</td>\n",
       "      <td>1</td>\n",
       "      <td>0</td>\n",
       "      <td>1</td>\n",
       "      <td>1</td>\n",
       "      <td>2</td>\n",
       "      <td>2</td>\n",
       "      <td>2</td>\n",
       "      <td>4</td>\n",
       "    </tr>\n",
       "  </tbody>\n",
       "</table>\n",
       "<p>5 rows × 1919 columns</p>\n",
       "</div>"
      ],
      "text/plain": [
       "                              id        item_id    dept_id   cat_id store_id  \\\n",
       "0  HOBBIES_1_001_CA_1_validation  HOBBIES_1_001  HOBBIES_1  HOBBIES     CA_1   \n",
       "1  HOBBIES_1_002_CA_1_validation  HOBBIES_1_002  HOBBIES_1  HOBBIES     CA_1   \n",
       "2  HOBBIES_1_003_CA_1_validation  HOBBIES_1_003  HOBBIES_1  HOBBIES     CA_1   \n",
       "3  HOBBIES_1_004_CA_1_validation  HOBBIES_1_004  HOBBIES_1  HOBBIES     CA_1   \n",
       "4  HOBBIES_1_005_CA_1_validation  HOBBIES_1_005  HOBBIES_1  HOBBIES     CA_1   \n",
       "\n",
       "  state_id  d_1  d_2  d_3  d_4  ...  d_1904  d_1905  d_1906  d_1907  d_1908  \\\n",
       "0       CA    0    0    0    0  ...       1       3       0       1       1   \n",
       "1       CA    0    0    0    0  ...       0       0       0       0       0   \n",
       "2       CA    0    0    0    0  ...       2       1       2       1       1   \n",
       "3       CA    0    0    0    0  ...       1       0       5       4       1   \n",
       "4       CA    0    0    0    0  ...       2       1       1       0       1   \n",
       "\n",
       "   d_1909  d_1910  d_1911  d_1912  d_1913  \n",
       "0       1       3       0       1       1  \n",
       "1       1       0       0       0       0  \n",
       "2       1       0       1       1       1  \n",
       "3       0       1       3       7       2  \n",
       "4       1       2       2       2       4  \n",
       "\n",
       "[5 rows x 1919 columns]"
      ]
     },
     "execution_count": 8,
     "metadata": {},
     "output_type": "execute_result"
    }
   ],
   "source": [
    "df_sales_tv = pd.read_csv(SALES_TV_PATH)\n",
    "df_sales_tv.head()"
   ]
  },
  {
   "cell_type": "code",
   "execution_count": 9,
   "id": "364755ec",
   "metadata": {
    "execution": {
     "iopub.execute_input": "2022-12-08T05:32:41.952647Z",
     "iopub.status.busy": "2022-12-08T05:32:41.952216Z",
     "iopub.status.idle": "2022-12-08T05:32:41.959414Z",
     "shell.execute_reply": "2022-12-08T05:32:41.958322Z"
    },
    "papermill": {
     "duration": 0.038542,
     "end_time": "2022-12-08T05:32:41.961561",
     "exception": false,
     "start_time": "2022-12-08T05:32:41.923019",
     "status": "completed"
    },
    "tags": []
   },
   "outputs": [
    {
     "data": {
      "text/plain": [
       "(1969, 14)"
      ]
     },
     "execution_count": 9,
     "metadata": {},
     "output_type": "execute_result"
    }
   ],
   "source": [
    "df_calendar.shape"
   ]
  },
  {
   "cell_type": "code",
   "execution_count": 10,
   "id": "5ae98f1c",
   "metadata": {
    "execution": {
     "iopub.execute_input": "2022-12-08T05:32:42.019198Z",
     "iopub.status.busy": "2022-12-08T05:32:42.018752Z",
     "iopub.status.idle": "2022-12-08T05:32:42.025597Z",
     "shell.execute_reply": "2022-12-08T05:32:42.024558Z"
    },
    "papermill": {
     "duration": 0.038506,
     "end_time": "2022-12-08T05:32:42.027878",
     "exception": false,
     "start_time": "2022-12-08T05:32:41.989372",
     "status": "completed"
    },
    "tags": []
   },
   "outputs": [
    {
     "data": {
      "text/plain": [
       "(6841121, 4)"
      ]
     },
     "execution_count": 10,
     "metadata": {},
     "output_type": "execute_result"
    }
   ],
   "source": [
    "df_sell_price.shape"
   ]
  },
  {
   "cell_type": "code",
   "execution_count": 11,
   "id": "375cccee",
   "metadata": {
    "execution": {
     "iopub.execute_input": "2022-12-08T05:32:42.086344Z",
     "iopub.status.busy": "2022-12-08T05:32:42.085305Z",
     "iopub.status.idle": "2022-12-08T05:32:42.091799Z",
     "shell.execute_reply": "2022-12-08T05:32:42.090711Z"
    },
    "papermill": {
     "duration": 0.038009,
     "end_time": "2022-12-08T05:32:42.094018",
     "exception": false,
     "start_time": "2022-12-08T05:32:42.056009",
     "status": "completed"
    },
    "tags": []
   },
   "outputs": [
    {
     "data": {
      "text/plain": [
       "(30490, 1919)"
      ]
     },
     "execution_count": 11,
     "metadata": {},
     "output_type": "execute_result"
    }
   ],
   "source": [
    "df_sales_tv.shape"
   ]
  },
  {
   "cell_type": "code",
   "execution_count": 12,
   "id": "3b583064",
   "metadata": {
    "execution": {
     "iopub.execute_input": "2022-12-08T05:32:42.152464Z",
     "iopub.status.busy": "2022-12-08T05:32:42.151454Z",
     "iopub.status.idle": "2022-12-08T05:32:44.902557Z",
     "shell.execute_reply": "2022-12-08T05:32:44.901356Z"
    },
    "papermill": {
     "duration": 2.783103,
     "end_time": "2022-12-08T05:32:44.905069",
     "exception": false,
     "start_time": "2022-12-08T05:32:42.121966",
     "status": "completed"
    },
    "tags": []
   },
   "outputs": [
    {
     "data": {
      "text/html": [
       "<div>\n",
       "<style scoped>\n",
       "    .dataframe tbody tr th:only-of-type {\n",
       "        vertical-align: middle;\n",
       "    }\n",
       "\n",
       "    .dataframe tbody tr th {\n",
       "        vertical-align: top;\n",
       "    }\n",
       "\n",
       "    .dataframe thead th {\n",
       "        text-align: right;\n",
       "    }\n",
       "</style>\n",
       "<table border=\"1\" class=\"dataframe\">\n",
       "  <thead>\n",
       "    <tr style=\"text-align: right;\">\n",
       "      <th></th>\n",
       "      <th>store_id</th>\n",
       "      <th>item_id</th>\n",
       "      <th>wm_yr_wk</th>\n",
       "      <th>sell_price</th>\n",
       "      <th>state</th>\n",
       "    </tr>\n",
       "  </thead>\n",
       "  <tbody>\n",
       "    <tr>\n",
       "      <th>0</th>\n",
       "      <td>CA_1</td>\n",
       "      <td>HOBBIES_1_001</td>\n",
       "      <td>11325</td>\n",
       "      <td>9.58</td>\n",
       "      <td>CA</td>\n",
       "    </tr>\n",
       "    <tr>\n",
       "      <th>1</th>\n",
       "      <td>CA_1</td>\n",
       "      <td>HOBBIES_1_001</td>\n",
       "      <td>11326</td>\n",
       "      <td>9.58</td>\n",
       "      <td>CA</td>\n",
       "    </tr>\n",
       "    <tr>\n",
       "      <th>2</th>\n",
       "      <td>CA_1</td>\n",
       "      <td>HOBBIES_1_001</td>\n",
       "      <td>11327</td>\n",
       "      <td>8.26</td>\n",
       "      <td>CA</td>\n",
       "    </tr>\n",
       "    <tr>\n",
       "      <th>3</th>\n",
       "      <td>CA_1</td>\n",
       "      <td>HOBBIES_1_001</td>\n",
       "      <td>11328</td>\n",
       "      <td>8.26</td>\n",
       "      <td>CA</td>\n",
       "    </tr>\n",
       "    <tr>\n",
       "      <th>4</th>\n",
       "      <td>CA_1</td>\n",
       "      <td>HOBBIES_1_001</td>\n",
       "      <td>11329</td>\n",
       "      <td>8.26</td>\n",
       "      <td>CA</td>\n",
       "    </tr>\n",
       "  </tbody>\n",
       "</table>\n",
       "</div>"
      ],
      "text/plain": [
       "  store_id        item_id  wm_yr_wk  sell_price state\n",
       "0     CA_1  HOBBIES_1_001     11325        9.58    CA\n",
       "1     CA_1  HOBBIES_1_001     11326        9.58    CA\n",
       "2     CA_1  HOBBIES_1_001     11327        8.26    CA\n",
       "3     CA_1  HOBBIES_1_001     11328        8.26    CA\n",
       "4     CA_1  HOBBIES_1_001     11329        8.26    CA"
      ]
     },
     "execution_count": 12,
     "metadata": {},
     "output_type": "execute_result"
    }
   ],
   "source": [
    "df_sell_price['state'] = df_sell_price['store_id'].apply(lambda x: x.split('_')[0])\n",
    "df_sell_price.head()"
   ]
  },
  {
   "cell_type": "code",
   "execution_count": 13,
   "id": "230cef6b",
   "metadata": {
    "execution": {
     "iopub.execute_input": "2022-12-08T05:32:44.963126Z",
     "iopub.status.busy": "2022-12-08T05:32:44.962737Z",
     "iopub.status.idle": "2022-12-08T05:32:44.966686Z",
     "shell.execute_reply": "2022-12-08T05:32:44.965732Z"
    },
    "papermill": {
     "duration": 0.035598,
     "end_time": "2022-12-08T05:32:44.968923",
     "exception": false,
     "start_time": "2022-12-08T05:32:44.933325",
     "status": "completed"
    },
    "tags": []
   },
   "outputs": [],
   "source": [
    "# drop store_id and item_id"
   ]
  },
  {
   "cell_type": "code",
   "execution_count": 14,
   "id": "2a9c8b46",
   "metadata": {
    "execution": {
     "iopub.execute_input": "2022-12-08T05:32:45.027371Z",
     "iopub.status.busy": "2022-12-08T05:32:45.026945Z",
     "iopub.status.idle": "2022-12-08T05:32:46.093314Z",
     "shell.execute_reply": "2022-12-08T05:32:46.092321Z"
    },
    "papermill": {
     "duration": 1.098995,
     "end_time": "2022-12-08T05:32:46.096068",
     "exception": false,
     "start_time": "2022-12-08T05:32:44.997073",
     "status": "completed"
    },
    "tags": []
   },
   "outputs": [],
   "source": [
    "df_sell_price.drop(['store_id', 'item_id'], axis = 1, inplace = True)"
   ]
  },
  {
   "cell_type": "code",
   "execution_count": 15,
   "id": "4533ebea",
   "metadata": {
    "execution": {
     "iopub.execute_input": "2022-12-08T05:32:46.154496Z",
     "iopub.status.busy": "2022-12-08T05:32:46.153487Z",
     "iopub.status.idle": "2022-12-08T05:32:47.254196Z",
     "shell.execute_reply": "2022-12-08T05:32:47.252906Z"
    },
    "papermill": {
     "duration": 1.132946,
     "end_time": "2022-12-08T05:32:47.257065",
     "exception": false,
     "start_time": "2022-12-08T05:32:46.124119",
     "status": "completed"
    },
    "tags": []
   },
   "outputs": [],
   "source": [
    "df_sell_price = df_sell_price.groupby(['state', 'wm_yr_wk']).agg( sales_price_min = ('sell_price', min),\n",
    "        sales_price_max = ('sell_price', max),\n",
    "        sales_price_mean = ('sell_price', np.mean)).reset_index()"
   ]
  },
  {
   "cell_type": "code",
   "execution_count": 16,
   "id": "3db05e71",
   "metadata": {
    "execution": {
     "iopub.execute_input": "2022-12-08T05:32:47.319454Z",
     "iopub.status.busy": "2022-12-08T05:32:47.318888Z",
     "iopub.status.idle": "2022-12-08T05:32:47.333374Z",
     "shell.execute_reply": "2022-12-08T05:32:47.332138Z"
    },
    "papermill": {
     "duration": 0.047205,
     "end_time": "2022-12-08T05:32:47.335758",
     "exception": false,
     "start_time": "2022-12-08T05:32:47.288553",
     "status": "completed"
    },
    "tags": []
   },
   "outputs": [
    {
     "data": {
      "text/html": [
       "<div>\n",
       "<style scoped>\n",
       "    .dataframe tbody tr th:only-of-type {\n",
       "        vertical-align: middle;\n",
       "    }\n",
       "\n",
       "    .dataframe tbody tr th {\n",
       "        vertical-align: top;\n",
       "    }\n",
       "\n",
       "    .dataframe thead th {\n",
       "        text-align: right;\n",
       "    }\n",
       "</style>\n",
       "<table border=\"1\" class=\"dataframe\">\n",
       "  <thead>\n",
       "    <tr style=\"text-align: right;\">\n",
       "      <th></th>\n",
       "      <th>state</th>\n",
       "      <th>wm_yr_wk</th>\n",
       "      <th>sales_price_min</th>\n",
       "      <th>sales_price_max</th>\n",
       "      <th>sales_price_mean</th>\n",
       "    </tr>\n",
       "  </thead>\n",
       "  <tbody>\n",
       "    <tr>\n",
       "      <th>0</th>\n",
       "      <td>CA</td>\n",
       "      <td>11101</td>\n",
       "      <td>0.2</td>\n",
       "      <td>22.0</td>\n",
       "      <td>4.108908</td>\n",
       "    </tr>\n",
       "    <tr>\n",
       "      <th>1</th>\n",
       "      <td>CA</td>\n",
       "      <td>11102</td>\n",
       "      <td>0.2</td>\n",
       "      <td>22.0</td>\n",
       "      <td>4.177565</td>\n",
       "    </tr>\n",
       "    <tr>\n",
       "      <th>2</th>\n",
       "      <td>CA</td>\n",
       "      <td>11103</td>\n",
       "      <td>0.2</td>\n",
       "      <td>22.0</td>\n",
       "      <td>4.196517</td>\n",
       "    </tr>\n",
       "    <tr>\n",
       "      <th>3</th>\n",
       "      <td>CA</td>\n",
       "      <td>11104</td>\n",
       "      <td>0.2</td>\n",
       "      <td>22.0</td>\n",
       "      <td>4.204878</td>\n",
       "    </tr>\n",
       "    <tr>\n",
       "      <th>4</th>\n",
       "      <td>CA</td>\n",
       "      <td>11105</td>\n",
       "      <td>0.2</td>\n",
       "      <td>22.0</td>\n",
       "      <td>4.205234</td>\n",
       "    </tr>\n",
       "  </tbody>\n",
       "</table>\n",
       "</div>"
      ],
      "text/plain": [
       "  state  wm_yr_wk  sales_price_min  sales_price_max  sales_price_mean\n",
       "0    CA     11101              0.2             22.0          4.108908\n",
       "1    CA     11102              0.2             22.0          4.177565\n",
       "2    CA     11103              0.2             22.0          4.196517\n",
       "3    CA     11104              0.2             22.0          4.204878\n",
       "4    CA     11105              0.2             22.0          4.205234"
      ]
     },
     "execution_count": 16,
     "metadata": {},
     "output_type": "execute_result"
    }
   ],
   "source": [
    "df_sell_price.head()"
   ]
  },
  {
   "cell_type": "code",
   "execution_count": 17,
   "id": "bb31ee85",
   "metadata": {
    "execution": {
     "iopub.execute_input": "2022-12-08T05:32:47.396133Z",
     "iopub.status.busy": "2022-12-08T05:32:47.395295Z",
     "iopub.status.idle": "2022-12-08T05:32:47.401411Z",
     "shell.execute_reply": "2022-12-08T05:32:47.400647Z"
    },
    "papermill": {
     "duration": 0.038744,
     "end_time": "2022-12-08T05:32:47.403339",
     "exception": false,
     "start_time": "2022-12-08T05:32:47.364595",
     "status": "completed"
    },
    "tags": []
   },
   "outputs": [
    {
     "data": {
      "text/plain": [
       "(846, 5)"
      ]
     },
     "execution_count": 17,
     "metadata": {},
     "output_type": "execute_result"
    }
   ],
   "source": [
    "df_sell_price.shape"
   ]
  },
  {
   "cell_type": "markdown",
   "id": "b534c764",
   "metadata": {
    "papermill": {
     "duration": 0.029088,
     "end_time": "2022-12-08T05:32:47.461497",
     "exception": false,
     "start_time": "2022-12-08T05:32:47.432409",
     "status": "completed"
    },
    "tags": []
   },
   "source": [
    "### Drop `event_name_2`, `event_type_2` and `wday` from `df_calendar`"
   ]
  },
  {
   "cell_type": "code",
   "execution_count": 18,
   "id": "7e59570b",
   "metadata": {
    "execution": {
     "iopub.execute_input": "2022-12-08T05:32:47.520204Z",
     "iopub.status.busy": "2022-12-08T05:32:47.519501Z",
     "iopub.status.idle": "2022-12-08T05:32:47.524951Z",
     "shell.execute_reply": "2022-12-08T05:32:47.524241Z"
    },
    "papermill": {
     "duration": 0.03694,
     "end_time": "2022-12-08T05:32:47.526789",
     "exception": false,
     "start_time": "2022-12-08T05:32:47.489849",
     "status": "completed"
    },
    "tags": []
   },
   "outputs": [],
   "source": [
    "df_calendar.drop(['event_name_1', 'event_name_2', 'event_type_2', 'wday', 'month', 'year'], axis=1, inplace=True)"
   ]
  },
  {
   "cell_type": "code",
   "execution_count": 19,
   "id": "e4c3b65a",
   "metadata": {
    "execution": {
     "iopub.execute_input": "2022-12-08T05:32:47.585394Z",
     "iopub.status.busy": "2022-12-08T05:32:47.584681Z",
     "iopub.status.idle": "2022-12-08T05:32:47.596510Z",
     "shell.execute_reply": "2022-12-08T05:32:47.595721Z"
    },
    "papermill": {
     "duration": 0.043613,
     "end_time": "2022-12-08T05:32:47.598503",
     "exception": false,
     "start_time": "2022-12-08T05:32:47.554890",
     "status": "completed"
    },
    "tags": []
   },
   "outputs": [
    {
     "data": {
      "text/html": [
       "<div>\n",
       "<style scoped>\n",
       "    .dataframe tbody tr th:only-of-type {\n",
       "        vertical-align: middle;\n",
       "    }\n",
       "\n",
       "    .dataframe tbody tr th {\n",
       "        vertical-align: top;\n",
       "    }\n",
       "\n",
       "    .dataframe thead th {\n",
       "        text-align: right;\n",
       "    }\n",
       "</style>\n",
       "<table border=\"1\" class=\"dataframe\">\n",
       "  <thead>\n",
       "    <tr style=\"text-align: right;\">\n",
       "      <th></th>\n",
       "      <th>date</th>\n",
       "      <th>wm_yr_wk</th>\n",
       "      <th>weekday</th>\n",
       "      <th>d</th>\n",
       "      <th>event_type_1</th>\n",
       "      <th>snap_CA</th>\n",
       "      <th>snap_TX</th>\n",
       "      <th>snap_WI</th>\n",
       "    </tr>\n",
       "  </thead>\n",
       "  <tbody>\n",
       "    <tr>\n",
       "      <th>0</th>\n",
       "      <td>2011-01-29</td>\n",
       "      <td>11101</td>\n",
       "      <td>Saturday</td>\n",
       "      <td>d_1</td>\n",
       "      <td>NaN</td>\n",
       "      <td>0</td>\n",
       "      <td>0</td>\n",
       "      <td>0</td>\n",
       "    </tr>\n",
       "    <tr>\n",
       "      <th>1</th>\n",
       "      <td>2011-01-30</td>\n",
       "      <td>11101</td>\n",
       "      <td>Sunday</td>\n",
       "      <td>d_2</td>\n",
       "      <td>NaN</td>\n",
       "      <td>0</td>\n",
       "      <td>0</td>\n",
       "      <td>0</td>\n",
       "    </tr>\n",
       "    <tr>\n",
       "      <th>2</th>\n",
       "      <td>2011-01-31</td>\n",
       "      <td>11101</td>\n",
       "      <td>Monday</td>\n",
       "      <td>d_3</td>\n",
       "      <td>NaN</td>\n",
       "      <td>0</td>\n",
       "      <td>0</td>\n",
       "      <td>0</td>\n",
       "    </tr>\n",
       "    <tr>\n",
       "      <th>3</th>\n",
       "      <td>2011-02-01</td>\n",
       "      <td>11101</td>\n",
       "      <td>Tuesday</td>\n",
       "      <td>d_4</td>\n",
       "      <td>NaN</td>\n",
       "      <td>1</td>\n",
       "      <td>1</td>\n",
       "      <td>0</td>\n",
       "    </tr>\n",
       "    <tr>\n",
       "      <th>4</th>\n",
       "      <td>2011-02-02</td>\n",
       "      <td>11101</td>\n",
       "      <td>Wednesday</td>\n",
       "      <td>d_5</td>\n",
       "      <td>NaN</td>\n",
       "      <td>1</td>\n",
       "      <td>0</td>\n",
       "      <td>1</td>\n",
       "    </tr>\n",
       "  </tbody>\n",
       "</table>\n",
       "</div>"
      ],
      "text/plain": [
       "         date  wm_yr_wk    weekday    d event_type_1  snap_CA  snap_TX  \\\n",
       "0  2011-01-29     11101   Saturday  d_1          NaN        0        0   \n",
       "1  2011-01-30     11101     Sunday  d_2          NaN        0        0   \n",
       "2  2011-01-31     11101     Monday  d_3          NaN        0        0   \n",
       "3  2011-02-01     11101    Tuesday  d_4          NaN        1        1   \n",
       "4  2011-02-02     11101  Wednesday  d_5          NaN        1        0   \n",
       "\n",
       "   snap_WI  \n",
       "0        0  \n",
       "1        0  \n",
       "2        0  \n",
       "3        0  \n",
       "4        1  "
      ]
     },
     "execution_count": 19,
     "metadata": {},
     "output_type": "execute_result"
    }
   ],
   "source": [
    "df_calendar.head()"
   ]
  },
  {
   "cell_type": "code",
   "execution_count": 20,
   "id": "bbb1617e",
   "metadata": {
    "execution": {
     "iopub.execute_input": "2022-12-08T05:32:47.658125Z",
     "iopub.status.busy": "2022-12-08T05:32:47.657398Z",
     "iopub.status.idle": "2022-12-08T05:32:47.666340Z",
     "shell.execute_reply": "2022-12-08T05:32:47.665454Z"
    },
    "papermill": {
     "duration": 0.041159,
     "end_time": "2022-12-08T05:32:47.668351",
     "exception": false,
     "start_time": "2022-12-08T05:32:47.627192",
     "status": "completed"
    },
    "tags": []
   },
   "outputs": [
    {
     "data": {
      "text/plain": [
       "date               0\n",
       "wm_yr_wk           0\n",
       "weekday            0\n",
       "d                  0\n",
       "event_type_1    1807\n",
       "snap_CA            0\n",
       "snap_TX            0\n",
       "snap_WI            0\n",
       "dtype: int64"
      ]
     },
     "execution_count": 20,
     "metadata": {},
     "output_type": "execute_result"
    }
   ],
   "source": [
    "df_calendar.isna().sum()"
   ]
  },
  {
   "cell_type": "code",
   "execution_count": 21,
   "id": "8d15da8f",
   "metadata": {
    "execution": {
     "iopub.execute_input": "2022-12-08T05:32:47.727334Z",
     "iopub.status.busy": "2022-12-08T05:32:47.726909Z",
     "iopub.status.idle": "2022-12-08T05:32:47.732087Z",
     "shell.execute_reply": "2022-12-08T05:32:47.731332Z"
    },
    "papermill": {
     "duration": 0.037095,
     "end_time": "2022-12-08T05:32:47.734031",
     "exception": false,
     "start_time": "2022-12-08T05:32:47.696936",
     "status": "completed"
    },
    "tags": []
   },
   "outputs": [],
   "source": [
    "df_calendar.event_type_1.fillna('Daily', inplace=True)"
   ]
  },
  {
   "cell_type": "markdown",
   "id": "7b1696d8",
   "metadata": {
    "papermill": {
     "duration": 0.028383,
     "end_time": "2022-12-08T05:32:47.791104",
     "exception": false,
     "start_time": "2022-12-08T05:32:47.762721",
     "status": "completed"
    },
    "tags": []
   },
   "source": [
    "# Downcast to save memory.\n",
    "\n",
    "https://www.kaggle.com/code/anshuls235/time-series-forecasting-eda-fe-modelling"
   ]
  },
  {
   "cell_type": "code",
   "execution_count": 22,
   "id": "a5ea36d6",
   "metadata": {
    "execution": {
     "iopub.execute_input": "2022-12-08T05:32:47.850409Z",
     "iopub.status.busy": "2022-12-08T05:32:47.849708Z",
     "iopub.status.idle": "2022-12-08T05:32:47.863906Z",
     "shell.execute_reply": "2022-12-08T05:32:47.862686Z"
    },
    "papermill": {
     "duration": 0.046902,
     "end_time": "2022-12-08T05:32:47.866590",
     "exception": false,
     "start_time": "2022-12-08T05:32:47.819688",
     "status": "completed"
    },
    "tags": []
   },
   "outputs": [],
   "source": [
    "def downcast(df):\n",
    "    cols = df.dtypes.index.tolist()\n",
    "    types = df.dtypes.values.tolist()\n",
    "    for i,t in enumerate(types):\n",
    "        if 'int' in str(t):\n",
    "            if df[cols[i]].min() > np.iinfo(np.int8).min and df[cols[i]].max() < np.iinfo(np.int8).max:\n",
    "                df[cols[i]] = df[cols[i]].astype(np.int8)\n",
    "            elif df[cols[i]].min() > np.iinfo(np.int16).min and df[cols[i]].max() < np.iinfo(np.int16).max:\n",
    "                df[cols[i]] = df[cols[i]].astype(np.int16)\n",
    "            elif df[cols[i]].min() > np.iinfo(np.int32).min and df[cols[i]].max() < np.iinfo(np.int32).max:\n",
    "                df[cols[i]] = df[cols[i]].astype(np.int32)\n",
    "            else:\n",
    "                df[cols[i]] = df[cols[i]].astype(np.int64)\n",
    "        elif 'float' in str(t):\n",
    "            if df[cols[i]].min() > np.finfo(np.float16).min and df[cols[i]].max() < np.finfo(np.float16).max:\n",
    "                df[cols[i]] = df[cols[i]].astype(np.float16)\n",
    "            elif df[cols[i]].min() > np.finfo(np.float32).min and df[cols[i]].max() < np.finfo(np.float32).max:\n",
    "                df[cols[i]] = df[cols[i]].astype(np.float32)\n",
    "            else:\n",
    "                df[cols[i]] = df[cols[i]].astype(np.float64)\n",
    "        elif t == object:\n",
    "            if cols[i] == 'date':\n",
    "                df[cols[i]] = pd.to_datetime(df[cols[i]], format='%Y-%m-%d')\n",
    "            else:\n",
    "                df[cols[i]] = df[cols[i]].astype('category')\n",
    "    return df "
   ]
  },
  {
   "cell_type": "code",
   "execution_count": 23,
   "id": "7fdc2f62",
   "metadata": {
    "execution": {
     "iopub.execute_input": "2022-12-08T05:32:47.926285Z",
     "iopub.status.busy": "2022-12-08T05:32:47.925855Z",
     "iopub.status.idle": "2022-12-08T05:35:04.792240Z",
     "shell.execute_reply": "2022-12-08T05:35:04.791257Z"
    },
    "papermill": {
     "duration": 136.898821,
     "end_time": "2022-12-08T05:35:04.794939",
     "exception": false,
     "start_time": "2022-12-08T05:32:47.896118",
     "status": "completed"
    },
    "tags": []
   },
   "outputs": [],
   "source": [
    "df_calendar = downcast(df_calendar)\n",
    "df_sell_price = downcast(df_sell_price)\n",
    "df_sales_tv = downcast(df_sales_tv)"
   ]
  },
  {
   "cell_type": "code",
   "execution_count": 24,
   "id": "a77ffe6e",
   "metadata": {
    "execution": {
     "iopub.execute_input": "2022-12-08T05:35:04.861037Z",
     "iopub.status.busy": "2022-12-08T05:35:04.860461Z",
     "iopub.status.idle": "2022-12-08T05:35:04.874519Z",
     "shell.execute_reply": "2022-12-08T05:35:04.873678Z"
    },
    "papermill": {
     "duration": 0.049486,
     "end_time": "2022-12-08T05:35:04.876574",
     "exception": false,
     "start_time": "2022-12-08T05:35:04.827088",
     "status": "completed"
    },
    "tags": []
   },
   "outputs": [
    {
     "data": {
      "text/html": [
       "<div>\n",
       "<style scoped>\n",
       "    .dataframe tbody tr th:only-of-type {\n",
       "        vertical-align: middle;\n",
       "    }\n",
       "\n",
       "    .dataframe tbody tr th {\n",
       "        vertical-align: top;\n",
       "    }\n",
       "\n",
       "    .dataframe thead th {\n",
       "        text-align: right;\n",
       "    }\n",
       "</style>\n",
       "<table border=\"1\" class=\"dataframe\">\n",
       "  <thead>\n",
       "    <tr style=\"text-align: right;\">\n",
       "      <th></th>\n",
       "      <th>date</th>\n",
       "      <th>wm_yr_wk</th>\n",
       "      <th>weekday</th>\n",
       "      <th>d</th>\n",
       "      <th>event_type_1</th>\n",
       "      <th>snap_CA</th>\n",
       "      <th>snap_TX</th>\n",
       "      <th>snap_WI</th>\n",
       "    </tr>\n",
       "  </thead>\n",
       "  <tbody>\n",
       "    <tr>\n",
       "      <th>0</th>\n",
       "      <td>2011-01-29</td>\n",
       "      <td>11101</td>\n",
       "      <td>Saturday</td>\n",
       "      <td>d_1</td>\n",
       "      <td>Daily</td>\n",
       "      <td>0</td>\n",
       "      <td>0</td>\n",
       "      <td>0</td>\n",
       "    </tr>\n",
       "    <tr>\n",
       "      <th>1</th>\n",
       "      <td>2011-01-30</td>\n",
       "      <td>11101</td>\n",
       "      <td>Sunday</td>\n",
       "      <td>d_2</td>\n",
       "      <td>Daily</td>\n",
       "      <td>0</td>\n",
       "      <td>0</td>\n",
       "      <td>0</td>\n",
       "    </tr>\n",
       "    <tr>\n",
       "      <th>2</th>\n",
       "      <td>2011-01-31</td>\n",
       "      <td>11101</td>\n",
       "      <td>Monday</td>\n",
       "      <td>d_3</td>\n",
       "      <td>Daily</td>\n",
       "      <td>0</td>\n",
       "      <td>0</td>\n",
       "      <td>0</td>\n",
       "    </tr>\n",
       "    <tr>\n",
       "      <th>3</th>\n",
       "      <td>2011-02-01</td>\n",
       "      <td>11101</td>\n",
       "      <td>Tuesday</td>\n",
       "      <td>d_4</td>\n",
       "      <td>Daily</td>\n",
       "      <td>1</td>\n",
       "      <td>1</td>\n",
       "      <td>0</td>\n",
       "    </tr>\n",
       "    <tr>\n",
       "      <th>4</th>\n",
       "      <td>2011-02-02</td>\n",
       "      <td>11101</td>\n",
       "      <td>Wednesday</td>\n",
       "      <td>d_5</td>\n",
       "      <td>Daily</td>\n",
       "      <td>1</td>\n",
       "      <td>0</td>\n",
       "      <td>1</td>\n",
       "    </tr>\n",
       "  </tbody>\n",
       "</table>\n",
       "</div>"
      ],
      "text/plain": [
       "        date  wm_yr_wk    weekday    d event_type_1  snap_CA  snap_TX  snap_WI\n",
       "0 2011-01-29     11101   Saturday  d_1        Daily        0        0        0\n",
       "1 2011-01-30     11101     Sunday  d_2        Daily        0        0        0\n",
       "2 2011-01-31     11101     Monday  d_3        Daily        0        0        0\n",
       "3 2011-02-01     11101    Tuesday  d_4        Daily        1        1        0\n",
       "4 2011-02-02     11101  Wednesday  d_5        Daily        1        0        1"
      ]
     },
     "execution_count": 24,
     "metadata": {},
     "output_type": "execute_result"
    }
   ],
   "source": [
    "df_calendar.head()"
   ]
  },
  {
   "cell_type": "code",
   "execution_count": 25,
   "id": "31990724",
   "metadata": {
    "execution": {
     "iopub.execute_input": "2022-12-08T05:35:04.938554Z",
     "iopub.status.busy": "2022-12-08T05:35:04.937308Z",
     "iopub.status.idle": "2022-12-08T05:35:04.945313Z",
     "shell.execute_reply": "2022-12-08T05:35:04.944004Z"
    },
    "papermill": {
     "duration": 0.041752,
     "end_time": "2022-12-08T05:35:04.947987",
     "exception": false,
     "start_time": "2022-12-08T05:35:04.906235",
     "status": "completed"
    },
    "tags": []
   },
   "outputs": [
    {
     "data": {
      "text/plain": [
       "(1969, 8)"
      ]
     },
     "execution_count": 25,
     "metadata": {},
     "output_type": "execute_result"
    }
   ],
   "source": [
    "df_calendar.shape"
   ]
  },
  {
   "cell_type": "markdown",
   "id": "b152ef6d",
   "metadata": {
    "papermill": {
     "duration": 0.029855,
     "end_time": "2022-12-08T05:35:05.009379",
     "exception": false,
     "start_time": "2022-12-08T05:35:04.979524",
     "status": "completed"
    },
    "tags": []
   },
   "source": [
    "## Merge `df_calendar` with `df_sell_price` on `wm_yr_wk`"
   ]
  },
  {
   "cell_type": "code",
   "execution_count": 26,
   "id": "a8975927",
   "metadata": {
    "execution": {
     "iopub.execute_input": "2022-12-08T05:35:05.072022Z",
     "iopub.status.busy": "2022-12-08T05:35:05.071568Z",
     "iopub.status.idle": "2022-12-08T05:35:05.102889Z",
     "shell.execute_reply": "2022-12-08T05:35:05.101701Z"
    },
    "papermill": {
     "duration": 0.065573,
     "end_time": "2022-12-08T05:35:05.105267",
     "exception": false,
     "start_time": "2022-12-08T05:35:05.039694",
     "status": "completed"
    },
    "tags": []
   },
   "outputs": [
    {
     "data": {
      "text/html": [
       "<div>\n",
       "<style scoped>\n",
       "    .dataframe tbody tr th:only-of-type {\n",
       "        vertical-align: middle;\n",
       "    }\n",
       "\n",
       "    .dataframe tbody tr th {\n",
       "        vertical-align: top;\n",
       "    }\n",
       "\n",
       "    .dataframe thead th {\n",
       "        text-align: right;\n",
       "    }\n",
       "</style>\n",
       "<table border=\"1\" class=\"dataframe\">\n",
       "  <thead>\n",
       "    <tr style=\"text-align: right;\">\n",
       "      <th></th>\n",
       "      <th>date</th>\n",
       "      <th>wm_yr_wk</th>\n",
       "      <th>weekday</th>\n",
       "      <th>d</th>\n",
       "      <th>event_type_1</th>\n",
       "      <th>snap_CA</th>\n",
       "      <th>snap_TX</th>\n",
       "      <th>snap_WI</th>\n",
       "      <th>state</th>\n",
       "      <th>sales_price_min</th>\n",
       "      <th>sales_price_max</th>\n",
       "      <th>sales_price_mean</th>\n",
       "    </tr>\n",
       "  </thead>\n",
       "  <tbody>\n",
       "    <tr>\n",
       "      <th>0</th>\n",
       "      <td>2011-01-29</td>\n",
       "      <td>11101</td>\n",
       "      <td>Saturday</td>\n",
       "      <td>d_1</td>\n",
       "      <td>Daily</td>\n",
       "      <td>0</td>\n",
       "      <td>0</td>\n",
       "      <td>0</td>\n",
       "      <td>CA</td>\n",
       "      <td>0.199951</td>\n",
       "      <td>22.0</td>\n",
       "      <td>4.109375</td>\n",
       "    </tr>\n",
       "    <tr>\n",
       "      <th>1</th>\n",
       "      <td>2011-01-29</td>\n",
       "      <td>11101</td>\n",
       "      <td>Saturday</td>\n",
       "      <td>d_1</td>\n",
       "      <td>Daily</td>\n",
       "      <td>0</td>\n",
       "      <td>0</td>\n",
       "      <td>0</td>\n",
       "      <td>TX</td>\n",
       "      <td>0.199951</td>\n",
       "      <td>22.0</td>\n",
       "      <td>3.990234</td>\n",
       "    </tr>\n",
       "    <tr>\n",
       "      <th>2</th>\n",
       "      <td>2011-01-29</td>\n",
       "      <td>11101</td>\n",
       "      <td>Saturday</td>\n",
       "      <td>d_1</td>\n",
       "      <td>Daily</td>\n",
       "      <td>0</td>\n",
       "      <td>0</td>\n",
       "      <td>0</td>\n",
       "      <td>WI</td>\n",
       "      <td>0.199951</td>\n",
       "      <td>22.0</td>\n",
       "      <td>4.109375</td>\n",
       "    </tr>\n",
       "    <tr>\n",
       "      <th>3</th>\n",
       "      <td>2011-01-30</td>\n",
       "      <td>11101</td>\n",
       "      <td>Sunday</td>\n",
       "      <td>d_2</td>\n",
       "      <td>Daily</td>\n",
       "      <td>0</td>\n",
       "      <td>0</td>\n",
       "      <td>0</td>\n",
       "      <td>CA</td>\n",
       "      <td>0.199951</td>\n",
       "      <td>22.0</td>\n",
       "      <td>4.109375</td>\n",
       "    </tr>\n",
       "    <tr>\n",
       "      <th>4</th>\n",
       "      <td>2011-01-30</td>\n",
       "      <td>11101</td>\n",
       "      <td>Sunday</td>\n",
       "      <td>d_2</td>\n",
       "      <td>Daily</td>\n",
       "      <td>0</td>\n",
       "      <td>0</td>\n",
       "      <td>0</td>\n",
       "      <td>TX</td>\n",
       "      <td>0.199951</td>\n",
       "      <td>22.0</td>\n",
       "      <td>3.990234</td>\n",
       "    </tr>\n",
       "  </tbody>\n",
       "</table>\n",
       "</div>"
      ],
      "text/plain": [
       "        date  wm_yr_wk   weekday    d event_type_1  snap_CA  snap_TX  snap_WI  \\\n",
       "0 2011-01-29     11101  Saturday  d_1        Daily        0        0        0   \n",
       "1 2011-01-29     11101  Saturday  d_1        Daily        0        0        0   \n",
       "2 2011-01-29     11101  Saturday  d_1        Daily        0        0        0   \n",
       "3 2011-01-30     11101    Sunday  d_2        Daily        0        0        0   \n",
       "4 2011-01-30     11101    Sunday  d_2        Daily        0        0        0   \n",
       "\n",
       "  state  sales_price_min  sales_price_max  sales_price_mean  \n",
       "0    CA         0.199951             22.0          4.109375  \n",
       "1    TX         0.199951             22.0          3.990234  \n",
       "2    WI         0.199951             22.0          4.109375  \n",
       "3    CA         0.199951             22.0          4.109375  \n",
       "4    TX         0.199951             22.0          3.990234  "
      ]
     },
     "execution_count": 26,
     "metadata": {},
     "output_type": "execute_result"
    }
   ],
   "source": [
    "df_calendar = df_calendar.merge(df_sell_price, how='left', on=['wm_yr_wk'])\n",
    "df_calendar.head()"
   ]
  },
  {
   "cell_type": "code",
   "execution_count": 27,
   "id": "5ad54f5d",
   "metadata": {
    "execution": {
     "iopub.execute_input": "2022-12-08T05:35:05.166857Z",
     "iopub.status.busy": "2022-12-08T05:35:05.166146Z",
     "iopub.status.idle": "2022-12-08T05:35:05.178545Z",
     "shell.execute_reply": "2022-12-08T05:35:05.177246Z"
    },
    "papermill": {
     "duration": 0.046044,
     "end_time": "2022-12-08T05:35:05.180928",
     "exception": false,
     "start_time": "2022-12-08T05:35:05.134884",
     "status": "completed"
    },
    "tags": []
   },
   "outputs": [
    {
     "data": {
      "text/plain": [
       "0"
      ]
     },
     "execution_count": 27,
     "metadata": {},
     "output_type": "execute_result"
    }
   ],
   "source": [
    "df_calendar.duplicated().sum()"
   ]
  },
  {
   "cell_type": "code",
   "execution_count": 28,
   "id": "f9ba22b4",
   "metadata": {
    "execution": {
     "iopub.execute_input": "2022-12-08T05:35:05.243386Z",
     "iopub.status.busy": "2022-12-08T05:35:05.242533Z",
     "iopub.status.idle": "2022-12-08T05:35:05.249105Z",
     "shell.execute_reply": "2022-12-08T05:35:05.248107Z"
    },
    "papermill": {
     "duration": 0.040709,
     "end_time": "2022-12-08T05:35:05.251788",
     "exception": false,
     "start_time": "2022-12-08T05:35:05.211079",
     "status": "completed"
    },
    "tags": []
   },
   "outputs": [],
   "source": [
    "df_calendar.drop(['wm_yr_wk'], axis = 1, inplace = True)"
   ]
  },
  {
   "cell_type": "code",
   "execution_count": 29,
   "id": "8d3c929a",
   "metadata": {
    "execution": {
     "iopub.execute_input": "2022-12-08T05:35:05.316840Z",
     "iopub.status.busy": "2022-12-08T05:35:05.316440Z",
     "iopub.status.idle": "2022-12-08T05:35:05.337171Z",
     "shell.execute_reply": "2022-12-08T05:35:05.336076Z"
    },
    "papermill": {
     "duration": 0.05575,
     "end_time": "2022-12-08T05:35:05.339326",
     "exception": false,
     "start_time": "2022-12-08T05:35:05.283576",
     "status": "completed"
    },
    "tags": []
   },
   "outputs": [
    {
     "data": {
      "text/html": [
       "<div>\n",
       "<style scoped>\n",
       "    .dataframe tbody tr th:only-of-type {\n",
       "        vertical-align: middle;\n",
       "    }\n",
       "\n",
       "    .dataframe tbody tr th {\n",
       "        vertical-align: top;\n",
       "    }\n",
       "\n",
       "    .dataframe thead th {\n",
       "        text-align: right;\n",
       "    }\n",
       "</style>\n",
       "<table border=\"1\" class=\"dataframe\">\n",
       "  <thead>\n",
       "    <tr style=\"text-align: right;\">\n",
       "      <th></th>\n",
       "      <th>date</th>\n",
       "      <th>weekday</th>\n",
       "      <th>event_type_1</th>\n",
       "      <th>snap_CA</th>\n",
       "      <th>snap_TX</th>\n",
       "      <th>snap_WI</th>\n",
       "      <th>state</th>\n",
       "      <th>sales_price_min</th>\n",
       "      <th>sales_price_max</th>\n",
       "      <th>sales_price_mean</th>\n",
       "    </tr>\n",
       "    <tr>\n",
       "      <th>d</th>\n",
       "      <th></th>\n",
       "      <th></th>\n",
       "      <th></th>\n",
       "      <th></th>\n",
       "      <th></th>\n",
       "      <th></th>\n",
       "      <th></th>\n",
       "      <th></th>\n",
       "      <th></th>\n",
       "      <th></th>\n",
       "    </tr>\n",
       "  </thead>\n",
       "  <tbody>\n",
       "    <tr>\n",
       "      <th>d_1</th>\n",
       "      <td>2011-01-29</td>\n",
       "      <td>Saturday</td>\n",
       "      <td>Daily</td>\n",
       "      <td>0</td>\n",
       "      <td>0</td>\n",
       "      <td>0</td>\n",
       "      <td>CA</td>\n",
       "      <td>0.199951</td>\n",
       "      <td>22.0</td>\n",
       "      <td>4.109375</td>\n",
       "    </tr>\n",
       "    <tr>\n",
       "      <th>d_1</th>\n",
       "      <td>2011-01-29</td>\n",
       "      <td>Saturday</td>\n",
       "      <td>Daily</td>\n",
       "      <td>0</td>\n",
       "      <td>0</td>\n",
       "      <td>0</td>\n",
       "      <td>TX</td>\n",
       "      <td>0.199951</td>\n",
       "      <td>22.0</td>\n",
       "      <td>3.990234</td>\n",
       "    </tr>\n",
       "    <tr>\n",
       "      <th>d_1</th>\n",
       "      <td>2011-01-29</td>\n",
       "      <td>Saturday</td>\n",
       "      <td>Daily</td>\n",
       "      <td>0</td>\n",
       "      <td>0</td>\n",
       "      <td>0</td>\n",
       "      <td>WI</td>\n",
       "      <td>0.199951</td>\n",
       "      <td>22.0</td>\n",
       "      <td>4.109375</td>\n",
       "    </tr>\n",
       "    <tr>\n",
       "      <th>d_2</th>\n",
       "      <td>2011-01-30</td>\n",
       "      <td>Sunday</td>\n",
       "      <td>Daily</td>\n",
       "      <td>0</td>\n",
       "      <td>0</td>\n",
       "      <td>0</td>\n",
       "      <td>CA</td>\n",
       "      <td>0.199951</td>\n",
       "      <td>22.0</td>\n",
       "      <td>4.109375</td>\n",
       "    </tr>\n",
       "    <tr>\n",
       "      <th>d_2</th>\n",
       "      <td>2011-01-30</td>\n",
       "      <td>Sunday</td>\n",
       "      <td>Daily</td>\n",
       "      <td>0</td>\n",
       "      <td>0</td>\n",
       "      <td>0</td>\n",
       "      <td>TX</td>\n",
       "      <td>0.199951</td>\n",
       "      <td>22.0</td>\n",
       "      <td>3.990234</td>\n",
       "    </tr>\n",
       "  </tbody>\n",
       "</table>\n",
       "</div>"
      ],
      "text/plain": [
       "          date   weekday event_type_1  snap_CA  snap_TX  snap_WI state  \\\n",
       "d                                                                        \n",
       "d_1 2011-01-29  Saturday        Daily        0        0        0    CA   \n",
       "d_1 2011-01-29  Saturday        Daily        0        0        0    TX   \n",
       "d_1 2011-01-29  Saturday        Daily        0        0        0    WI   \n",
       "d_2 2011-01-30    Sunday        Daily        0        0        0    CA   \n",
       "d_2 2011-01-30    Sunday        Daily        0        0        0    TX   \n",
       "\n",
       "     sales_price_min  sales_price_max  sales_price_mean  \n",
       "d                                                        \n",
       "d_1         0.199951             22.0          4.109375  \n",
       "d_1         0.199951             22.0          3.990234  \n",
       "d_1         0.199951             22.0          4.109375  \n",
       "d_2         0.199951             22.0          4.109375  \n",
       "d_2         0.199951             22.0          3.990234  "
      ]
     },
     "execution_count": 29,
     "metadata": {},
     "output_type": "execute_result"
    }
   ],
   "source": [
    "df_calendar.set_index('d', inplace=True)\n",
    "df_calendar.head()"
   ]
  },
  {
   "cell_type": "code",
   "execution_count": 30,
   "id": "5bc4f9b7",
   "metadata": {
    "execution": {
     "iopub.execute_input": "2022-12-08T05:35:05.401316Z",
     "iopub.status.busy": "2022-12-08T05:35:05.400839Z",
     "iopub.status.idle": "2022-12-08T05:35:05.407334Z",
     "shell.execute_reply": "2022-12-08T05:35:05.406424Z"
    },
    "papermill": {
     "duration": 0.039857,
     "end_time": "2022-12-08T05:35:05.409420",
     "exception": false,
     "start_time": "2022-12-08T05:35:05.369563",
     "status": "completed"
    },
    "tags": []
   },
   "outputs": [
    {
     "data": {
      "text/plain": [
       "(5907, 10)"
      ]
     },
     "execution_count": 30,
     "metadata": {},
     "output_type": "execute_result"
    }
   ],
   "source": [
    "df_calendar.shape"
   ]
  },
  {
   "cell_type": "code",
   "execution_count": 31,
   "id": "a5f38860",
   "metadata": {
    "execution": {
     "iopub.execute_input": "2022-12-08T05:35:05.474499Z",
     "iopub.status.busy": "2022-12-08T05:35:05.473399Z",
     "iopub.status.idle": "2022-12-08T05:35:05.770911Z",
     "shell.execute_reply": "2022-12-08T05:35:05.769584Z"
    },
    "papermill": {
     "duration": 0.332724,
     "end_time": "2022-12-08T05:35:05.773775",
     "exception": false,
     "start_time": "2022-12-08T05:35:05.441051",
     "status": "completed"
    },
    "tags": []
   },
   "outputs": [
    {
     "data": {
      "text/html": [
       "<div>\n",
       "<style scoped>\n",
       "    .dataframe tbody tr th:only-of-type {\n",
       "        vertical-align: middle;\n",
       "    }\n",
       "\n",
       "    .dataframe tbody tr th {\n",
       "        vertical-align: top;\n",
       "    }\n",
       "\n",
       "    .dataframe thead th {\n",
       "        text-align: right;\n",
       "    }\n",
       "</style>\n",
       "<table border=\"1\" class=\"dataframe\">\n",
       "  <thead>\n",
       "    <tr style=\"text-align: right;\">\n",
       "      <th></th>\n",
       "      <th>state_id</th>\n",
       "      <th>d_1</th>\n",
       "      <th>d_2</th>\n",
       "      <th>d_3</th>\n",
       "      <th>d_4</th>\n",
       "      <th>d_5</th>\n",
       "      <th>d_6</th>\n",
       "      <th>d_7</th>\n",
       "      <th>d_8</th>\n",
       "      <th>d_9</th>\n",
       "      <th>...</th>\n",
       "      <th>d_1904</th>\n",
       "      <th>d_1905</th>\n",
       "      <th>d_1906</th>\n",
       "      <th>d_1907</th>\n",
       "      <th>d_1908</th>\n",
       "      <th>d_1909</th>\n",
       "      <th>d_1910</th>\n",
       "      <th>d_1911</th>\n",
       "      <th>d_1912</th>\n",
       "      <th>d_1913</th>\n",
       "    </tr>\n",
       "  </thead>\n",
       "  <tbody>\n",
       "    <tr>\n",
       "      <th>0</th>\n",
       "      <td>CA</td>\n",
       "      <td>0</td>\n",
       "      <td>0</td>\n",
       "      <td>0</td>\n",
       "      <td>0</td>\n",
       "      <td>0</td>\n",
       "      <td>0</td>\n",
       "      <td>0</td>\n",
       "      <td>0</td>\n",
       "      <td>0</td>\n",
       "      <td>...</td>\n",
       "      <td>1</td>\n",
       "      <td>3</td>\n",
       "      <td>0</td>\n",
       "      <td>1</td>\n",
       "      <td>1</td>\n",
       "      <td>1</td>\n",
       "      <td>3</td>\n",
       "      <td>0</td>\n",
       "      <td>1</td>\n",
       "      <td>1</td>\n",
       "    </tr>\n",
       "    <tr>\n",
       "      <th>1</th>\n",
       "      <td>CA</td>\n",
       "      <td>0</td>\n",
       "      <td>0</td>\n",
       "      <td>0</td>\n",
       "      <td>0</td>\n",
       "      <td>0</td>\n",
       "      <td>0</td>\n",
       "      <td>0</td>\n",
       "      <td>0</td>\n",
       "      <td>0</td>\n",
       "      <td>...</td>\n",
       "      <td>0</td>\n",
       "      <td>0</td>\n",
       "      <td>0</td>\n",
       "      <td>0</td>\n",
       "      <td>0</td>\n",
       "      <td>1</td>\n",
       "      <td>0</td>\n",
       "      <td>0</td>\n",
       "      <td>0</td>\n",
       "      <td>0</td>\n",
       "    </tr>\n",
       "    <tr>\n",
       "      <th>2</th>\n",
       "      <td>CA</td>\n",
       "      <td>0</td>\n",
       "      <td>0</td>\n",
       "      <td>0</td>\n",
       "      <td>0</td>\n",
       "      <td>0</td>\n",
       "      <td>0</td>\n",
       "      <td>0</td>\n",
       "      <td>0</td>\n",
       "      <td>0</td>\n",
       "      <td>...</td>\n",
       "      <td>2</td>\n",
       "      <td>1</td>\n",
       "      <td>2</td>\n",
       "      <td>1</td>\n",
       "      <td>1</td>\n",
       "      <td>1</td>\n",
       "      <td>0</td>\n",
       "      <td>1</td>\n",
       "      <td>1</td>\n",
       "      <td>1</td>\n",
       "    </tr>\n",
       "    <tr>\n",
       "      <th>3</th>\n",
       "      <td>CA</td>\n",
       "      <td>0</td>\n",
       "      <td>0</td>\n",
       "      <td>0</td>\n",
       "      <td>0</td>\n",
       "      <td>0</td>\n",
       "      <td>0</td>\n",
       "      <td>0</td>\n",
       "      <td>0</td>\n",
       "      <td>0</td>\n",
       "      <td>...</td>\n",
       "      <td>1</td>\n",
       "      <td>0</td>\n",
       "      <td>5</td>\n",
       "      <td>4</td>\n",
       "      <td>1</td>\n",
       "      <td>0</td>\n",
       "      <td>1</td>\n",
       "      <td>3</td>\n",
       "      <td>7</td>\n",
       "      <td>2</td>\n",
       "    </tr>\n",
       "    <tr>\n",
       "      <th>4</th>\n",
       "      <td>CA</td>\n",
       "      <td>0</td>\n",
       "      <td>0</td>\n",
       "      <td>0</td>\n",
       "      <td>0</td>\n",
       "      <td>0</td>\n",
       "      <td>0</td>\n",
       "      <td>0</td>\n",
       "      <td>0</td>\n",
       "      <td>0</td>\n",
       "      <td>...</td>\n",
       "      <td>2</td>\n",
       "      <td>1</td>\n",
       "      <td>1</td>\n",
       "      <td>0</td>\n",
       "      <td>1</td>\n",
       "      <td>1</td>\n",
       "      <td>2</td>\n",
       "      <td>2</td>\n",
       "      <td>2</td>\n",
       "      <td>4</td>\n",
       "    </tr>\n",
       "  </tbody>\n",
       "</table>\n",
       "<p>5 rows × 1914 columns</p>\n",
       "</div>"
      ],
      "text/plain": [
       "  state_id  d_1  d_2  d_3  d_4  d_5  d_6  d_7  d_8  d_9  ...  d_1904  d_1905  \\\n",
       "0       CA    0    0    0    0    0    0    0    0    0  ...       1       3   \n",
       "1       CA    0    0    0    0    0    0    0    0    0  ...       0       0   \n",
       "2       CA    0    0    0    0    0    0    0    0    0  ...       2       1   \n",
       "3       CA    0    0    0    0    0    0    0    0    0  ...       1       0   \n",
       "4       CA    0    0    0    0    0    0    0    0    0  ...       2       1   \n",
       "\n",
       "   d_1906  d_1907  d_1908  d_1909  d_1910  d_1911  d_1912  d_1913  \n",
       "0       0       1       1       1       3       0       1       1  \n",
       "1       0       0       0       1       0       0       0       0  \n",
       "2       2       1       1       1       0       1       1       1  \n",
       "3       5       4       1       0       1       3       7       2  \n",
       "4       1       0       1       1       2       2       2       4  \n",
       "\n",
       "[5 rows x 1914 columns]"
      ]
     },
     "execution_count": 31,
     "metadata": {},
     "output_type": "execute_result"
    }
   ],
   "source": [
    "# Drop `id, item_id, dept_id, cat_id, store_id` from `df_sales_tv`\n",
    "df_states = df_sales_tv.drop(['id', 'item_id', 'dept_id', 'cat_id', 'store_id'], axis = 1)\n",
    "df_states.head()"
   ]
  },
  {
   "cell_type": "code",
   "execution_count": 32,
   "id": "c2de297e",
   "metadata": {
    "execution": {
     "iopub.execute_input": "2022-12-08T05:35:05.838958Z",
     "iopub.status.busy": "2022-12-08T05:35:05.838287Z",
     "iopub.status.idle": "2022-12-08T05:35:06.574351Z",
     "shell.execute_reply": "2022-12-08T05:35:06.573230Z"
    },
    "papermill": {
     "duration": 0.770691,
     "end_time": "2022-12-08T05:35:06.576816",
     "exception": false,
     "start_time": "2022-12-08T05:35:05.806125",
     "status": "completed"
    },
    "tags": []
   },
   "outputs": [
    {
     "data": {
      "text/html": [
       "<div>\n",
       "<style scoped>\n",
       "    .dataframe tbody tr th:only-of-type {\n",
       "        vertical-align: middle;\n",
       "    }\n",
       "\n",
       "    .dataframe tbody tr th {\n",
       "        vertical-align: top;\n",
       "    }\n",
       "\n",
       "    .dataframe thead th {\n",
       "        text-align: right;\n",
       "    }\n",
       "</style>\n",
       "<table border=\"1\" class=\"dataframe\">\n",
       "  <thead>\n",
       "    <tr style=\"text-align: right;\">\n",
       "      <th></th>\n",
       "      <th>d_1</th>\n",
       "      <th>d_2</th>\n",
       "      <th>d_3</th>\n",
       "      <th>d_4</th>\n",
       "      <th>d_5</th>\n",
       "      <th>d_6</th>\n",
       "      <th>d_7</th>\n",
       "      <th>d_8</th>\n",
       "      <th>d_9</th>\n",
       "      <th>d_10</th>\n",
       "      <th>...</th>\n",
       "      <th>d_1904</th>\n",
       "      <th>d_1905</th>\n",
       "      <th>d_1906</th>\n",
       "      <th>d_1907</th>\n",
       "      <th>d_1908</th>\n",
       "      <th>d_1909</th>\n",
       "      <th>d_1910</th>\n",
       "      <th>d_1911</th>\n",
       "      <th>d_1912</th>\n",
       "      <th>d_1913</th>\n",
       "    </tr>\n",
       "    <tr>\n",
       "      <th>state_id</th>\n",
       "      <th></th>\n",
       "      <th></th>\n",
       "      <th></th>\n",
       "      <th></th>\n",
       "      <th></th>\n",
       "      <th></th>\n",
       "      <th></th>\n",
       "      <th></th>\n",
       "      <th></th>\n",
       "      <th></th>\n",
       "      <th></th>\n",
       "      <th></th>\n",
       "      <th></th>\n",
       "      <th></th>\n",
       "      <th></th>\n",
       "      <th></th>\n",
       "      <th></th>\n",
       "      <th></th>\n",
       "      <th></th>\n",
       "      <th></th>\n",
       "      <th></th>\n",
       "    </tr>\n",
       "  </thead>\n",
       "  <tbody>\n",
       "    <tr>\n",
       "      <th>CA</th>\n",
       "      <td>14195</td>\n",
       "      <td>13805</td>\n",
       "      <td>10108</td>\n",
       "      <td>11047</td>\n",
       "      <td>9925</td>\n",
       "      <td>11322</td>\n",
       "      <td>12251</td>\n",
       "      <td>16610</td>\n",
       "      <td>14696</td>\n",
       "      <td>11822</td>\n",
       "      <td>...</td>\n",
       "      <td>16255</td>\n",
       "      <td>20564</td>\n",
       "      <td>23032</td>\n",
       "      <td>17052.0</td>\n",
       "      <td>15784.0</td>\n",
       "      <td>15148.0</td>\n",
       "      <td>14488.0</td>\n",
       "      <td>17095</td>\n",
       "      <td>21834</td>\n",
       "      <td>23187</td>\n",
       "    </tr>\n",
       "    <tr>\n",
       "      <th>TX</th>\n",
       "      <td>9438</td>\n",
       "      <td>9630</td>\n",
       "      <td>6778</td>\n",
       "      <td>7381</td>\n",
       "      <td>5912</td>\n",
       "      <td>9006</td>\n",
       "      <td>6226</td>\n",
       "      <td>9440</td>\n",
       "      <td>9376</td>\n",
       "      <td>7319</td>\n",
       "      <td>...</td>\n",
       "      <td>10800</td>\n",
       "      <td>12460</td>\n",
       "      <td>13709</td>\n",
       "      <td>9868.0</td>\n",
       "      <td>10922.0</td>\n",
       "      <td>9600.0</td>\n",
       "      <td>9602.0</td>\n",
       "      <td>10615</td>\n",
       "      <td>12266</td>\n",
       "      <td>12282</td>\n",
       "    </tr>\n",
       "    <tr>\n",
       "      <th>WI</th>\n",
       "      <td>8998</td>\n",
       "      <td>8314</td>\n",
       "      <td>6897</td>\n",
       "      <td>6984</td>\n",
       "      <td>3309</td>\n",
       "      <td>8883</td>\n",
       "      <td>9533</td>\n",
       "      <td>11882</td>\n",
       "      <td>8664</td>\n",
       "      <td>6431</td>\n",
       "      <td>...</td>\n",
       "      <td>14734</td>\n",
       "      <td>15338</td>\n",
       "      <td>14899</td>\n",
       "      <td>11139.0</td>\n",
       "      <td>10864.0</td>\n",
       "      <td>10595.0</td>\n",
       "      <td>10943.0</td>\n",
       "      <td>12807</td>\n",
       "      <td>14862</td>\n",
       "      <td>14326</td>\n",
       "    </tr>\n",
       "  </tbody>\n",
       "</table>\n",
       "<p>3 rows × 1913 columns</p>\n",
       "</div>"
      ],
      "text/plain": [
       "            d_1    d_2    d_3    d_4   d_5    d_6    d_7    d_8    d_9   d_10  \\\n",
       "state_id                                                                        \n",
       "CA        14195  13805  10108  11047  9925  11322  12251  16610  14696  11822   \n",
       "TX         9438   9630   6778   7381  5912   9006   6226   9440   9376   7319   \n",
       "WI         8998   8314   6897   6984  3309   8883   9533  11882   8664   6431   \n",
       "\n",
       "          ...  d_1904  d_1905  d_1906   d_1907   d_1908   d_1909   d_1910  \\\n",
       "state_id  ...                                                               \n",
       "CA        ...   16255   20564   23032  17052.0  15784.0  15148.0  14488.0   \n",
       "TX        ...   10800   12460   13709   9868.0  10922.0   9600.0   9602.0   \n",
       "WI        ...   14734   15338   14899  11139.0  10864.0  10595.0  10943.0   \n",
       "\n",
       "          d_1911  d_1912  d_1913  \n",
       "state_id                          \n",
       "CA         17095   21834   23187  \n",
       "TX         10615   12266   12282  \n",
       "WI         12807   14862   14326  \n",
       "\n",
       "[3 rows x 1913 columns]"
      ]
     },
     "execution_count": 32,
     "metadata": {},
     "output_type": "execute_result"
    }
   ],
   "source": [
    "df_states = df_states.groupby('state_id').sum()\n",
    "df_states.head()"
   ]
  },
  {
   "cell_type": "code",
   "execution_count": 33,
   "id": "51802452",
   "metadata": {
    "execution": {
     "iopub.execute_input": "2022-12-08T05:35:06.641004Z",
     "iopub.status.busy": "2022-12-08T05:35:06.640616Z",
     "iopub.status.idle": "2022-12-08T05:35:06.658053Z",
     "shell.execute_reply": "2022-12-08T05:35:06.656766Z"
    },
    "papermill": {
     "duration": 0.052627,
     "end_time": "2022-12-08T05:35:06.660645",
     "exception": false,
     "start_time": "2022-12-08T05:35:06.608018",
     "status": "completed"
    },
    "tags": []
   },
   "outputs": [
    {
     "data": {
      "text/html": [
       "<div>\n",
       "<style scoped>\n",
       "    .dataframe tbody tr th:only-of-type {\n",
       "        vertical-align: middle;\n",
       "    }\n",
       "\n",
       "    .dataframe tbody tr th {\n",
       "        vertical-align: top;\n",
       "    }\n",
       "\n",
       "    .dataframe thead th {\n",
       "        text-align: right;\n",
       "    }\n",
       "</style>\n",
       "<table border=\"1\" class=\"dataframe\">\n",
       "  <thead>\n",
       "    <tr style=\"text-align: right;\">\n",
       "      <th>state_id</th>\n",
       "      <th>CA</th>\n",
       "      <th>TX</th>\n",
       "      <th>WI</th>\n",
       "    </tr>\n",
       "  </thead>\n",
       "  <tbody>\n",
       "    <tr>\n",
       "      <th>d_1</th>\n",
       "      <td>14195.0</td>\n",
       "      <td>9438.0</td>\n",
       "      <td>8998.0</td>\n",
       "    </tr>\n",
       "    <tr>\n",
       "      <th>d_2</th>\n",
       "      <td>13805.0</td>\n",
       "      <td>9630.0</td>\n",
       "      <td>8314.0</td>\n",
       "    </tr>\n",
       "    <tr>\n",
       "      <th>d_3</th>\n",
       "      <td>10108.0</td>\n",
       "      <td>6778.0</td>\n",
       "      <td>6897.0</td>\n",
       "    </tr>\n",
       "    <tr>\n",
       "      <th>d_4</th>\n",
       "      <td>11047.0</td>\n",
       "      <td>7381.0</td>\n",
       "      <td>6984.0</td>\n",
       "    </tr>\n",
       "    <tr>\n",
       "      <th>d_5</th>\n",
       "      <td>9925.0</td>\n",
       "      <td>5912.0</td>\n",
       "      <td>3309.0</td>\n",
       "    </tr>\n",
       "    <tr>\n",
       "      <th>...</th>\n",
       "      <td>...</td>\n",
       "      <td>...</td>\n",
       "      <td>...</td>\n",
       "    </tr>\n",
       "    <tr>\n",
       "      <th>d_1909</th>\n",
       "      <td>15148.0</td>\n",
       "      <td>9600.0</td>\n",
       "      <td>10595.0</td>\n",
       "    </tr>\n",
       "    <tr>\n",
       "      <th>d_1910</th>\n",
       "      <td>14488.0</td>\n",
       "      <td>9602.0</td>\n",
       "      <td>10943.0</td>\n",
       "    </tr>\n",
       "    <tr>\n",
       "      <th>d_1911</th>\n",
       "      <td>17095.0</td>\n",
       "      <td>10615.0</td>\n",
       "      <td>12807.0</td>\n",
       "    </tr>\n",
       "    <tr>\n",
       "      <th>d_1912</th>\n",
       "      <td>21834.0</td>\n",
       "      <td>12266.0</td>\n",
       "      <td>14862.0</td>\n",
       "    </tr>\n",
       "    <tr>\n",
       "      <th>d_1913</th>\n",
       "      <td>23187.0</td>\n",
       "      <td>12282.0</td>\n",
       "      <td>14326.0</td>\n",
       "    </tr>\n",
       "  </tbody>\n",
       "</table>\n",
       "<p>1913 rows × 3 columns</p>\n",
       "</div>"
      ],
      "text/plain": [
       "state_id       CA       TX       WI\n",
       "d_1       14195.0   9438.0   8998.0\n",
       "d_2       13805.0   9630.0   8314.0\n",
       "d_3       10108.0   6778.0   6897.0\n",
       "d_4       11047.0   7381.0   6984.0\n",
       "d_5        9925.0   5912.0   3309.0\n",
       "...           ...      ...      ...\n",
       "d_1909    15148.0   9600.0  10595.0\n",
       "d_1910    14488.0   9602.0  10943.0\n",
       "d_1911    17095.0  10615.0  12807.0\n",
       "d_1912    21834.0  12266.0  14862.0\n",
       "d_1913    23187.0  12282.0  14326.0\n",
       "\n",
       "[1913 rows x 3 columns]"
      ]
     },
     "execution_count": 33,
     "metadata": {},
     "output_type": "execute_result"
    }
   ],
   "source": [
    "df_states.T"
   ]
  },
  {
   "cell_type": "markdown",
   "id": "eed49224",
   "metadata": {
    "papermill": {
     "duration": 0.032065,
     "end_time": "2022-12-08T05:35:06.725470",
     "exception": false,
     "start_time": "2022-12-08T05:35:06.693405",
     "status": "completed"
    },
    "tags": []
   },
   "source": [
    "## Merge DF states with Calendar"
   ]
  },
  {
   "cell_type": "code",
   "execution_count": 34,
   "id": "2fcb4b92",
   "metadata": {
    "execution": {
     "iopub.execute_input": "2022-12-08T05:35:06.789128Z",
     "iopub.status.busy": "2022-12-08T05:35:06.788733Z",
     "iopub.status.idle": "2022-12-08T05:35:06.795854Z",
     "shell.execute_reply": "2022-12-08T05:35:06.794610Z"
    },
    "papermill": {
     "duration": 0.041789,
     "end_time": "2022-12-08T05:35:06.798725",
     "exception": false,
     "start_time": "2022-12-08T05:35:06.756936",
     "status": "completed"
    },
    "tags": []
   },
   "outputs": [],
   "source": [
    "def merge_df():\n",
    "    states = df_states.T\n",
    "    sales_df = pd.merge(states, df_calendar, left_index = True, right_index = True)\n",
    "    sales_df = sales_df.reset_index()\n",
    "    sales_df['date'] = pd.to_datetime(sales_df['date'])\n",
    "    sales_df.set_index('date', inplace = True)\n",
    "    sales_df.drop(['index'], axis=1, inplace=True)\n",
    "    return sales_df"
   ]
  },
  {
   "cell_type": "code",
   "execution_count": 35,
   "id": "aa2904d8",
   "metadata": {
    "execution": {
     "iopub.execute_input": "2022-12-08T05:35:06.866727Z",
     "iopub.status.busy": "2022-12-08T05:35:06.866339Z",
     "iopub.status.idle": "2022-12-08T05:35:06.907940Z",
     "shell.execute_reply": "2022-12-08T05:35:06.906557Z"
    },
    "papermill": {
     "duration": 0.077537,
     "end_time": "2022-12-08T05:35:06.910566",
     "exception": false,
     "start_time": "2022-12-08T05:35:06.833029",
     "status": "completed"
    },
    "tags": []
   },
   "outputs": [
    {
     "data": {
      "text/html": [
       "<div>\n",
       "<style scoped>\n",
       "    .dataframe tbody tr th:only-of-type {\n",
       "        vertical-align: middle;\n",
       "    }\n",
       "\n",
       "    .dataframe tbody tr th {\n",
       "        vertical-align: top;\n",
       "    }\n",
       "\n",
       "    .dataframe thead th {\n",
       "        text-align: right;\n",
       "    }\n",
       "</style>\n",
       "<table border=\"1\" class=\"dataframe\">\n",
       "  <thead>\n",
       "    <tr style=\"text-align: right;\">\n",
       "      <th></th>\n",
       "      <th>CA</th>\n",
       "      <th>TX</th>\n",
       "      <th>WI</th>\n",
       "      <th>weekday</th>\n",
       "      <th>event_type_1</th>\n",
       "      <th>snap_CA</th>\n",
       "      <th>snap_TX</th>\n",
       "      <th>snap_WI</th>\n",
       "      <th>state</th>\n",
       "      <th>sales_price_min</th>\n",
       "      <th>sales_price_max</th>\n",
       "      <th>sales_price_mean</th>\n",
       "    </tr>\n",
       "    <tr>\n",
       "      <th>date</th>\n",
       "      <th></th>\n",
       "      <th></th>\n",
       "      <th></th>\n",
       "      <th></th>\n",
       "      <th></th>\n",
       "      <th></th>\n",
       "      <th></th>\n",
       "      <th></th>\n",
       "      <th></th>\n",
       "      <th></th>\n",
       "      <th></th>\n",
       "      <th></th>\n",
       "    </tr>\n",
       "  </thead>\n",
       "  <tbody>\n",
       "    <tr>\n",
       "      <th>2011-01-29</th>\n",
       "      <td>14195.0</td>\n",
       "      <td>9438.0</td>\n",
       "      <td>8998.0</td>\n",
       "      <td>Saturday</td>\n",
       "      <td>Daily</td>\n",
       "      <td>0</td>\n",
       "      <td>0</td>\n",
       "      <td>0</td>\n",
       "      <td>CA</td>\n",
       "      <td>0.199951</td>\n",
       "      <td>22.0</td>\n",
       "      <td>4.109375</td>\n",
       "    </tr>\n",
       "    <tr>\n",
       "      <th>2011-01-29</th>\n",
       "      <td>14195.0</td>\n",
       "      <td>9438.0</td>\n",
       "      <td>8998.0</td>\n",
       "      <td>Saturday</td>\n",
       "      <td>Daily</td>\n",
       "      <td>0</td>\n",
       "      <td>0</td>\n",
       "      <td>0</td>\n",
       "      <td>TX</td>\n",
       "      <td>0.199951</td>\n",
       "      <td>22.0</td>\n",
       "      <td>3.990234</td>\n",
       "    </tr>\n",
       "    <tr>\n",
       "      <th>2011-01-29</th>\n",
       "      <td>14195.0</td>\n",
       "      <td>9438.0</td>\n",
       "      <td>8998.0</td>\n",
       "      <td>Saturday</td>\n",
       "      <td>Daily</td>\n",
       "      <td>0</td>\n",
       "      <td>0</td>\n",
       "      <td>0</td>\n",
       "      <td>WI</td>\n",
       "      <td>0.199951</td>\n",
       "      <td>22.0</td>\n",
       "      <td>4.109375</td>\n",
       "    </tr>\n",
       "    <tr>\n",
       "      <th>2011-02-07</th>\n",
       "      <td>11822.0</td>\n",
       "      <td>7319.0</td>\n",
       "      <td>6431.0</td>\n",
       "      <td>Monday</td>\n",
       "      <td>Daily</td>\n",
       "      <td>1</td>\n",
       "      <td>1</td>\n",
       "      <td>0</td>\n",
       "      <td>CA</td>\n",
       "      <td>0.199951</td>\n",
       "      <td>22.0</td>\n",
       "      <td>4.175781</td>\n",
       "    </tr>\n",
       "    <tr>\n",
       "      <th>2011-02-07</th>\n",
       "      <td>11822.0</td>\n",
       "      <td>7319.0</td>\n",
       "      <td>6431.0</td>\n",
       "      <td>Monday</td>\n",
       "      <td>Daily</td>\n",
       "      <td>1</td>\n",
       "      <td>1</td>\n",
       "      <td>0</td>\n",
       "      <td>TX</td>\n",
       "      <td>0.199951</td>\n",
       "      <td>28.0</td>\n",
       "      <td>4.074219</td>\n",
       "    </tr>\n",
       "  </tbody>\n",
       "</table>\n",
       "</div>"
      ],
      "text/plain": [
       "                 CA      TX      WI   weekday event_type_1  snap_CA  snap_TX  \\\n",
       "date                                                                           \n",
       "2011-01-29  14195.0  9438.0  8998.0  Saturday        Daily        0        0   \n",
       "2011-01-29  14195.0  9438.0  8998.0  Saturday        Daily        0        0   \n",
       "2011-01-29  14195.0  9438.0  8998.0  Saturday        Daily        0        0   \n",
       "2011-02-07  11822.0  7319.0  6431.0    Monday        Daily        1        1   \n",
       "2011-02-07  11822.0  7319.0  6431.0    Monday        Daily        1        1   \n",
       "\n",
       "            snap_WI state  sales_price_min  sales_price_max  sales_price_mean  \n",
       "date                                                                           \n",
       "2011-01-29        0    CA         0.199951             22.0          4.109375  \n",
       "2011-01-29        0    TX         0.199951             22.0          3.990234  \n",
       "2011-01-29        0    WI         0.199951             22.0          4.109375  \n",
       "2011-02-07        0    CA         0.199951             22.0          4.175781  \n",
       "2011-02-07        0    TX         0.199951             28.0          4.074219  "
      ]
     },
     "execution_count": 35,
     "metadata": {},
     "output_type": "execute_result"
    }
   ],
   "source": [
    "sales_df = merge_df()\n",
    "sales_df.head()"
   ]
  },
  {
   "cell_type": "code",
   "execution_count": 36,
   "id": "8e80357d",
   "metadata": {
    "execution": {
     "iopub.execute_input": "2022-12-08T05:35:06.974705Z",
     "iopub.status.busy": "2022-12-08T05:35:06.973643Z",
     "iopub.status.idle": "2022-12-08T05:35:06.980555Z",
     "shell.execute_reply": "2022-12-08T05:35:06.979540Z"
    },
    "papermill": {
     "duration": 0.041367,
     "end_time": "2022-12-08T05:35:06.982841",
     "exception": false,
     "start_time": "2022-12-08T05:35:06.941474",
     "status": "completed"
    },
    "tags": []
   },
   "outputs": [
    {
     "data": {
      "text/plain": [
       "(5739, 12)"
      ]
     },
     "execution_count": 36,
     "metadata": {},
     "output_type": "execute_result"
    }
   ],
   "source": [
    "sales_df.shape"
   ]
  },
  {
   "cell_type": "markdown",
   "id": "b050f449",
   "metadata": {
    "papermill": {
     "duration": 0.033219,
     "end_time": "2022-12-08T05:35:07.047548",
     "exception": false,
     "start_time": "2022-12-08T05:35:07.014329",
     "status": "completed"
    },
    "tags": []
   },
   "source": [
    "## Feature Engineering"
   ]
  },
  {
   "cell_type": "code",
   "execution_count": 37,
   "id": "c1d25687",
   "metadata": {
    "execution": {
     "iopub.execute_input": "2022-12-08T05:35:07.112991Z",
     "iopub.status.busy": "2022-12-08T05:35:07.112523Z",
     "iopub.status.idle": "2022-12-08T05:35:07.140382Z",
     "shell.execute_reply": "2022-12-08T05:35:07.139564Z"
    },
    "papermill": {
     "duration": 0.064119,
     "end_time": "2022-12-08T05:35:07.142556",
     "exception": false,
     "start_time": "2022-12-08T05:35:07.078437",
     "status": "completed"
    },
    "tags": []
   },
   "outputs": [
    {
     "data": {
      "text/html": [
       "<div>\n",
       "<style scoped>\n",
       "    .dataframe tbody tr th:only-of-type {\n",
       "        vertical-align: middle;\n",
       "    }\n",
       "\n",
       "    .dataframe tbody tr th {\n",
       "        vertical-align: top;\n",
       "    }\n",
       "\n",
       "    .dataframe thead th {\n",
       "        text-align: right;\n",
       "    }\n",
       "</style>\n",
       "<table border=\"1\" class=\"dataframe\">\n",
       "  <thead>\n",
       "    <tr style=\"text-align: right;\">\n",
       "      <th></th>\n",
       "      <th>CA</th>\n",
       "      <th>TX</th>\n",
       "      <th>WI</th>\n",
       "      <th>snap_CA</th>\n",
       "      <th>snap_TX</th>\n",
       "      <th>snap_WI</th>\n",
       "      <th>sales_price_min</th>\n",
       "      <th>sales_price_max</th>\n",
       "      <th>sales_price_mean</th>\n",
       "      <th>weekday_Friday</th>\n",
       "      <th>...</th>\n",
       "      <th>weekday_Tuesday</th>\n",
       "      <th>weekday_Wednesday</th>\n",
       "      <th>event_type_1_Cultural</th>\n",
       "      <th>event_type_1_Daily</th>\n",
       "      <th>event_type_1_National</th>\n",
       "      <th>event_type_1_Religious</th>\n",
       "      <th>event_type_1_Sporting</th>\n",
       "      <th>state_CA</th>\n",
       "      <th>state_TX</th>\n",
       "      <th>state_WI</th>\n",
       "    </tr>\n",
       "    <tr>\n",
       "      <th>date</th>\n",
       "      <th></th>\n",
       "      <th></th>\n",
       "      <th></th>\n",
       "      <th></th>\n",
       "      <th></th>\n",
       "      <th></th>\n",
       "      <th></th>\n",
       "      <th></th>\n",
       "      <th></th>\n",
       "      <th></th>\n",
       "      <th></th>\n",
       "      <th></th>\n",
       "      <th></th>\n",
       "      <th></th>\n",
       "      <th></th>\n",
       "      <th></th>\n",
       "      <th></th>\n",
       "      <th></th>\n",
       "      <th></th>\n",
       "      <th></th>\n",
       "      <th></th>\n",
       "    </tr>\n",
       "  </thead>\n",
       "  <tbody>\n",
       "    <tr>\n",
       "      <th>2011-01-29</th>\n",
       "      <td>14195.0</td>\n",
       "      <td>9438.0</td>\n",
       "      <td>8998.0</td>\n",
       "      <td>0</td>\n",
       "      <td>0</td>\n",
       "      <td>0</td>\n",
       "      <td>0.199951</td>\n",
       "      <td>22.0</td>\n",
       "      <td>4.109375</td>\n",
       "      <td>0</td>\n",
       "      <td>...</td>\n",
       "      <td>0</td>\n",
       "      <td>0</td>\n",
       "      <td>0</td>\n",
       "      <td>1</td>\n",
       "      <td>0</td>\n",
       "      <td>0</td>\n",
       "      <td>0</td>\n",
       "      <td>1</td>\n",
       "      <td>0</td>\n",
       "      <td>0</td>\n",
       "    </tr>\n",
       "    <tr>\n",
       "      <th>2011-01-29</th>\n",
       "      <td>14195.0</td>\n",
       "      <td>9438.0</td>\n",
       "      <td>8998.0</td>\n",
       "      <td>0</td>\n",
       "      <td>0</td>\n",
       "      <td>0</td>\n",
       "      <td>0.199951</td>\n",
       "      <td>22.0</td>\n",
       "      <td>3.990234</td>\n",
       "      <td>0</td>\n",
       "      <td>...</td>\n",
       "      <td>0</td>\n",
       "      <td>0</td>\n",
       "      <td>0</td>\n",
       "      <td>1</td>\n",
       "      <td>0</td>\n",
       "      <td>0</td>\n",
       "      <td>0</td>\n",
       "      <td>0</td>\n",
       "      <td>1</td>\n",
       "      <td>0</td>\n",
       "    </tr>\n",
       "    <tr>\n",
       "      <th>2011-01-29</th>\n",
       "      <td>14195.0</td>\n",
       "      <td>9438.0</td>\n",
       "      <td>8998.0</td>\n",
       "      <td>0</td>\n",
       "      <td>0</td>\n",
       "      <td>0</td>\n",
       "      <td>0.199951</td>\n",
       "      <td>22.0</td>\n",
       "      <td>4.109375</td>\n",
       "      <td>0</td>\n",
       "      <td>...</td>\n",
       "      <td>0</td>\n",
       "      <td>0</td>\n",
       "      <td>0</td>\n",
       "      <td>1</td>\n",
       "      <td>0</td>\n",
       "      <td>0</td>\n",
       "      <td>0</td>\n",
       "      <td>0</td>\n",
       "      <td>0</td>\n",
       "      <td>1</td>\n",
       "    </tr>\n",
       "    <tr>\n",
       "      <th>2011-02-07</th>\n",
       "      <td>11822.0</td>\n",
       "      <td>7319.0</td>\n",
       "      <td>6431.0</td>\n",
       "      <td>1</td>\n",
       "      <td>1</td>\n",
       "      <td>0</td>\n",
       "      <td>0.199951</td>\n",
       "      <td>22.0</td>\n",
       "      <td>4.175781</td>\n",
       "      <td>0</td>\n",
       "      <td>...</td>\n",
       "      <td>0</td>\n",
       "      <td>0</td>\n",
       "      <td>0</td>\n",
       "      <td>1</td>\n",
       "      <td>0</td>\n",
       "      <td>0</td>\n",
       "      <td>0</td>\n",
       "      <td>1</td>\n",
       "      <td>0</td>\n",
       "      <td>0</td>\n",
       "    </tr>\n",
       "    <tr>\n",
       "      <th>2011-02-07</th>\n",
       "      <td>11822.0</td>\n",
       "      <td>7319.0</td>\n",
       "      <td>6431.0</td>\n",
       "      <td>1</td>\n",
       "      <td>1</td>\n",
       "      <td>0</td>\n",
       "      <td>0.199951</td>\n",
       "      <td>28.0</td>\n",
       "      <td>4.074219</td>\n",
       "      <td>0</td>\n",
       "      <td>...</td>\n",
       "      <td>0</td>\n",
       "      <td>0</td>\n",
       "      <td>0</td>\n",
       "      <td>1</td>\n",
       "      <td>0</td>\n",
       "      <td>0</td>\n",
       "      <td>0</td>\n",
       "      <td>0</td>\n",
       "      <td>1</td>\n",
       "      <td>0</td>\n",
       "    </tr>\n",
       "  </tbody>\n",
       "</table>\n",
       "<p>5 rows × 24 columns</p>\n",
       "</div>"
      ],
      "text/plain": [
       "                 CA      TX      WI  snap_CA  snap_TX  snap_WI  \\\n",
       "date                                                             \n",
       "2011-01-29  14195.0  9438.0  8998.0        0        0        0   \n",
       "2011-01-29  14195.0  9438.0  8998.0        0        0        0   \n",
       "2011-01-29  14195.0  9438.0  8998.0        0        0        0   \n",
       "2011-02-07  11822.0  7319.0  6431.0        1        1        0   \n",
       "2011-02-07  11822.0  7319.0  6431.0        1        1        0   \n",
       "\n",
       "            sales_price_min  sales_price_max  sales_price_mean  \\\n",
       "date                                                             \n",
       "2011-01-29         0.199951             22.0          4.109375   \n",
       "2011-01-29         0.199951             22.0          3.990234   \n",
       "2011-01-29         0.199951             22.0          4.109375   \n",
       "2011-02-07         0.199951             22.0          4.175781   \n",
       "2011-02-07         0.199951             28.0          4.074219   \n",
       "\n",
       "            weekday_Friday  ...  weekday_Tuesday  weekday_Wednesday  \\\n",
       "date                        ...                                       \n",
       "2011-01-29               0  ...                0                  0   \n",
       "2011-01-29               0  ...                0                  0   \n",
       "2011-01-29               0  ...                0                  0   \n",
       "2011-02-07               0  ...                0                  0   \n",
       "2011-02-07               0  ...                0                  0   \n",
       "\n",
       "            event_type_1_Cultural  event_type_1_Daily  event_type_1_National  \\\n",
       "date                                                                           \n",
       "2011-01-29                      0                   1                      0   \n",
       "2011-01-29                      0                   1                      0   \n",
       "2011-01-29                      0                   1                      0   \n",
       "2011-02-07                      0                   1                      0   \n",
       "2011-02-07                      0                   1                      0   \n",
       "\n",
       "            event_type_1_Religious  event_type_1_Sporting  state_CA  state_TX  \\\n",
       "date                                                                            \n",
       "2011-01-29                       0                      0         1         0   \n",
       "2011-01-29                       0                      0         0         1   \n",
       "2011-01-29                       0                      0         0         0   \n",
       "2011-02-07                       0                      0         1         0   \n",
       "2011-02-07                       0                      0         0         1   \n",
       "\n",
       "            state_WI  \n",
       "date                  \n",
       "2011-01-29         0  \n",
       "2011-01-29         0  \n",
       "2011-01-29         1  \n",
       "2011-02-07         0  \n",
       "2011-02-07         0  \n",
       "\n",
       "[5 rows x 24 columns]"
      ]
     },
     "execution_count": 37,
     "metadata": {},
     "output_type": "execute_result"
    }
   ],
   "source": [
    "sales_df = pd.get_dummies(sales_df, columns=['weekday', 'event_type_1', 'state'])\n",
    "sales_df.head()"
   ]
  },
  {
   "cell_type": "code",
   "execution_count": 38,
   "id": "73832935",
   "metadata": {
    "execution": {
     "iopub.execute_input": "2022-12-08T05:35:07.208985Z",
     "iopub.status.busy": "2022-12-08T05:35:07.207777Z",
     "iopub.status.idle": "2022-12-08T05:35:07.229356Z",
     "shell.execute_reply": "2022-12-08T05:35:07.228319Z"
    },
    "papermill": {
     "duration": 0.058213,
     "end_time": "2022-12-08T05:35:07.232251",
     "exception": false,
     "start_time": "2022-12-08T05:35:07.174038",
     "status": "completed"
    },
    "tags": []
   },
   "outputs": [],
   "source": [
    "sales_df = downcast(sales_df)"
   ]
  },
  {
   "cell_type": "code",
   "execution_count": 39,
   "id": "52196ed6",
   "metadata": {
    "execution": {
     "iopub.execute_input": "2022-12-08T05:35:07.297772Z",
     "iopub.status.busy": "2022-12-08T05:35:07.297349Z",
     "iopub.status.idle": "2022-12-08T05:35:07.302969Z",
     "shell.execute_reply": "2022-12-08T05:35:07.302225Z"
    },
    "papermill": {
     "duration": 0.041134,
     "end_time": "2022-12-08T05:35:07.304910",
     "exception": false,
     "start_time": "2022-12-08T05:35:07.263776",
     "status": "completed"
    },
    "tags": []
   },
   "outputs": [
    {
     "data": {
      "text/plain": [
       "(5739, 24)"
      ]
     },
     "execution_count": 39,
     "metadata": {},
     "output_type": "execute_result"
    }
   ],
   "source": [
    "sales_df.shape"
   ]
  },
  {
   "cell_type": "code",
   "execution_count": 40,
   "id": "571c498c",
   "metadata": {
    "execution": {
     "iopub.execute_input": "2022-12-08T05:35:07.371679Z",
     "iopub.status.busy": "2022-12-08T05:35:07.370579Z",
     "iopub.status.idle": "2022-12-08T05:35:07.376992Z",
     "shell.execute_reply": "2022-12-08T05:35:07.376241Z"
    },
    "papermill": {
     "duration": 0.04116,
     "end_time": "2022-12-08T05:35:07.378984",
     "exception": false,
     "start_time": "2022-12-08T05:35:07.337824",
     "status": "completed"
    },
    "tags": []
   },
   "outputs": [
    {
     "data": {
      "text/plain": [
       "Timestamp('2011-01-29 00:00:00')"
      ]
     },
     "execution_count": 40,
     "metadata": {},
     "output_type": "execute_result"
    }
   ],
   "source": [
    "sales_df.index.min()"
   ]
  },
  {
   "cell_type": "code",
   "execution_count": 41,
   "id": "c85d3227",
   "metadata": {
    "execution": {
     "iopub.execute_input": "2022-12-08T05:35:07.446816Z",
     "iopub.status.busy": "2022-12-08T05:35:07.445141Z",
     "iopub.status.idle": "2022-12-08T05:35:07.452994Z",
     "shell.execute_reply": "2022-12-08T05:35:07.451722Z"
    },
    "papermill": {
     "duration": 0.044324,
     "end_time": "2022-12-08T05:35:07.455372",
     "exception": false,
     "start_time": "2022-12-08T05:35:07.411048",
     "status": "completed"
    },
    "tags": []
   },
   "outputs": [
    {
     "data": {
      "text/plain": [
       "Timestamp('2016-04-24 00:00:00')"
      ]
     },
     "execution_count": 41,
     "metadata": {},
     "output_type": "execute_result"
    }
   ],
   "source": [
    "sales_df.index.max()"
   ]
  },
  {
   "cell_type": "code",
   "execution_count": 42,
   "id": "c2d50434",
   "metadata": {
    "execution": {
     "iopub.execute_input": "2022-12-08T05:35:07.522010Z",
     "iopub.status.busy": "2022-12-08T05:35:07.521425Z",
     "iopub.status.idle": "2022-12-08T05:35:07.533744Z",
     "shell.execute_reply": "2022-12-08T05:35:07.532949Z"
    },
    "papermill": {
     "duration": 0.048124,
     "end_time": "2022-12-08T05:35:07.535901",
     "exception": false,
     "start_time": "2022-12-08T05:35:07.487777",
     "status": "completed"
    },
    "tags": []
   },
   "outputs": [
    {
     "data": {
      "text/plain": [
       "0"
      ]
     },
     "execution_count": 42,
     "metadata": {},
     "output_type": "execute_result"
    }
   ],
   "source": [
    "sales_df.duplicated().sum()"
   ]
  },
  {
   "cell_type": "code",
   "execution_count": 43,
   "id": "18bc6cd8",
   "metadata": {
    "execution": {
     "iopub.execute_input": "2022-12-08T05:35:07.602291Z",
     "iopub.status.busy": "2022-12-08T05:35:07.601634Z",
     "iopub.status.idle": "2022-12-08T05:35:07.608401Z",
     "shell.execute_reply": "2022-12-08T05:35:07.607328Z"
    },
    "papermill": {
     "duration": 0.042788,
     "end_time": "2022-12-08T05:35:07.610589",
     "exception": false,
     "start_time": "2022-12-08T05:35:07.567801",
     "status": "completed"
    },
    "tags": []
   },
   "outputs": [],
   "source": [
    "sales_df.sort_index(inplace = True)"
   ]
  },
  {
   "cell_type": "markdown",
   "id": "ca1f2d75",
   "metadata": {
    "papermill": {
     "duration": 0.032389,
     "end_time": "2022-12-08T05:35:07.674871",
     "exception": false,
     "start_time": "2022-12-08T05:35:07.642482",
     "status": "completed"
    },
    "tags": []
   },
   "source": [
    "### Keep 2016 onwards for test set."
   ]
  },
  {
   "cell_type": "code",
   "execution_count": 44,
   "id": "f3bd30a9",
   "metadata": {
    "execution": {
     "iopub.execute_input": "2022-12-08T05:35:07.741096Z",
     "iopub.status.busy": "2022-12-08T05:35:07.740721Z",
     "iopub.status.idle": "2022-12-08T05:35:07.746296Z",
     "shell.execute_reply": "2022-12-08T05:35:07.745213Z"
    },
    "papermill": {
     "duration": 0.041597,
     "end_time": "2022-12-08T05:35:07.748521",
     "exception": false,
     "start_time": "2022-12-08T05:35:07.706924",
     "status": "completed"
    },
    "tags": []
   },
   "outputs": [],
   "source": [
    "sales_df_test = sales_df[pd.to_datetime('2016-01-01'):]"
   ]
  },
  {
   "cell_type": "code",
   "execution_count": 45,
   "id": "3fa7b231",
   "metadata": {
    "execution": {
     "iopub.execute_input": "2022-12-08T05:35:07.814476Z",
     "iopub.status.busy": "2022-12-08T05:35:07.814056Z",
     "iopub.status.idle": "2022-12-08T05:35:07.838527Z",
     "shell.execute_reply": "2022-12-08T05:35:07.837440Z"
    },
    "papermill": {
     "duration": 0.059999,
     "end_time": "2022-12-08T05:35:07.840630",
     "exception": false,
     "start_time": "2022-12-08T05:35:07.780631",
     "status": "completed"
    },
    "tags": []
   },
   "outputs": [
    {
     "data": {
      "text/html": [
       "<div>\n",
       "<style scoped>\n",
       "    .dataframe tbody tr th:only-of-type {\n",
       "        vertical-align: middle;\n",
       "    }\n",
       "\n",
       "    .dataframe tbody tr th {\n",
       "        vertical-align: top;\n",
       "    }\n",
       "\n",
       "    .dataframe thead th {\n",
       "        text-align: right;\n",
       "    }\n",
       "</style>\n",
       "<table border=\"1\" class=\"dataframe\">\n",
       "  <thead>\n",
       "    <tr style=\"text-align: right;\">\n",
       "      <th></th>\n",
       "      <th>CA</th>\n",
       "      <th>TX</th>\n",
       "      <th>WI</th>\n",
       "      <th>snap_CA</th>\n",
       "      <th>snap_TX</th>\n",
       "      <th>snap_WI</th>\n",
       "      <th>sales_price_min</th>\n",
       "      <th>sales_price_max</th>\n",
       "      <th>sales_price_mean</th>\n",
       "      <th>weekday_Friday</th>\n",
       "      <th>...</th>\n",
       "      <th>weekday_Tuesday</th>\n",
       "      <th>weekday_Wednesday</th>\n",
       "      <th>event_type_1_Cultural</th>\n",
       "      <th>event_type_1_Daily</th>\n",
       "      <th>event_type_1_National</th>\n",
       "      <th>event_type_1_Religious</th>\n",
       "      <th>event_type_1_Sporting</th>\n",
       "      <th>state_CA</th>\n",
       "      <th>state_TX</th>\n",
       "      <th>state_WI</th>\n",
       "    </tr>\n",
       "    <tr>\n",
       "      <th>date</th>\n",
       "      <th></th>\n",
       "      <th></th>\n",
       "      <th></th>\n",
       "      <th></th>\n",
       "      <th></th>\n",
       "      <th></th>\n",
       "      <th></th>\n",
       "      <th></th>\n",
       "      <th></th>\n",
       "      <th></th>\n",
       "      <th></th>\n",
       "      <th></th>\n",
       "      <th></th>\n",
       "      <th></th>\n",
       "      <th></th>\n",
       "      <th></th>\n",
       "      <th></th>\n",
       "      <th></th>\n",
       "      <th></th>\n",
       "      <th></th>\n",
       "      <th></th>\n",
       "    </tr>\n",
       "  </thead>\n",
       "  <tbody>\n",
       "    <tr>\n",
       "      <th>2016-01-01</th>\n",
       "      <td>13360.0</td>\n",
       "      <td>8848.0</td>\n",
       "      <td>10440.0</td>\n",
       "      <td>1</td>\n",
       "      <td>1</td>\n",
       "      <td>0</td>\n",
       "      <td>0.199951</td>\n",
       "      <td>29.96875</td>\n",
       "      <td>4.503906</td>\n",
       "      <td>1</td>\n",
       "      <td>...</td>\n",
       "      <td>0</td>\n",
       "      <td>0</td>\n",
       "      <td>0</td>\n",
       "      <td>0</td>\n",
       "      <td>1</td>\n",
       "      <td>0</td>\n",
       "      <td>0</td>\n",
       "      <td>0</td>\n",
       "      <td>0</td>\n",
       "      <td>1</td>\n",
       "    </tr>\n",
       "    <tr>\n",
       "      <th>2016-01-01</th>\n",
       "      <td>13360.0</td>\n",
       "      <td>8848.0</td>\n",
       "      <td>10440.0</td>\n",
       "      <td>1</td>\n",
       "      <td>1</td>\n",
       "      <td>0</td>\n",
       "      <td>0.199951</td>\n",
       "      <td>29.96875</td>\n",
       "      <td>4.488281</td>\n",
       "      <td>1</td>\n",
       "      <td>...</td>\n",
       "      <td>0</td>\n",
       "      <td>0</td>\n",
       "      <td>0</td>\n",
       "      <td>0</td>\n",
       "      <td>1</td>\n",
       "      <td>0</td>\n",
       "      <td>0</td>\n",
       "      <td>1</td>\n",
       "      <td>0</td>\n",
       "      <td>0</td>\n",
       "    </tr>\n",
       "    <tr>\n",
       "      <th>2016-01-01</th>\n",
       "      <td>13360.0</td>\n",
       "      <td>8848.0</td>\n",
       "      <td>10440.0</td>\n",
       "      <td>1</td>\n",
       "      <td>1</td>\n",
       "      <td>0</td>\n",
       "      <td>0.199951</td>\n",
       "      <td>29.96875</td>\n",
       "      <td>4.460938</td>\n",
       "      <td>1</td>\n",
       "      <td>...</td>\n",
       "      <td>0</td>\n",
       "      <td>0</td>\n",
       "      <td>0</td>\n",
       "      <td>0</td>\n",
       "      <td>1</td>\n",
       "      <td>0</td>\n",
       "      <td>0</td>\n",
       "      <td>0</td>\n",
       "      <td>1</td>\n",
       "      <td>0</td>\n",
       "    </tr>\n",
       "    <tr>\n",
       "      <th>2016-01-02</th>\n",
       "      <td>19056.0</td>\n",
       "      <td>10408.0</td>\n",
       "      <td>15272.0</td>\n",
       "      <td>1</td>\n",
       "      <td>0</td>\n",
       "      <td>1</td>\n",
       "      <td>0.199951</td>\n",
       "      <td>29.96875</td>\n",
       "      <td>4.460938</td>\n",
       "      <td>0</td>\n",
       "      <td>...</td>\n",
       "      <td>0</td>\n",
       "      <td>0</td>\n",
       "      <td>0</td>\n",
       "      <td>1</td>\n",
       "      <td>0</td>\n",
       "      <td>0</td>\n",
       "      <td>0</td>\n",
       "      <td>0</td>\n",
       "      <td>1</td>\n",
       "      <td>0</td>\n",
       "    </tr>\n",
       "    <tr>\n",
       "      <th>2016-01-02</th>\n",
       "      <td>19056.0</td>\n",
       "      <td>10408.0</td>\n",
       "      <td>15272.0</td>\n",
       "      <td>1</td>\n",
       "      <td>0</td>\n",
       "      <td>1</td>\n",
       "      <td>0.199951</td>\n",
       "      <td>29.96875</td>\n",
       "      <td>4.503906</td>\n",
       "      <td>0</td>\n",
       "      <td>...</td>\n",
       "      <td>0</td>\n",
       "      <td>0</td>\n",
       "      <td>0</td>\n",
       "      <td>1</td>\n",
       "      <td>0</td>\n",
       "      <td>0</td>\n",
       "      <td>0</td>\n",
       "      <td>0</td>\n",
       "      <td>0</td>\n",
       "      <td>1</td>\n",
       "    </tr>\n",
       "  </tbody>\n",
       "</table>\n",
       "<p>5 rows × 24 columns</p>\n",
       "</div>"
      ],
      "text/plain": [
       "                 CA       TX       WI  snap_CA  snap_TX  snap_WI  \\\n",
       "date                                                               \n",
       "2016-01-01  13360.0   8848.0  10440.0        1        1        0   \n",
       "2016-01-01  13360.0   8848.0  10440.0        1        1        0   \n",
       "2016-01-01  13360.0   8848.0  10440.0        1        1        0   \n",
       "2016-01-02  19056.0  10408.0  15272.0        1        0        1   \n",
       "2016-01-02  19056.0  10408.0  15272.0        1        0        1   \n",
       "\n",
       "            sales_price_min  sales_price_max  sales_price_mean  \\\n",
       "date                                                             \n",
       "2016-01-01         0.199951         29.96875          4.503906   \n",
       "2016-01-01         0.199951         29.96875          4.488281   \n",
       "2016-01-01         0.199951         29.96875          4.460938   \n",
       "2016-01-02         0.199951         29.96875          4.460938   \n",
       "2016-01-02         0.199951         29.96875          4.503906   \n",
       "\n",
       "            weekday_Friday  ...  weekday_Tuesday  weekday_Wednesday  \\\n",
       "date                        ...                                       \n",
       "2016-01-01               1  ...                0                  0   \n",
       "2016-01-01               1  ...                0                  0   \n",
       "2016-01-01               1  ...                0                  0   \n",
       "2016-01-02               0  ...                0                  0   \n",
       "2016-01-02               0  ...                0                  0   \n",
       "\n",
       "            event_type_1_Cultural  event_type_1_Daily  event_type_1_National  \\\n",
       "date                                                                           \n",
       "2016-01-01                      0                   0                      1   \n",
       "2016-01-01                      0                   0                      1   \n",
       "2016-01-01                      0                   0                      1   \n",
       "2016-01-02                      0                   1                      0   \n",
       "2016-01-02                      0                   1                      0   \n",
       "\n",
       "            event_type_1_Religious  event_type_1_Sporting  state_CA  state_TX  \\\n",
       "date                                                                            \n",
       "2016-01-01                       0                      0         0         0   \n",
       "2016-01-01                       0                      0         1         0   \n",
       "2016-01-01                       0                      0         0         1   \n",
       "2016-01-02                       0                      0         0         1   \n",
       "2016-01-02                       0                      0         0         0   \n",
       "\n",
       "            state_WI  \n",
       "date                  \n",
       "2016-01-01         1  \n",
       "2016-01-01         0  \n",
       "2016-01-01         0  \n",
       "2016-01-02         0  \n",
       "2016-01-02         1  \n",
       "\n",
       "[5 rows x 24 columns]"
      ]
     },
     "execution_count": 45,
     "metadata": {},
     "output_type": "execute_result"
    }
   ],
   "source": [
    "sales_df_test.head()"
   ]
  },
  {
   "cell_type": "code",
   "execution_count": 46,
   "id": "ca0f6093",
   "metadata": {
    "execution": {
     "iopub.execute_input": "2022-12-08T05:35:07.909011Z",
     "iopub.status.busy": "2022-12-08T05:35:07.907663Z",
     "iopub.status.idle": "2022-12-08T05:35:07.932046Z",
     "shell.execute_reply": "2022-12-08T05:35:07.931108Z"
    },
    "papermill": {
     "duration": 0.06114,
     "end_time": "2022-12-08T05:35:07.934234",
     "exception": false,
     "start_time": "2022-12-08T05:35:07.873094",
     "status": "completed"
    },
    "tags": []
   },
   "outputs": [
    {
     "data": {
      "text/html": [
       "<div>\n",
       "<style scoped>\n",
       "    .dataframe tbody tr th:only-of-type {\n",
       "        vertical-align: middle;\n",
       "    }\n",
       "\n",
       "    .dataframe tbody tr th {\n",
       "        vertical-align: top;\n",
       "    }\n",
       "\n",
       "    .dataframe thead th {\n",
       "        text-align: right;\n",
       "    }\n",
       "</style>\n",
       "<table border=\"1\" class=\"dataframe\">\n",
       "  <thead>\n",
       "    <tr style=\"text-align: right;\">\n",
       "      <th></th>\n",
       "      <th>CA</th>\n",
       "      <th>TX</th>\n",
       "      <th>WI</th>\n",
       "      <th>snap_CA</th>\n",
       "      <th>snap_TX</th>\n",
       "      <th>snap_WI</th>\n",
       "      <th>sales_price_min</th>\n",
       "      <th>sales_price_max</th>\n",
       "      <th>sales_price_mean</th>\n",
       "      <th>weekday_Friday</th>\n",
       "      <th>...</th>\n",
       "      <th>weekday_Tuesday</th>\n",
       "      <th>weekday_Wednesday</th>\n",
       "      <th>event_type_1_Cultural</th>\n",
       "      <th>event_type_1_Daily</th>\n",
       "      <th>event_type_1_National</th>\n",
       "      <th>event_type_1_Religious</th>\n",
       "      <th>event_type_1_Sporting</th>\n",
       "      <th>state_CA</th>\n",
       "      <th>state_TX</th>\n",
       "      <th>state_WI</th>\n",
       "    </tr>\n",
       "    <tr>\n",
       "      <th>date</th>\n",
       "      <th></th>\n",
       "      <th></th>\n",
       "      <th></th>\n",
       "      <th></th>\n",
       "      <th></th>\n",
       "      <th></th>\n",
       "      <th></th>\n",
       "      <th></th>\n",
       "      <th></th>\n",
       "      <th></th>\n",
       "      <th></th>\n",
       "      <th></th>\n",
       "      <th></th>\n",
       "      <th></th>\n",
       "      <th></th>\n",
       "      <th></th>\n",
       "      <th></th>\n",
       "      <th></th>\n",
       "      <th></th>\n",
       "      <th></th>\n",
       "      <th></th>\n",
       "    </tr>\n",
       "  </thead>\n",
       "  <tbody>\n",
       "    <tr>\n",
       "      <th>2015-12-30</th>\n",
       "      <td>14776.0</td>\n",
       "      <td>8736.0</td>\n",
       "      <td>10608.0</td>\n",
       "      <td>0</td>\n",
       "      <td>0</td>\n",
       "      <td>0</td>\n",
       "      <td>0.199951</td>\n",
       "      <td>29.96875</td>\n",
       "      <td>4.460938</td>\n",
       "      <td>0</td>\n",
       "      <td>...</td>\n",
       "      <td>0</td>\n",
       "      <td>1</td>\n",
       "      <td>0</td>\n",
       "      <td>1</td>\n",
       "      <td>0</td>\n",
       "      <td>0</td>\n",
       "      <td>0</td>\n",
       "      <td>0</td>\n",
       "      <td>1</td>\n",
       "      <td>0</td>\n",
       "    </tr>\n",
       "    <tr>\n",
       "      <th>2015-12-30</th>\n",
       "      <td>14776.0</td>\n",
       "      <td>8736.0</td>\n",
       "      <td>10608.0</td>\n",
       "      <td>0</td>\n",
       "      <td>0</td>\n",
       "      <td>0</td>\n",
       "      <td>0.199951</td>\n",
       "      <td>29.96875</td>\n",
       "      <td>4.503906</td>\n",
       "      <td>0</td>\n",
       "      <td>...</td>\n",
       "      <td>0</td>\n",
       "      <td>1</td>\n",
       "      <td>0</td>\n",
       "      <td>1</td>\n",
       "      <td>0</td>\n",
       "      <td>0</td>\n",
       "      <td>0</td>\n",
       "      <td>0</td>\n",
       "      <td>0</td>\n",
       "      <td>1</td>\n",
       "    </tr>\n",
       "    <tr>\n",
       "      <th>2015-12-31</th>\n",
       "      <td>16248.0</td>\n",
       "      <td>11160.0</td>\n",
       "      <td>15648.0</td>\n",
       "      <td>0</td>\n",
       "      <td>0</td>\n",
       "      <td>0</td>\n",
       "      <td>0.199951</td>\n",
       "      <td>29.96875</td>\n",
       "      <td>4.488281</td>\n",
       "      <td>0</td>\n",
       "      <td>...</td>\n",
       "      <td>0</td>\n",
       "      <td>0</td>\n",
       "      <td>0</td>\n",
       "      <td>1</td>\n",
       "      <td>0</td>\n",
       "      <td>0</td>\n",
       "      <td>0</td>\n",
       "      <td>1</td>\n",
       "      <td>0</td>\n",
       "      <td>0</td>\n",
       "    </tr>\n",
       "    <tr>\n",
       "      <th>2015-12-31</th>\n",
       "      <td>16248.0</td>\n",
       "      <td>11160.0</td>\n",
       "      <td>15648.0</td>\n",
       "      <td>0</td>\n",
       "      <td>0</td>\n",
       "      <td>0</td>\n",
       "      <td>0.199951</td>\n",
       "      <td>29.96875</td>\n",
       "      <td>4.460938</td>\n",
       "      <td>0</td>\n",
       "      <td>...</td>\n",
       "      <td>0</td>\n",
       "      <td>0</td>\n",
       "      <td>0</td>\n",
       "      <td>1</td>\n",
       "      <td>0</td>\n",
       "      <td>0</td>\n",
       "      <td>0</td>\n",
       "      <td>0</td>\n",
       "      <td>1</td>\n",
       "      <td>0</td>\n",
       "    </tr>\n",
       "    <tr>\n",
       "      <th>2015-12-31</th>\n",
       "      <td>16248.0</td>\n",
       "      <td>11160.0</td>\n",
       "      <td>15648.0</td>\n",
       "      <td>0</td>\n",
       "      <td>0</td>\n",
       "      <td>0</td>\n",
       "      <td>0.199951</td>\n",
       "      <td>29.96875</td>\n",
       "      <td>4.503906</td>\n",
       "      <td>0</td>\n",
       "      <td>...</td>\n",
       "      <td>0</td>\n",
       "      <td>0</td>\n",
       "      <td>0</td>\n",
       "      <td>1</td>\n",
       "      <td>0</td>\n",
       "      <td>0</td>\n",
       "      <td>0</td>\n",
       "      <td>0</td>\n",
       "      <td>0</td>\n",
       "      <td>1</td>\n",
       "    </tr>\n",
       "  </tbody>\n",
       "</table>\n",
       "<p>5 rows × 24 columns</p>\n",
       "</div>"
      ],
      "text/plain": [
       "                 CA       TX       WI  snap_CA  snap_TX  snap_WI  \\\n",
       "date                                                               \n",
       "2015-12-30  14776.0   8736.0  10608.0        0        0        0   \n",
       "2015-12-30  14776.0   8736.0  10608.0        0        0        0   \n",
       "2015-12-31  16248.0  11160.0  15648.0        0        0        0   \n",
       "2015-12-31  16248.0  11160.0  15648.0        0        0        0   \n",
       "2015-12-31  16248.0  11160.0  15648.0        0        0        0   \n",
       "\n",
       "            sales_price_min  sales_price_max  sales_price_mean  \\\n",
       "date                                                             \n",
       "2015-12-30         0.199951         29.96875          4.460938   \n",
       "2015-12-30         0.199951         29.96875          4.503906   \n",
       "2015-12-31         0.199951         29.96875          4.488281   \n",
       "2015-12-31         0.199951         29.96875          4.460938   \n",
       "2015-12-31         0.199951         29.96875          4.503906   \n",
       "\n",
       "            weekday_Friday  ...  weekday_Tuesday  weekday_Wednesday  \\\n",
       "date                        ...                                       \n",
       "2015-12-30               0  ...                0                  1   \n",
       "2015-12-30               0  ...                0                  1   \n",
       "2015-12-31               0  ...                0                  0   \n",
       "2015-12-31               0  ...                0                  0   \n",
       "2015-12-31               0  ...                0                  0   \n",
       "\n",
       "            event_type_1_Cultural  event_type_1_Daily  event_type_1_National  \\\n",
       "date                                                                           \n",
       "2015-12-30                      0                   1                      0   \n",
       "2015-12-30                      0                   1                      0   \n",
       "2015-12-31                      0                   1                      0   \n",
       "2015-12-31                      0                   1                      0   \n",
       "2015-12-31                      0                   1                      0   \n",
       "\n",
       "            event_type_1_Religious  event_type_1_Sporting  state_CA  state_TX  \\\n",
       "date                                                                            \n",
       "2015-12-30                       0                      0         0         1   \n",
       "2015-12-30                       0                      0         0         0   \n",
       "2015-12-31                       0                      0         1         0   \n",
       "2015-12-31                       0                      0         0         1   \n",
       "2015-12-31                       0                      0         0         0   \n",
       "\n",
       "            state_WI  \n",
       "date                  \n",
       "2015-12-30         0  \n",
       "2015-12-30         1  \n",
       "2015-12-31         0  \n",
       "2015-12-31         0  \n",
       "2015-12-31         1  \n",
       "\n",
       "[5 rows x 24 columns]"
      ]
     },
     "execution_count": 46,
     "metadata": {},
     "output_type": "execute_result"
    }
   ],
   "source": [
    "sales_df_train = sales_df[:pd.to_datetime('2015-12-31')]\n",
    "sales_df_train.tail()"
   ]
  },
  {
   "cell_type": "code",
   "execution_count": 47,
   "id": "00ba97b9",
   "metadata": {
    "execution": {
     "iopub.execute_input": "2022-12-08T05:35:08.002185Z",
     "iopub.status.busy": "2022-12-08T05:35:08.001245Z",
     "iopub.status.idle": "2022-12-08T05:35:08.008113Z",
     "shell.execute_reply": "2022-12-08T05:35:08.007038Z"
    },
    "papermill": {
     "duration": 0.043113,
     "end_time": "2022-12-08T05:35:08.010313",
     "exception": false,
     "start_time": "2022-12-08T05:35:07.967200",
     "status": "completed"
    },
    "tags": []
   },
   "outputs": [
    {
     "data": {
      "text/plain": [
       "(5394, 24)"
      ]
     },
     "execution_count": 47,
     "metadata": {},
     "output_type": "execute_result"
    }
   ],
   "source": [
    "sales_df_train.shape"
   ]
  },
  {
   "cell_type": "code",
   "execution_count": 48,
   "id": "cb2ef90c",
   "metadata": {
    "execution": {
     "iopub.execute_input": "2022-12-08T05:35:08.078005Z",
     "iopub.status.busy": "2022-12-08T05:35:08.077369Z",
     "iopub.status.idle": "2022-12-08T05:35:08.084067Z",
     "shell.execute_reply": "2022-12-08T05:35:08.083134Z"
    },
    "papermill": {
     "duration": 0.043164,
     "end_time": "2022-12-08T05:35:08.086129",
     "exception": false,
     "start_time": "2022-12-08T05:35:08.042965",
     "status": "completed"
    },
    "tags": []
   },
   "outputs": [
    {
     "data": {
      "text/plain": [
       "(345, 24)"
      ]
     },
     "execution_count": 48,
     "metadata": {},
     "output_type": "execute_result"
    }
   ],
   "source": [
    "sales_df_test.shape"
   ]
  },
  {
   "cell_type": "markdown",
   "id": "46c06e3b",
   "metadata": {
    "papermill": {
     "duration": 0.032738,
     "end_time": "2022-12-08T05:35:08.151824",
     "exception": false,
     "start_time": "2022-12-08T05:35:08.119086",
     "status": "completed"
    },
    "tags": []
   },
   "source": [
    "## Create Lagged Feature"
   ]
  },
  {
   "cell_type": "code",
   "execution_count": 49,
   "id": "77d80834",
   "metadata": {
    "execution": {
     "iopub.execute_input": "2022-12-08T05:35:08.219969Z",
     "iopub.status.busy": "2022-12-08T05:35:08.219215Z",
     "iopub.status.idle": "2022-12-08T05:35:08.279257Z",
     "shell.execute_reply": "2022-12-08T05:35:08.278134Z"
    },
    "papermill": {
     "duration": 0.096697,
     "end_time": "2022-12-08T05:35:08.281886",
     "exception": false,
     "start_time": "2022-12-08T05:35:08.185189",
     "status": "completed"
    },
    "tags": []
   },
   "outputs": [
    {
     "name": "stderr",
     "output_type": "stream",
     "text": [
      "/opt/conda/lib/python3.7/site-packages/ipykernel_launcher.py:2: SettingWithCopyWarning: \n",
      "A value is trying to be set on a copy of a slice from a DataFrame.\n",
      "Try using .loc[row_indexer,col_indexer] = value instead\n",
      "\n",
      "See the caveats in the documentation: https://pandas.pydata.org/pandas-docs/stable/user_guide/indexing.html#returning-a-view-versus-a-copy\n",
      "  \n",
      "/opt/conda/lib/python3.7/site-packages/ipykernel_launcher.py:3: SettingWithCopyWarning: \n",
      "A value is trying to be set on a copy of a slice from a DataFrame.\n",
      "Try using .loc[row_indexer,col_indexer] = value instead\n",
      "\n",
      "See the caveats in the documentation: https://pandas.pydata.org/pandas-docs/stable/user_guide/indexing.html#returning-a-view-versus-a-copy\n",
      "  This is separate from the ipykernel package so we can avoid doing imports until\n",
      "/opt/conda/lib/python3.7/site-packages/ipykernel_launcher.py:4: SettingWithCopyWarning: \n",
      "A value is trying to be set on a copy of a slice from a DataFrame.\n",
      "Try using .loc[row_indexer,col_indexer] = value instead\n",
      "\n",
      "See the caveats in the documentation: https://pandas.pydata.org/pandas-docs/stable/user_guide/indexing.html#returning-a-view-versus-a-copy\n",
      "  after removing the cwd from sys.path.\n",
      "/opt/conda/lib/python3.7/site-packages/ipykernel_launcher.py:4: PerformanceWarning: DataFrame is highly fragmented.  This is usually the result of calling `frame.insert` many times, which has poor performance.  Consider joining all columns at once using pd.concat(axis=1) instead.  To get a de-fragmented frame, use `newframe = frame.copy()`\n",
      "  after removing the cwd from sys.path.\n",
      "/opt/conda/lib/python3.7/site-packages/ipykernel_launcher.py:2: PerformanceWarning: DataFrame is highly fragmented.  This is usually the result of calling `frame.insert` many times, which has poor performance.  Consider joining all columns at once using pd.concat(axis=1) instead.  To get a de-fragmented frame, use `newframe = frame.copy()`\n",
      "  \n",
      "/opt/conda/lib/python3.7/site-packages/ipykernel_launcher.py:3: PerformanceWarning: DataFrame is highly fragmented.  This is usually the result of calling `frame.insert` many times, which has poor performance.  Consider joining all columns at once using pd.concat(axis=1) instead.  To get a de-fragmented frame, use `newframe = frame.copy()`\n",
      "  This is separate from the ipykernel package so we can avoid doing imports until\n"
     ]
    }
   ],
   "source": [
    "for i in range(1, 29):\n",
    "    sales_df_train[f'CA_lagged_{i}'] = sales_df_train['CA'].shift(-1*i)\n",
    "    sales_df_train[f'TX_lagged_{i}'] = sales_df_train['TX'].shift(-1*i)\n",
    "    sales_df_train[f'WI_lagged_{i}'] = sales_df_train['WI'].shift(-1*i)"
   ]
  },
  {
   "cell_type": "markdown",
   "id": "0009584b",
   "metadata": {
    "papermill": {
     "duration": 0.033643,
     "end_time": "2022-12-08T05:35:08.348735",
     "exception": false,
     "start_time": "2022-12-08T05:35:08.315092",
     "status": "completed"
    },
    "tags": []
   },
   "source": [
    "### "
   ]
  },
  {
   "cell_type": "code",
   "execution_count": 50,
   "id": "05b85009",
   "metadata": {
    "execution": {
     "iopub.execute_input": "2022-12-08T05:35:08.418838Z",
     "iopub.status.busy": "2022-12-08T05:35:08.417699Z",
     "iopub.status.idle": "2022-12-08T05:35:08.479745Z",
     "shell.execute_reply": "2022-12-08T05:35:08.478277Z"
    },
    "papermill": {
     "duration": 0.10009,
     "end_time": "2022-12-08T05:35:08.482505",
     "exception": false,
     "start_time": "2022-12-08T05:35:08.382415",
     "status": "completed"
    },
    "tags": []
   },
   "outputs": [
    {
     "name": "stderr",
     "output_type": "stream",
     "text": [
      "/opt/conda/lib/python3.7/site-packages/ipykernel_launcher.py:2: SettingWithCopyWarning: \n",
      "A value is trying to be set on a copy of a slice from a DataFrame.\n",
      "Try using .loc[row_indexer,col_indexer] = value instead\n",
      "\n",
      "See the caveats in the documentation: https://pandas.pydata.org/pandas-docs/stable/user_guide/indexing.html#returning-a-view-versus-a-copy\n",
      "  \n",
      "/opt/conda/lib/python3.7/site-packages/ipykernel_launcher.py:3: SettingWithCopyWarning: \n",
      "A value is trying to be set on a copy of a slice from a DataFrame.\n",
      "Try using .loc[row_indexer,col_indexer] = value instead\n",
      "\n",
      "See the caveats in the documentation: https://pandas.pydata.org/pandas-docs/stable/user_guide/indexing.html#returning-a-view-versus-a-copy\n",
      "  This is separate from the ipykernel package so we can avoid doing imports until\n",
      "/opt/conda/lib/python3.7/site-packages/ipykernel_launcher.py:4: SettingWithCopyWarning: \n",
      "A value is trying to be set on a copy of a slice from a DataFrame.\n",
      "Try using .loc[row_indexer,col_indexer] = value instead\n",
      "\n",
      "See the caveats in the documentation: https://pandas.pydata.org/pandas-docs/stable/user_guide/indexing.html#returning-a-view-versus-a-copy\n",
      "  after removing the cwd from sys.path.\n",
      "/opt/conda/lib/python3.7/site-packages/ipykernel_launcher.py:4: PerformanceWarning: DataFrame is highly fragmented.  This is usually the result of calling `frame.insert` many times, which has poor performance.  Consider joining all columns at once using pd.concat(axis=1) instead.  To get a de-fragmented frame, use `newframe = frame.copy()`\n",
      "  after removing the cwd from sys.path.\n",
      "/opt/conda/lib/python3.7/site-packages/ipykernel_launcher.py:2: PerformanceWarning: DataFrame is highly fragmented.  This is usually the result of calling `frame.insert` many times, which has poor performance.  Consider joining all columns at once using pd.concat(axis=1) instead.  To get a de-fragmented frame, use `newframe = frame.copy()`\n",
      "  \n",
      "/opt/conda/lib/python3.7/site-packages/ipykernel_launcher.py:3: PerformanceWarning: DataFrame is highly fragmented.  This is usually the result of calling `frame.insert` many times, which has poor performance.  Consider joining all columns at once using pd.concat(axis=1) instead.  To get a de-fragmented frame, use `newframe = frame.copy()`\n",
      "  This is separate from the ipykernel package so we can avoid doing imports until\n"
     ]
    }
   ],
   "source": [
    "for i in range(1, 29):\n",
    "    sales_df_test[f'CA_lagged_{i}'] = sales_df_test['CA'].shift(-1*i)\n",
    "    sales_df_test[f'TX_lagged_{i}'] = sales_df_test['TX'].shift(-1*i)\n",
    "    sales_df_test[f'WI_lagged_{i}'] = sales_df_test['WI'].shift(-1*i)"
   ]
  },
  {
   "cell_type": "code",
   "execution_count": 51,
   "id": "3e194aef",
   "metadata": {
    "execution": {
     "iopub.execute_input": "2022-12-08T05:35:08.550423Z",
     "iopub.status.busy": "2022-12-08T05:35:08.549736Z",
     "iopub.status.idle": "2022-12-08T05:35:08.556754Z",
     "shell.execute_reply": "2022-12-08T05:35:08.555618Z"
    },
    "papermill": {
     "duration": 0.043516,
     "end_time": "2022-12-08T05:35:08.559173",
     "exception": false,
     "start_time": "2022-12-08T05:35:08.515657",
     "status": "completed"
    },
    "tags": []
   },
   "outputs": [
    {
     "data": {
      "text/plain": [
       "(5394, 108)"
      ]
     },
     "execution_count": 51,
     "metadata": {},
     "output_type": "execute_result"
    }
   ],
   "source": [
    "sales_df_train.shape"
   ]
  },
  {
   "cell_type": "code",
   "execution_count": 52,
   "id": "fe9a1cf8",
   "metadata": {
    "execution": {
     "iopub.execute_input": "2022-12-08T05:35:08.629572Z",
     "iopub.status.busy": "2022-12-08T05:35:08.628780Z",
     "iopub.status.idle": "2022-12-08T05:35:08.635699Z",
     "shell.execute_reply": "2022-12-08T05:35:08.634821Z"
    },
    "papermill": {
     "duration": 0.045532,
     "end_time": "2022-12-08T05:35:08.637938",
     "exception": false,
     "start_time": "2022-12-08T05:35:08.592406",
     "status": "completed"
    },
    "tags": []
   },
   "outputs": [
    {
     "data": {
      "text/plain": [
       "(345, 108)"
      ]
     },
     "execution_count": 52,
     "metadata": {},
     "output_type": "execute_result"
    }
   ],
   "source": [
    "sales_df_test.shape"
   ]
  },
  {
   "cell_type": "code",
   "execution_count": 53,
   "id": "3651e0b9",
   "metadata": {
    "execution": {
     "iopub.execute_input": "2022-12-08T05:35:08.707765Z",
     "iopub.status.busy": "2022-12-08T05:35:08.707356Z",
     "iopub.status.idle": "2022-12-08T05:35:08.731839Z",
     "shell.execute_reply": "2022-12-08T05:35:08.730726Z"
    },
    "papermill": {
     "duration": 0.062479,
     "end_time": "2022-12-08T05:35:08.734190",
     "exception": false,
     "start_time": "2022-12-08T05:35:08.671711",
     "status": "completed"
    },
    "tags": []
   },
   "outputs": [
    {
     "data": {
      "text/plain": [
       "CA               0\n",
       "TX               0\n",
       "WI               0\n",
       "snap_CA          0\n",
       "snap_TX          0\n",
       "                ..\n",
       "TX_lagged_27    27\n",
       "WI_lagged_27    27\n",
       "CA_lagged_28    28\n",
       "TX_lagged_28    28\n",
       "WI_lagged_28    28\n",
       "Length: 108, dtype: int64"
      ]
     },
     "execution_count": 53,
     "metadata": {},
     "output_type": "execute_result"
    }
   ],
   "source": [
    "sales_df_train.isna().sum()"
   ]
  },
  {
   "cell_type": "markdown",
   "id": "75b47c75",
   "metadata": {
    "papermill": {
     "duration": 0.033111,
     "end_time": "2022-12-08T05:35:08.800810",
     "exception": false,
     "start_time": "2022-12-08T05:35:08.767699",
     "status": "completed"
    },
    "tags": []
   },
   "source": [
    "## Drop NaN because of Lagging"
   ]
  },
  {
   "cell_type": "code",
   "execution_count": 54,
   "id": "98a2d8d9",
   "metadata": {
    "execution": {
     "iopub.execute_input": "2022-12-08T05:35:08.869525Z",
     "iopub.status.busy": "2022-12-08T05:35:08.869084Z",
     "iopub.status.idle": "2022-12-08T05:35:08.894171Z",
     "shell.execute_reply": "2022-12-08T05:35:08.892986Z"
    },
    "papermill": {
     "duration": 0.062392,
     "end_time": "2022-12-08T05:35:08.897053",
     "exception": false,
     "start_time": "2022-12-08T05:35:08.834661",
     "status": "completed"
    },
    "tags": []
   },
   "outputs": [
    {
     "name": "stderr",
     "output_type": "stream",
     "text": [
      "/opt/conda/lib/python3.7/site-packages/pandas/util/_decorators.py:311: SettingWithCopyWarning: \n",
      "A value is trying to be set on a copy of a slice from a DataFrame\n",
      "\n",
      "See the caveats in the documentation: https://pandas.pydata.org/pandas-docs/stable/user_guide/indexing.html#returning-a-view-versus-a-copy\n",
      "  return func(*args, **kwargs)\n"
     ]
    }
   ],
   "source": [
    "sales_df_train.dropna(inplace = True)"
   ]
  },
  {
   "cell_type": "code",
   "execution_count": 55,
   "id": "01781f7d",
   "metadata": {
    "execution": {
     "iopub.execute_input": "2022-12-08T05:35:08.966973Z",
     "iopub.status.busy": "2022-12-08T05:35:08.966313Z",
     "iopub.status.idle": "2022-12-08T05:35:08.982046Z",
     "shell.execute_reply": "2022-12-08T05:35:08.981220Z"
    },
    "papermill": {
     "duration": 0.053507,
     "end_time": "2022-12-08T05:35:08.984466",
     "exception": false,
     "start_time": "2022-12-08T05:35:08.930959",
     "status": "completed"
    },
    "tags": []
   },
   "outputs": [],
   "source": [
    "sales_df_test.dropna(inplace = True)"
   ]
  },
  {
   "cell_type": "code",
   "execution_count": 56,
   "id": "b3617d14",
   "metadata": {
    "execution": {
     "iopub.execute_input": "2022-12-08T05:35:09.053795Z",
     "iopub.status.busy": "2022-12-08T05:35:09.053089Z",
     "iopub.status.idle": "2022-12-08T05:35:09.060447Z",
     "shell.execute_reply": "2022-12-08T05:35:09.059291Z"
    },
    "papermill": {
     "duration": 0.045221,
     "end_time": "2022-12-08T05:35:09.062779",
     "exception": false,
     "start_time": "2022-12-08T05:35:09.017558",
     "status": "completed"
    },
    "tags": []
   },
   "outputs": [
    {
     "data": {
      "text/plain": [
       "(5366, 108)"
      ]
     },
     "execution_count": 56,
     "metadata": {},
     "output_type": "execute_result"
    }
   ],
   "source": [
    "sales_df_train.shape"
   ]
  },
  {
   "cell_type": "code",
   "execution_count": 57,
   "id": "35f9a7f3",
   "metadata": {
    "execution": {
     "iopub.execute_input": "2022-12-08T05:35:09.133019Z",
     "iopub.status.busy": "2022-12-08T05:35:09.132413Z",
     "iopub.status.idle": "2022-12-08T05:35:09.138260Z",
     "shell.execute_reply": "2022-12-08T05:35:09.137209Z"
    },
    "papermill": {
     "duration": 0.043539,
     "end_time": "2022-12-08T05:35:09.140689",
     "exception": false,
     "start_time": "2022-12-08T05:35:09.097150",
     "status": "completed"
    },
    "tags": []
   },
   "outputs": [
    {
     "data": {
      "text/plain": [
       "(317, 108)"
      ]
     },
     "execution_count": 57,
     "metadata": {},
     "output_type": "execute_result"
    }
   ],
   "source": [
    "sales_df_test.shape"
   ]
  },
  {
   "cell_type": "markdown",
   "id": "1b55016f",
   "metadata": {
    "papermill": {
     "duration": 0.033591,
     "end_time": "2022-12-08T05:35:09.208468",
     "exception": false,
     "start_time": "2022-12-08T05:35:09.174877",
     "status": "completed"
    },
    "tags": []
   },
   "source": [
    "## Scale Numerical Columns"
   ]
  },
  {
   "cell_type": "code",
   "execution_count": 58,
   "id": "31423d04",
   "metadata": {
    "execution": {
     "iopub.execute_input": "2022-12-08T05:35:09.277433Z",
     "iopub.status.busy": "2022-12-08T05:35:09.276987Z",
     "iopub.status.idle": "2022-12-08T05:35:09.287523Z",
     "shell.execute_reply": "2022-12-08T05:35:09.286689Z"
    },
    "papermill": {
     "duration": 0.047743,
     "end_time": "2022-12-08T05:35:09.289554",
     "exception": false,
     "start_time": "2022-12-08T05:35:09.241811",
     "status": "completed"
    },
    "tags": []
   },
   "outputs": [
    {
     "data": {
      "text/plain": [
       "['sales_price_min',\n",
       " 'sales_price_max',\n",
       " 'sales_price_mean',\n",
       " 'CA',\n",
       " 'TX',\n",
       " 'WI',\n",
       " 'CA_lagged_1',\n",
       " 'TX_lagged_1',\n",
       " 'WI_lagged_1',\n",
       " 'CA_lagged_2',\n",
       " 'TX_lagged_2',\n",
       " 'WI_lagged_2',\n",
       " 'CA_lagged_3',\n",
       " 'TX_lagged_3',\n",
       " 'WI_lagged_3',\n",
       " 'CA_lagged_4',\n",
       " 'TX_lagged_4',\n",
       " 'WI_lagged_4',\n",
       " 'CA_lagged_5',\n",
       " 'TX_lagged_5',\n",
       " 'WI_lagged_5',\n",
       " 'CA_lagged_6',\n",
       " 'TX_lagged_6',\n",
       " 'WI_lagged_6',\n",
       " 'CA_lagged_7',\n",
       " 'TX_lagged_7',\n",
       " 'WI_lagged_7',\n",
       " 'CA_lagged_8',\n",
       " 'TX_lagged_8',\n",
       " 'WI_lagged_8',\n",
       " 'CA_lagged_9',\n",
       " 'TX_lagged_9',\n",
       " 'WI_lagged_9',\n",
       " 'CA_lagged_10',\n",
       " 'TX_lagged_10',\n",
       " 'WI_lagged_10',\n",
       " 'CA_lagged_11',\n",
       " 'TX_lagged_11',\n",
       " 'WI_lagged_11',\n",
       " 'CA_lagged_12',\n",
       " 'TX_lagged_12',\n",
       " 'WI_lagged_12',\n",
       " 'CA_lagged_13',\n",
       " 'TX_lagged_13',\n",
       " 'WI_lagged_13',\n",
       " 'CA_lagged_14',\n",
       " 'TX_lagged_14',\n",
       " 'WI_lagged_14',\n",
       " 'CA_lagged_15',\n",
       " 'TX_lagged_15',\n",
       " 'WI_lagged_15',\n",
       " 'CA_lagged_16',\n",
       " 'TX_lagged_16',\n",
       " 'WI_lagged_16',\n",
       " 'CA_lagged_17',\n",
       " 'TX_lagged_17',\n",
       " 'WI_lagged_17',\n",
       " 'CA_lagged_18',\n",
       " 'TX_lagged_18',\n",
       " 'WI_lagged_18',\n",
       " 'CA_lagged_19',\n",
       " 'TX_lagged_19',\n",
       " 'WI_lagged_19',\n",
       " 'CA_lagged_20',\n",
       " 'TX_lagged_20',\n",
       " 'WI_lagged_20',\n",
       " 'CA_lagged_21',\n",
       " 'TX_lagged_21',\n",
       " 'WI_lagged_21',\n",
       " 'CA_lagged_22',\n",
       " 'TX_lagged_22',\n",
       " 'WI_lagged_22',\n",
       " 'CA_lagged_23',\n",
       " 'TX_lagged_23',\n",
       " 'WI_lagged_23',\n",
       " 'CA_lagged_24',\n",
       " 'TX_lagged_24',\n",
       " 'WI_lagged_24',\n",
       " 'CA_lagged_25',\n",
       " 'TX_lagged_25',\n",
       " 'WI_lagged_25',\n",
       " 'CA_lagged_26',\n",
       " 'TX_lagged_26',\n",
       " 'WI_lagged_26',\n",
       " 'CA_lagged_27',\n",
       " 'TX_lagged_27',\n",
       " 'WI_lagged_27']"
      ]
     },
     "execution_count": 58,
     "metadata": {},
     "output_type": "execute_result"
    }
   ],
   "source": [
    "cols_to_scale = ['sales_price_min', 'sales_price_max', 'sales_price_mean']\n",
    "\n",
    "# Add lagged columns except for 28\n",
    "\n",
    "lagged_columns = []\n",
    "lagged_columns.append('CA')\n",
    "lagged_columns.append('TX')\n",
    "lagged_columns.append('WI')\n",
    "for i in range(1, 28):\n",
    "    lagged_columns.append(f'CA_lagged_{i}')\n",
    "    lagged_columns.append(f'TX_lagged_{i}')\n",
    "    lagged_columns.append(f'WI_lagged_{i}')\n",
    "    \n",
    "cols_to_scale = cols_to_scale + lagged_columns\n",
    "cols_to_scale"
   ]
  },
  {
   "cell_type": "code",
   "execution_count": 59,
   "id": "daab84c5",
   "metadata": {
    "execution": {
     "iopub.execute_input": "2022-12-08T05:35:09.359673Z",
     "iopub.status.busy": "2022-12-08T05:35:09.359235Z",
     "iopub.status.idle": "2022-12-08T05:35:09.463766Z",
     "shell.execute_reply": "2022-12-08T05:35:09.462630Z"
    },
    "papermill": {
     "duration": 0.142656,
     "end_time": "2022-12-08T05:35:09.466618",
     "exception": false,
     "start_time": "2022-12-08T05:35:09.323962",
     "status": "completed"
    },
    "tags": []
   },
   "outputs": [],
   "source": [
    "from sklearn.preprocessing import MinMaxScaler"
   ]
  },
  {
   "cell_type": "code",
   "execution_count": 60,
   "id": "a2dd90a2",
   "metadata": {
    "execution": {
     "iopub.execute_input": "2022-12-08T05:35:09.536878Z",
     "iopub.status.busy": "2022-12-08T05:35:09.536035Z",
     "iopub.status.idle": "2022-12-08T05:35:09.541225Z",
     "shell.execute_reply": "2022-12-08T05:35:09.540114Z"
    },
    "papermill": {
     "duration": 0.042773,
     "end_time": "2022-12-08T05:35:09.543500",
     "exception": false,
     "start_time": "2022-12-08T05:35:09.500727",
     "status": "completed"
    },
    "tags": []
   },
   "outputs": [],
   "source": [
    "scaler_instance = MinMaxScaler()"
   ]
  },
  {
   "cell_type": "code",
   "execution_count": 61,
   "id": "05fa75ff",
   "metadata": {
    "execution": {
     "iopub.execute_input": "2022-12-08T05:35:09.613875Z",
     "iopub.status.busy": "2022-12-08T05:35:09.612802Z",
     "iopub.status.idle": "2022-12-08T05:35:09.687489Z",
     "shell.execute_reply": "2022-12-08T05:35:09.686543Z"
    },
    "papermill": {
     "duration": 0.11434,
     "end_time": "2022-12-08T05:35:09.691838",
     "exception": false,
     "start_time": "2022-12-08T05:35:09.577498",
     "status": "completed"
    },
    "tags": []
   },
   "outputs": [
    {
     "name": "stderr",
     "output_type": "stream",
     "text": [
      "/opt/conda/lib/python3.7/site-packages/pandas/core/frame.py:3678: SettingWithCopyWarning: \n",
      "A value is trying to be set on a copy of a slice from a DataFrame.\n",
      "Try using .loc[row_indexer,col_indexer] = value instead\n",
      "\n",
      "See the caveats in the documentation: https://pandas.pydata.org/pandas-docs/stable/user_guide/indexing.html#returning-a-view-versus-a-copy\n",
      "  self[col] = igetitem(value, i)\n"
     ]
    },
    {
     "data": {
      "text/html": [
       "<div>\n",
       "<style scoped>\n",
       "    .dataframe tbody tr th:only-of-type {\n",
       "        vertical-align: middle;\n",
       "    }\n",
       "\n",
       "    .dataframe tbody tr th {\n",
       "        vertical-align: top;\n",
       "    }\n",
       "\n",
       "    .dataframe thead th {\n",
       "        text-align: right;\n",
       "    }\n",
       "</style>\n",
       "<table border=\"1\" class=\"dataframe\">\n",
       "  <thead>\n",
       "    <tr style=\"text-align: right;\">\n",
       "      <th></th>\n",
       "      <th>CA</th>\n",
       "      <th>TX</th>\n",
       "      <th>WI</th>\n",
       "      <th>snap_CA</th>\n",
       "      <th>snap_TX</th>\n",
       "      <th>snap_WI</th>\n",
       "      <th>sales_price_min</th>\n",
       "      <th>sales_price_max</th>\n",
       "      <th>sales_price_mean</th>\n",
       "      <th>weekday_Friday</th>\n",
       "      <th>...</th>\n",
       "      <th>WI_lagged_25</th>\n",
       "      <th>CA_lagged_26</th>\n",
       "      <th>TX_lagged_26</th>\n",
       "      <th>WI_lagged_26</th>\n",
       "      <th>CA_lagged_27</th>\n",
       "      <th>TX_lagged_27</th>\n",
       "      <th>WI_lagged_27</th>\n",
       "      <th>CA_lagged_28</th>\n",
       "      <th>TX_lagged_28</th>\n",
       "      <th>WI_lagged_28</th>\n",
       "    </tr>\n",
       "    <tr>\n",
       "      <th>date</th>\n",
       "      <th></th>\n",
       "      <th></th>\n",
       "      <th></th>\n",
       "      <th></th>\n",
       "      <th></th>\n",
       "      <th></th>\n",
       "      <th></th>\n",
       "      <th></th>\n",
       "      <th></th>\n",
       "      <th></th>\n",
       "      <th></th>\n",
       "      <th></th>\n",
       "      <th></th>\n",
       "      <th></th>\n",
       "      <th></th>\n",
       "      <th></th>\n",
       "      <th></th>\n",
       "      <th></th>\n",
       "      <th></th>\n",
       "      <th></th>\n",
       "      <th></th>\n",
       "    </tr>\n",
       "  </thead>\n",
       "  <tbody>\n",
       "    <tr>\n",
       "      <th>2011-01-29</th>\n",
       "      <td>0.573730</td>\n",
       "      <td>0.503418</td>\n",
       "      <td>0.50000</td>\n",
       "      <td>0</td>\n",
       "      <td>0</td>\n",
       "      <td>0</td>\n",
       "      <td>1.0</td>\n",
       "      <td>0.0</td>\n",
       "      <td>0.230469</td>\n",
       "      <td>0</td>\n",
       "      <td>...</td>\n",
       "      <td>0.481201</td>\n",
       "      <td>0.593750</td>\n",
       "      <td>0.500000</td>\n",
       "      <td>0.481201</td>\n",
       "      <td>0.477539</td>\n",
       "      <td>0.390381</td>\n",
       "      <td>0.357422</td>\n",
       "      <td>11824.0</td>\n",
       "      <td>7320.0</td>\n",
       "      <td>6432.0</td>\n",
       "    </tr>\n",
       "    <tr>\n",
       "      <th>2011-01-29</th>\n",
       "      <td>0.573730</td>\n",
       "      <td>0.503418</td>\n",
       "      <td>0.50000</td>\n",
       "      <td>0</td>\n",
       "      <td>0</td>\n",
       "      <td>0</td>\n",
       "      <td>1.0</td>\n",
       "      <td>0.0</td>\n",
       "      <td>0.000000</td>\n",
       "      <td>0</td>\n",
       "      <td>...</td>\n",
       "      <td>0.481201</td>\n",
       "      <td>0.477539</td>\n",
       "      <td>0.390381</td>\n",
       "      <td>0.357422</td>\n",
       "      <td>0.477539</td>\n",
       "      <td>0.390381</td>\n",
       "      <td>0.357422</td>\n",
       "      <td>11824.0</td>\n",
       "      <td>7320.0</td>\n",
       "      <td>6432.0</td>\n",
       "    </tr>\n",
       "    <tr>\n",
       "      <th>2011-01-29</th>\n",
       "      <td>0.573730</td>\n",
       "      <td>0.503418</td>\n",
       "      <td>0.50000</td>\n",
       "      <td>0</td>\n",
       "      <td>0</td>\n",
       "      <td>0</td>\n",
       "      <td>1.0</td>\n",
       "      <td>0.0</td>\n",
       "      <td>0.230469</td>\n",
       "      <td>0</td>\n",
       "      <td>...</td>\n",
       "      <td>0.357422</td>\n",
       "      <td>0.477539</td>\n",
       "      <td>0.390381</td>\n",
       "      <td>0.357422</td>\n",
       "      <td>0.477539</td>\n",
       "      <td>0.390381</td>\n",
       "      <td>0.357422</td>\n",
       "      <td>10936.0</td>\n",
       "      <td>6224.0</td>\n",
       "      <td>5912.0</td>\n",
       "    </tr>\n",
       "    <tr>\n",
       "      <th>2011-01-30</th>\n",
       "      <td>0.558105</td>\n",
       "      <td>0.513672</td>\n",
       "      <td>0.46167</td>\n",
       "      <td>0</td>\n",
       "      <td>0</td>\n",
       "      <td>0</td>\n",
       "      <td>1.0</td>\n",
       "      <td>0.0</td>\n",
       "      <td>0.230469</td>\n",
       "      <td>0</td>\n",
       "      <td>...</td>\n",
       "      <td>0.357422</td>\n",
       "      <td>0.477539</td>\n",
       "      <td>0.390381</td>\n",
       "      <td>0.357422</td>\n",
       "      <td>0.441650</td>\n",
       "      <td>0.332031</td>\n",
       "      <td>0.328369</td>\n",
       "      <td>10936.0</td>\n",
       "      <td>6224.0</td>\n",
       "      <td>5912.0</td>\n",
       "    </tr>\n",
       "    <tr>\n",
       "      <th>2011-01-30</th>\n",
       "      <td>0.558105</td>\n",
       "      <td>0.513672</td>\n",
       "      <td>0.46167</td>\n",
       "      <td>0</td>\n",
       "      <td>0</td>\n",
       "      <td>0</td>\n",
       "      <td>1.0</td>\n",
       "      <td>0.0</td>\n",
       "      <td>0.000000</td>\n",
       "      <td>0</td>\n",
       "      <td>...</td>\n",
       "      <td>0.357422</td>\n",
       "      <td>0.441650</td>\n",
       "      <td>0.332031</td>\n",
       "      <td>0.328369</td>\n",
       "      <td>0.441650</td>\n",
       "      <td>0.332031</td>\n",
       "      <td>0.328369</td>\n",
       "      <td>10936.0</td>\n",
       "      <td>6224.0</td>\n",
       "      <td>5912.0</td>\n",
       "    </tr>\n",
       "  </tbody>\n",
       "</table>\n",
       "<p>5 rows × 108 columns</p>\n",
       "</div>"
      ],
      "text/plain": [
       "                  CA        TX       WI  snap_CA  snap_TX  snap_WI  \\\n",
       "date                                                                 \n",
       "2011-01-29  0.573730  0.503418  0.50000        0        0        0   \n",
       "2011-01-29  0.573730  0.503418  0.50000        0        0        0   \n",
       "2011-01-29  0.573730  0.503418  0.50000        0        0        0   \n",
       "2011-01-30  0.558105  0.513672  0.46167        0        0        0   \n",
       "2011-01-30  0.558105  0.513672  0.46167        0        0        0   \n",
       "\n",
       "            sales_price_min  sales_price_max  sales_price_mean  \\\n",
       "date                                                             \n",
       "2011-01-29              1.0              0.0          0.230469   \n",
       "2011-01-29              1.0              0.0          0.000000   \n",
       "2011-01-29              1.0              0.0          0.230469   \n",
       "2011-01-30              1.0              0.0          0.230469   \n",
       "2011-01-30              1.0              0.0          0.000000   \n",
       "\n",
       "            weekday_Friday  ...  WI_lagged_25  CA_lagged_26  TX_lagged_26  \\\n",
       "date                        ...                                             \n",
       "2011-01-29               0  ...      0.481201      0.593750      0.500000   \n",
       "2011-01-29               0  ...      0.481201      0.477539      0.390381   \n",
       "2011-01-29               0  ...      0.357422      0.477539      0.390381   \n",
       "2011-01-30               0  ...      0.357422      0.477539      0.390381   \n",
       "2011-01-30               0  ...      0.357422      0.441650      0.332031   \n",
       "\n",
       "            WI_lagged_26  CA_lagged_27  TX_lagged_27  WI_lagged_27  \\\n",
       "date                                                                 \n",
       "2011-01-29      0.481201      0.477539      0.390381      0.357422   \n",
       "2011-01-29      0.357422      0.477539      0.390381      0.357422   \n",
       "2011-01-29      0.357422      0.477539      0.390381      0.357422   \n",
       "2011-01-30      0.357422      0.441650      0.332031      0.328369   \n",
       "2011-01-30      0.328369      0.441650      0.332031      0.328369   \n",
       "\n",
       "            CA_lagged_28  TX_lagged_28  WI_lagged_28  \n",
       "date                                                  \n",
       "2011-01-29       11824.0        7320.0        6432.0  \n",
       "2011-01-29       11824.0        7320.0        6432.0  \n",
       "2011-01-29       10936.0        6224.0        5912.0  \n",
       "2011-01-30       10936.0        6224.0        5912.0  \n",
       "2011-01-30       10936.0        6224.0        5912.0  \n",
       "\n",
       "[5 rows x 108 columns]"
      ]
     },
     "execution_count": 61,
     "metadata": {},
     "output_type": "execute_result"
    }
   ],
   "source": [
    "sales_df_train[cols_to_scale] = scaler_instance.fit_transform(sales_df_train[cols_to_scale])\n",
    "sales_df_train.head()"
   ]
  },
  {
   "cell_type": "code",
   "execution_count": 62,
   "id": "0425b161",
   "metadata": {
    "execution": {
     "iopub.execute_input": "2022-12-08T05:35:09.762444Z",
     "iopub.status.busy": "2022-12-08T05:35:09.762006Z",
     "iopub.status.idle": "2022-12-08T05:35:09.803081Z",
     "shell.execute_reply": "2022-12-08T05:35:09.802092Z"
    },
    "papermill": {
     "duration": 0.080997,
     "end_time": "2022-12-08T05:35:09.807428",
     "exception": false,
     "start_time": "2022-12-08T05:35:09.726431",
     "status": "completed"
    },
    "tags": []
   },
   "outputs": [
    {
     "name": "stderr",
     "output_type": "stream",
     "text": [
      "/opt/conda/lib/python3.7/site-packages/pandas/core/frame.py:3678: SettingWithCopyWarning: \n",
      "A value is trying to be set on a copy of a slice from a DataFrame.\n",
      "Try using .loc[row_indexer,col_indexer] = value instead\n",
      "\n",
      "See the caveats in the documentation: https://pandas.pydata.org/pandas-docs/stable/user_guide/indexing.html#returning-a-view-versus-a-copy\n",
      "  self[col] = igetitem(value, i)\n"
     ]
    },
    {
     "data": {
      "text/html": [
       "<div>\n",
       "<style scoped>\n",
       "    .dataframe tbody tr th:only-of-type {\n",
       "        vertical-align: middle;\n",
       "    }\n",
       "\n",
       "    .dataframe tbody tr th {\n",
       "        vertical-align: top;\n",
       "    }\n",
       "\n",
       "    .dataframe thead th {\n",
       "        text-align: right;\n",
       "    }\n",
       "</style>\n",
       "<table border=\"1\" class=\"dataframe\">\n",
       "  <thead>\n",
       "    <tr style=\"text-align: right;\">\n",
       "      <th></th>\n",
       "      <th>CA</th>\n",
       "      <th>TX</th>\n",
       "      <th>WI</th>\n",
       "      <th>snap_CA</th>\n",
       "      <th>snap_TX</th>\n",
       "      <th>snap_WI</th>\n",
       "      <th>sales_price_min</th>\n",
       "      <th>sales_price_max</th>\n",
       "      <th>sales_price_mean</th>\n",
       "      <th>weekday_Friday</th>\n",
       "      <th>...</th>\n",
       "      <th>WI_lagged_25</th>\n",
       "      <th>CA_lagged_26</th>\n",
       "      <th>TX_lagged_26</th>\n",
       "      <th>WI_lagged_26</th>\n",
       "      <th>CA_lagged_27</th>\n",
       "      <th>TX_lagged_27</th>\n",
       "      <th>WI_lagged_27</th>\n",
       "      <th>CA_lagged_28</th>\n",
       "      <th>TX_lagged_28</th>\n",
       "      <th>WI_lagged_28</th>\n",
       "    </tr>\n",
       "    <tr>\n",
       "      <th>date</th>\n",
       "      <th></th>\n",
       "      <th></th>\n",
       "      <th></th>\n",
       "      <th></th>\n",
       "      <th></th>\n",
       "      <th></th>\n",
       "      <th></th>\n",
       "      <th></th>\n",
       "      <th></th>\n",
       "      <th></th>\n",
       "      <th></th>\n",
       "      <th></th>\n",
       "      <th></th>\n",
       "      <th></th>\n",
       "      <th></th>\n",
       "      <th></th>\n",
       "      <th></th>\n",
       "      <th></th>\n",
       "      <th></th>\n",
       "      <th></th>\n",
       "      <th></th>\n",
       "    </tr>\n",
       "  </thead>\n",
       "  <tbody>\n",
       "    <tr>\n",
       "      <th>2016-01-01</th>\n",
       "      <td>0.030273</td>\n",
       "      <td>0.136719</td>\n",
       "      <td>0.179688</td>\n",
       "      <td>1</td>\n",
       "      <td>1</td>\n",
       "      <td>0</td>\n",
       "      <td>0.833496</td>\n",
       "      <td>0.0</td>\n",
       "      <td>1.000</td>\n",
       "      <td>1</td>\n",
       "      <td>...</td>\n",
       "      <td>0.745605</td>\n",
       "      <td>0.812500</td>\n",
       "      <td>0.768555</td>\n",
       "      <td>0.745605</td>\n",
       "      <td>0.753906</td>\n",
       "      <td>0.687500</td>\n",
       "      <td>0.364746</td>\n",
       "      <td>22208.0</td>\n",
       "      <td>12632.0</td>\n",
       "      <td>12520.0</td>\n",
       "    </tr>\n",
       "    <tr>\n",
       "      <th>2016-01-01</th>\n",
       "      <td>0.030273</td>\n",
       "      <td>0.136719</td>\n",
       "      <td>0.179688</td>\n",
       "      <td>1</td>\n",
       "      <td>1</td>\n",
       "      <td>0</td>\n",
       "      <td>0.833496</td>\n",
       "      <td>0.0</td>\n",
       "      <td>0.625</td>\n",
       "      <td>1</td>\n",
       "      <td>...</td>\n",
       "      <td>0.745605</td>\n",
       "      <td>0.753906</td>\n",
       "      <td>0.687500</td>\n",
       "      <td>0.364746</td>\n",
       "      <td>0.753906</td>\n",
       "      <td>0.687500</td>\n",
       "      <td>0.364746</td>\n",
       "      <td>22208.0</td>\n",
       "      <td>12632.0</td>\n",
       "      <td>12520.0</td>\n",
       "    </tr>\n",
       "    <tr>\n",
       "      <th>2016-01-01</th>\n",
       "      <td>0.030273</td>\n",
       "      <td>0.136719</td>\n",
       "      <td>0.179688</td>\n",
       "      <td>1</td>\n",
       "      <td>1</td>\n",
       "      <td>0</td>\n",
       "      <td>0.833496</td>\n",
       "      <td>0.0</td>\n",
       "      <td>0.000</td>\n",
       "      <td>1</td>\n",
       "      <td>...</td>\n",
       "      <td>0.364746</td>\n",
       "      <td>0.753906</td>\n",
       "      <td>0.687500</td>\n",
       "      <td>0.364746</td>\n",
       "      <td>0.753906</td>\n",
       "      <td>0.687500</td>\n",
       "      <td>0.364746</td>\n",
       "      <td>16208.0</td>\n",
       "      <td>10528.0</td>\n",
       "      <td>11256.0</td>\n",
       "    </tr>\n",
       "    <tr>\n",
       "      <th>2016-01-02</th>\n",
       "      <td>0.496094</td>\n",
       "      <td>0.368164</td>\n",
       "      <td>0.609863</td>\n",
       "      <td>1</td>\n",
       "      <td>0</td>\n",
       "      <td>1</td>\n",
       "      <td>0.833496</td>\n",
       "      <td>0.0</td>\n",
       "      <td>0.000</td>\n",
       "      <td>0</td>\n",
       "      <td>...</td>\n",
       "      <td>0.364746</td>\n",
       "      <td>0.753906</td>\n",
       "      <td>0.687500</td>\n",
       "      <td>0.364746</td>\n",
       "      <td>0.262695</td>\n",
       "      <td>0.364258</td>\n",
       "      <td>0.252441</td>\n",
       "      <td>16208.0</td>\n",
       "      <td>10528.0</td>\n",
       "      <td>11256.0</td>\n",
       "    </tr>\n",
       "    <tr>\n",
       "      <th>2016-01-02</th>\n",
       "      <td>0.496094</td>\n",
       "      <td>0.368164</td>\n",
       "      <td>0.609863</td>\n",
       "      <td>1</td>\n",
       "      <td>0</td>\n",
       "      <td>1</td>\n",
       "      <td>0.833496</td>\n",
       "      <td>0.0</td>\n",
       "      <td>1.000</td>\n",
       "      <td>0</td>\n",
       "      <td>...</td>\n",
       "      <td>0.364746</td>\n",
       "      <td>0.262695</td>\n",
       "      <td>0.364258</td>\n",
       "      <td>0.252441</td>\n",
       "      <td>0.262695</td>\n",
       "      <td>0.364258</td>\n",
       "      <td>0.252441</td>\n",
       "      <td>16208.0</td>\n",
       "      <td>10528.0</td>\n",
       "      <td>11256.0</td>\n",
       "    </tr>\n",
       "  </tbody>\n",
       "</table>\n",
       "<p>5 rows × 108 columns</p>\n",
       "</div>"
      ],
      "text/plain": [
       "                  CA        TX        WI  snap_CA  snap_TX  snap_WI  \\\n",
       "date                                                                  \n",
       "2016-01-01  0.030273  0.136719  0.179688        1        1        0   \n",
       "2016-01-01  0.030273  0.136719  0.179688        1        1        0   \n",
       "2016-01-01  0.030273  0.136719  0.179688        1        1        0   \n",
       "2016-01-02  0.496094  0.368164  0.609863        1        0        1   \n",
       "2016-01-02  0.496094  0.368164  0.609863        1        0        1   \n",
       "\n",
       "            sales_price_min  sales_price_max  sales_price_mean  \\\n",
       "date                                                             \n",
       "2016-01-01         0.833496              0.0             1.000   \n",
       "2016-01-01         0.833496              0.0             0.625   \n",
       "2016-01-01         0.833496              0.0             0.000   \n",
       "2016-01-02         0.833496              0.0             0.000   \n",
       "2016-01-02         0.833496              0.0             1.000   \n",
       "\n",
       "            weekday_Friday  ...  WI_lagged_25  CA_lagged_26  TX_lagged_26  \\\n",
       "date                        ...                                             \n",
       "2016-01-01               1  ...      0.745605      0.812500      0.768555   \n",
       "2016-01-01               1  ...      0.745605      0.753906      0.687500   \n",
       "2016-01-01               1  ...      0.364746      0.753906      0.687500   \n",
       "2016-01-02               0  ...      0.364746      0.753906      0.687500   \n",
       "2016-01-02               0  ...      0.364746      0.262695      0.364258   \n",
       "\n",
       "            WI_lagged_26  CA_lagged_27  TX_lagged_27  WI_lagged_27  \\\n",
       "date                                                                 \n",
       "2016-01-01      0.745605      0.753906      0.687500      0.364746   \n",
       "2016-01-01      0.364746      0.753906      0.687500      0.364746   \n",
       "2016-01-01      0.364746      0.753906      0.687500      0.364746   \n",
       "2016-01-02      0.364746      0.262695      0.364258      0.252441   \n",
       "2016-01-02      0.252441      0.262695      0.364258      0.252441   \n",
       "\n",
       "            CA_lagged_28  TX_lagged_28  WI_lagged_28  \n",
       "date                                                  \n",
       "2016-01-01       22208.0       12632.0       12520.0  \n",
       "2016-01-01       22208.0       12632.0       12520.0  \n",
       "2016-01-01       16208.0       10528.0       11256.0  \n",
       "2016-01-02       16208.0       10528.0       11256.0  \n",
       "2016-01-02       16208.0       10528.0       11256.0  \n",
       "\n",
       "[5 rows x 108 columns]"
      ]
     },
     "execution_count": 62,
     "metadata": {},
     "output_type": "execute_result"
    }
   ],
   "source": [
    "sales_df_test[cols_to_scale] = scaler_instance.fit_transform(sales_df_test[cols_to_scale])\n",
    "sales_df_test.head()"
   ]
  },
  {
   "cell_type": "code",
   "execution_count": 63,
   "id": "aee15fda",
   "metadata": {
    "execution": {
     "iopub.execute_input": "2022-12-08T05:35:09.882564Z",
     "iopub.status.busy": "2022-12-08T05:35:09.881821Z",
     "iopub.status.idle": "2022-12-08T05:35:09.890321Z",
     "shell.execute_reply": "2022-12-08T05:35:09.888929Z"
    },
    "papermill": {
     "duration": 0.050011,
     "end_time": "2022-12-08T05:35:09.892724",
     "exception": false,
     "start_time": "2022-12-08T05:35:09.842713",
     "status": "completed"
    },
    "tags": []
   },
   "outputs": [
    {
     "data": {
      "text/plain": [
       "array(['2011-01-29T00:00:00.000000000', '2011-01-29T00:00:00.000000000',\n",
       "       '2011-01-29T00:00:00.000000000', ...,\n",
       "       '2015-12-21T00:00:00.000000000', '2015-12-22T00:00:00.000000000',\n",
       "       '2015-12-22T00:00:00.000000000'], dtype='datetime64[ns]')"
      ]
     },
     "execution_count": 63,
     "metadata": {},
     "output_type": "execute_result"
    }
   ],
   "source": [
    "sales_df_train_dates = sales_df_train.index.values\n",
    "sales_df_train_dates"
   ]
  },
  {
   "cell_type": "code",
   "execution_count": 64,
   "id": "80d30b57",
   "metadata": {
    "execution": {
     "iopub.execute_input": "2022-12-08T05:35:09.964692Z",
     "iopub.status.busy": "2022-12-08T05:35:09.964312Z",
     "iopub.status.idle": "2022-12-08T05:35:09.976989Z",
     "shell.execute_reply": "2022-12-08T05:35:09.975905Z"
    },
    "papermill": {
     "duration": 0.05151,
     "end_time": "2022-12-08T05:35:09.979345",
     "exception": false,
     "start_time": "2022-12-08T05:35:09.927835",
     "status": "completed"
    },
    "tags": []
   },
   "outputs": [
    {
     "data": {
      "text/plain": [
       "array(['2016-01-01T00:00:00.000000000', '2016-01-01T00:00:00.000000000',\n",
       "       '2016-01-01T00:00:00.000000000', '2016-01-02T00:00:00.000000000',\n",
       "       '2016-01-02T00:00:00.000000000', '2016-01-02T00:00:00.000000000',\n",
       "       '2016-01-03T00:00:00.000000000', '2016-01-03T00:00:00.000000000',\n",
       "       '2016-01-03T00:00:00.000000000', '2016-01-04T00:00:00.000000000',\n",
       "       '2016-01-04T00:00:00.000000000', '2016-01-04T00:00:00.000000000',\n",
       "       '2016-01-05T00:00:00.000000000', '2016-01-05T00:00:00.000000000',\n",
       "       '2016-01-05T00:00:00.000000000', '2016-01-06T00:00:00.000000000',\n",
       "       '2016-01-06T00:00:00.000000000', '2016-01-06T00:00:00.000000000',\n",
       "       '2016-01-07T00:00:00.000000000', '2016-01-07T00:00:00.000000000',\n",
       "       '2016-01-07T00:00:00.000000000', '2016-01-08T00:00:00.000000000',\n",
       "       '2016-01-08T00:00:00.000000000', '2016-01-08T00:00:00.000000000',\n",
       "       '2016-01-09T00:00:00.000000000', '2016-01-09T00:00:00.000000000',\n",
       "       '2016-01-09T00:00:00.000000000', '2016-01-10T00:00:00.000000000',\n",
       "       '2016-01-10T00:00:00.000000000', '2016-01-10T00:00:00.000000000',\n",
       "       '2016-01-11T00:00:00.000000000', '2016-01-11T00:00:00.000000000',\n",
       "       '2016-01-11T00:00:00.000000000', '2016-01-12T00:00:00.000000000',\n",
       "       '2016-01-12T00:00:00.000000000', '2016-01-12T00:00:00.000000000',\n",
       "       '2016-01-13T00:00:00.000000000', '2016-01-13T00:00:00.000000000',\n",
       "       '2016-01-13T00:00:00.000000000', '2016-01-14T00:00:00.000000000',\n",
       "       '2016-01-14T00:00:00.000000000', '2016-01-14T00:00:00.000000000',\n",
       "       '2016-01-15T00:00:00.000000000', '2016-01-15T00:00:00.000000000',\n",
       "       '2016-01-15T00:00:00.000000000', '2016-01-16T00:00:00.000000000',\n",
       "       '2016-01-16T00:00:00.000000000', '2016-01-16T00:00:00.000000000',\n",
       "       '2016-01-17T00:00:00.000000000', '2016-01-17T00:00:00.000000000',\n",
       "       '2016-01-17T00:00:00.000000000', '2016-01-18T00:00:00.000000000',\n",
       "       '2016-01-18T00:00:00.000000000', '2016-01-18T00:00:00.000000000',\n",
       "       '2016-01-19T00:00:00.000000000', '2016-01-19T00:00:00.000000000',\n",
       "       '2016-01-19T00:00:00.000000000', '2016-01-20T00:00:00.000000000',\n",
       "       '2016-01-20T00:00:00.000000000', '2016-01-20T00:00:00.000000000',\n",
       "       '2016-01-21T00:00:00.000000000', '2016-01-21T00:00:00.000000000',\n",
       "       '2016-01-21T00:00:00.000000000', '2016-01-22T00:00:00.000000000',\n",
       "       '2016-01-22T00:00:00.000000000', '2016-01-22T00:00:00.000000000',\n",
       "       '2016-01-23T00:00:00.000000000', '2016-01-23T00:00:00.000000000',\n",
       "       '2016-01-23T00:00:00.000000000', '2016-01-24T00:00:00.000000000',\n",
       "       '2016-01-24T00:00:00.000000000', '2016-01-24T00:00:00.000000000',\n",
       "       '2016-01-25T00:00:00.000000000', '2016-01-25T00:00:00.000000000',\n",
       "       '2016-01-25T00:00:00.000000000', '2016-01-26T00:00:00.000000000',\n",
       "       '2016-01-26T00:00:00.000000000', '2016-01-26T00:00:00.000000000',\n",
       "       '2016-01-27T00:00:00.000000000', '2016-01-27T00:00:00.000000000',\n",
       "       '2016-01-27T00:00:00.000000000', '2016-01-28T00:00:00.000000000',\n",
       "       '2016-01-28T00:00:00.000000000', '2016-01-28T00:00:00.000000000',\n",
       "       '2016-01-29T00:00:00.000000000', '2016-01-29T00:00:00.000000000',\n",
       "       '2016-01-29T00:00:00.000000000', '2016-01-30T00:00:00.000000000',\n",
       "       '2016-01-30T00:00:00.000000000', '2016-01-30T00:00:00.000000000',\n",
       "       '2016-01-31T00:00:00.000000000', '2016-01-31T00:00:00.000000000',\n",
       "       '2016-01-31T00:00:00.000000000', '2016-02-01T00:00:00.000000000',\n",
       "       '2016-02-01T00:00:00.000000000', '2016-02-01T00:00:00.000000000',\n",
       "       '2016-02-02T00:00:00.000000000', '2016-02-02T00:00:00.000000000',\n",
       "       '2016-02-02T00:00:00.000000000', '2016-02-03T00:00:00.000000000',\n",
       "       '2016-02-03T00:00:00.000000000', '2016-02-03T00:00:00.000000000',\n",
       "       '2016-02-04T00:00:00.000000000', '2016-02-04T00:00:00.000000000',\n",
       "       '2016-02-04T00:00:00.000000000', '2016-02-05T00:00:00.000000000',\n",
       "       '2016-02-05T00:00:00.000000000', '2016-02-05T00:00:00.000000000',\n",
       "       '2016-02-06T00:00:00.000000000', '2016-02-06T00:00:00.000000000',\n",
       "       '2016-02-06T00:00:00.000000000', '2016-02-07T00:00:00.000000000',\n",
       "       '2016-02-07T00:00:00.000000000', '2016-02-07T00:00:00.000000000',\n",
       "       '2016-02-08T00:00:00.000000000', '2016-02-08T00:00:00.000000000',\n",
       "       '2016-02-08T00:00:00.000000000', '2016-02-09T00:00:00.000000000',\n",
       "       '2016-02-09T00:00:00.000000000', '2016-02-09T00:00:00.000000000',\n",
       "       '2016-02-10T00:00:00.000000000', '2016-02-10T00:00:00.000000000',\n",
       "       '2016-02-10T00:00:00.000000000', '2016-02-11T00:00:00.000000000',\n",
       "       '2016-02-11T00:00:00.000000000', '2016-02-11T00:00:00.000000000',\n",
       "       '2016-02-12T00:00:00.000000000', '2016-02-12T00:00:00.000000000',\n",
       "       '2016-02-12T00:00:00.000000000', '2016-02-13T00:00:00.000000000',\n",
       "       '2016-02-13T00:00:00.000000000', '2016-02-13T00:00:00.000000000',\n",
       "       '2016-02-14T00:00:00.000000000', '2016-02-14T00:00:00.000000000',\n",
       "       '2016-02-14T00:00:00.000000000', '2016-02-15T00:00:00.000000000',\n",
       "       '2016-02-15T00:00:00.000000000', '2016-02-15T00:00:00.000000000',\n",
       "       '2016-02-16T00:00:00.000000000', '2016-02-16T00:00:00.000000000',\n",
       "       '2016-02-16T00:00:00.000000000', '2016-02-17T00:00:00.000000000',\n",
       "       '2016-02-17T00:00:00.000000000', '2016-02-17T00:00:00.000000000',\n",
       "       '2016-02-18T00:00:00.000000000', '2016-02-18T00:00:00.000000000',\n",
       "       '2016-02-18T00:00:00.000000000', '2016-02-19T00:00:00.000000000',\n",
       "       '2016-02-19T00:00:00.000000000', '2016-02-19T00:00:00.000000000',\n",
       "       '2016-02-20T00:00:00.000000000', '2016-02-20T00:00:00.000000000',\n",
       "       '2016-02-20T00:00:00.000000000', '2016-02-21T00:00:00.000000000',\n",
       "       '2016-02-21T00:00:00.000000000', '2016-02-21T00:00:00.000000000',\n",
       "       '2016-02-22T00:00:00.000000000', '2016-02-22T00:00:00.000000000',\n",
       "       '2016-02-22T00:00:00.000000000', '2016-02-23T00:00:00.000000000',\n",
       "       '2016-02-23T00:00:00.000000000', '2016-02-23T00:00:00.000000000',\n",
       "       '2016-02-24T00:00:00.000000000', '2016-02-24T00:00:00.000000000',\n",
       "       '2016-02-24T00:00:00.000000000', '2016-02-25T00:00:00.000000000',\n",
       "       '2016-02-25T00:00:00.000000000', '2016-02-25T00:00:00.000000000',\n",
       "       '2016-02-26T00:00:00.000000000', '2016-02-26T00:00:00.000000000',\n",
       "       '2016-02-26T00:00:00.000000000', '2016-02-27T00:00:00.000000000',\n",
       "       '2016-02-27T00:00:00.000000000', '2016-02-27T00:00:00.000000000',\n",
       "       '2016-02-28T00:00:00.000000000', '2016-02-28T00:00:00.000000000',\n",
       "       '2016-02-28T00:00:00.000000000', '2016-02-29T00:00:00.000000000',\n",
       "       '2016-02-29T00:00:00.000000000', '2016-02-29T00:00:00.000000000',\n",
       "       '2016-03-01T00:00:00.000000000', '2016-03-01T00:00:00.000000000',\n",
       "       '2016-03-01T00:00:00.000000000', '2016-03-02T00:00:00.000000000',\n",
       "       '2016-03-02T00:00:00.000000000', '2016-03-02T00:00:00.000000000',\n",
       "       '2016-03-03T00:00:00.000000000', '2016-03-03T00:00:00.000000000',\n",
       "       '2016-03-03T00:00:00.000000000', '2016-03-04T00:00:00.000000000',\n",
       "       '2016-03-04T00:00:00.000000000', '2016-03-04T00:00:00.000000000',\n",
       "       '2016-03-05T00:00:00.000000000', '2016-03-05T00:00:00.000000000',\n",
       "       '2016-03-05T00:00:00.000000000', '2016-03-06T00:00:00.000000000',\n",
       "       '2016-03-06T00:00:00.000000000', '2016-03-06T00:00:00.000000000',\n",
       "       '2016-03-07T00:00:00.000000000', '2016-03-07T00:00:00.000000000',\n",
       "       '2016-03-07T00:00:00.000000000', '2016-03-08T00:00:00.000000000',\n",
       "       '2016-03-08T00:00:00.000000000', '2016-03-08T00:00:00.000000000',\n",
       "       '2016-03-09T00:00:00.000000000', '2016-03-09T00:00:00.000000000',\n",
       "       '2016-03-09T00:00:00.000000000', '2016-03-10T00:00:00.000000000',\n",
       "       '2016-03-10T00:00:00.000000000', '2016-03-10T00:00:00.000000000',\n",
       "       '2016-03-11T00:00:00.000000000', '2016-03-11T00:00:00.000000000',\n",
       "       '2016-03-11T00:00:00.000000000', '2016-03-12T00:00:00.000000000',\n",
       "       '2016-03-12T00:00:00.000000000', '2016-03-12T00:00:00.000000000',\n",
       "       '2016-03-13T00:00:00.000000000', '2016-03-13T00:00:00.000000000',\n",
       "       '2016-03-13T00:00:00.000000000', '2016-03-14T00:00:00.000000000',\n",
       "       '2016-03-14T00:00:00.000000000', '2016-03-14T00:00:00.000000000',\n",
       "       '2016-03-15T00:00:00.000000000', '2016-03-15T00:00:00.000000000',\n",
       "       '2016-03-15T00:00:00.000000000', '2016-03-16T00:00:00.000000000',\n",
       "       '2016-03-16T00:00:00.000000000', '2016-03-16T00:00:00.000000000',\n",
       "       '2016-03-17T00:00:00.000000000', '2016-03-17T00:00:00.000000000',\n",
       "       '2016-03-17T00:00:00.000000000', '2016-03-18T00:00:00.000000000',\n",
       "       '2016-03-18T00:00:00.000000000', '2016-03-18T00:00:00.000000000',\n",
       "       '2016-03-19T00:00:00.000000000', '2016-03-19T00:00:00.000000000',\n",
       "       '2016-03-19T00:00:00.000000000', '2016-03-20T00:00:00.000000000',\n",
       "       '2016-03-20T00:00:00.000000000', '2016-03-20T00:00:00.000000000',\n",
       "       '2016-03-21T00:00:00.000000000', '2016-03-21T00:00:00.000000000',\n",
       "       '2016-03-21T00:00:00.000000000', '2016-03-22T00:00:00.000000000',\n",
       "       '2016-03-22T00:00:00.000000000', '2016-03-22T00:00:00.000000000',\n",
       "       '2016-03-23T00:00:00.000000000', '2016-03-23T00:00:00.000000000',\n",
       "       '2016-03-23T00:00:00.000000000', '2016-03-24T00:00:00.000000000',\n",
       "       '2016-03-24T00:00:00.000000000', '2016-03-24T00:00:00.000000000',\n",
       "       '2016-03-25T00:00:00.000000000', '2016-03-25T00:00:00.000000000',\n",
       "       '2016-03-25T00:00:00.000000000', '2016-03-26T00:00:00.000000000',\n",
       "       '2016-03-26T00:00:00.000000000', '2016-03-26T00:00:00.000000000',\n",
       "       '2016-03-27T00:00:00.000000000', '2016-03-27T00:00:00.000000000',\n",
       "       '2016-03-27T00:00:00.000000000', '2016-03-28T00:00:00.000000000',\n",
       "       '2016-03-28T00:00:00.000000000', '2016-03-28T00:00:00.000000000',\n",
       "       '2016-03-29T00:00:00.000000000', '2016-03-29T00:00:00.000000000',\n",
       "       '2016-03-29T00:00:00.000000000', '2016-03-30T00:00:00.000000000',\n",
       "       '2016-03-30T00:00:00.000000000', '2016-03-30T00:00:00.000000000',\n",
       "       '2016-03-31T00:00:00.000000000', '2016-03-31T00:00:00.000000000',\n",
       "       '2016-03-31T00:00:00.000000000', '2016-04-01T00:00:00.000000000',\n",
       "       '2016-04-01T00:00:00.000000000', '2016-04-01T00:00:00.000000000',\n",
       "       '2016-04-02T00:00:00.000000000', '2016-04-02T00:00:00.000000000',\n",
       "       '2016-04-02T00:00:00.000000000', '2016-04-03T00:00:00.000000000',\n",
       "       '2016-04-03T00:00:00.000000000', '2016-04-03T00:00:00.000000000',\n",
       "       '2016-04-04T00:00:00.000000000', '2016-04-04T00:00:00.000000000',\n",
       "       '2016-04-04T00:00:00.000000000', '2016-04-05T00:00:00.000000000',\n",
       "       '2016-04-05T00:00:00.000000000', '2016-04-05T00:00:00.000000000',\n",
       "       '2016-04-06T00:00:00.000000000', '2016-04-06T00:00:00.000000000',\n",
       "       '2016-04-06T00:00:00.000000000', '2016-04-07T00:00:00.000000000',\n",
       "       '2016-04-07T00:00:00.000000000', '2016-04-07T00:00:00.000000000',\n",
       "       '2016-04-08T00:00:00.000000000', '2016-04-08T00:00:00.000000000',\n",
       "       '2016-04-08T00:00:00.000000000', '2016-04-09T00:00:00.000000000',\n",
       "       '2016-04-09T00:00:00.000000000', '2016-04-09T00:00:00.000000000',\n",
       "       '2016-04-10T00:00:00.000000000', '2016-04-10T00:00:00.000000000',\n",
       "       '2016-04-10T00:00:00.000000000', '2016-04-11T00:00:00.000000000',\n",
       "       '2016-04-11T00:00:00.000000000', '2016-04-11T00:00:00.000000000',\n",
       "       '2016-04-12T00:00:00.000000000', '2016-04-12T00:00:00.000000000',\n",
       "       '2016-04-12T00:00:00.000000000', '2016-04-13T00:00:00.000000000',\n",
       "       '2016-04-13T00:00:00.000000000', '2016-04-13T00:00:00.000000000',\n",
       "       '2016-04-14T00:00:00.000000000', '2016-04-14T00:00:00.000000000',\n",
       "       '2016-04-14T00:00:00.000000000', '2016-04-15T00:00:00.000000000',\n",
       "       '2016-04-15T00:00:00.000000000'], dtype='datetime64[ns]')"
      ]
     },
     "execution_count": 64,
     "metadata": {},
     "output_type": "execute_result"
    }
   ],
   "source": [
    "sales_df_test_dates = sales_df_test.index.values\n",
    "sales_df_test_dates"
   ]
  },
  {
   "cell_type": "markdown",
   "id": "f3b9d11a",
   "metadata": {
    "papermill": {
     "duration": 0.034686,
     "end_time": "2022-12-08T05:35:10.049135",
     "exception": false,
     "start_time": "2022-12-08T05:35:10.014449",
     "status": "completed"
    },
    "tags": []
   },
   "source": [
    "## Drop Date Index"
   ]
  },
  {
   "cell_type": "code",
   "execution_count": 65,
   "id": "00870132",
   "metadata": {
    "execution": {
     "iopub.execute_input": "2022-12-08T05:35:10.121534Z",
     "iopub.status.busy": "2022-12-08T05:35:10.120449Z",
     "iopub.status.idle": "2022-12-08T05:35:10.149470Z",
     "shell.execute_reply": "2022-12-08T05:35:10.148338Z"
    },
    "papermill": {
     "duration": 0.067529,
     "end_time": "2022-12-08T05:35:10.151822",
     "exception": false,
     "start_time": "2022-12-08T05:35:10.084293",
     "status": "completed"
    },
    "tags": []
   },
   "outputs": [
    {
     "data": {
      "text/html": [
       "<div>\n",
       "<style scoped>\n",
       "    .dataframe tbody tr th:only-of-type {\n",
       "        vertical-align: middle;\n",
       "    }\n",
       "\n",
       "    .dataframe tbody tr th {\n",
       "        vertical-align: top;\n",
       "    }\n",
       "\n",
       "    .dataframe thead th {\n",
       "        text-align: right;\n",
       "    }\n",
       "</style>\n",
       "<table border=\"1\" class=\"dataframe\">\n",
       "  <thead>\n",
       "    <tr style=\"text-align: right;\">\n",
       "      <th></th>\n",
       "      <th>date</th>\n",
       "      <th>CA</th>\n",
       "      <th>TX</th>\n",
       "      <th>WI</th>\n",
       "      <th>snap_CA</th>\n",
       "      <th>snap_TX</th>\n",
       "      <th>snap_WI</th>\n",
       "      <th>sales_price_min</th>\n",
       "      <th>sales_price_max</th>\n",
       "      <th>sales_price_mean</th>\n",
       "      <th>...</th>\n",
       "      <th>WI_lagged_25</th>\n",
       "      <th>CA_lagged_26</th>\n",
       "      <th>TX_lagged_26</th>\n",
       "      <th>WI_lagged_26</th>\n",
       "      <th>CA_lagged_27</th>\n",
       "      <th>TX_lagged_27</th>\n",
       "      <th>WI_lagged_27</th>\n",
       "      <th>CA_lagged_28</th>\n",
       "      <th>TX_lagged_28</th>\n",
       "      <th>WI_lagged_28</th>\n",
       "    </tr>\n",
       "  </thead>\n",
       "  <tbody>\n",
       "    <tr>\n",
       "      <th>0</th>\n",
       "      <td>2011-01-29</td>\n",
       "      <td>0.573730</td>\n",
       "      <td>0.503418</td>\n",
       "      <td>0.50000</td>\n",
       "      <td>0</td>\n",
       "      <td>0</td>\n",
       "      <td>0</td>\n",
       "      <td>1.0</td>\n",
       "      <td>0.0</td>\n",
       "      <td>0.230469</td>\n",
       "      <td>...</td>\n",
       "      <td>0.481201</td>\n",
       "      <td>0.593750</td>\n",
       "      <td>0.500000</td>\n",
       "      <td>0.481201</td>\n",
       "      <td>0.477539</td>\n",
       "      <td>0.390381</td>\n",
       "      <td>0.357422</td>\n",
       "      <td>11824.0</td>\n",
       "      <td>7320.0</td>\n",
       "      <td>6432.0</td>\n",
       "    </tr>\n",
       "    <tr>\n",
       "      <th>1</th>\n",
       "      <td>2011-01-29</td>\n",
       "      <td>0.573730</td>\n",
       "      <td>0.503418</td>\n",
       "      <td>0.50000</td>\n",
       "      <td>0</td>\n",
       "      <td>0</td>\n",
       "      <td>0</td>\n",
       "      <td>1.0</td>\n",
       "      <td>0.0</td>\n",
       "      <td>0.000000</td>\n",
       "      <td>...</td>\n",
       "      <td>0.481201</td>\n",
       "      <td>0.477539</td>\n",
       "      <td>0.390381</td>\n",
       "      <td>0.357422</td>\n",
       "      <td>0.477539</td>\n",
       "      <td>0.390381</td>\n",
       "      <td>0.357422</td>\n",
       "      <td>11824.0</td>\n",
       "      <td>7320.0</td>\n",
       "      <td>6432.0</td>\n",
       "    </tr>\n",
       "    <tr>\n",
       "      <th>2</th>\n",
       "      <td>2011-01-29</td>\n",
       "      <td>0.573730</td>\n",
       "      <td>0.503418</td>\n",
       "      <td>0.50000</td>\n",
       "      <td>0</td>\n",
       "      <td>0</td>\n",
       "      <td>0</td>\n",
       "      <td>1.0</td>\n",
       "      <td>0.0</td>\n",
       "      <td>0.230469</td>\n",
       "      <td>...</td>\n",
       "      <td>0.357422</td>\n",
       "      <td>0.477539</td>\n",
       "      <td>0.390381</td>\n",
       "      <td>0.357422</td>\n",
       "      <td>0.477539</td>\n",
       "      <td>0.390381</td>\n",
       "      <td>0.357422</td>\n",
       "      <td>10936.0</td>\n",
       "      <td>6224.0</td>\n",
       "      <td>5912.0</td>\n",
       "    </tr>\n",
       "    <tr>\n",
       "      <th>3</th>\n",
       "      <td>2011-01-30</td>\n",
       "      <td>0.558105</td>\n",
       "      <td>0.513672</td>\n",
       "      <td>0.46167</td>\n",
       "      <td>0</td>\n",
       "      <td>0</td>\n",
       "      <td>0</td>\n",
       "      <td>1.0</td>\n",
       "      <td>0.0</td>\n",
       "      <td>0.230469</td>\n",
       "      <td>...</td>\n",
       "      <td>0.357422</td>\n",
       "      <td>0.477539</td>\n",
       "      <td>0.390381</td>\n",
       "      <td>0.357422</td>\n",
       "      <td>0.441650</td>\n",
       "      <td>0.332031</td>\n",
       "      <td>0.328369</td>\n",
       "      <td>10936.0</td>\n",
       "      <td>6224.0</td>\n",
       "      <td>5912.0</td>\n",
       "    </tr>\n",
       "    <tr>\n",
       "      <th>4</th>\n",
       "      <td>2011-01-30</td>\n",
       "      <td>0.558105</td>\n",
       "      <td>0.513672</td>\n",
       "      <td>0.46167</td>\n",
       "      <td>0</td>\n",
       "      <td>0</td>\n",
       "      <td>0</td>\n",
       "      <td>1.0</td>\n",
       "      <td>0.0</td>\n",
       "      <td>0.000000</td>\n",
       "      <td>...</td>\n",
       "      <td>0.357422</td>\n",
       "      <td>0.441650</td>\n",
       "      <td>0.332031</td>\n",
       "      <td>0.328369</td>\n",
       "      <td>0.441650</td>\n",
       "      <td>0.332031</td>\n",
       "      <td>0.328369</td>\n",
       "      <td>10936.0</td>\n",
       "      <td>6224.0</td>\n",
       "      <td>5912.0</td>\n",
       "    </tr>\n",
       "  </tbody>\n",
       "</table>\n",
       "<p>5 rows × 109 columns</p>\n",
       "</div>"
      ],
      "text/plain": [
       "        date        CA        TX       WI  snap_CA  snap_TX  snap_WI  \\\n",
       "0 2011-01-29  0.573730  0.503418  0.50000        0        0        0   \n",
       "1 2011-01-29  0.573730  0.503418  0.50000        0        0        0   \n",
       "2 2011-01-29  0.573730  0.503418  0.50000        0        0        0   \n",
       "3 2011-01-30  0.558105  0.513672  0.46167        0        0        0   \n",
       "4 2011-01-30  0.558105  0.513672  0.46167        0        0        0   \n",
       "\n",
       "   sales_price_min  sales_price_max  sales_price_mean  ...  WI_lagged_25  \\\n",
       "0              1.0              0.0          0.230469  ...      0.481201   \n",
       "1              1.0              0.0          0.000000  ...      0.481201   \n",
       "2              1.0              0.0          0.230469  ...      0.357422   \n",
       "3              1.0              0.0          0.230469  ...      0.357422   \n",
       "4              1.0              0.0          0.000000  ...      0.357422   \n",
       "\n",
       "   CA_lagged_26  TX_lagged_26  WI_lagged_26  CA_lagged_27  TX_lagged_27  \\\n",
       "0      0.593750      0.500000      0.481201      0.477539      0.390381   \n",
       "1      0.477539      0.390381      0.357422      0.477539      0.390381   \n",
       "2      0.477539      0.390381      0.357422      0.477539      0.390381   \n",
       "3      0.477539      0.390381      0.357422      0.441650      0.332031   \n",
       "4      0.441650      0.332031      0.328369      0.441650      0.332031   \n",
       "\n",
       "   WI_lagged_27  CA_lagged_28  TX_lagged_28  WI_lagged_28  \n",
       "0      0.357422       11824.0        7320.0        6432.0  \n",
       "1      0.357422       11824.0        7320.0        6432.0  \n",
       "2      0.357422       10936.0        6224.0        5912.0  \n",
       "3      0.328369       10936.0        6224.0        5912.0  \n",
       "4      0.328369       10936.0        6224.0        5912.0  \n",
       "\n",
       "[5 rows x 109 columns]"
      ]
     },
     "execution_count": 65,
     "metadata": {},
     "output_type": "execute_result"
    }
   ],
   "source": [
    "sales_df_train.reset_index(inplace = True)\n",
    "sales_df_train.head()"
   ]
  },
  {
   "cell_type": "code",
   "execution_count": 66,
   "id": "307518ca",
   "metadata": {
    "execution": {
     "iopub.execute_input": "2022-12-08T05:35:10.225528Z",
     "iopub.status.busy": "2022-12-08T05:35:10.225071Z",
     "iopub.status.idle": "2022-12-08T05:35:10.257669Z",
     "shell.execute_reply": "2022-12-08T05:35:10.256132Z"
    },
    "papermill": {
     "duration": 0.07195,
     "end_time": "2022-12-08T05:35:10.259966",
     "exception": false,
     "start_time": "2022-12-08T05:35:10.188016",
     "status": "completed"
    },
    "tags": []
   },
   "outputs": [
    {
     "name": "stderr",
     "output_type": "stream",
     "text": [
      "/opt/conda/lib/python3.7/site-packages/pandas/core/frame.py:4913: SettingWithCopyWarning: \n",
      "A value is trying to be set on a copy of a slice from a DataFrame\n",
      "\n",
      "See the caveats in the documentation: https://pandas.pydata.org/pandas-docs/stable/user_guide/indexing.html#returning-a-view-versus-a-copy\n",
      "  errors=errors,\n"
     ]
    },
    {
     "data": {
      "text/html": [
       "<div>\n",
       "<style scoped>\n",
       "    .dataframe tbody tr th:only-of-type {\n",
       "        vertical-align: middle;\n",
       "    }\n",
       "\n",
       "    .dataframe tbody tr th {\n",
       "        vertical-align: top;\n",
       "    }\n",
       "\n",
       "    .dataframe thead th {\n",
       "        text-align: right;\n",
       "    }\n",
       "</style>\n",
       "<table border=\"1\" class=\"dataframe\">\n",
       "  <thead>\n",
       "    <tr style=\"text-align: right;\">\n",
       "      <th></th>\n",
       "      <th>CA</th>\n",
       "      <th>TX</th>\n",
       "      <th>WI</th>\n",
       "      <th>snap_CA</th>\n",
       "      <th>snap_TX</th>\n",
       "      <th>snap_WI</th>\n",
       "      <th>sales_price_min</th>\n",
       "      <th>sales_price_max</th>\n",
       "      <th>sales_price_mean</th>\n",
       "      <th>weekday_Friday</th>\n",
       "      <th>...</th>\n",
       "      <th>WI_lagged_25</th>\n",
       "      <th>CA_lagged_26</th>\n",
       "      <th>TX_lagged_26</th>\n",
       "      <th>WI_lagged_26</th>\n",
       "      <th>CA_lagged_27</th>\n",
       "      <th>TX_lagged_27</th>\n",
       "      <th>WI_lagged_27</th>\n",
       "      <th>CA_lagged_28</th>\n",
       "      <th>TX_lagged_28</th>\n",
       "      <th>WI_lagged_28</th>\n",
       "    </tr>\n",
       "  </thead>\n",
       "  <tbody>\n",
       "    <tr>\n",
       "      <th>0</th>\n",
       "      <td>0.573730</td>\n",
       "      <td>0.503418</td>\n",
       "      <td>0.50000</td>\n",
       "      <td>0</td>\n",
       "      <td>0</td>\n",
       "      <td>0</td>\n",
       "      <td>1.0</td>\n",
       "      <td>0.0</td>\n",
       "      <td>0.230469</td>\n",
       "      <td>0</td>\n",
       "      <td>...</td>\n",
       "      <td>0.481201</td>\n",
       "      <td>0.593750</td>\n",
       "      <td>0.500000</td>\n",
       "      <td>0.481201</td>\n",
       "      <td>0.477539</td>\n",
       "      <td>0.390381</td>\n",
       "      <td>0.357422</td>\n",
       "      <td>11824.0</td>\n",
       "      <td>7320.0</td>\n",
       "      <td>6432.0</td>\n",
       "    </tr>\n",
       "    <tr>\n",
       "      <th>1</th>\n",
       "      <td>0.573730</td>\n",
       "      <td>0.503418</td>\n",
       "      <td>0.50000</td>\n",
       "      <td>0</td>\n",
       "      <td>0</td>\n",
       "      <td>0</td>\n",
       "      <td>1.0</td>\n",
       "      <td>0.0</td>\n",
       "      <td>0.000000</td>\n",
       "      <td>0</td>\n",
       "      <td>...</td>\n",
       "      <td>0.481201</td>\n",
       "      <td>0.477539</td>\n",
       "      <td>0.390381</td>\n",
       "      <td>0.357422</td>\n",
       "      <td>0.477539</td>\n",
       "      <td>0.390381</td>\n",
       "      <td>0.357422</td>\n",
       "      <td>11824.0</td>\n",
       "      <td>7320.0</td>\n",
       "      <td>6432.0</td>\n",
       "    </tr>\n",
       "    <tr>\n",
       "      <th>2</th>\n",
       "      <td>0.573730</td>\n",
       "      <td>0.503418</td>\n",
       "      <td>0.50000</td>\n",
       "      <td>0</td>\n",
       "      <td>0</td>\n",
       "      <td>0</td>\n",
       "      <td>1.0</td>\n",
       "      <td>0.0</td>\n",
       "      <td>0.230469</td>\n",
       "      <td>0</td>\n",
       "      <td>...</td>\n",
       "      <td>0.357422</td>\n",
       "      <td>0.477539</td>\n",
       "      <td>0.390381</td>\n",
       "      <td>0.357422</td>\n",
       "      <td>0.477539</td>\n",
       "      <td>0.390381</td>\n",
       "      <td>0.357422</td>\n",
       "      <td>10936.0</td>\n",
       "      <td>6224.0</td>\n",
       "      <td>5912.0</td>\n",
       "    </tr>\n",
       "    <tr>\n",
       "      <th>3</th>\n",
       "      <td>0.558105</td>\n",
       "      <td>0.513672</td>\n",
       "      <td>0.46167</td>\n",
       "      <td>0</td>\n",
       "      <td>0</td>\n",
       "      <td>0</td>\n",
       "      <td>1.0</td>\n",
       "      <td>0.0</td>\n",
       "      <td>0.230469</td>\n",
       "      <td>0</td>\n",
       "      <td>...</td>\n",
       "      <td>0.357422</td>\n",
       "      <td>0.477539</td>\n",
       "      <td>0.390381</td>\n",
       "      <td>0.357422</td>\n",
       "      <td>0.441650</td>\n",
       "      <td>0.332031</td>\n",
       "      <td>0.328369</td>\n",
       "      <td>10936.0</td>\n",
       "      <td>6224.0</td>\n",
       "      <td>5912.0</td>\n",
       "    </tr>\n",
       "    <tr>\n",
       "      <th>4</th>\n",
       "      <td>0.558105</td>\n",
       "      <td>0.513672</td>\n",
       "      <td>0.46167</td>\n",
       "      <td>0</td>\n",
       "      <td>0</td>\n",
       "      <td>0</td>\n",
       "      <td>1.0</td>\n",
       "      <td>0.0</td>\n",
       "      <td>0.000000</td>\n",
       "      <td>0</td>\n",
       "      <td>...</td>\n",
       "      <td>0.357422</td>\n",
       "      <td>0.441650</td>\n",
       "      <td>0.332031</td>\n",
       "      <td>0.328369</td>\n",
       "      <td>0.441650</td>\n",
       "      <td>0.332031</td>\n",
       "      <td>0.328369</td>\n",
       "      <td>10936.0</td>\n",
       "      <td>6224.0</td>\n",
       "      <td>5912.0</td>\n",
       "    </tr>\n",
       "  </tbody>\n",
       "</table>\n",
       "<p>5 rows × 108 columns</p>\n",
       "</div>"
      ],
      "text/plain": [
       "         CA        TX       WI  snap_CA  snap_TX  snap_WI  sales_price_min  \\\n",
       "0  0.573730  0.503418  0.50000        0        0        0              1.0   \n",
       "1  0.573730  0.503418  0.50000        0        0        0              1.0   \n",
       "2  0.573730  0.503418  0.50000        0        0        0              1.0   \n",
       "3  0.558105  0.513672  0.46167        0        0        0              1.0   \n",
       "4  0.558105  0.513672  0.46167        0        0        0              1.0   \n",
       "\n",
       "   sales_price_max  sales_price_mean  weekday_Friday  ...  WI_lagged_25  \\\n",
       "0              0.0          0.230469               0  ...      0.481201   \n",
       "1              0.0          0.000000               0  ...      0.481201   \n",
       "2              0.0          0.230469               0  ...      0.357422   \n",
       "3              0.0          0.230469               0  ...      0.357422   \n",
       "4              0.0          0.000000               0  ...      0.357422   \n",
       "\n",
       "   CA_lagged_26  TX_lagged_26  WI_lagged_26  CA_lagged_27  TX_lagged_27  \\\n",
       "0      0.593750      0.500000      0.481201      0.477539      0.390381   \n",
       "1      0.477539      0.390381      0.357422      0.477539      0.390381   \n",
       "2      0.477539      0.390381      0.357422      0.477539      0.390381   \n",
       "3      0.477539      0.390381      0.357422      0.441650      0.332031   \n",
       "4      0.441650      0.332031      0.328369      0.441650      0.332031   \n",
       "\n",
       "   WI_lagged_27  CA_lagged_28  TX_lagged_28  WI_lagged_28  \n",
       "0      0.357422       11824.0        7320.0        6432.0  \n",
       "1      0.357422       11824.0        7320.0        6432.0  \n",
       "2      0.357422       10936.0        6224.0        5912.0  \n",
       "3      0.328369       10936.0        6224.0        5912.0  \n",
       "4      0.328369       10936.0        6224.0        5912.0  \n",
       "\n",
       "[5 rows x 108 columns]"
      ]
     },
     "execution_count": 66,
     "metadata": {},
     "output_type": "execute_result"
    }
   ],
   "source": [
    "sales_df_train.drop(['date'], axis = 1, inplace = True)\n",
    "sales_df_train.head()"
   ]
  },
  {
   "cell_type": "code",
   "execution_count": 67,
   "id": "82bd5f68",
   "metadata": {
    "execution": {
     "iopub.execute_input": "2022-12-08T05:35:10.334244Z",
     "iopub.status.busy": "2022-12-08T05:35:10.333122Z",
     "iopub.status.idle": "2022-12-08T05:35:10.361618Z",
     "shell.execute_reply": "2022-12-08T05:35:10.360808Z"
    },
    "papermill": {
     "duration": 0.067522,
     "end_time": "2022-12-08T05:35:10.363617",
     "exception": false,
     "start_time": "2022-12-08T05:35:10.296095",
     "status": "completed"
    },
    "tags": []
   },
   "outputs": [
    {
     "data": {
      "text/html": [
       "<div>\n",
       "<style scoped>\n",
       "    .dataframe tbody tr th:only-of-type {\n",
       "        vertical-align: middle;\n",
       "    }\n",
       "\n",
       "    .dataframe tbody tr th {\n",
       "        vertical-align: top;\n",
       "    }\n",
       "\n",
       "    .dataframe thead th {\n",
       "        text-align: right;\n",
       "    }\n",
       "</style>\n",
       "<table border=\"1\" class=\"dataframe\">\n",
       "  <thead>\n",
       "    <tr style=\"text-align: right;\">\n",
       "      <th></th>\n",
       "      <th>CA</th>\n",
       "      <th>TX</th>\n",
       "      <th>WI</th>\n",
       "      <th>snap_CA</th>\n",
       "      <th>snap_TX</th>\n",
       "      <th>snap_WI</th>\n",
       "      <th>sales_price_min</th>\n",
       "      <th>sales_price_max</th>\n",
       "      <th>sales_price_mean</th>\n",
       "      <th>weekday_Friday</th>\n",
       "      <th>...</th>\n",
       "      <th>WI_lagged_25</th>\n",
       "      <th>CA_lagged_26</th>\n",
       "      <th>TX_lagged_26</th>\n",
       "      <th>WI_lagged_26</th>\n",
       "      <th>CA_lagged_27</th>\n",
       "      <th>TX_lagged_27</th>\n",
       "      <th>WI_lagged_27</th>\n",
       "      <th>CA_lagged_28</th>\n",
       "      <th>TX_lagged_28</th>\n",
       "      <th>WI_lagged_28</th>\n",
       "    </tr>\n",
       "  </thead>\n",
       "  <tbody>\n",
       "    <tr>\n",
       "      <th>0</th>\n",
       "      <td>0.030273</td>\n",
       "      <td>0.136719</td>\n",
       "      <td>0.179688</td>\n",
       "      <td>1</td>\n",
       "      <td>1</td>\n",
       "      <td>0</td>\n",
       "      <td>0.833496</td>\n",
       "      <td>0.0</td>\n",
       "      <td>1.000</td>\n",
       "      <td>1</td>\n",
       "      <td>...</td>\n",
       "      <td>0.745605</td>\n",
       "      <td>0.812500</td>\n",
       "      <td>0.768555</td>\n",
       "      <td>0.745605</td>\n",
       "      <td>0.753906</td>\n",
       "      <td>0.687500</td>\n",
       "      <td>0.364746</td>\n",
       "      <td>22208.0</td>\n",
       "      <td>12632.0</td>\n",
       "      <td>12520.0</td>\n",
       "    </tr>\n",
       "    <tr>\n",
       "      <th>1</th>\n",
       "      <td>0.030273</td>\n",
       "      <td>0.136719</td>\n",
       "      <td>0.179688</td>\n",
       "      <td>1</td>\n",
       "      <td>1</td>\n",
       "      <td>0</td>\n",
       "      <td>0.833496</td>\n",
       "      <td>0.0</td>\n",
       "      <td>0.625</td>\n",
       "      <td>1</td>\n",
       "      <td>...</td>\n",
       "      <td>0.745605</td>\n",
       "      <td>0.753906</td>\n",
       "      <td>0.687500</td>\n",
       "      <td>0.364746</td>\n",
       "      <td>0.753906</td>\n",
       "      <td>0.687500</td>\n",
       "      <td>0.364746</td>\n",
       "      <td>22208.0</td>\n",
       "      <td>12632.0</td>\n",
       "      <td>12520.0</td>\n",
       "    </tr>\n",
       "    <tr>\n",
       "      <th>2</th>\n",
       "      <td>0.030273</td>\n",
       "      <td>0.136719</td>\n",
       "      <td>0.179688</td>\n",
       "      <td>1</td>\n",
       "      <td>1</td>\n",
       "      <td>0</td>\n",
       "      <td>0.833496</td>\n",
       "      <td>0.0</td>\n",
       "      <td>0.000</td>\n",
       "      <td>1</td>\n",
       "      <td>...</td>\n",
       "      <td>0.364746</td>\n",
       "      <td>0.753906</td>\n",
       "      <td>0.687500</td>\n",
       "      <td>0.364746</td>\n",
       "      <td>0.753906</td>\n",
       "      <td>0.687500</td>\n",
       "      <td>0.364746</td>\n",
       "      <td>16208.0</td>\n",
       "      <td>10528.0</td>\n",
       "      <td>11256.0</td>\n",
       "    </tr>\n",
       "    <tr>\n",
       "      <th>3</th>\n",
       "      <td>0.496094</td>\n",
       "      <td>0.368164</td>\n",
       "      <td>0.609863</td>\n",
       "      <td>1</td>\n",
       "      <td>0</td>\n",
       "      <td>1</td>\n",
       "      <td>0.833496</td>\n",
       "      <td>0.0</td>\n",
       "      <td>0.000</td>\n",
       "      <td>0</td>\n",
       "      <td>...</td>\n",
       "      <td>0.364746</td>\n",
       "      <td>0.753906</td>\n",
       "      <td>0.687500</td>\n",
       "      <td>0.364746</td>\n",
       "      <td>0.262695</td>\n",
       "      <td>0.364258</td>\n",
       "      <td>0.252441</td>\n",
       "      <td>16208.0</td>\n",
       "      <td>10528.0</td>\n",
       "      <td>11256.0</td>\n",
       "    </tr>\n",
       "    <tr>\n",
       "      <th>4</th>\n",
       "      <td>0.496094</td>\n",
       "      <td>0.368164</td>\n",
       "      <td>0.609863</td>\n",
       "      <td>1</td>\n",
       "      <td>0</td>\n",
       "      <td>1</td>\n",
       "      <td>0.833496</td>\n",
       "      <td>0.0</td>\n",
       "      <td>1.000</td>\n",
       "      <td>0</td>\n",
       "      <td>...</td>\n",
       "      <td>0.364746</td>\n",
       "      <td>0.262695</td>\n",
       "      <td>0.364258</td>\n",
       "      <td>0.252441</td>\n",
       "      <td>0.262695</td>\n",
       "      <td>0.364258</td>\n",
       "      <td>0.252441</td>\n",
       "      <td>16208.0</td>\n",
       "      <td>10528.0</td>\n",
       "      <td>11256.0</td>\n",
       "    </tr>\n",
       "  </tbody>\n",
       "</table>\n",
       "<p>5 rows × 108 columns</p>\n",
       "</div>"
      ],
      "text/plain": [
       "         CA        TX        WI  snap_CA  snap_TX  snap_WI  sales_price_min  \\\n",
       "0  0.030273  0.136719  0.179688        1        1        0         0.833496   \n",
       "1  0.030273  0.136719  0.179688        1        1        0         0.833496   \n",
       "2  0.030273  0.136719  0.179688        1        1        0         0.833496   \n",
       "3  0.496094  0.368164  0.609863        1        0        1         0.833496   \n",
       "4  0.496094  0.368164  0.609863        1        0        1         0.833496   \n",
       "\n",
       "   sales_price_max  sales_price_mean  weekday_Friday  ...  WI_lagged_25  \\\n",
       "0              0.0             1.000               1  ...      0.745605   \n",
       "1              0.0             0.625               1  ...      0.745605   \n",
       "2              0.0             0.000               1  ...      0.364746   \n",
       "3              0.0             0.000               0  ...      0.364746   \n",
       "4              0.0             1.000               0  ...      0.364746   \n",
       "\n",
       "   CA_lagged_26  TX_lagged_26  WI_lagged_26  CA_lagged_27  TX_lagged_27  \\\n",
       "0      0.812500      0.768555      0.745605      0.753906      0.687500   \n",
       "1      0.753906      0.687500      0.364746      0.753906      0.687500   \n",
       "2      0.753906      0.687500      0.364746      0.753906      0.687500   \n",
       "3      0.753906      0.687500      0.364746      0.262695      0.364258   \n",
       "4      0.262695      0.364258      0.252441      0.262695      0.364258   \n",
       "\n",
       "   WI_lagged_27  CA_lagged_28  TX_lagged_28  WI_lagged_28  \n",
       "0      0.364746       22208.0       12632.0       12520.0  \n",
       "1      0.364746       22208.0       12632.0       12520.0  \n",
       "2      0.364746       16208.0       10528.0       11256.0  \n",
       "3      0.252441       16208.0       10528.0       11256.0  \n",
       "4      0.252441       16208.0       10528.0       11256.0  \n",
       "\n",
       "[5 rows x 108 columns]"
      ]
     },
     "execution_count": 67,
     "metadata": {},
     "output_type": "execute_result"
    }
   ],
   "source": [
    "sales_df_test.reset_index(inplace = True, drop = True)\n",
    "sales_df_test.head()"
   ]
  },
  {
   "cell_type": "code",
   "execution_count": 68,
   "id": "4de1ea66",
   "metadata": {
    "execution": {
     "iopub.execute_input": "2022-12-08T05:35:10.438486Z",
     "iopub.status.busy": "2022-12-08T05:35:10.437776Z",
     "iopub.status.idle": "2022-12-08T05:35:10.445744Z",
     "shell.execute_reply": "2022-12-08T05:35:10.444171Z"
    },
    "papermill": {
     "duration": 0.048725,
     "end_time": "2022-12-08T05:35:10.448268",
     "exception": false,
     "start_time": "2022-12-08T05:35:10.399543",
     "status": "completed"
    },
    "tags": []
   },
   "outputs": [],
   "source": [
    "train_y = sales_df_train[['CA_lagged_28', 'TX_lagged_28', 'WI_lagged_28']].values\n",
    "test_y = sales_df_test[['CA_lagged_28', 'TX_lagged_28', 'WI_lagged_28']].values"
   ]
  },
  {
   "cell_type": "code",
   "execution_count": 69,
   "id": "649db0e5",
   "metadata": {
    "execution": {
     "iopub.execute_input": "2022-12-08T05:35:10.523918Z",
     "iopub.status.busy": "2022-12-08T05:35:10.523490Z",
     "iopub.status.idle": "2022-12-08T05:35:10.530406Z",
     "shell.execute_reply": "2022-12-08T05:35:10.529492Z"
    },
    "papermill": {
     "duration": 0.047116,
     "end_time": "2022-12-08T05:35:10.532621",
     "exception": false,
     "start_time": "2022-12-08T05:35:10.485505",
     "status": "completed"
    },
    "tags": []
   },
   "outputs": [
    {
     "data": {
      "text/plain": [
       "array([[11824.,  7320.,  6432.],\n",
       "       [11824.,  7320.,  6432.],\n",
       "       [10936.,  6224.,  5912.],\n",
       "       ...,\n",
       "       [16248., 11160., 15648.],\n",
       "       [16248., 11160., 15648.],\n",
       "       [16248., 11160., 15648.]], dtype=float16)"
      ]
     },
     "execution_count": 69,
     "metadata": {},
     "output_type": "execute_result"
    }
   ],
   "source": [
    "train_y"
   ]
  },
  {
   "cell_type": "code",
   "execution_count": 70,
   "id": "ceaa8977",
   "metadata": {
    "execution": {
     "iopub.execute_input": "2022-12-08T05:35:10.608636Z",
     "iopub.status.busy": "2022-12-08T05:35:10.608206Z",
     "iopub.status.idle": "2022-12-08T05:35:10.614710Z",
     "shell.execute_reply": "2022-12-08T05:35:10.613748Z"
    },
    "papermill": {
     "duration": 0.046888,
     "end_time": "2022-12-08T05:35:10.616757",
     "exception": false,
     "start_time": "2022-12-08T05:35:10.569869",
     "status": "completed"
    },
    "tags": []
   },
   "outputs": [
    {
     "data": {
      "text/plain": [
       "(5366, 3)"
      ]
     },
     "execution_count": 70,
     "metadata": {},
     "output_type": "execute_result"
    }
   ],
   "source": [
    "train_y.shape"
   ]
  },
  {
   "cell_type": "code",
   "execution_count": 71,
   "id": "ab7fd9fc",
   "metadata": {
    "execution": {
     "iopub.execute_input": "2022-12-08T05:35:10.691518Z",
     "iopub.status.busy": "2022-12-08T05:35:10.691097Z",
     "iopub.status.idle": "2022-12-08T05:35:10.707409Z",
     "shell.execute_reply": "2022-12-08T05:35:10.706342Z"
    },
    "papermill": {
     "duration": 0.056183,
     "end_time": "2022-12-08T05:35:10.709451",
     "exception": false,
     "start_time": "2022-12-08T05:35:10.653268",
     "status": "completed"
    },
    "tags": []
   },
   "outputs": [
    {
     "data": {
      "text/plain": [
       "array([[22208., 12632., 12520.],\n",
       "       [22208., 12632., 12520.],\n",
       "       [16208., 10528., 11256.],\n",
       "       [16208., 10528., 11256.],\n",
       "       [16208., 10528., 11256.],\n",
       "       [14056., 10192., 10872.],\n",
       "       [14056., 10192., 10872.],\n",
       "       [14056., 10192., 10872.],\n",
       "       [13000.,  9536.,  9688.],\n",
       "       [13000.,  9536.,  9688.],\n",
       "       [13000.,  9536.,  9688.],\n",
       "       [13368.,  9312., 13176.],\n",
       "       [13368.,  9312., 13176.],\n",
       "       [13368.,  9312., 13176.],\n",
       "       [15800., 10856., 15136.],\n",
       "       [15800., 10856., 15136.],\n",
       "       [15800., 10856., 15136.],\n",
       "       [21376., 12768., 17008.],\n",
       "       [21376., 12768., 17008.],\n",
       "       [21376., 12768., 17008.],\n",
       "       [20848., 13104., 11576.],\n",
       "       [20848., 13104., 11576.],\n",
       "       [20848., 13104., 11576.],\n",
       "       [18000., 10688.,  9648.],\n",
       "       [18000., 10688.,  9648.],\n",
       "       [18000., 10688.,  9648.],\n",
       "       [13384.,  9008.,  9592.],\n",
       "       [13384.,  9008.,  9592.],\n",
       "       [13384.,  9008.,  9592.],\n",
       "       [14240.,  8768.,  9672.],\n",
       "       [14240.,  8768.,  9672.],\n",
       "       [14240.,  8768.,  9672.],\n",
       "       [13936.,  8656.,  9184.],\n",
       "       [13936.,  8656.,  9184.],\n",
       "       [13936.,  8656.,  9184.],\n",
       "       [15104., 10128., 11072.],\n",
       "       [15104., 10128., 11072.],\n",
       "       [15104., 10128., 11072.],\n",
       "       [22848., 11840., 14248.],\n",
       "       [22848., 11840., 14248.],\n",
       "       [22848., 11840., 14248.],\n",
       "       [21840., 12720., 13264.],\n",
       "       [21840., 12720., 13264.],\n",
       "       [21840., 12720., 13264.],\n",
       "       [15840.,  9648.,  8904.],\n",
       "       [15840.,  9648.,  8904.],\n",
       "       [15840.,  9648.,  8904.],\n",
       "       [13872.,  8160.,  8416.],\n",
       "       [13872.,  8160.,  8416.],\n",
       "       [13872.,  8160.,  8416.],\n",
       "       [13768.,  8512.,  9072.],\n",
       "       [13768.,  8512.,  9072.],\n",
       "       [13768.,  8512.,  9072.],\n",
       "       [13800.,  8896.,  9776.],\n",
       "       [13800.,  8896.,  9776.],\n",
       "       [13800.,  8896.,  9776.],\n",
       "       [15904.,  9744., 11992.],\n",
       "       [15904.,  9744., 11992.],\n",
       "       [15904.,  9744., 11992.],\n",
       "       [21392., 11936., 15776.],\n",
       "       [21392., 11936., 15776.],\n",
       "       [21392., 11936., 15776.],\n",
       "       [23504., 13016., 14312.],\n",
       "       [23504., 13016., 14312.],\n",
       "       [23504., 13016., 14312.],\n",
       "       [16624., 11696., 13392.],\n",
       "       [16624., 11696., 13392.],\n",
       "       [16624., 11696., 13392.],\n",
       "       [15144.,  8944., 10840.],\n",
       "       [15144.,  8944., 10840.],\n",
       "       [15144.,  8944., 10840.],\n",
       "       [15376., 10896., 13072.],\n",
       "       [15376., 10896., 13072.],\n",
       "       [15376., 10896., 13072.],\n",
       "       [15456.,  9312., 10656.],\n",
       "       [15456.,  9312., 10656.],\n",
       "       [15456.,  9312., 10656.],\n",
       "       [16912., 10352., 12936.],\n",
       "       [16912., 10352., 12936.],\n",
       "       [16912., 10352., 12936.],\n",
       "       [23216., 13608., 18224.],\n",
       "       [23216., 13608., 18224.],\n",
       "       [23216., 13608., 18224.],\n",
       "       [18656., 14152., 14080.],\n",
       "       [18656., 14152., 14080.],\n",
       "       [18656., 14152., 14080.],\n",
       "       [15568., 10264., 10976.],\n",
       "       [15568., 10264., 10976.],\n",
       "       [15568., 10264., 10976.],\n",
       "       [15576., 10544., 12400.],\n",
       "       [15576., 10544., 12400.],\n",
       "       [15576., 10544., 12400.],\n",
       "       [16328., 10832., 12192.],\n",
       "       [16328., 10832., 12192.],\n",
       "       [16328., 10832., 12192.],\n",
       "       [16960., 12672., 14952.],\n",
       "       [16960., 12672., 14952.],\n",
       "       [16960., 12672., 14952.],\n",
       "       [16864., 11840., 15528.],\n",
       "       [16864., 11840., 15528.],\n",
       "       [16864., 11840., 15528.],\n",
       "       [21856., 14360., 17504.],\n",
       "       [21856., 14360., 17504.],\n",
       "       [21856., 14360., 17504.],\n",
       "       [19232., 13392., 15704.],\n",
       "       [19232., 13392., 15704.],\n",
       "       [19232., 13392., 15704.],\n",
       "       [19232., 12112., 14808.],\n",
       "       [19232., 12112., 14808.],\n",
       "       [19232., 12112., 14808.],\n",
       "       [15248., 10344., 12112.],\n",
       "       [15248., 10344., 12112.],\n",
       "       [15248., 10344., 12112.],\n",
       "       [14552.,  9904., 12088.],\n",
       "       [14552.,  9904., 12088.],\n",
       "       [14552.,  9904., 12088.],\n",
       "       [15304., 10104., 11024.],\n",
       "       [15304., 10104., 11024.],\n",
       "       [15304., 10104., 11024.],\n",
       "       [17120., 10824., 12448.],\n",
       "       [17120., 10824., 12448.],\n",
       "       [17120., 10824., 12448.],\n",
       "       [21344., 13280., 16224.],\n",
       "       [21344., 13280., 16224.],\n",
       "       [21344., 13280., 16224.],\n",
       "       [22544., 14664., 14880.],\n",
       "       [22544., 14664., 14880.],\n",
       "       [22544., 14664., 14880.],\n",
       "       [16272., 10416., 10640.],\n",
       "       [16272., 10416., 10640.],\n",
       "       [16272., 10416., 10640.],\n",
       "       [14616.,  9456.,  9904.],\n",
       "       [14616.,  9456.,  9904.],\n",
       "       [14616.,  9456.,  9904.],\n",
       "       [13944.,  9840., 10280.],\n",
       "       [13944.,  9840., 10280.],\n",
       "       [13944.,  9840., 10280.],\n",
       "       [14520.,  9488., 10608.],\n",
       "       [14520.,  9488., 10608.],\n",
       "       [14520.,  9488., 10608.],\n",
       "       [16344.,  9896., 11408.],\n",
       "       [16344.,  9896., 11408.],\n",
       "       [16344.,  9896., 11408.],\n",
       "       [21552., 11576., 14768.],\n",
       "       [21552., 11576., 14768.],\n",
       "       [21552., 11576., 14768.],\n",
       "       [23152., 13376., 14384.],\n",
       "       [23152., 13376., 14384.],\n",
       "       [23152., 13376., 14384.],\n",
       "       [16232.,  9960., 11064.],\n",
       "       [16232.,  9960., 11064.],\n",
       "       [16232.,  9960., 11064.],\n",
       "       [16296., 10840.,  9400.],\n",
       "       [16296., 10840.,  9400.],\n",
       "       [16296., 10840.,  9400.],\n",
       "       [15416.,  9904., 13144.],\n",
       "       [15416.,  9904., 13144.],\n",
       "       [15416.,  9904., 13144.],\n",
       "       [15624., 11392., 14440.],\n",
       "       [15624., 11392., 14440.],\n",
       "       [15624., 11392., 14440.],\n",
       "       [16096., 10160., 13072.],\n",
       "       [16096., 10160., 13072.],\n",
       "       [16096., 10160., 13072.],\n",
       "       [22016., 12496., 17808.],\n",
       "       [22016., 12496., 17808.],\n",
       "       [22016., 12496., 17808.],\n",
       "       [25216., 14152., 17840.],\n",
       "       [25216., 14152., 17840.],\n",
       "       [25216., 14152., 17840.],\n",
       "       [17152., 11600., 11808.],\n",
       "       [17152., 11600., 11808.],\n",
       "       [17152., 11600., 11808.],\n",
       "       [16080.,  9784., 11856.],\n",
       "       [16080.,  9784., 11856.],\n",
       "       [16080.,  9784., 11856.],\n",
       "       [15544.,  9088., 12400.],\n",
       "       [15544.,  9088., 12400.],\n",
       "       [15544.,  9088., 12400.],\n",
       "       [15832., 10648., 11784.],\n",
       "       [15832., 10648., 11784.],\n",
       "       [15832., 10648., 11784.],\n",
       "       [16272., 11064., 13544.],\n",
       "       [16272., 11064., 13544.],\n",
       "       [16272., 11064., 13544.],\n",
       "       [22512., 13112., 17088.],\n",
       "       [22512., 13112., 17088.],\n",
       "       [22512., 13112., 17088.],\n",
       "       [21936., 13464., 16016.],\n",
       "       [21936., 13464., 16016.],\n",
       "       [21936., 13464., 16016.],\n",
       "       [16864., 11880., 13296.],\n",
       "       [16864., 11880., 13296.],\n",
       "       [16864., 11880., 13296.],\n",
       "       [15048., 11656., 13408.],\n",
       "       [15048., 11656., 13408.],\n",
       "       [15048., 11656., 13408.],\n",
       "       [14808., 10480., 11320.],\n",
       "       [14808., 10480., 11320.],\n",
       "       [14808., 10480., 11320.],\n",
       "       [14192., 10168., 10640.],\n",
       "       [14192., 10168., 10640.],\n",
       "       [14192., 10168., 10640.],\n",
       "       [16672., 10752., 12232.],\n",
       "       [16672., 10752., 12232.],\n",
       "       [16672., 10752., 12232.],\n",
       "       [18896., 12208., 15072.],\n",
       "       [18896., 12208., 15072.],\n",
       "       [18896., 12208., 15072.],\n",
       "       [19424., 13424., 14976.],\n",
       "       [19424., 13424., 14976.],\n",
       "       [19424., 13424., 14976.],\n",
       "       [16544.,  9976., 10848.],\n",
       "       [16544.,  9976., 10848.],\n",
       "       [16544.,  9976., 10848.],\n",
       "       [15584.,  9824., 10064.],\n",
       "       [15584.,  9824., 10064.],\n",
       "       [15584.,  9824., 10064.],\n",
       "       [15144., 10344.,  9304.],\n",
       "       [15144., 10344.,  9304.],\n",
       "       [15144., 10344.,  9304.],\n",
       "       [15232.,  9304.,  9472.],\n",
       "       [15232.,  9304.,  9472.],\n",
       "       [15232.,  9304.,  9472.],\n",
       "       [18688., 12232., 14680.],\n",
       "       [18688., 12232., 14680.],\n",
       "       [18688., 12232., 14680.],\n",
       "       [23792., 13592., 16480.],\n",
       "       [23792., 13592., 16480.],\n",
       "       [23792., 13592., 16480.],\n",
       "       [21296., 13336., 11728.],\n",
       "       [21296., 13336., 11728.],\n",
       "       [21296., 13336., 11728.],\n",
       "       [15480., 10304., 10256.],\n",
       "       [15480., 10304., 10256.],\n",
       "       [15480., 10304., 10256.],\n",
       "       [15320.,  8320., 10216.],\n",
       "       [15320.,  8320., 10216.],\n",
       "       [15320.,  8320., 10216.],\n",
       "       [14352.,  8832.,  9176.],\n",
       "       [14352.,  8832.,  9176.],\n",
       "       [14352.,  8832.,  9176.],\n",
       "       [15600.,  9304.,  9776.],\n",
       "       [15600.,  9304.,  9776.],\n",
       "       [15600.,  9304.,  9776.],\n",
       "       [18928., 11856., 14760.],\n",
       "       [18928., 11856., 14760.],\n",
       "       [18928., 11856., 14760.],\n",
       "       [22176., 13096., 17408.],\n",
       "       [22176., 13096., 17408.],\n",
       "       [22176., 13096., 17408.],\n",
       "       [24576., 14048., 17792.],\n",
       "       [24576., 14048., 17792.],\n",
       "       [24576., 14048., 17792.],\n",
       "       [18192., 10496., 11728.],\n",
       "       [18192., 10496., 11728.],\n",
       "       [18192., 10496., 11728.],\n",
       "       [16400., 10464., 12824.],\n",
       "       [16400., 10464., 12824.],\n",
       "       [16400., 10464., 12824.],\n",
       "       [15808., 10336., 12992.],\n",
       "       [15808., 10336., 12992.],\n",
       "       [15808., 10336., 12992.],\n",
       "       [15456., 10600., 12056.],\n",
       "       [15456., 10600., 12056.],\n",
       "       [15456., 10600., 12056.],\n",
       "       [17712., 10768., 14736.],\n",
       "       [17712., 10768., 14736.],\n",
       "       [17712., 10768., 14736.],\n",
       "       [23312., 13360., 19664.],\n",
       "       [23312., 13360., 19664.],\n",
       "       [23312., 13360., 19664.],\n",
       "       [24064., 13816., 15976.],\n",
       "       [24064., 13816., 15976.],\n",
       "       [24064., 13816., 15976.],\n",
       "       [17488., 11176., 13760.],\n",
       "       [17488., 11176., 13760.],\n",
       "       [17488., 11176., 13760.],\n",
       "       [15192., 10416., 13456.],\n",
       "       [15192., 10416., 13456.],\n",
       "       [15192., 10416., 13456.],\n",
       "       [14616.,  9696., 10888.],\n",
       "       [14616.,  9696., 10888.],\n",
       "       [14616.,  9696., 10888.],\n",
       "       [15072., 10288., 12168.],\n",
       "       [15072., 10288., 12168.],\n",
       "       [15072., 10288., 12168.],\n",
       "       [16256., 10800., 14736.],\n",
       "       [16256., 10800., 14736.],\n",
       "       [16256., 10800., 14736.],\n",
       "       [20560., 12464., 15336.],\n",
       "       [20560., 12464., 15336.],\n",
       "       [20560., 12464., 15336.],\n",
       "       [23040., 13712., 14896.],\n",
       "       [23040., 13712., 14896.],\n",
       "       [23040., 13712., 14896.],\n",
       "       [17056.,  9872., 11136.],\n",
       "       [17056.,  9872., 11136.],\n",
       "       [17056.,  9872., 11136.],\n",
       "       [15784., 10920., 10864.],\n",
       "       [15784., 10920., 10864.],\n",
       "       [15784., 10920., 10864.],\n",
       "       [15152.,  9600., 10592.],\n",
       "       [15152.,  9600., 10592.],\n",
       "       [15152.,  9600., 10592.],\n",
       "       [14488.,  9600., 10944.],\n",
       "       [14488.,  9600., 10944.],\n",
       "       [14488.,  9600., 10944.],\n",
       "       [17088., 10616., 12808.],\n",
       "       [17088., 10616., 12808.],\n",
       "       [17088., 10616., 12808.],\n",
       "       [21840., 12264., 14864.],\n",
       "       [21840., 12264., 14864.],\n",
       "       [21840., 12264., 14864.],\n",
       "       [23184., 12280., 14328.],\n",
       "       [23184., 12280., 14328.],\n",
       "       [23184., 12280., 14328.]], dtype=float16)"
      ]
     },
     "execution_count": 71,
     "metadata": {},
     "output_type": "execute_result"
    }
   ],
   "source": [
    "test_y"
   ]
  },
  {
   "cell_type": "code",
   "execution_count": 72,
   "id": "c654fe4a",
   "metadata": {
    "execution": {
     "iopub.execute_input": "2022-12-08T05:35:10.785230Z",
     "iopub.status.busy": "2022-12-08T05:35:10.784799Z",
     "iopub.status.idle": "2022-12-08T05:35:10.790893Z",
     "shell.execute_reply": "2022-12-08T05:35:10.790113Z"
    },
    "papermill": {
     "duration": 0.046419,
     "end_time": "2022-12-08T05:35:10.792919",
     "exception": false,
     "start_time": "2022-12-08T05:35:10.746500",
     "status": "completed"
    },
    "tags": []
   },
   "outputs": [
    {
     "data": {
      "text/plain": [
       "(317, 3)"
      ]
     },
     "execution_count": 72,
     "metadata": {},
     "output_type": "execute_result"
    }
   ],
   "source": [
    "test_y.shape"
   ]
  },
  {
   "cell_type": "code",
   "execution_count": 73,
   "id": "c44ff926",
   "metadata": {
    "execution": {
     "iopub.execute_input": "2022-12-08T05:35:10.868819Z",
     "iopub.status.busy": "2022-12-08T05:35:10.868394Z",
     "iopub.status.idle": "2022-12-08T05:35:10.877113Z",
     "shell.execute_reply": "2022-12-08T05:35:10.875963Z"
    },
    "papermill": {
     "duration": 0.049532,
     "end_time": "2022-12-08T05:35:10.879430",
     "exception": false,
     "start_time": "2022-12-08T05:35:10.829898",
     "status": "completed"
    },
    "tags": []
   },
   "outputs": [],
   "source": [
    "train_x = sales_df_train.drop(['CA_lagged_28', 'TX_lagged_28', 'WI_lagged_28'], axis = 1)\n",
    "test_x = sales_df_test.drop(['CA_lagged_28', 'TX_lagged_28', 'WI_lagged_28'], axis = 1)"
   ]
  },
  {
   "cell_type": "code",
   "execution_count": 74,
   "id": "aa3e1a69",
   "metadata": {
    "execution": {
     "iopub.execute_input": "2022-12-08T05:35:10.955216Z",
     "iopub.status.busy": "2022-12-08T05:35:10.954767Z",
     "iopub.status.idle": "2022-12-08T05:35:10.961798Z",
     "shell.execute_reply": "2022-12-08T05:35:10.960713Z"
    },
    "papermill": {
     "duration": 0.047514,
     "end_time": "2022-12-08T05:35:10.963950",
     "exception": false,
     "start_time": "2022-12-08T05:35:10.916436",
     "status": "completed"
    },
    "tags": []
   },
   "outputs": [
    {
     "data": {
      "text/plain": [
       "(5366, 105)"
      ]
     },
     "execution_count": 74,
     "metadata": {},
     "output_type": "execute_result"
    }
   ],
   "source": [
    "train_x.shape"
   ]
  },
  {
   "cell_type": "code",
   "execution_count": 75,
   "id": "d4d3a8c7",
   "metadata": {
    "execution": {
     "iopub.execute_input": "2022-12-08T05:35:11.041377Z",
     "iopub.status.busy": "2022-12-08T05:35:11.040900Z",
     "iopub.status.idle": "2022-12-08T05:35:11.047791Z",
     "shell.execute_reply": "2022-12-08T05:35:11.046706Z"
    },
    "papermill": {
     "duration": 0.048476,
     "end_time": "2022-12-08T05:35:11.050237",
     "exception": false,
     "start_time": "2022-12-08T05:35:11.001761",
     "status": "completed"
    },
    "tags": []
   },
   "outputs": [
    {
     "data": {
      "text/plain": [
       "(317, 105)"
      ]
     },
     "execution_count": 75,
     "metadata": {},
     "output_type": "execute_result"
    }
   ],
   "source": [
    "test_x.shape"
   ]
  },
  {
   "cell_type": "markdown",
   "id": "7ac535af",
   "metadata": {
    "papermill": {
     "duration": 0.036729,
     "end_time": "2022-12-08T05:35:11.124388",
     "exception": false,
     "start_time": "2022-12-08T05:35:11.087659",
     "status": "completed"
    },
    "tags": []
   },
   "source": [
    "# LSTM Modelling"
   ]
  },
  {
   "cell_type": "markdown",
   "id": "d7f2214b",
   "metadata": {
    "papermill": {
     "duration": 0.036791,
     "end_time": "2022-12-08T05:35:11.198480",
     "exception": false,
     "start_time": "2022-12-08T05:35:11.161689",
     "status": "completed"
    },
    "tags": []
   },
   "source": [
    "## Make Data for LSTM Model"
   ]
  },
  {
   "cell_type": "code",
   "execution_count": 76,
   "id": "3efecd45",
   "metadata": {
    "execution": {
     "iopub.execute_input": "2022-12-08T05:35:11.275898Z",
     "iopub.status.busy": "2022-12-08T05:35:11.274906Z",
     "iopub.status.idle": "2022-12-08T05:35:11.280136Z",
     "shell.execute_reply": "2022-12-08T05:35:11.279272Z"
    },
    "papermill": {
     "duration": 0.046804,
     "end_time": "2022-12-08T05:35:11.282492",
     "exception": false,
     "start_time": "2022-12-08T05:35:11.235688",
     "status": "completed"
    },
    "tags": []
   },
   "outputs": [],
   "source": [
    "train_X = []\n",
    "train_Y = []\n",
    "test_X = []\n",
    "test_Y = []"
   ]
  },
  {
   "cell_type": "markdown",
   "id": "f6bd681a",
   "metadata": {
    "papermill": {
     "duration": 0.037534,
     "end_time": "2022-12-08T05:35:11.357381",
     "exception": false,
     "start_time": "2022-12-08T05:35:11.319847",
     "status": "completed"
    },
    "tags": []
   },
   "source": [
    "We are modifying problem here. Given the past 28 days, predict the next 1 day."
   ]
  },
  {
   "cell_type": "code",
   "execution_count": 77,
   "id": "5e710fcb",
   "metadata": {
    "execution": {
     "iopub.execute_input": "2022-12-08T05:35:11.434131Z",
     "iopub.status.busy": "2022-12-08T05:35:11.433473Z",
     "iopub.status.idle": "2022-12-08T05:35:11.438757Z",
     "shell.execute_reply": "2022-12-08T05:35:11.437625Z"
    },
    "papermill": {
     "duration": 0.046268,
     "end_time": "2022-12-08T05:35:11.440964",
     "exception": false,
     "start_time": "2022-12-08T05:35:11.394696",
     "status": "completed"
    },
    "tags": []
   },
   "outputs": [],
   "source": [
    "n_future = 1\n",
    "n_past = 28"
   ]
  },
  {
   "cell_type": "code",
   "execution_count": 78,
   "id": "bd4e2783",
   "metadata": {
    "execution": {
     "iopub.execute_input": "2022-12-08T05:35:11.518498Z",
     "iopub.status.busy": "2022-12-08T05:35:11.517183Z",
     "iopub.status.idle": "2022-12-08T05:35:11.524401Z",
     "shell.execute_reply": "2022-12-08T05:35:11.523367Z"
    },
    "papermill": {
     "duration": 0.04814,
     "end_time": "2022-12-08T05:35:11.526490",
     "exception": false,
     "start_time": "2022-12-08T05:35:11.478350",
     "status": "completed"
    },
    "tags": []
   },
   "outputs": [
    {
     "data": {
      "text/plain": [
       "(5366, 105)"
      ]
     },
     "execution_count": 78,
     "metadata": {},
     "output_type": "execute_result"
    }
   ],
   "source": [
    "train_x.shape"
   ]
  },
  {
   "cell_type": "code",
   "execution_count": 79,
   "id": "5f7808ef",
   "metadata": {
    "execution": {
     "iopub.execute_input": "2022-12-08T05:35:11.604294Z",
     "iopub.status.busy": "2022-12-08T05:35:11.603676Z",
     "iopub.status.idle": "2022-12-08T05:35:11.609394Z",
     "shell.execute_reply": "2022-12-08T05:35:11.608346Z"
    },
    "papermill": {
     "duration": 0.047149,
     "end_time": "2022-12-08T05:35:11.611548",
     "exception": false,
     "start_time": "2022-12-08T05:35:11.564399",
     "status": "completed"
    },
    "tags": []
   },
   "outputs": [
    {
     "data": {
      "text/plain": [
       "(5366, 3)"
      ]
     },
     "execution_count": 79,
     "metadata": {},
     "output_type": "execute_result"
    }
   ],
   "source": [
    "train_y.shape"
   ]
  },
  {
   "cell_type": "code",
   "execution_count": 80,
   "id": "36b76ad0",
   "metadata": {
    "execution": {
     "iopub.execute_input": "2022-12-08T05:35:11.689372Z",
     "iopub.status.busy": "2022-12-08T05:35:11.688659Z",
     "iopub.status.idle": "2022-12-08T05:35:11.694132Z",
     "shell.execute_reply": "2022-12-08T05:35:11.693410Z"
    },
    "papermill": {
     "duration": 0.046811,
     "end_time": "2022-12-08T05:35:11.696171",
     "exception": false,
     "start_time": "2022-12-08T05:35:11.649360",
     "status": "completed"
    },
    "tags": []
   },
   "outputs": [],
   "source": [
    "train_x_processed = train_x.values\n",
    "test_x_processed = test_x.values"
   ]
  },
  {
   "cell_type": "code",
   "execution_count": 81,
   "id": "63b67efd",
   "metadata": {
    "execution": {
     "iopub.execute_input": "2022-12-08T05:35:11.773775Z",
     "iopub.status.busy": "2022-12-08T05:35:11.772867Z",
     "iopub.status.idle": "2022-12-08T05:35:11.779737Z",
     "shell.execute_reply": "2022-12-08T05:35:11.778726Z"
    },
    "papermill": {
     "duration": 0.048835,
     "end_time": "2022-12-08T05:35:11.782210",
     "exception": false,
     "start_time": "2022-12-08T05:35:11.733375",
     "status": "completed"
    },
    "tags": []
   },
   "outputs": [
    {
     "data": {
      "text/plain": [
       "(5366, 105)"
      ]
     },
     "execution_count": 81,
     "metadata": {},
     "output_type": "execute_result"
    }
   ],
   "source": [
    "train_x_processed.shape"
   ]
  },
  {
   "cell_type": "code",
   "execution_count": 82,
   "id": "e7ce9356",
   "metadata": {
    "execution": {
     "iopub.execute_input": "2022-12-08T05:35:11.859968Z",
     "iopub.status.busy": "2022-12-08T05:35:11.859313Z",
     "iopub.status.idle": "2022-12-08T05:35:11.866198Z",
     "shell.execute_reply": "2022-12-08T05:35:11.865138Z"
    },
    "papermill": {
     "duration": 0.048571,
     "end_time": "2022-12-08T05:35:11.868530",
     "exception": false,
     "start_time": "2022-12-08T05:35:11.819959",
     "status": "completed"
    },
    "tags": []
   },
   "outputs": [
    {
     "data": {
      "text/plain": [
       "(317, 105)"
      ]
     },
     "execution_count": 82,
     "metadata": {},
     "output_type": "execute_result"
    }
   ],
   "source": [
    "test_x_processed.shape"
   ]
  },
  {
   "cell_type": "code",
   "execution_count": 83,
   "id": "2c162431",
   "metadata": {
    "execution": {
     "iopub.execute_input": "2022-12-08T05:35:11.945803Z",
     "iopub.status.busy": "2022-12-08T05:35:11.945416Z",
     "iopub.status.idle": "2022-12-08T05:35:11.958604Z",
     "shell.execute_reply": "2022-12-08T05:35:11.957427Z"
    },
    "papermill": {
     "duration": 0.054451,
     "end_time": "2022-12-08T05:35:11.960747",
     "exception": false,
     "start_time": "2022-12-08T05:35:11.906296",
     "status": "completed"
    },
    "tags": []
   },
   "outputs": [],
   "source": [
    "for i in range(n_past, len(train_x_processed) - n_future + 1):\n",
    "    train_X.append(train_x_processed[i - n_past:i, 0:train_x_processed.shape[1]])\n",
    "    train_Y.append(train_y[i + n_future - 1:i+n_future, ])"
   ]
  },
  {
   "cell_type": "code",
   "execution_count": 84,
   "id": "dd4cc3ce",
   "metadata": {
    "execution": {
     "iopub.execute_input": "2022-12-08T05:35:12.038516Z",
     "iopub.status.busy": "2022-12-08T05:35:12.037770Z",
     "iopub.status.idle": "2022-12-08T05:35:12.043638Z",
     "shell.execute_reply": "2022-12-08T05:35:12.042819Z"
    },
    "papermill": {
     "duration": 0.047265,
     "end_time": "2022-12-08T05:35:12.045783",
     "exception": false,
     "start_time": "2022-12-08T05:35:11.998518",
     "status": "completed"
    },
    "tags": []
   },
   "outputs": [],
   "source": [
    "for i in range(n_past, len(test_x_processed) - n_future + 1):\n",
    "    test_X.append(test_x_processed[i - n_past:i, 0:test_x_processed.shape[1]])\n",
    "    test_Y.append(test_y[i + n_future - 1:i+n_future, ])"
   ]
  },
  {
   "cell_type": "code",
   "execution_count": 85,
   "id": "0c1c5b66",
   "metadata": {
    "execution": {
     "iopub.execute_input": "2022-12-08T05:35:12.123426Z",
     "iopub.status.busy": "2022-12-08T05:35:12.122695Z",
     "iopub.status.idle": "2022-12-08T05:35:12.126567Z",
     "shell.execute_reply": "2022-12-08T05:35:12.125825Z"
    },
    "papermill": {
     "duration": 0.045117,
     "end_time": "2022-12-08T05:35:12.128586",
     "exception": false,
     "start_time": "2022-12-08T05:35:12.083469",
     "status": "completed"
    },
    "tags": []
   },
   "outputs": [],
   "source": [
    "#train_Y"
   ]
  },
  {
   "cell_type": "code",
   "execution_count": 86,
   "id": "3d6dff03",
   "metadata": {
    "execution": {
     "iopub.execute_input": "2022-12-08T05:35:12.206549Z",
     "iopub.status.busy": "2022-12-08T05:35:12.205749Z",
     "iopub.status.idle": "2022-12-08T05:35:12.227653Z",
     "shell.execute_reply": "2022-12-08T05:35:12.226681Z"
    },
    "papermill": {
     "duration": 0.063441,
     "end_time": "2022-12-08T05:35:12.230102",
     "exception": false,
     "start_time": "2022-12-08T05:35:12.166661",
     "status": "completed"
    },
    "tags": []
   },
   "outputs": [],
   "source": [
    "train_X, train_Y = np.array(train_X), np.array(train_Y)\n",
    "test_X, test_Y = np.array(test_X), np.array(test_Y)"
   ]
  },
  {
   "cell_type": "code",
   "execution_count": 87,
   "id": "8c1a3fb0",
   "metadata": {
    "execution": {
     "iopub.execute_input": "2022-12-08T05:35:12.308029Z",
     "iopub.status.busy": "2022-12-08T05:35:12.307339Z",
     "iopub.status.idle": "2022-12-08T05:35:12.314236Z",
     "shell.execute_reply": "2022-12-08T05:35:12.312606Z"
    },
    "papermill": {
     "duration": 0.048493,
     "end_time": "2022-12-08T05:35:12.316907",
     "exception": false,
     "start_time": "2022-12-08T05:35:12.268414",
     "status": "completed"
    },
    "tags": []
   },
   "outputs": [
    {
     "data": {
      "text/plain": [
       "(5338, 28, 105)"
      ]
     },
     "execution_count": 87,
     "metadata": {},
     "output_type": "execute_result"
    }
   ],
   "source": [
    "train_X.shape"
   ]
  },
  {
   "cell_type": "code",
   "execution_count": 88,
   "id": "a0e729be",
   "metadata": {
    "execution": {
     "iopub.execute_input": "2022-12-08T05:35:12.396067Z",
     "iopub.status.busy": "2022-12-08T05:35:12.395354Z",
     "iopub.status.idle": "2022-12-08T05:35:12.400961Z",
     "shell.execute_reply": "2022-12-08T05:35:12.400218Z"
    },
    "papermill": {
     "duration": 0.047649,
     "end_time": "2022-12-08T05:35:12.403039",
     "exception": false,
     "start_time": "2022-12-08T05:35:12.355390",
     "status": "completed"
    },
    "tags": []
   },
   "outputs": [
    {
     "data": {
      "text/plain": [
       "(5338, 1, 3)"
      ]
     },
     "execution_count": 88,
     "metadata": {},
     "output_type": "execute_result"
    }
   ],
   "source": [
    "train_Y.shape"
   ]
  },
  {
   "cell_type": "code",
   "execution_count": 89,
   "id": "724a2f48",
   "metadata": {
    "execution": {
     "iopub.execute_input": "2022-12-08T05:35:12.482870Z",
     "iopub.status.busy": "2022-12-08T05:35:12.482145Z",
     "iopub.status.idle": "2022-12-08T05:35:12.487787Z",
     "shell.execute_reply": "2022-12-08T05:35:12.487045Z"
    },
    "papermill": {
     "duration": 0.047104,
     "end_time": "2022-12-08T05:35:12.489694",
     "exception": false,
     "start_time": "2022-12-08T05:35:12.442590",
     "status": "completed"
    },
    "tags": []
   },
   "outputs": [
    {
     "data": {
      "text/plain": [
       "(289, 28, 105)"
      ]
     },
     "execution_count": 89,
     "metadata": {},
     "output_type": "execute_result"
    }
   ],
   "source": [
    "test_X.shape"
   ]
  },
  {
   "cell_type": "code",
   "execution_count": 90,
   "id": "fbfcc5c3",
   "metadata": {
    "execution": {
     "iopub.execute_input": "2022-12-08T05:35:12.567931Z",
     "iopub.status.busy": "2022-12-08T05:35:12.567173Z",
     "iopub.status.idle": "2022-12-08T05:35:12.573355Z",
     "shell.execute_reply": "2022-12-08T05:35:12.572548Z"
    },
    "papermill": {
     "duration": 0.047773,
     "end_time": "2022-12-08T05:35:12.575480",
     "exception": false,
     "start_time": "2022-12-08T05:35:12.527707",
     "status": "completed"
    },
    "tags": []
   },
   "outputs": [
    {
     "data": {
      "text/plain": [
       "(289, 1, 3)"
      ]
     },
     "execution_count": 90,
     "metadata": {},
     "output_type": "execute_result"
    }
   ],
   "source": [
    "test_Y.shape"
   ]
  },
  {
   "cell_type": "markdown",
   "id": "9593588e",
   "metadata": {
    "papermill": {
     "duration": 0.037819,
     "end_time": "2022-12-08T05:35:12.652517",
     "exception": false,
     "start_time": "2022-12-08T05:35:12.614698",
     "status": "completed"
    },
    "tags": []
   },
   "source": [
    "# LSTM Modelling"
   ]
  },
  {
   "cell_type": "code",
   "execution_count": 91,
   "id": "20e93a68",
   "metadata": {
    "execution": {
     "iopub.execute_input": "2022-12-08T05:35:12.730721Z",
     "iopub.status.busy": "2022-12-08T05:35:12.729946Z",
     "iopub.status.idle": "2022-12-08T05:35:13.750367Z",
     "shell.execute_reply": "2022-12-08T05:35:13.749364Z"
    },
    "papermill": {
     "duration": 1.062522,
     "end_time": "2022-12-08T05:35:13.753011",
     "exception": false,
     "start_time": "2022-12-08T05:35:12.690489",
     "status": "completed"
    },
    "tags": []
   },
   "outputs": [],
   "source": [
    "import tensorflow as tf\n",
    "from tensorflow.keras.layers import Dense, LSTM, RepeatVector, TimeDistributed , Dropout"
   ]
  },
  {
   "cell_type": "code",
   "execution_count": 92,
   "id": "ba8d6717",
   "metadata": {
    "execution": {
     "iopub.execute_input": "2022-12-08T05:35:13.830828Z",
     "iopub.status.busy": "2022-12-08T05:35:13.830441Z",
     "iopub.status.idle": "2022-12-08T05:35:13.836123Z",
     "shell.execute_reply": "2022-12-08T05:35:13.835047Z"
    },
    "papermill": {
     "duration": 0.046922,
     "end_time": "2022-12-08T05:35:13.838388",
     "exception": false,
     "start_time": "2022-12-08T05:35:13.791466",
     "status": "completed"
    },
    "tags": []
   },
   "outputs": [],
   "source": [
    "from tensorflow.keras.models import Sequential"
   ]
  },
  {
   "cell_type": "code",
   "execution_count": 93,
   "id": "7e8fe3cd",
   "metadata": {
    "execution": {
     "iopub.execute_input": "2022-12-08T05:35:13.916066Z",
     "iopub.status.busy": "2022-12-08T05:35:13.915685Z",
     "iopub.status.idle": "2022-12-08T05:35:13.936353Z",
     "shell.execute_reply": "2022-12-08T05:35:13.935341Z"
    },
    "papermill": {
     "duration": 0.062867,
     "end_time": "2022-12-08T05:35:13.939118",
     "exception": false,
     "start_time": "2022-12-08T05:35:13.876251",
     "status": "completed"
    },
    "tags": []
   },
   "outputs": [],
   "source": [
    "tf.keras.backend.clear_session()"
   ]
  },
  {
   "cell_type": "code",
   "execution_count": 94,
   "id": "bde02714",
   "metadata": {
    "execution": {
     "iopub.execute_input": "2022-12-08T05:35:14.017462Z",
     "iopub.status.busy": "2022-12-08T05:35:14.016665Z",
     "iopub.status.idle": "2022-12-08T05:35:14.553958Z",
     "shell.execute_reply": "2022-12-08T05:35:14.552337Z"
    },
    "papermill": {
     "duration": 0.579538,
     "end_time": "2022-12-08T05:35:14.556617",
     "exception": false,
     "start_time": "2022-12-08T05:35:13.977079",
     "status": "completed"
    },
    "tags": []
   },
   "outputs": [
    {
     "name": "stderr",
     "output_type": "stream",
     "text": [
      "2022-12-08 05:35:14.048395: I tensorflow/core/common_runtime/process_util.cc:146] Creating new thread pool with default inter op setting: 2. Tune using inter_op_parallelism_threads for best performance.\n"
     ]
    },
    {
     "name": "stdout",
     "output_type": "stream",
     "text": [
      "Model: \"sequential\"\n",
      "_________________________________________________________________\n",
      "Layer (type)                 Output Shape              Param #   \n",
      "=================================================================\n",
      "lstm (LSTM)                  (None, 28, 256)           370688    \n",
      "_________________________________________________________________\n",
      "lstm_1 (LSTM)                (None, 128)               197120    \n",
      "_________________________________________________________________\n",
      "repeat_vector (RepeatVector) (None, 1, 128)            0         \n",
      "_________________________________________________________________\n",
      "lstm_2 (LSTM)                (None, 1, 128)            131584    \n",
      "_________________________________________________________________\n",
      "lstm_3 (LSTM)                (None, 1, 256)            394240    \n",
      "_________________________________________________________________\n",
      "time_distributed (TimeDistri (None, 1, 256)            65792     \n",
      "_________________________________________________________________\n",
      "dropout (Dropout)            (None, 1, 256)            0         \n",
      "_________________________________________________________________\n",
      "time_distributed_1 (TimeDist (None, 1, 128)            32896     \n",
      "_________________________________________________________________\n",
      "dropout_1 (Dropout)          (None, 1, 128)            0         \n",
      "_________________________________________________________________\n",
      "time_distributed_2 (TimeDist (None, 1, 10)             1290      \n",
      "_________________________________________________________________\n",
      "dropout_2 (Dropout)          (None, 1, 10)             0         \n",
      "_________________________________________________________________\n",
      "time_distributed_3 (TimeDist (None, 1, 3)              33        \n",
      "=================================================================\n",
      "Total params: 1,193,643\n",
      "Trainable params: 1,193,643\n",
      "Non-trainable params: 0\n",
      "_________________________________________________________________\n"
     ]
    }
   ],
   "source": [
    "model = Sequential()\n",
    "model.add(LSTM(256, activation='relu', input_shape = (train_X.shape[1], train_X.shape[2]), return_sequences=True))\n",
    "model.add(LSTM(128, activation='relu'))\n",
    "model.add(RepeatVector(train_Y.shape[1]))\n",
    "model.add(LSTM(128, activation='relu', return_sequences=True))\n",
    "model.add(LSTM(256, activation='relu', return_sequences=True))\n",
    "model.add(TimeDistributed(Dense(256, activation='relu')))\n",
    "model.add(Dropout(0.2))\n",
    "model.add(TimeDistributed(Dense(128, activation='relu')))\n",
    "model.add(Dropout(0.2))\n",
    "model.add(TimeDistributed(Dense(10, activation='relu')))\n",
    "model.add(Dropout(0.2))\n",
    "model.add(TimeDistributed(Dense(3)))\n",
    "\n",
    "adam = tf.keras.optimizers.Adam(learning_rate=1e-3)\n",
    "model.compile(optimizer=adam, loss = ['mae'])\n",
    "model.summary()"
   ]
  },
  {
   "cell_type": "code",
   "execution_count": 95,
   "id": "8932cd79",
   "metadata": {
    "execution": {
     "iopub.execute_input": "2022-12-08T05:35:14.635483Z",
     "iopub.status.busy": "2022-12-08T05:35:14.634648Z",
     "iopub.status.idle": "2022-12-08T05:35:14.640407Z",
     "shell.execute_reply": "2022-12-08T05:35:14.639571Z"
    },
    "papermill": {
     "duration": 0.04799,
     "end_time": "2022-12-08T05:35:14.642890",
     "exception": false,
     "start_time": "2022-12-08T05:35:14.594900",
     "status": "completed"
    },
    "tags": []
   },
   "outputs": [],
   "source": [
    "from tensorflow.keras.callbacks import ModelCheckpoint, EarlyStopping"
   ]
  },
  {
   "cell_type": "code",
   "execution_count": 96,
   "id": "7d460fbc",
   "metadata": {
    "execution": {
     "iopub.execute_input": "2022-12-08T05:35:14.722554Z",
     "iopub.status.busy": "2022-12-08T05:35:14.722134Z",
     "iopub.status.idle": "2022-12-08T05:35:14.727529Z",
     "shell.execute_reply": "2022-12-08T05:35:14.726405Z"
    },
    "papermill": {
     "duration": 0.047177,
     "end_time": "2022-12-08T05:35:14.729686",
     "exception": false,
     "start_time": "2022-12-08T05:35:14.682509",
     "status": "completed"
    },
    "tags": []
   },
   "outputs": [],
   "source": [
    "checkpoint = ModelCheckpoint('M5_LSTM_CA_TX_WI.h5', monitor='val_loss', verbose=1, save_best_only=True, mode='min')\n",
    "early_stopping = EarlyStopping(monitor='val_loss', mode='min', patience = 30)"
   ]
  },
  {
   "cell_type": "code",
   "execution_count": 97,
   "id": "2dd2adb0",
   "metadata": {
    "execution": {
     "iopub.execute_input": "2022-12-08T05:35:14.807998Z",
     "iopub.status.busy": "2022-12-08T05:35:14.807578Z",
     "iopub.status.idle": "2022-12-08T05:52:07.959650Z",
     "shell.execute_reply": "2022-12-08T05:52:07.958053Z"
    },
    "papermill": {
     "duration": 1013.194185,
     "end_time": "2022-12-08T05:52:07.962031",
     "exception": false,
     "start_time": "2022-12-08T05:35:14.767846",
     "status": "completed"
    },
    "tags": []
   },
   "outputs": [
    {
     "name": "stderr",
     "output_type": "stream",
     "text": [
      "2022-12-08 05:35:14.984923: I tensorflow/compiler/mlir/mlir_graph_optimization_pass.cc:185] None of the MLIR Optimization Passes are enabled (registered 2)\n"
     ]
    },
    {
     "name": "stdout",
     "output_type": "stream",
     "text": [
      "Epoch 1/100\n",
      "334/334 [==============================] - 33s 80ms/step - loss: 5213.6064 - val_loss: 7749.1826\n",
      "\n",
      "Epoch 00001: val_loss improved from inf to 7749.18262, saving model to M5_LSTM_CA_TX_WI.h5\n",
      "Epoch 2/100\n",
      "334/334 [==============================] - 26s 77ms/step - loss: 3495.8459 - val_loss: 5509.6929\n",
      "\n",
      "Epoch 00002: val_loss improved from 7749.18262 to 5509.69287, saving model to M5_LSTM_CA_TX_WI.h5\n",
      "Epoch 3/100\n",
      "334/334 [==============================] - 26s 76ms/step - loss: 4085.5349 - val_loss: 7624.9575\n",
      "\n",
      "Epoch 00003: val_loss did not improve from 5509.69287\n",
      "Epoch 4/100\n",
      "334/334 [==============================] - 25s 75ms/step - loss: 3324.9292 - val_loss: 7207.0254\n",
      "\n",
      "Epoch 00004: val_loss did not improve from 5509.69287\n",
      "Epoch 5/100\n",
      "334/334 [==============================] - 26s 78ms/step - loss: 3150.4519 - val_loss: 6722.1909\n",
      "\n",
      "Epoch 00005: val_loss did not improve from 5509.69287\n",
      "Epoch 6/100\n",
      "334/334 [==============================] - 26s 77ms/step - loss: 3060.4795 - val_loss: 5893.2676\n",
      "\n",
      "Epoch 00006: val_loss did not improve from 5509.69287\n",
      "Epoch 7/100\n",
      "334/334 [==============================] - 26s 77ms/step - loss: 2967.5200 - val_loss: 5559.5669\n",
      "\n",
      "Epoch 00007: val_loss did not improve from 5509.69287\n",
      "Epoch 8/100\n",
      "334/334 [==============================] - 26s 77ms/step - loss: 2888.3284 - val_loss: 4930.1680\n",
      "\n",
      "Epoch 00008: val_loss improved from 5509.69287 to 4930.16797, saving model to M5_LSTM_CA_TX_WI.h5\n",
      "Epoch 9/100\n",
      "334/334 [==============================] - 25s 75ms/step - loss: 2773.5222 - val_loss: 6791.1719\n",
      "\n",
      "Epoch 00009: val_loss did not improve from 4930.16797\n",
      "Epoch 10/100\n",
      "334/334 [==============================] - 26s 78ms/step - loss: 2770.5610 - val_loss: 6947.1729\n",
      "\n",
      "Epoch 00010: val_loss did not improve from 4930.16797\n",
      "Epoch 11/100\n",
      "334/334 [==============================] - 26s 78ms/step - loss: 2792.8276 - val_loss: 7789.9185\n",
      "\n",
      "Epoch 00011: val_loss did not improve from 4930.16797\n",
      "Epoch 12/100\n",
      "334/334 [==============================] - 26s 77ms/step - loss: 2730.0945 - val_loss: 5618.8652\n",
      "\n",
      "Epoch 00012: val_loss did not improve from 4930.16797\n",
      "Epoch 13/100\n",
      "334/334 [==============================] - 26s 77ms/step - loss: 2671.3933 - val_loss: 6521.5063\n",
      "\n",
      "Epoch 00013: val_loss did not improve from 4930.16797\n",
      "Epoch 14/100\n",
      "334/334 [==============================] - 27s 81ms/step - loss: 2582.8137 - val_loss: 6191.0889\n",
      "\n",
      "Epoch 00014: val_loss did not improve from 4930.16797\n",
      "Epoch 15/100\n",
      "334/334 [==============================] - 27s 81ms/step - loss: 2569.4631 - val_loss: 6685.6680\n",
      "\n",
      "Epoch 00015: val_loss did not improve from 4930.16797\n",
      "Epoch 16/100\n",
      "334/334 [==============================] - 27s 82ms/step - loss: 2614.7539 - val_loss: 6247.5542\n",
      "\n",
      "Epoch 00016: val_loss did not improve from 4930.16797\n",
      "Epoch 17/100\n",
      "334/334 [==============================] - 28s 83ms/step - loss: 2577.5330 - val_loss: 6049.8149\n",
      "\n",
      "Epoch 00017: val_loss did not improve from 4930.16797\n",
      "Epoch 18/100\n",
      "334/334 [==============================] - 27s 81ms/step - loss: 2550.3298 - val_loss: 7313.3184\n",
      "\n",
      "Epoch 00018: val_loss did not improve from 4930.16797\n",
      "Epoch 19/100\n",
      "334/334 [==============================] - 27s 80ms/step - loss: 2505.6199 - val_loss: 5721.1401\n",
      "\n",
      "Epoch 00019: val_loss did not improve from 4930.16797\n",
      "Epoch 20/100\n",
      "334/334 [==============================] - 27s 80ms/step - loss: 2533.0447 - val_loss: 6771.3975\n",
      "\n",
      "Epoch 00020: val_loss did not improve from 4930.16797\n",
      "Epoch 21/100\n",
      "334/334 [==============================] - 27s 81ms/step - loss: 2519.2092 - val_loss: 6023.6489\n",
      "\n",
      "Epoch 00021: val_loss did not improve from 4930.16797\n",
      "Epoch 22/100\n",
      "334/334 [==============================] - 27s 82ms/step - loss: 2519.2283 - val_loss: 6029.5830\n",
      "\n",
      "Epoch 00022: val_loss did not improve from 4930.16797\n",
      "Epoch 23/100\n",
      "334/334 [==============================] - 27s 80ms/step - loss: 2544.0708 - val_loss: 7286.2026\n",
      "\n",
      "Epoch 00023: val_loss did not improve from 4930.16797\n",
      "Epoch 24/100\n",
      "334/334 [==============================] - 28s 83ms/step - loss: 2647.8638 - val_loss: 5487.0093\n",
      "\n",
      "Epoch 00024: val_loss did not improve from 4930.16797\n",
      "Epoch 25/100\n",
      "334/334 [==============================] - 27s 81ms/step - loss: 2615.9739 - val_loss: 5833.7729\n",
      "\n",
      "Epoch 00025: val_loss did not improve from 4930.16797\n",
      "Epoch 26/100\n",
      "334/334 [==============================] - 27s 81ms/step - loss: 2634.7341 - val_loss: 5992.2651\n",
      "\n",
      "Epoch 00026: val_loss did not improve from 4930.16797\n",
      "Epoch 27/100\n",
      "334/334 [==============================] - 27s 81ms/step - loss: 2503.5957 - val_loss: 6052.8457\n",
      "\n",
      "Epoch 00027: val_loss did not improve from 4930.16797\n",
      "Epoch 28/100\n",
      "334/334 [==============================] - 27s 80ms/step - loss: 2568.3677 - val_loss: 6569.2656\n",
      "\n",
      "Epoch 00028: val_loss did not improve from 4930.16797\n",
      "Epoch 29/100\n",
      "334/334 [==============================] - 26s 79ms/step - loss: 2456.7461 - val_loss: 5220.1064\n",
      "\n",
      "Epoch 00029: val_loss did not improve from 4930.16797\n",
      "Epoch 30/100\n",
      "334/334 [==============================] - 27s 79ms/step - loss: 2476.8643 - val_loss: 5648.3315\n",
      "\n",
      "Epoch 00030: val_loss did not improve from 4930.16797\n",
      "Epoch 31/100\n",
      "334/334 [==============================] - 27s 81ms/step - loss: 2473.7295 - val_loss: 6060.8530\n",
      "\n",
      "Epoch 00031: val_loss did not improve from 4930.16797\n",
      "Epoch 32/100\n",
      "334/334 [==============================] - 27s 80ms/step - loss: 2433.7153 - val_loss: 6078.1904\n",
      "\n",
      "Epoch 00032: val_loss did not improve from 4930.16797\n",
      "Epoch 33/100\n",
      "334/334 [==============================] - 27s 80ms/step - loss: 2519.0935 - val_loss: 5417.2886\n",
      "\n",
      "Epoch 00033: val_loss did not improve from 4930.16797\n",
      "Epoch 34/100\n",
      "334/334 [==============================] - 26s 79ms/step - loss: 2482.0820 - val_loss: 5982.4717\n",
      "\n",
      "Epoch 00034: val_loss did not improve from 4930.16797\n",
      "Epoch 35/100\n",
      "334/334 [==============================] - 26s 77ms/step - loss: 2392.1702 - val_loss: 5095.0845\n",
      "\n",
      "Epoch 00035: val_loss did not improve from 4930.16797\n",
      "Epoch 36/100\n",
      "334/334 [==============================] - 27s 80ms/step - loss: 2448.4551 - val_loss: 6106.6108\n",
      "\n",
      "Epoch 00036: val_loss did not improve from 4930.16797\n",
      "Epoch 37/100\n",
      "334/334 [==============================] - 26s 78ms/step - loss: 2400.9727 - val_loss: 5697.0586\n",
      "\n",
      "Epoch 00037: val_loss did not improve from 4930.16797\n",
      "Epoch 38/100\n",
      "334/334 [==============================] - 27s 79ms/step - loss: 2353.5293 - val_loss: 6359.2681\n",
      "\n",
      "Epoch 00038: val_loss did not improve from 4930.16797\n"
     ]
    }
   ],
   "source": [
    "history = model.fit(train_X, train_Y, epochs=100, batch_size=16, validation_data=(test_X, test_Y), verbose= 1, callbacks=[checkpoint, early_stopping])"
   ]
  },
  {
   "cell_type": "code",
   "execution_count": 98,
   "id": "2bc045c7",
   "metadata": {
    "execution": {
     "iopub.execute_input": "2022-12-08T05:52:09.659641Z",
     "iopub.status.busy": "2022-12-08T05:52:09.659256Z",
     "iopub.status.idle": "2022-12-08T05:52:09.996760Z",
     "shell.execute_reply": "2022-12-08T05:52:09.995911Z"
    },
    "papermill": {
     "duration": 1.221163,
     "end_time": "2022-12-08T05:52:09.998777",
     "exception": false,
     "start_time": "2022-12-08T05:52:08.777614",
     "status": "completed"
    },
    "tags": []
   },
   "outputs": [
    {
     "data": {
      "image/png": "[encoded data removed]",
      "text/plain": [
       "<Figure size 1080x648 with 1 Axes>"
      ]
     },
     "metadata": {},
     "output_type": "display_data"
    }
   ],
   "source": [
    "plt.plot(history.history['loss'], label='train')\n",
    "plt.plot(history.history['val_loss'], label='valid')\n",
    "plt.legend()\n",
    "plt.show()"
   ]
  },
  {
   "cell_type": "markdown",
   "id": "427a7fd6",
   "metadata": {
    "papermill": {
     "duration": 0.876078,
     "end_time": "2022-12-08T05:52:11.689812",
     "exception": false,
     "start_time": "2022-12-08T05:52:10.813734",
     "status": "completed"
    },
    "tags": []
   },
   "source": [
    "## Inference"
   ]
  },
  {
   "cell_type": "code",
   "execution_count": 99,
   "id": "f22686ba",
   "metadata": {
    "execution": {
     "iopub.execute_input": "2022-12-08T05:52:13.391013Z",
     "iopub.status.busy": "2022-12-08T05:52:13.389694Z",
     "iopub.status.idle": "2022-12-08T05:52:13.394528Z",
     "shell.execute_reply": "2022-12-08T05:52:13.393756Z"
    },
    "papermill": {
     "duration": 0.900281,
     "end_time": "2022-12-08T05:52:13.396512",
     "exception": false,
     "start_time": "2022-12-08T05:52:12.496231",
     "status": "completed"
    },
    "tags": []
   },
   "outputs": [],
   "source": [
    "from tensorflow.keras.models import load_model"
   ]
  },
  {
   "cell_type": "code",
   "execution_count": 100,
   "id": "53cda3cd",
   "metadata": {
    "execution": {
     "iopub.execute_input": "2022-12-08T05:52:15.115904Z",
     "iopub.status.busy": "2022-12-08T05:52:15.115199Z",
     "iopub.status.idle": "2022-12-08T05:52:15.582230Z",
     "shell.execute_reply": "2022-12-08T05:52:15.581297Z"
    },
    "papermill": {
     "duration": 1.360755,
     "end_time": "2022-12-08T05:52:15.584722",
     "exception": false,
     "start_time": "2022-12-08T05:52:14.223967",
     "status": "completed"
    },
    "tags": []
   },
   "outputs": [],
   "source": [
    "model = load_model('M5_LSTM_CA_TX_WI.h5')"
   ]
  },
  {
   "cell_type": "code",
   "execution_count": 101,
   "id": "75411003",
   "metadata": {
    "execution": {
     "iopub.execute_input": "2022-12-08T05:52:17.298582Z",
     "iopub.status.busy": "2022-12-08T05:52:17.297561Z",
     "iopub.status.idle": "2022-12-08T05:52:18.451603Z",
     "shell.execute_reply": "2022-12-08T05:52:18.450451Z"
    },
    "papermill": {
     "duration": 2.03805,
     "end_time": "2022-12-08T05:52:18.454066",
     "exception": false,
     "start_time": "2022-12-08T05:52:16.416016",
     "status": "completed"
    },
    "tags": []
   },
   "outputs": [
    {
     "data": {
      "text/plain": [
       "array([[[ 4832.496 ,  3177.9912,  3024.9187]],\n",
       "\n",
       "       [[ 4810.1216,  3163.2793,  3010.916 ]],\n",
       "\n",
       "       [[ 5201.1875,  3420.414 ,  3255.6572]],\n",
       "\n",
       "       [[ 5751.416 ,  3782.2017,  3600.0078]],\n",
       "\n",
       "       [[ 6199.4497,  4076.7932,  3880.4014]],\n",
       "\n",
       "       [[ 6547.4995,  4305.6445,  4098.2217]],\n",
       "\n",
       "       [[ 7311.402 ,  4807.9272,  4576.296 ]],\n",
       "\n",
       "       [[ 8611.127 ,  5662.5254,  5389.705 ]],\n",
       "\n",
       "       [[ 9958.202 ,  6548.258 ,  6232.747 ]],\n",
       "\n",
       "       [[11503.763 ,  7564.4985,  7200.007 ]],\n",
       "\n",
       "       [[12658.038 ,  8323.461 ,  7922.3896]],\n",
       "\n",
       "       [[13578.619 ,  8928.763 ,  8498.518 ]],\n",
       "\n",
       "       [[14055.561 ,  9242.362 ,  8797.002 ]],\n",
       "\n",
       "       [[13598.21  ,  8941.645 ,  8510.778 ]],\n",
       "\n",
       "       [[13003.905 ,  8550.876 ,  8138.8433]],\n",
       "\n",
       "       [[11641.237 ,  7654.8916,  7286.043 ]],\n",
       "\n",
       "       [[10479.204 ,  6890.828 ,  6558.8066]],\n",
       "\n",
       "       [[ 9101.819 ,  5985.167 ,  5696.7954]],\n",
       "\n",
       "       [[ 7520.5444,  4945.443 ,  4707.1836]],\n",
       "\n",
       "       [[ 6548.4146,  4306.2456,  4098.7944]],\n",
       "\n",
       "       [[ 6111.0454,  4018.6658,  3825.0752]],\n",
       "\n",
       "       [[ 5822.272 ,  3828.791 ,  3644.3516]],\n",
       "\n",
       "       [[ 5568.436 ,  3661.888 ,  3485.4927]],\n",
       "\n",
       "       [[ 5554.5103,  3652.7317,  3476.7778]],\n",
       "\n",
       "       [[ 5609.018 ,  3688.5713,  3510.8901]],\n",
       "\n",
       "       [[ 6203.236 ,  4079.2832,  3882.771 ]],\n",
       "\n",
       "       [[ 7062.4136,  4644.212 ,  4420.4717]],\n",
       "\n",
       "       [[ 8185.603 ,  5382.734 ,  5123.3984]],\n",
       "\n",
       "       [[ 9513.226 ,  6255.676 ,  5954.2666]],\n",
       "\n",
       "       [[11389.314 ,  7489.246 ,  7128.382 ]],\n",
       "\n",
       "       [[13679.192 ,  8994.893 ,  8561.46  ]],\n",
       "\n",
       "       [[14921.615 ,  9811.813 ,  9339.007 ]],\n",
       "\n",
       "       [[15900.987 , 10455.772 ,  9951.929 ]],\n",
       "\n",
       "       [[16807.71  , 11051.962 , 10519.384 ]],\n",
       "\n",
       "       [[16557.648 , 10887.54  , 10362.888 ]],\n",
       "\n",
       "       [[15465.651 , 10169.528 ,  9679.481 ]],\n",
       "\n",
       "       [[13779.994 ,  9061.172 ,  8624.544 ]],\n",
       "\n",
       "       [[12707.6455,  8356.079 ,  7953.4355]],\n",
       "\n",
       "       [[11142.442 ,  7326.9233,  6973.8823]],\n",
       "\n",
       "       [[ 9619.445 ,  6325.5176,  6020.742 ]],\n",
       "\n",
       "       [[ 8703.796 ,  5723.458 ,  5447.7   ]],\n",
       "\n",
       "       [[ 8035.4956,  5284.035 ,  5029.4565]],\n",
       "\n",
       "       [[ 7279.4946,  4786.9473,  4556.327 ]],\n",
       "\n",
       "       [[ 7179.93  ,  4721.4814,  4494.0166]],\n",
       "\n",
       "       [[ 7295.018 ,  4797.155 ,  4566.043 ]],\n",
       "\n",
       "       [[ 7388.3003,  4858.4897,  4624.4214]],\n",
       "\n",
       "       [[ 7503.0903,  4933.967 ,  4696.2607]],\n",
       "\n",
       "       [[ 8352.78  ,  5492.6562,  5228.023 ]],\n",
       "\n",
       "       [[ 9465.784 ,  6224.4824,  5924.5767]],\n",
       "\n",
       "       [[10895.356 ,  7164.458 ,  6819.248 ]],\n",
       "\n",
       "       [[12546.919 ,  8250.396 ,  7852.847 ]],\n",
       "\n",
       "       [[14757.539 ,  9703.93  ,  9236.323 ]],\n",
       "\n",
       "       [[16160.512 , 10626.415 , 10114.347 ]],\n",
       "\n",
       "       [[17060.537 , 11218.202 , 10677.612 ]],\n",
       "\n",
       "       [[17480.504 , 11494.338 , 10940.438 ]],\n",
       "\n",
       "       [[16605.89  , 10919.263 , 10393.079 ]],\n",
       "\n",
       "       [[15452.706 , 10161.018 ,  9671.381 ]],\n",
       "\n",
       "       [[13494.919 ,  8873.729 ,  8446.136 ]],\n",
       "\n",
       "       [[11855.886 ,  7796.0273,  7420.377 ]],\n",
       "\n",
       "       [[ 9850.79  ,  6477.6313,  6165.5244]],\n",
       "\n",
       "       [[ 7909.06  ,  5200.901 ,  4950.3296]],\n",
       "\n",
       "       [[ 7382.869 ,  4854.9185,  4621.0225]],\n",
       "\n",
       "       [[ 6577.7803,  4325.554 ,  4117.1724]],\n",
       "\n",
       "       [[ 6373.357 ,  4191.142 ,  3989.238 ]],\n",
       "\n",
       "       [[ 6256.313 ,  4114.1826,  3915.988 ]],\n",
       "\n",
       "       [[ 6319.7266,  4155.878 ,  3955.6738]],\n",
       "\n",
       "       [[ 6439.477 ,  4234.617 ,  4030.6177]],\n",
       "\n",
       "       [[ 6867.604 ,  4516.1196,  4298.5527]],\n",
       "\n",
       "       [[ 7454.86  ,  4902.254 ,  4666.0767]],\n",
       "\n",
       "       [[ 8314.209 ,  5467.296 ,  5203.8843]],\n",
       "\n",
       "       [[ 9644.493 ,  6341.988 ,  6036.418 ]],\n",
       "\n",
       "       [[11150.878 ,  7332.4683,  6979.16  ]],\n",
       "\n",
       "       [[12944.931 ,  8512.099 ,  8101.9346]],\n",
       "\n",
       "       [[14451.941 ,  9502.992 ,  9045.069 ]],\n",
       "\n",
       "       [[15525.093 , 10208.614 ,  9716.683 ]],\n",
       "\n",
       "       [[16731.252 , 11001.688 , 10471.534 ]],\n",
       "\n",
       "       [[16410.969 , 10791.097 , 10271.091 ]],\n",
       "\n",
       "       [[15976.909 , 10505.693 ,  9999.444 ]],\n",
       "\n",
       "       [[14553.352 ,  9569.671 ,  9108.536 ]],\n",
       "\n",
       "       [[13614.154 ,  8952.128 ,  8520.757 ]],\n",
       "\n",
       "       [[12659.264 ,  8324.267 ,  7923.1553]],\n",
       "\n",
       "       [[10798.516 ,  7100.782 ,  6758.641 ]],\n",
       "\n",
       "       [[10396.123 ,  6836.2007,  6506.8115]],\n",
       "\n",
       "       [[10262.984 ,  6748.6587,  6423.4893]],\n",
       "\n",
       "       [[ 9966.976 ,  6554.027 ,  6238.238 ]],\n",
       "\n",
       "       [[ 9444.281 ,  6210.3433,  5911.119 ]],\n",
       "\n",
       "       [[ 9126.722 ,  6001.541 ,  5712.381 ]],\n",
       "\n",
       "       [[ 9055.214 ,  5954.523 ,  5667.629 ]],\n",
       "\n",
       "       [[ 9053.145 ,  5953.162 ,  5666.333 ]],\n",
       "\n",
       "       [[ 9204.659 ,  6052.787 ,  5761.1562]],\n",
       "\n",
       "       [[ 9870.937 ,  6490.879 ,  6178.1333]],\n",
       "\n",
       "       [[10690.634 ,  7029.8486,  6691.126 ]],\n",
       "\n",
       "       [[11349.738 ,  7463.224 ,  7103.6143]],\n",
       "\n",
       "       [[12048.172 ,  7922.46  ,  7540.716 ]],\n",
       "\n",
       "       [[13216.485 ,  8690.651 ,  8271.883 ]],\n",
       "\n",
       "       [[14403.149 ,  9470.911 ,  9014.534 ]],\n",
       "\n",
       "       [[15292.216 , 10055.491 ,  9570.939 ]],\n",
       "\n",
       "       [[15019.801 ,  9876.372 ,  9400.454 ]],\n",
       "\n",
       "       [[14370.663 ,  9449.55  ,  8994.204 ]],\n",
       "\n",
       "       [[12700.415 ,  8351.324 ,  7948.91  ]],\n",
       "\n",
       "       [[11605.57  ,  7631.4395,  7263.7217]],\n",
       "\n",
       "       [[10638.063 ,  6995.2817,  6658.2256]],\n",
       "\n",
       "       [[ 9695.893 ,  6375.783 ,  6068.5854]],\n",
       "\n",
       "       [[ 9376.542 ,  6165.8037,  5868.7256]],\n",
       "\n",
       "       [[ 9306.374 ,  6119.666 ,  5824.812 ]],\n",
       "\n",
       "       [[ 9272.42  ,  6097.3403,  5803.5625]],\n",
       "\n",
       "       [[ 9339.113 ,  6141.193 ,  5845.3013]],\n",
       "\n",
       "       [[ 9600.608 ,  6313.1323,  6008.9536]],\n",
       "\n",
       "       [[ 9888.505 ,  6502.4297,  6189.128 ]],\n",
       "\n",
       "       [[10138.62  ,  6666.8867,  6345.658 ]],\n",
       "\n",
       "       [[10167.887 ,  6686.1304,  6363.974 ]],\n",
       "\n",
       "       [[10425.152 ,  6855.288 ,  6524.9795]],\n",
       "\n",
       "       [[11328.512 ,  7449.2676,  7090.33  ]],\n",
       "\n",
       "       [[12988.144 ,  8540.512 ,  8128.9785]],\n",
       "\n",
       "       [[14776.991 ,  9716.72  ,  9248.496 ]],\n",
       "\n",
       "       [[15547.092 , 10223.078 ,  9730.449 ]],\n",
       "\n",
       "       [[16345.579 , 10748.102 , 10230.168 ]],\n",
       "\n",
       "       [[17295.027 , 11372.385 , 10824.362 ]],\n",
       "\n",
       "       [[17286.479 , 11366.764 , 10819.013 ]],\n",
       "\n",
       "       [[16964.812 , 11155.26  , 10617.703 ]],\n",
       "\n",
       "       [[16198.881 , 10651.644 , 10138.36  ]],\n",
       "\n",
       "       [[15251.702 , 10028.853 ,  9545.585 ]],\n",
       "\n",
       "       [[13911.821 ,  9147.852 ,  8707.047 ]],\n",
       "\n",
       "       [[12545.615 ,  8249.54  ,  7852.0312]],\n",
       "\n",
       "       [[11973.994 ,  7873.6855,  7494.2925]],\n",
       "\n",
       "       [[11270.4375,  7411.082 ,  7053.9854]],\n",
       "\n",
       "       [[10686.938 ,  7027.4185,  6688.8125]],\n",
       "\n",
       "       [[10460.53  ,  6878.5493,  6547.1196]],\n",
       "\n",
       "       [[10069.727 ,  6621.588 ,  6302.543 ]],\n",
       "\n",
       "       [[ 9840.331 ,  6470.755 ,  6158.98  ]],\n",
       "\n",
       "       [[ 9698.208 ,  6377.3057,  6070.034 ]],\n",
       "\n",
       "       [[10002.954 ,  6577.6836,  6260.754 ]],\n",
       "\n",
       "       [[10978.681 ,  7219.245 ,  6871.3936]],\n",
       "\n",
       "       [[12413.647 ,  8162.7686,  7769.4424]],\n",
       "\n",
       "       [[13801.233 ,  9075.137 ,  8637.837 ]],\n",
       "\n",
       "       [[15849.894 , 10422.177 ,  9919.953 ]],\n",
       "\n",
       "       [[17628.465 , 11591.627 , 11033.038 ]],\n",
       "\n",
       "       [[18842.19  , 12389.677 , 11792.625 ]],\n",
       "\n",
       "       [[19928.973 , 13104.262 , 12472.768 ]],\n",
       "\n",
       "       [[19810.172 , 13026.147 , 12398.419 ]],\n",
       "\n",
       "       [[19029.678 , 12512.955 , 11909.961 ]],\n",
       "\n",
       "       [[17278.607 , 11361.588 , 10814.086 ]],\n",
       "\n",
       "       [[15244.952 , 10024.414 ,  9541.361 ]],\n",
       "\n",
       "       [[13367.183 ,  8789.738 ,  8366.193 ]],\n",
       "\n",
       "       [[10904.63  ,  7170.555 ,  6825.051 ]],\n",
       "\n",
       "       [[10101.95  ,  6642.7754,  6322.709 ]],\n",
       "\n",
       "       [[ 9308.406 ,  6121.0024,  5826.084 ]],\n",
       "\n",
       "       [[ 9022.587 ,  5933.0693,  5647.209 ]],\n",
       "\n",
       "       [[ 8781.069 ,  5774.267 ,  5496.0605]],\n",
       "\n",
       "       [[ 8305.109 ,  5461.3125,  5198.1895]],\n",
       "\n",
       "       [[ 8208.894 ,  5398.0483,  5137.9746]],\n",
       "\n",
       "       [[ 8538.315 ,  5614.651 ,  5344.1377]],\n",
       "\n",
       "       [[ 9113.269 ,  5992.6953,  5703.9604]],\n",
       "\n",
       "       [[ 9899.595 ,  6509.7227,  6196.069 ]],\n",
       "\n",
       "       [[11239.773 ,  7390.9194,  7034.794 ]],\n",
       "\n",
       "       [[12580.259 ,  8272.318 ,  7873.712 ]],\n",
       "\n",
       "       [[14029.31  ,  9225.103 ,  8780.573 ]],\n",
       "\n",
       "       [[14919.074 ,  9810.142 ,  9337.416 ]],\n",
       "\n",
       "       [[16210.886 , 10659.536 , 10145.872 ]],\n",
       "\n",
       "       [[17207.42  , 11314.78  , 10769.534 ]],\n",
       "\n",
       "       [[16764.943 , 11023.842 , 10492.619 ]],\n",
       "\n",
       "       [[15972.765 , 10502.967 ,  9996.85  ]],\n",
       "\n",
       "       [[14378.874 ,  9454.949 ,  8999.343 ]],\n",
       "\n",
       "       [[13065.775 ,  8591.557 ,  8177.5645]],\n",
       "\n",
       "       [[12054.997 ,  7926.9473,  7544.9863]],\n",
       "\n",
       "       [[10446.361 ,  6869.2334,  6538.2524]],\n",
       "\n",
       "       [[10235.313 ,  6730.465 ,  6406.172 ]],\n",
       "\n",
       "       [[10208.85  ,  6713.064 ,  6389.61  ]],\n",
       "\n",
       "       [[10026.679 ,  6593.282 ,  6275.6016]],\n",
       "\n",
       "       [[ 9723.138 ,  6393.6973,  6085.6357]],\n",
       "\n",
       "       [[ 9728.583 ,  6397.2783,  6089.0444]],\n",
       "\n",
       "       [[10024.348 ,  6591.75  ,  6274.1426]],\n",
       "\n",
       "       [[10276.509 ,  6757.552 ,  6431.9526]],\n",
       "\n",
       "       [[10481.233 ,  6892.163 ,  6560.0767]],\n",
       "\n",
       "       [[11112.835 ,  7307.4546,  6955.3525]],\n",
       "\n",
       "       [[11843.37  ,  7787.798 ,  7412.544 ]],\n",
       "\n",
       "       [[12785.642 ,  8407.362 ,  8002.248 ]],\n",
       "\n",
       "       [[14201.78  ,  9338.506 ,  8888.512 ]],\n",
       "\n",
       "       [[15046.409 ,  9893.868 ,  9417.106 ]],\n",
       "\n",
       "       [[15364.998 , 10103.348 ,  9616.49  ]],\n",
       "\n",
       "       [[15768.327 , 10368.545 ,  9868.906 ]],\n",
       "\n",
       "       [[15815.988 , 10399.884 ,  9898.733 ]],\n",
       "\n",
       "       [[15532.863 , 10213.722 ,  9721.546 ]],\n",
       "\n",
       "       [[14451.288 ,  9502.562 ,  9044.661 ]],\n",
       "\n",
       "       [[13244.42  ,  8709.019 ,  8289.364 ]],\n",
       "\n",
       "       [[11912.593 ,  7833.3135,  7455.866 ]],\n",
       "\n",
       "       [[ 9963.129 ,  6551.497 ,  6235.83  ]],\n",
       "\n",
       "       [[ 9441.379 ,  6208.4346,  5909.3022]],\n",
       "\n",
       "       [[ 9140.321 ,  6010.4834,  5720.8916]],\n",
       "\n",
       "       [[ 8691.251 ,  5715.209 ,  5439.8486]],\n",
       "\n",
       "       [[ 8524.05  ,  5605.2705,  5335.209 ]],\n",
       "\n",
       "       [[ 8193.053 ,  5387.6323,  5128.061 ]],\n",
       "\n",
       "       [[ 8184.3184,  5381.8896,  5122.5947]],\n",
       "\n",
       "       [[ 8294.671 ,  5454.4487,  5191.6562]],\n",
       "\n",
       "       [[ 8478.792 ,  5575.512 ,  5306.8857]],\n",
       "\n",
       "       [[ 8788.918 ,  5779.4277,  5500.972 ]],\n",
       "\n",
       "       [[ 9640.91  ,  6339.631 ,  6034.1753]],\n",
       "\n",
       "       [[10581.144 ,  6957.856 ,  6622.6035]],\n",
       "\n",
       "       [[11814.514 ,  7768.8237,  7394.4854]],\n",
       "\n",
       "       [[13186.889 ,  8671.191 ,  8253.36  ]],\n",
       "\n",
       "       [[14603.281 ,  9602.502 ,  9139.784 ]],\n",
       "\n",
       "       [[15886.663 , 10446.354 ,  9942.965 ]],\n",
       "\n",
       "       [[15378.449 , 10112.191 ,  9624.908 ]],\n",
       "\n",
       "       [[14661.42  ,  9640.7295,  9176.169 ]],\n",
       "\n",
       "       [[13471.047 ,  8858.031 ,  8431.195 ]],\n",
       "\n",
       "       [[12880.153 ,  8469.507 ,  8061.3955]],\n",
       "\n",
       "       [[11742.531 ,  7721.4946,  7349.436 ]],\n",
       "\n",
       "       [[10422.434 ,  6853.501 ,  6523.278 ]],\n",
       "\n",
       "       [[10131.015 ,  6661.8857,  6340.8984]],\n",
       "\n",
       "       [[10138.571 ,  6666.8545,  6345.628 ]],\n",
       "\n",
       "       [[10086.933 ,  6632.9014,  6313.3105]],\n",
       "\n",
       "       [[ 9726.261 ,  6395.7515,  6087.5913]],\n",
       "\n",
       "       [[ 9529.446 ,  6266.3413,  5964.418 ]],\n",
       "\n",
       "       [[ 9228.171 ,  6068.2466,  5775.871 ]],\n",
       "\n",
       "       [[ 9287.765 ,  6107.4297,  5813.166 ]],\n",
       "\n",
       "       [[ 9258.789 ,  6088.3784,  5795.032 ]],\n",
       "\n",
       "       [[ 9712.056 ,  6386.411 ,  6078.7007]],\n",
       "\n",
       "       [[10745.162 ,  7065.702 ,  6725.2515]],\n",
       "\n",
       "       [[12345.9375,  8118.2476,  7727.0674]],\n",
       "\n",
       "       [[13954.714 ,  9176.055 ,  8733.89  ]],\n",
       "\n",
       "       [[14931.252 ,  9818.149 ,  9345.038 ]],\n",
       "\n",
       "       [[15439.331 , 10152.224 ,  9663.011 ]],\n",
       "\n",
       "       [[16335.727 , 10741.622 , 10224.002 ]],\n",
       "\n",
       "       [[16452.137 , 10818.165 , 10296.855 ]],\n",
       "\n",
       "       [[15918.007 , 10466.963 ,  9962.581 ]],\n",
       "\n",
       "       [[14634.145 ,  9622.794 ,  9159.099 ]],\n",
       "\n",
       "       [[13686.039 ,  8999.394 ,  8565.744 ]],\n",
       "\n",
       "       [[12229.04  ,  8041.385 ,  7653.909 ]],\n",
       "\n",
       "       [[10549.401 ,  6936.9844,  6602.7373]],\n",
       "\n",
       "       [[ 9957.011 ,  6547.474 ,  6232.001 ]],\n",
       "\n",
       "       [[ 9687.017 ,  6369.9463,  6063.03  ]],\n",
       "\n",
       "       [[ 9456.475 ,  6218.361 ,  5918.75  ]],\n",
       "\n",
       "       [[ 8983.245 ,  5907.202 ,  5622.588 ]],\n",
       "\n",
       "       [[ 8723.265 ,  5736.259 ,  5459.8843]],\n",
       "\n",
       "       [[ 8920.842 ,  5866.17  ,  5583.5337]],\n",
       "\n",
       "       [[ 9535.764 ,  6270.495 ,  5968.3716]],\n",
       "\n",
       "       [[10449.382 ,  6871.2188,  6540.1426]],\n",
       "\n",
       "       [[11648.195 ,  7659.466 ,  7290.3975]],\n",
       "\n",
       "       [[13159.884 ,  8653.435 ,  8236.459 ]],\n",
       "\n",
       "       [[14487.188 ,  9526.168 ,  9067.13  ]],\n",
       "\n",
       "       [[16373.293 , 10766.323 , 10247.513 ]],\n",
       "\n",
       "       [[17626.574 , 11590.384 , 11031.855 ]],\n",
       "\n",
       "       [[18713.623 , 12305.143 , 11712.164 ]],\n",
       "\n",
       "       [[19566.305 , 12865.8   , 12245.8   ]],\n",
       "\n",
       "       [[18635.957 , 12254.074 , 11663.558 ]],\n",
       "\n",
       "       [[17549.65  , 11539.804 , 10983.714 ]],\n",
       "\n",
       "       [[15909.413 , 10461.312 ,  9957.202 ]],\n",
       "\n",
       "       [[14276.503 ,  9387.637 ,  8935.274 ]],\n",
       "\n",
       "       [[12776.973 ,  8401.662 ,  7996.822 ]],\n",
       "\n",
       "       [[10696.798 ,  7033.901 ,  6694.9834]],\n",
       "\n",
       "       [[ 9512.678 ,  6255.315 ,  5953.9233]],\n",
       "\n",
       "       [[ 8609.408 ,  5661.396 ,  5388.6294]],\n",
       "\n",
       "       [[ 8335.178 ,  5481.083 ,  5217.0073]],\n",
       "\n",
       "       [[ 8161.342 ,  5366.7812,  5108.215 ]],\n",
       "\n",
       "       [[ 8007.199 ,  5265.429 ,  5011.7476]],\n",
       "\n",
       "       [[ 8210.446 ,  5399.069 ,  5138.9463]],\n",
       "\n",
       "       [[ 8416.326 ,  5534.44  ,  5267.7925]],\n",
       "\n",
       "       [[ 9175.182 ,  6033.4043,  5742.708 ]],\n",
       "\n",
       "       [[ 9943.493 ,  6538.5864,  6223.542 ]],\n",
       "\n",
       "       [[11472.506 ,  7543.9463,  7180.4453]],\n",
       "\n",
       "       [[13480.63  ,  8864.333 ,  8437.193 ]],\n",
       "\n",
       "       [[15338.375 , 10085.842 ,  9599.829 ]],\n",
       "\n",
       "       [[16288.696 , 10710.698 , 10194.568 ]],\n",
       "\n",
       "       [[17642.172 , 11600.64  , 11041.616 ]],\n",
       "\n",
       "       [[18966.39  , 12471.343 , 11870.3545]],\n",
       "\n",
       "       [[18600.672 , 12230.875 , 11641.476 ]],\n",
       "\n",
       "       [[18509.21  , 12170.737 , 11584.236 ]],\n",
       "\n",
       "       [[16658.156 , 10953.626 , 10425.788 ]],\n",
       "\n",
       "       [[15145.87  ,  9959.266 ,  9479.353 ]],\n",
       "\n",
       "       [[14171.626 ,  9318.679 ,  8869.64  ]],\n",
       "\n",
       "       [[12161.052 ,  7996.6807,  7611.36  ]],\n",
       "\n",
       "       [[11070.887 ,  7279.8726,  6929.0996]],\n",
       "\n",
       "       [[10014.767 ,  6585.4507,  6268.147 ]],\n",
       "\n",
       "       [[ 9413.396 ,  6190.0356,  5891.79  ]],\n",
       "\n",
       "       [[ 8908.027 ,  5857.744 ,  5575.5146]],\n",
       "\n",
       "       [[ 8724.486 ,  5737.062 ,  5460.649 ]],\n",
       "\n",
       "       [[ 9123.614 ,  5999.497 ,  5710.4355]],\n",
       "\n",
       "       [[ 9046.758 ,  5948.963 ,  5662.3364]],\n",
       "\n",
       "       [[ 9435.205 ,  6204.3755,  5905.439 ]],\n",
       "\n",
       "       [[ 9609.413 ,  6318.921 ,  6014.464 ]],\n",
       "\n",
       "       [[10551.011 ,  6938.043 ,  6603.7456]],\n",
       "\n",
       "       [[11567.95  ,  7606.703 ,  7240.1777]],\n",
       "\n",
       "       [[12795.503 ,  8413.847 ,  8008.419 ]],\n",
       "\n",
       "       [[13989.877 ,  9199.174 ,  8755.8955]],\n",
       "\n",
       "       [[14848.622 ,  9763.818 ,  9293.325 ]],\n",
       "\n",
       "       [[15341.245 , 10087.7295,  9601.625 ]],\n",
       "\n",
       "       [[15542.276 , 10219.912 ,  9727.4375]],\n",
       "\n",
       "       [[14889.169 ,  9790.479 ,  9318.7   ]],\n",
       "\n",
       "       [[13304.598 ,  8748.588 ,  8327.026 ]]], dtype=float32)"
      ]
     },
     "execution_count": 101,
     "metadata": {},
     "output_type": "execute_result"
    }
   ],
   "source": [
    "pred_y = model.predict(test_X)\n",
    "pred_y"
   ]
  },
  {
   "cell_type": "code",
   "execution_count": 102,
   "id": "22cafc3d",
   "metadata": {
    "execution": {
     "iopub.execute_input": "2022-12-08T05:52:20.147029Z",
     "iopub.status.busy": "2022-12-08T05:52:20.146638Z",
     "iopub.status.idle": "2022-12-08T05:52:20.152909Z",
     "shell.execute_reply": "2022-12-08T05:52:20.152094Z"
    },
    "papermill": {
     "duration": 0.889318,
     "end_time": "2022-12-08T05:52:20.154816",
     "exception": false,
     "start_time": "2022-12-08T05:52:19.265498",
     "status": "completed"
    },
    "tags": []
   },
   "outputs": [
    {
     "data": {
      "text/plain": [
       "(289, 1, 3)"
      ]
     },
     "execution_count": 102,
     "metadata": {},
     "output_type": "execute_result"
    }
   ],
   "source": [
    "pred_y.shape"
   ]
  },
  {
   "cell_type": "code",
   "execution_count": 103,
   "id": "3d92ab73",
   "metadata": {
    "execution": {
     "iopub.execute_input": "2022-12-08T05:52:21.871219Z",
     "iopub.status.busy": "2022-12-08T05:52:21.870416Z",
     "iopub.status.idle": "2022-12-08T05:52:21.875079Z",
     "shell.execute_reply": "2022-12-08T05:52:21.874264Z"
    },
    "papermill": {
     "duration": 0.829678,
     "end_time": "2022-12-08T05:52:21.877316",
     "exception": false,
     "start_time": "2022-12-08T05:52:21.047638",
     "status": "completed"
    },
    "tags": []
   },
   "outputs": [],
   "source": [
    "pred_y = pred_y.reshape(test_Y.shape)"
   ]
  },
  {
   "cell_type": "code",
   "execution_count": 104,
   "id": "d48ec3ed",
   "metadata": {
    "execution": {
     "iopub.execute_input": "2022-12-08T05:52:23.568723Z",
     "iopub.status.busy": "2022-12-08T05:52:23.568326Z",
     "iopub.status.idle": "2022-12-08T05:52:23.574744Z",
     "shell.execute_reply": "2022-12-08T05:52:23.573958Z"
    },
    "papermill": {
     "duration": 0.818389,
     "end_time": "2022-12-08T05:52:23.576713",
     "exception": false,
     "start_time": "2022-12-08T05:52:22.758324",
     "status": "completed"
    },
    "tags": []
   },
   "outputs": [
    {
     "data": {
      "text/plain": [
       "(289, 1, 3)"
      ]
     },
     "execution_count": 104,
     "metadata": {},
     "output_type": "execute_result"
    }
   ],
   "source": [
    "pred_y.shape"
   ]
  },
  {
   "cell_type": "code",
   "execution_count": 105,
   "id": "00555100",
   "metadata": {
    "execution": {
     "iopub.execute_input": "2022-12-08T05:52:25.281919Z",
     "iopub.status.busy": "2022-12-08T05:52:25.281525Z",
     "iopub.status.idle": "2022-12-08T05:52:25.324581Z",
     "shell.execute_reply": "2022-12-08T05:52:25.323382Z"
    },
    "papermill": {
     "duration": 0.852867,
     "end_time": "2022-12-08T05:52:25.327419",
     "exception": false,
     "start_time": "2022-12-08T05:52:24.474552",
     "status": "completed"
    },
    "tags": []
   },
   "outputs": [],
   "source": [
    "from sklearn.metrics import mean_absolute_error"
   ]
  },
  {
   "cell_type": "code",
   "execution_count": 106,
   "id": "cb9c7882",
   "metadata": {
    "execution": {
     "iopub.execute_input": "2022-12-08T05:52:27.113579Z",
     "iopub.status.busy": "2022-12-08T05:52:27.113098Z",
     "iopub.status.idle": "2022-12-08T05:52:27.121875Z",
     "shell.execute_reply": "2022-12-08T05:52:27.120959Z"
    },
    "papermill": {
     "duration": 0.915551,
     "end_time": "2022-12-08T05:52:27.124769",
     "exception": false,
     "start_time": "2022-12-08T05:52:26.209218",
     "status": "completed"
    },
    "tags": []
   },
   "outputs": [
    {
     "data": {
      "text/plain": [
       "4930.1694"
      ]
     },
     "execution_count": 106,
     "metadata": {},
     "output_type": "execute_result"
    }
   ],
   "source": [
    "mean_absolute_error(test_Y[:, 0], pred_y[:, 0])"
   ]
  },
  {
   "cell_type": "code",
   "execution_count": 107,
   "id": "235578fb",
   "metadata": {
    "execution": {
     "iopub.execute_input": "2022-12-08T05:52:28.956793Z",
     "iopub.status.busy": "2022-12-08T05:52:28.956004Z",
     "iopub.status.idle": "2022-12-08T05:52:28.965329Z",
     "shell.execute_reply": "2022-12-08T05:52:28.964388Z"
    },
    "papermill": {
     "duration": 0.927028,
     "end_time": "2022-12-08T05:52:28.967713",
     "exception": false,
     "start_time": "2022-12-08T05:52:28.040685",
     "status": "completed"
    },
    "tags": []
   },
   "outputs": [
    {
     "data": {
      "text/plain": [
       "array([13384., 14240., 14240., 14240., 13936., 13936., 13936., 15104.,\n",
       "       15104., 15104., 22848., 22848., 22848., 21840., 21840., 21840.,\n",
       "       15840., 15840., 15840., 13872., 13872., 13872., 13768., 13768.,\n",
       "       13768., 13800., 13800., 13800., 15904., 15904., 15904., 21392.,\n",
       "       21392., 21392., 23504., 23504., 23504., 16624., 16624., 16624.,\n",
       "       15144., 15144., 15144., 15376., 15376., 15376., 15456., 15456.,\n",
       "       15456., 16912., 16912., 16912., 23216., 23216., 23216., 18656.,\n",
       "       18656., 18656., 15568., 15568., 15568., 15576., 15576., 15576.,\n",
       "       16328., 16328., 16328., 16960., 16960., 16960., 16864., 16864.,\n",
       "       16864., 21856., 21856., 21856., 19232., 19232., 19232., 19232.,\n",
       "       19232., 19232., 15248., 15248., 15248., 14552., 14552., 14552.,\n",
       "       15304., 15304., 15304., 17120., 17120., 17120., 21344., 21344.,\n",
       "       21344., 22544., 22544., 22544., 16272., 16272., 16272., 14616.,\n",
       "       14616., 14616., 13944., 13944., 13944., 14520., 14520., 14520.,\n",
       "       16344., 16344., 16344., 21552., 21552., 21552., 23152., 23152.,\n",
       "       23152., 16232., 16232., 16232., 16296., 16296., 16296., 15416.,\n",
       "       15416., 15416., 15624., 15624., 15624., 16096., 16096., 16096.,\n",
       "       22016., 22016., 22016., 25216., 25216., 25216., 17152., 17152.,\n",
       "       17152., 16080., 16080., 16080., 15544., 15544., 15544., 15832.,\n",
       "       15832., 15832., 16272., 16272., 16272., 22512., 22512., 22512.,\n",
       "       21936., 21936., 21936., 16864., 16864., 16864., 15048., 15048.,\n",
       "       15048., 14808., 14808., 14808., 14192., 14192., 14192., 16672.,\n",
       "       16672., 16672., 18896., 18896., 18896., 19424., 19424., 19424.,\n",
       "       16544., 16544., 16544., 15584., 15584., 15584., 15144., 15144.,\n",
       "       15144., 15232., 15232., 15232., 18688., 18688., 18688., 23792.,\n",
       "       23792., 23792., 21296., 21296., 21296., 15480., 15480., 15480.,\n",
       "       15320., 15320., 15320., 14352., 14352., 14352., 15600., 15600.,\n",
       "       15600., 18928., 18928., 18928., 22176., 22176., 22176., 24576.,\n",
       "       24576., 24576., 18192., 18192., 18192., 16400., 16400., 16400.,\n",
       "       15808., 15808., 15808., 15456., 15456., 15456., 17712., 17712.,\n",
       "       17712., 23312., 23312., 23312., 24064., 24064., 24064., 17488.,\n",
       "       17488., 17488., 15192., 15192., 15192., 14616., 14616., 14616.,\n",
       "       15072., 15072., 15072., 16256., 16256., 16256., 20560., 20560.,\n",
       "       20560., 23040., 23040., 23040., 17056., 17056., 17056., 15784.,\n",
       "       15784., 15784., 15152., 15152., 15152., 14488., 14488., 14488.,\n",
       "       17088., 17088., 17088., 21840., 21840., 21840., 23184., 23184.,\n",
       "       23184.], dtype=float16)"
      ]
     },
     "execution_count": 107,
     "metadata": {},
     "output_type": "execute_result"
    }
   ],
   "source": [
    "test_Y[:, :, 0][:, 0]"
   ]
  },
  {
   "cell_type": "code",
   "execution_count": 108,
   "id": "49be20f2",
   "metadata": {
    "execution": {
     "iopub.execute_input": "2022-12-08T05:52:30.729074Z",
     "iopub.status.busy": "2022-12-08T05:52:30.728477Z",
     "iopub.status.idle": "2022-12-08T05:52:30.747602Z",
     "shell.execute_reply": "2022-12-08T05:52:30.746659Z"
    },
    "papermill": {
     "duration": 0.868253,
     "end_time": "2022-12-08T05:52:30.749781",
     "exception": false,
     "start_time": "2022-12-08T05:52:29.881528",
     "status": "completed"
    },
    "tags": []
   },
   "outputs": [
    {
     "data": {
      "text/html": [
       "<div>\n",
       "<style scoped>\n",
       "    .dataframe tbody tr th:only-of-type {\n",
       "        vertical-align: middle;\n",
       "    }\n",
       "\n",
       "    .dataframe tbody tr th {\n",
       "        vertical-align: top;\n",
       "    }\n",
       "\n",
       "    .dataframe thead th {\n",
       "        text-align: right;\n",
       "    }\n",
       "</style>\n",
       "<table border=\"1\" class=\"dataframe\">\n",
       "  <thead>\n",
       "    <tr style=\"text-align: right;\">\n",
       "      <th></th>\n",
       "      <th>true_sales_CA</th>\n",
       "      <th>true_sales_TX</th>\n",
       "      <th>true_sales_WI</th>\n",
       "      <th>predicted_sales_CA</th>\n",
       "      <th>predicted_sales_TX</th>\n",
       "      <th>predicted_sales_WI</th>\n",
       "    </tr>\n",
       "  </thead>\n",
       "  <tbody>\n",
       "    <tr>\n",
       "      <th>0</th>\n",
       "      <td>13384.0</td>\n",
       "      <td>9008.0</td>\n",
       "      <td>9592.0</td>\n",
       "      <td>4832.496094</td>\n",
       "      <td>3177.991211</td>\n",
       "      <td>3024.918701</td>\n",
       "    </tr>\n",
       "    <tr>\n",
       "      <th>1</th>\n",
       "      <td>14240.0</td>\n",
       "      <td>8768.0</td>\n",
       "      <td>9672.0</td>\n",
       "      <td>4810.121582</td>\n",
       "      <td>3163.279297</td>\n",
       "      <td>3010.916016</td>\n",
       "    </tr>\n",
       "    <tr>\n",
       "      <th>2</th>\n",
       "      <td>14240.0</td>\n",
       "      <td>8768.0</td>\n",
       "      <td>9672.0</td>\n",
       "      <td>5201.187500</td>\n",
       "      <td>3420.414062</td>\n",
       "      <td>3255.657227</td>\n",
       "    </tr>\n",
       "    <tr>\n",
       "      <th>3</th>\n",
       "      <td>14240.0</td>\n",
       "      <td>8768.0</td>\n",
       "      <td>9672.0</td>\n",
       "      <td>5751.416016</td>\n",
       "      <td>3782.201660</td>\n",
       "      <td>3600.007812</td>\n",
       "    </tr>\n",
       "    <tr>\n",
       "      <th>4</th>\n",
       "      <td>13936.0</td>\n",
       "      <td>8656.0</td>\n",
       "      <td>9184.0</td>\n",
       "      <td>6199.449707</td>\n",
       "      <td>4076.793213</td>\n",
       "      <td>3880.401367</td>\n",
       "    </tr>\n",
       "  </tbody>\n",
       "</table>\n",
       "</div>"
      ],
      "text/plain": [
       "   true_sales_CA  true_sales_TX  true_sales_WI  predicted_sales_CA  \\\n",
       "0        13384.0         9008.0         9592.0         4832.496094   \n",
       "1        14240.0         8768.0         9672.0         4810.121582   \n",
       "2        14240.0         8768.0         9672.0         5201.187500   \n",
       "3        14240.0         8768.0         9672.0         5751.416016   \n",
       "4        13936.0         8656.0         9184.0         6199.449707   \n",
       "\n",
       "   predicted_sales_TX  predicted_sales_WI  \n",
       "0         3177.991211         3024.918701  \n",
       "1         3163.279297         3010.916016  \n",
       "2         3420.414062         3255.657227  \n",
       "3         3782.201660         3600.007812  \n",
       "4         4076.793213         3880.401367  "
      ]
     },
     "execution_count": 108,
     "metadata": {},
     "output_type": "execute_result"
    }
   ],
   "source": [
    "df_sales_predicted = pd.DataFrame(list(zip(\n",
    "                                            list(test_Y[:, :, 0][:, 0]),\n",
    "                                            list(test_Y[:, :, 1][:, 0]),\n",
    "                                            list(test_Y[:, :, 2][:, 0]),\n",
    "                                            list(pred_y[:, :, 0][:, 0]),\n",
    "                                            list(pred_y[:, :, 1][:, 0]),\n",
    "                                            list(pred_y[:, :, 2][:, 0]))), \n",
    "                                  columns = ['true_sales_CA', 'true_sales_TX', 'true_sales_WI', 'predicted_sales_CA', 'predicted_sales_TX', 'predicted_sales_WI'])\n",
    "df_sales_predicted.head()"
   ]
  },
  {
   "cell_type": "code",
   "execution_count": 109,
   "id": "5990045d",
   "metadata": {
    "execution": {
     "iopub.execute_input": "2022-12-08T05:52:32.480420Z",
     "iopub.status.busy": "2022-12-08T05:52:32.479827Z",
     "iopub.status.idle": "2022-12-08T05:52:32.486669Z",
     "shell.execute_reply": "2022-12-08T05:52:32.485488Z"
    },
    "papermill": {
     "duration": 0.843641,
     "end_time": "2022-12-08T05:52:32.488846",
     "exception": false,
     "start_time": "2022-12-08T05:52:31.645205",
     "status": "completed"
    },
    "tags": []
   },
   "outputs": [
    {
     "data": {
      "text/plain": [
       "(289, 6)"
      ]
     },
     "execution_count": 109,
     "metadata": {},
     "output_type": "execute_result"
    }
   ],
   "source": [
    "df_sales_predicted.shape"
   ]
  },
  {
   "cell_type": "code",
   "execution_count": 110,
   "id": "dfe4da3a",
   "metadata": {
    "execution": {
     "iopub.execute_input": "2022-12-08T05:52:34.181002Z",
     "iopub.status.busy": "2022-12-08T05:52:34.180307Z",
     "iopub.status.idle": "2022-12-08T05:52:34.186736Z",
     "shell.execute_reply": "2022-12-08T05:52:34.185657Z"
    },
    "papermill": {
     "duration": 0.820103,
     "end_time": "2022-12-08T05:52:34.188686",
     "exception": false,
     "start_time": "2022-12-08T05:52:33.368583",
     "status": "completed"
    },
    "tags": []
   },
   "outputs": [],
   "source": [
    "df_sales_predicted['date'] = sales_df_test_dates[28:]"
   ]
  },
  {
   "cell_type": "code",
   "execution_count": 111,
   "id": "fe85582e",
   "metadata": {
    "execution": {
     "iopub.execute_input": "2022-12-08T05:52:35.878273Z",
     "iopub.status.busy": "2022-12-08T05:52:35.877837Z",
     "iopub.status.idle": "2022-12-08T05:52:35.895199Z",
     "shell.execute_reply": "2022-12-08T05:52:35.894020Z"
    },
    "papermill": {
     "duration": 0.83256,
     "end_time": "2022-12-08T05:52:35.897906",
     "exception": false,
     "start_time": "2022-12-08T05:52:35.065346",
     "status": "completed"
    },
    "tags": []
   },
   "outputs": [
    {
     "data": {
      "text/html": [
       "<div>\n",
       "<style scoped>\n",
       "    .dataframe tbody tr th:only-of-type {\n",
       "        vertical-align: middle;\n",
       "    }\n",
       "\n",
       "    .dataframe tbody tr th {\n",
       "        vertical-align: top;\n",
       "    }\n",
       "\n",
       "    .dataframe thead th {\n",
       "        text-align: right;\n",
       "    }\n",
       "</style>\n",
       "<table border=\"1\" class=\"dataframe\">\n",
       "  <thead>\n",
       "    <tr style=\"text-align: right;\">\n",
       "      <th></th>\n",
       "      <th>true_sales_CA</th>\n",
       "      <th>true_sales_TX</th>\n",
       "      <th>true_sales_WI</th>\n",
       "      <th>predicted_sales_CA</th>\n",
       "      <th>predicted_sales_TX</th>\n",
       "      <th>predicted_sales_WI</th>\n",
       "    </tr>\n",
       "    <tr>\n",
       "      <th>date</th>\n",
       "      <th></th>\n",
       "      <th></th>\n",
       "      <th></th>\n",
       "      <th></th>\n",
       "      <th></th>\n",
       "      <th></th>\n",
       "    </tr>\n",
       "  </thead>\n",
       "  <tbody>\n",
       "    <tr>\n",
       "      <th>2016-01-10</th>\n",
       "      <td>13384.0</td>\n",
       "      <td>9008.0</td>\n",
       "      <td>9592.0</td>\n",
       "      <td>4832.496094</td>\n",
       "      <td>3177.991211</td>\n",
       "      <td>3024.918701</td>\n",
       "    </tr>\n",
       "    <tr>\n",
       "      <th>2016-01-10</th>\n",
       "      <td>14240.0</td>\n",
       "      <td>8768.0</td>\n",
       "      <td>9672.0</td>\n",
       "      <td>4810.121582</td>\n",
       "      <td>3163.279297</td>\n",
       "      <td>3010.916016</td>\n",
       "    </tr>\n",
       "    <tr>\n",
       "      <th>2016-01-11</th>\n",
       "      <td>14240.0</td>\n",
       "      <td>8768.0</td>\n",
       "      <td>9672.0</td>\n",
       "      <td>5201.187500</td>\n",
       "      <td>3420.414062</td>\n",
       "      <td>3255.657227</td>\n",
       "    </tr>\n",
       "    <tr>\n",
       "      <th>2016-01-11</th>\n",
       "      <td>14240.0</td>\n",
       "      <td>8768.0</td>\n",
       "      <td>9672.0</td>\n",
       "      <td>5751.416016</td>\n",
       "      <td>3782.201660</td>\n",
       "      <td>3600.007812</td>\n",
       "    </tr>\n",
       "    <tr>\n",
       "      <th>2016-01-11</th>\n",
       "      <td>13936.0</td>\n",
       "      <td>8656.0</td>\n",
       "      <td>9184.0</td>\n",
       "      <td>6199.449707</td>\n",
       "      <td>4076.793213</td>\n",
       "      <td>3880.401367</td>\n",
       "    </tr>\n",
       "  </tbody>\n",
       "</table>\n",
       "</div>"
      ],
      "text/plain": [
       "            true_sales_CA  true_sales_TX  true_sales_WI  predicted_sales_CA  \\\n",
       "date                                                                          \n",
       "2016-01-10        13384.0         9008.0         9592.0         4832.496094   \n",
       "2016-01-10        14240.0         8768.0         9672.0         4810.121582   \n",
       "2016-01-11        14240.0         8768.0         9672.0         5201.187500   \n",
       "2016-01-11        14240.0         8768.0         9672.0         5751.416016   \n",
       "2016-01-11        13936.0         8656.0         9184.0         6199.449707   \n",
       "\n",
       "            predicted_sales_TX  predicted_sales_WI  \n",
       "date                                                \n",
       "2016-01-10         3177.991211         3024.918701  \n",
       "2016-01-10         3163.279297         3010.916016  \n",
       "2016-01-11         3420.414062         3255.657227  \n",
       "2016-01-11         3782.201660         3600.007812  \n",
       "2016-01-11         4076.793213         3880.401367  "
      ]
     },
     "execution_count": 111,
     "metadata": {},
     "output_type": "execute_result"
    }
   ],
   "source": [
    "df_sales_predicted.set_index('date', inplace = True, drop = True)\n",
    "df_sales_predicted.head()"
   ]
  },
  {
   "cell_type": "code",
   "execution_count": 112,
   "id": "046f87a4",
   "metadata": {
    "execution": {
     "iopub.execute_input": "2022-12-08T05:52:37.596004Z",
     "iopub.status.busy": "2022-12-08T05:52:37.595608Z",
     "iopub.status.idle": "2022-12-08T05:52:38.138207Z",
     "shell.execute_reply": "2022-12-08T05:52:38.137253Z"
    },
    "papermill": {
     "duration": 1.361674,
     "end_time": "2022-12-08T05:52:38.140370",
     "exception": false,
     "start_time": "2022-12-08T05:52:36.778696",
     "status": "completed"
    },
    "tags": []
   },
   "outputs": [
    {
     "data": {
      "text/plain": [
       "Text(0.5, 1.0, 'California True vs Predicted Sales')"
      ]
     },
     "execution_count": 112,
     "metadata": {},
     "output_type": "execute_result"
    },
    {
     "data": {
      "image/png": "[encoded data removed]",
      "text/plain": [
       "<Figure size 1080x648 with 1 Axes>"
      ]
     },
     "metadata": {},
     "output_type": "display_data"
    }
   ],
   "source": [
    "df_sales_predicted[['true_sales_CA', 'predicted_sales_CA']].plot()\n",
    "plt.xlabel('Date')\n",
    "plt.ylabel('Unit Sold')\n",
    "plt.title('California True vs Predicted Sales')"
   ]
  },
  {
   "cell_type": "code",
   "execution_count": 113,
   "id": "313fb304",
   "metadata": {
    "execution": {
     "iopub.execute_input": "2022-12-08T05:52:39.867634Z",
     "iopub.status.busy": "2022-12-08T05:52:39.866580Z",
     "iopub.status.idle": "2022-12-08T05:52:40.358195Z",
     "shell.execute_reply": "2022-12-08T05:52:40.357212Z"
    },
    "papermill": {
     "duration": 1.305653,
     "end_time": "2022-12-08T05:52:40.361633",
     "exception": false,
     "start_time": "2022-12-08T05:52:39.055980",
     "status": "completed"
    },
    "tags": []
   },
   "outputs": [
    {
     "data": {
      "text/plain": [
       "Text(0.5, 1.0, 'Texas True vs Predicted Sales')"
      ]
     },
     "execution_count": 113,
     "metadata": {},
     "output_type": "execute_result"
    },
    {
     "data": {
      "image/png": "[encoded data removed]",
      "text/plain": [
       "<Figure size 1080x648 with 1 Axes>"
      ]
     },
     "metadata": {},
     "output_type": "display_data"
    }
   ],
   "source": [
    "df_sales_predicted[['true_sales_TX', 'predicted_sales_TX']].plot()\n",
    "plt.xlabel('Date')\n",
    "plt.ylabel('Unit Sold')\n",
    "plt.title('Texas True vs Predicted Sales')"
   ]
  },
  {
   "cell_type": "code",
   "execution_count": 114,
   "id": "44de3f69",
   "metadata": {
    "execution": {
     "iopub.execute_input": "2022-12-08T05:52:42.059175Z",
     "iopub.status.busy": "2022-12-08T05:52:42.058457Z",
     "iopub.status.idle": "2022-12-08T05:52:42.564927Z",
     "shell.execute_reply": "2022-12-08T05:52:42.563742Z"
    },
    "papermill": {
     "duration": 1.320991,
     "end_time": "2022-12-08T05:52:42.567329",
     "exception": false,
     "start_time": "2022-12-08T05:52:41.246338",
     "status": "completed"
    },
    "tags": []
   },
   "outputs": [
    {
     "data": {
      "text/plain": [
       "Text(0.5, 1.0, 'Wisconsin True vs Predicted Sales')"
      ]
     },
     "execution_count": 114,
     "metadata": {},
     "output_type": "execute_result"
    },
    {
     "data": {
      "image/png": "[encoded data removed]",
      "text/plain": [
       "<Figure size 1080x648 with 1 Axes>"
      ]
     },
     "metadata": {},
     "output_type": "display_data"
    }
   ],
   "source": [
    "df_sales_predicted[['true_sales_WI', 'predicted_sales_WI']].plot()\n",
    "plt.xlabel('Date')\n",
    "plt.ylabel('Unit Sold')\n",
    "plt.title('Wisconsin True vs Predicted Sales')"
   ]
  },
  {
   "cell_type": "markdown",
   "id": "94201a53",
   "metadata": {
    "papermill": {
     "duration": 0.827628,
     "end_time": "2022-12-08T05:52:44.290894",
     "exception": false,
     "start_time": "2022-12-08T05:52:43.463266",
     "status": "completed"
    },
    "tags": []
   },
   "source": [
    "## Saving Test Data Points, Scaler Instance for WIT analysis"
   ]
  },
  {
   "cell_type": "code",
   "execution_count": 115,
   "id": "55458037",
   "metadata": {
    "execution": {
     "iopub.execute_input": "2022-12-08T05:52:45.995570Z",
     "iopub.status.busy": "2022-12-08T05:52:45.995128Z",
     "iopub.status.idle": "2022-12-08T05:52:45.999859Z",
     "shell.execute_reply": "2022-12-08T05:52:45.998871Z"
    },
    "papermill": {
     "duration": 0.81836,
     "end_time": "2022-12-08T05:52:46.001954",
     "exception": false,
     "start_time": "2022-12-08T05:52:45.183594",
     "status": "completed"
    },
    "tags": []
   },
   "outputs": [],
   "source": [
    "import joblib"
   ]
  },
  {
   "cell_type": "code",
   "execution_count": 116,
   "id": "3b52c0e4",
   "metadata": {
    "execution": {
     "iopub.execute_input": "2022-12-08T05:52:47.718445Z",
     "iopub.status.busy": "2022-12-08T05:52:47.717720Z",
     "iopub.status.idle": "2022-12-08T05:52:47.725520Z",
     "shell.execute_reply": "2022-12-08T05:52:47.724376Z"
    },
    "papermill": {
     "duration": 0.821497,
     "end_time": "2022-12-08T05:52:47.727567",
     "exception": false,
     "start_time": "2022-12-08T05:52:46.906070",
     "status": "completed"
    },
    "tags": []
   },
   "outputs": [
    {
     "data": {
      "text/plain": [
       "['scaler_instance_mn_mx.bz']"
      ]
     },
     "execution_count": 116,
     "metadata": {},
     "output_type": "execute_result"
    }
   ],
   "source": [
    "# Dump scaler instance \n",
    "joblib.dump(scaler_instance, 'scaler_instance_mn_mx.bz')"
   ]
  },
  {
   "cell_type": "code",
   "execution_count": 117,
   "id": "8b679a72",
   "metadata": {
    "execution": {
     "iopub.execute_input": "2022-12-08T05:52:49.437999Z",
     "iopub.status.busy": "2022-12-08T05:52:49.437331Z",
     "iopub.status.idle": "2022-12-08T05:52:49.465973Z",
     "shell.execute_reply": "2022-12-08T05:52:49.464863Z"
    },
    "papermill": {
     "duration": 0.866699,
     "end_time": "2022-12-08T05:52:49.468683",
     "exception": false,
     "start_time": "2022-12-08T05:52:48.601984",
     "status": "completed"
    },
    "tags": []
   },
   "outputs": [],
   "source": [
    "test_x.to_csv('combined_test_data_points.csv', index = False)"
   ]
  },
  {
   "cell_type": "code",
   "execution_count": null,
   "id": "10bbb42d",
   "metadata": {
    "papermill": {
     "duration": 0.872518,
     "end_time": "2022-12-08T05:52:51.157549",
     "exception": false,
     "start_time": "2022-12-08T05:52:50.285031",
     "status": "completed"
    },
    "tags": []
   },
   "outputs": [],
   "source": []
  }
 ],
 "metadata": {
  "kernelspec": {
   "display_name": "Python 3",
   "language": "python",
   "name": "python3"
  },
  "language_info": {
   "codemirror_mode": {
    "name": "ipython",
    "version": 3
   },
   "file_extension": ".py",
   "mimetype": "text/x-python",
   "name": "python",
   "nbconvert_exporter": "python",
   "pygments_lexer": "ipython3",
   "version": "3.7.12"
  },
  "papermill": {
   "default_parameters": {},
   "duration": 1238.993433,
   "end_time": "2022-12-08T05:52:55.067076",
   "environment_variables": {},
   "exception": null,
   "input_path": "__notebook__.ipynb",
   "output_path": "__notebook__.ipynb",
   "parameters": {},
   "start_time": "2022-12-08T05:32:16.073643",
   "version": "2.3.4"
  }
 },
 "nbformat": 4,
 "nbformat_minor": 5
}
