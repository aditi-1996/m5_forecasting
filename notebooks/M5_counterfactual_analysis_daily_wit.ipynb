{
 "cells": [
  {
   "cell_type": "code",
   "execution_count": null,
   "id": "7803f73e",
   "metadata": {},
   "outputs": [],
   "source": [
    "import os\n",
    "import pandas as pd\n",
    "import numpy as np\n",
    "import joblib"
   ]
  },
  {
   "cell_type": "code",
   "execution_count": null,
   "id": "8157587f",
   "metadata": {},
   "outputs": [],
   "source": [
    "#!python -m pip install -U pip --user"
   ]
  },
  {
   "cell_type": "code",
   "execution_count": null,
   "id": "876a1ef9",
   "metadata": {},
   "outputs": [],
   "source": [
    "DATA_PATH = os.path.abspath('./results_1_day_CA_TX_WI/')"
   ]
  },
  {
   "cell_type": "markdown",
   "id": "757c6947",
   "metadata": {},
   "source": [
    "# WitWidget"
   ]
  },
  {
   "cell_type": "code",
   "execution_count": null,
   "id": "cd2b7a4f",
   "metadata": {},
   "outputs": [],
   "source": [
    "#!pip3 install witwidget\n",
    "!jupyter nbextension install --py --symlink --sys-prefix witwidget\n",
    "!jupyter nbextension enable --py --sys-prefix witwidget"
   ]
  },
  {
   "cell_type": "code",
   "execution_count": null,
   "id": "369c828f",
   "metadata": {},
   "outputs": [],
   "source": [
    "CSV_PATH = os.path.join(DATA_PATH, 'combined_test_data_points.csv')\n",
    "MODEL_PATH = os.path.join(DATA_PATH, 'M5_LSTM_CA_TX_WI.h5')\n",
    "SCALER_PATH = os.path.join(DATA_PATH, 'scaler_instance_mn_mx.bz')"
   ]
  },
  {
   "cell_type": "code",
   "execution_count": null,
   "id": "3ee34118",
   "metadata": {},
   "outputs": [],
   "source": [
    "test_x = pd.read_csv(CSV_PATH)"
   ]
  },
  {
   "cell_type": "code",
   "execution_count": null,
   "id": "d0cdabc2",
   "metadata": {},
   "outputs": [],
   "source": [
    "test_x.head()"
   ]
  },
  {
   "cell_type": "code",
   "execution_count": null,
   "id": "d2f0f30c",
   "metadata": {},
   "outputs": [],
   "source": [
    "import tensorflow as tf"
   ]
  },
  {
   "cell_type": "code",
   "execution_count": null,
   "id": "25b82c63",
   "metadata": {},
   "outputs": [],
   "source": [
    "from tensorflow.keras.models import load_model"
   ]
  },
  {
   "cell_type": "code",
   "execution_count": null,
   "id": "5abc8899",
   "metadata": {},
   "outputs": [],
   "source": [
    "model = load_model(MODEL_PATH)"
   ]
  },
  {
   "cell_type": "code",
   "execution_count": null,
   "id": "14229c08",
   "metadata": {},
   "outputs": [],
   "source": [
    "model.summary()"
   ]
  },
  {
   "cell_type": "code",
   "execution_count": null,
   "id": "415383b2",
   "metadata": {},
   "outputs": [],
   "source": [
    "from sklearn.preprocessing import MinMaxScaler"
   ]
  },
  {
   "cell_type": "code",
   "execution_count": null,
   "id": "1ebd4026",
   "metadata": {},
   "outputs": [],
   "source": [
    "scaler = joblib.load(SCALER_PATH)"
   ]
  },
  {
   "cell_type": "code",
   "execution_count": null,
   "id": "5c590330",
   "metadata": {},
   "outputs": [],
   "source": [
    "def get_prediction(example):\n",
    "    #print(example)\n",
    "    start_test = test_x[:28].values\n",
    "    n_past = 28\n",
    "    n_future = 1\n",
    "    test_X = []\n",
    "    example = np.array(example)\n",
    "    print(example.shape)\n",
    "    example_processed = np.concatenate([start_test, example])\n",
    "    print(example_processed.shape)\n",
    "    for i in range(n_past, len(example_processed) - n_future + 1):\n",
    "        test_X.append(example_processed[i - n_past:i, 0:example_processed.shape[1]])\n",
    "    test_X = np.array(test_X)\n",
    "    print(test_X.shape)\n",
    "    prediction = model.predict(test_X)\n",
    "    return prediction[:, 0]"
   ]
  },
  {
   "cell_type": "code",
   "execution_count": null,
   "id": "1864d143",
   "metadata": {},
   "outputs": [],
   "source": [
    "get_prediction(test_x[27:29].values[:].tolist())"
   ]
  },
  {
   "cell_type": "code",
   "execution_count": null,
   "id": "769aec03",
   "metadata": {},
   "outputs": [],
   "source": [
    "import witwidget"
   ]
  },
  {
   "cell_type": "code",
   "execution_count": null,
   "id": "09c0746e",
   "metadata": {},
   "outputs": [],
   "source": [
    "from witwidget.notebook.visualization import WitConfigBuilder\n",
    "from witwidget.notebook.visualization import WitWidget"
   ]
  },
  {
   "cell_type": "code",
   "execution_count": null,
   "id": "590b2695",
   "metadata": {},
   "outputs": [],
   "source": [
    "config_builder = WitConfigBuilder(test_x[27:].values[:].tolist(), feature_names = test_x.columns.tolist()).set_custom_predict_fn(get_prediction)"
   ]
  },
  {
   "cell_type": "code",
   "execution_count": null,
   "id": "75629675",
   "metadata": {},
   "outputs": [],
   "source": [
    "ww = WitWidget(config_builder, height=800)"
   ]
  },
  {
   "cell_type": "code",
   "execution_count": null,
   "id": "deb764df",
   "metadata": {},
   "outputs": [],
   "source": [
    "ww.render()"
   ]
  },
  {
   "cell_type": "code",
   "execution_count": null,
   "id": "7990dc2b",
   "metadata": {},
   "outputs": [],
   "source": []
  }
 ],
 "metadata": {
  "kernelspec": {
   "display_name": "Python 3 (ipykernel)",
   "language": "python",
   "name": "python3"
  },
  "language_info": {
   "codemirror_mode": {
    "name": "ipython",
    "version": 3
   },
   "file_extension": ".py",
   "mimetype": "text/x-python",
   "name": "python",
   "nbconvert_exporter": "python",
   "pygments_lexer": "ipython3",
   "version": "3.9.13"
  }
 },
 "nbformat": 4,
 "nbformat_minor": 5
}
